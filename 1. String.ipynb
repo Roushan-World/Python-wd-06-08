{
 "cells": [
  {
   "cell_type": "markdown",
   "id": "84055a28",
   "metadata": {},
   "source": [
    "# 1. String"
   ]
  },
  {
   "cell_type": "code",
   "execution_count": 11,
   "id": "7486f829",
   "metadata": {},
   "outputs": [
    {
     "name": "stdout",
     "output_type": "stream",
     "text": [
      "This is String\n",
      "This is String\n"
     ]
    },
    {
     "data": {
      "text/plain": [
       "'This is comment\\nThis is used for multiple line comment'"
      ]
     },
     "execution_count": 11,
     "metadata": {},
     "output_type": "execute_result"
    }
   ],
   "source": [
    "# This is comments\n",
    "#\n",
    "#\n",
    "print('This is String')\n",
    "print(\"This is String\")\n",
    "'''This is comment\n",
    "This is used for multiple line comment'''"
   ]
  },
  {
   "cell_type": "code",
   "execution_count": 27,
   "id": "3fb2e40e",
   "metadata": {},
   "outputs": [
    {
     "data": {
      "text/plain": [
       "'@ # % ! '"
      ]
     },
     "execution_count": 27,
     "metadata": {},
     "output_type": "execute_result"
    }
   ],
   "source": [
    "# Specific characters in a string\n",
    "\n",
    "'@ # % ! '"
   ]
  },
  {
   "cell_type": "code",
   "execution_count": 13,
   "id": "63c7043a",
   "metadata": {},
   "outputs": [
    {
     "name": "stdout",
     "output_type": "stream",
     "text": [
      "Hello world\n"
     ]
    }
   ],
   "source": [
    "# Assigning a string to a variable 'message'\n",
    "\n",
    "message='Hello world'\n",
    "print(message)"
   ]
  },
  {
   "cell_type": "markdown",
   "id": "5aefe79f",
   "metadata": {},
   "source": [
    "# Indexing of a string "
   ]
  },
  {
   "cell_type": "code",
   "execution_count": 22,
   "id": "10116c6c",
   "metadata": {},
   "outputs": [
    {
     "name": "stdout",
     "output_type": "stream",
     "text": [
      "Hello World\n",
      "H\n",
      "e\n",
      "l\n",
      "l\n",
      "o\n",
      " \n",
      "W\n",
      "o\n",
      "r\n",
      "l\n",
      "d\n"
     ]
    }
   ],
   "source": [
    "\n",
    "# positive indexing of a string\n",
    "message='Hello World'\n",
    "print(message)\n",
    "print(message[0])\n",
    "print(message[1])\n",
    "print(message[2])\n",
    "print(message[3])\n",
    "print(message[4])\n",
    "print(message[5])\n",
    "print(message[6])\n",
    "print(message[7])\n",
    "print(message[8])\n",
    "print(message[9])\n",
    "print(message[10])\n"
   ]
  },
  {
   "cell_type": "code",
   "execution_count": 29,
   "id": "c3b2e84e",
   "metadata": {},
   "outputs": [
    {
     "name": "stdout",
     "output_type": "stream",
     "text": [
      "Hello World\n",
      "d\n",
      "l\n",
      "r\n",
      "o\n",
      "W\n",
      " \n",
      "o\n",
      "l\n",
      "l\n",
      "e\n",
      "H\n"
     ]
    }
   ],
   "source": [
    "# Negative indexing of a string.\n",
    "\n",
    "message='Hello World'\n",
    "print(message)\n",
    "print(message[-1])\n",
    "print(message[-2])\n",
    "print(message[-3])\n",
    "print(message[-4])\n",
    "print(message[-5])\n",
    "print(message[-6])\n",
    "print(message[-7])\n",
    "print(message[-8])\n",
    "print(message[-9])\n",
    "print(message[-10])\n",
    "print(message[-11])"
   ]
  },
  {
   "cell_type": "code",
   "execution_count": 33,
   "id": "3bfee67c",
   "metadata": {},
   "outputs": [
    {
     "name": "stdout",
     "output_type": "stream",
     "text": [
      "Hello World\n",
      "11\n"
     ]
    }
   ],
   "source": [
    "# length of a string including spaces.\n",
    "\n",
    "print(message)\n",
    "\n",
    "print(len(message))"
   ]
  },
  {
   "cell_type": "markdown",
   "id": "107ebcae",
   "metadata": {},
   "source": [
    "# Slicing of  a string"
   ]
  },
  {
   "cell_type": "code",
   "execution_count": 49,
   "id": "837fae54",
   "metadata": {},
   "outputs": [
    {
     "name": "stdout",
     "output_type": "stream",
     "text": [
      "Hello world\n",
      "wo\n",
      "Hello world\n"
     ]
    }
   ],
   "source": [
    "message='Hello world'\n",
    "\n",
    "\n",
    "print(message[0:11])\n",
    "print(message[6:8])\n",
    "print(message[:])"
   ]
  },
  {
   "cell_type": "code",
   "execution_count": 58,
   "id": "fe90bcfb",
   "metadata": {},
   "outputs": [
    {
     "name": "stdout",
     "output_type": "stream",
     "text": [
      "Hor\n",
      "HloWrd\n",
      "Hlo\n",
      "Wrd\n",
      "Wrd\n"
     ]
    }
   ],
   "source": [
    "message='Hello World'\n",
    "\n",
    "print(message[::4])\n",
    "print(message[::2])\n",
    "print(message[0:5:2])\n",
    "print(message[6:11:2])\n",
    "print(message[6::2])"
   ]
  },
  {
   "cell_type": "markdown",
   "id": "1a7a4ccd",
   "metadata": {},
   "source": [
    "# Concatenation of strings"
   ]
  },
  {
   "cell_type": "code",
   "execution_count": 61,
   "id": "8f894839",
   "metadata": {},
   "outputs": [
    {
     "name": "stdout",
     "output_type": "stream",
     "text": [
      "Hello world! How many peoples are living on the earth?\n"
     ]
    }
   ],
   "source": [
    "message='Hello world!'\n",
    "question=' How many peoples are living on the earth?'\n",
    "\n",
    "statement=message+question\n",
    "print(statement)\n"
   ]
  },
  {
   "cell_type": "code",
   "execution_count": 65,
   "id": "b1dd598d",
   "metadata": {},
   "outputs": [
    {
     "data": {
      "text/plain": [
       "' Hello world Hello world Hello world'"
      ]
     },
     "execution_count": 65,
     "metadata": {},
     "output_type": "execute_result"
    }
   ],
   "source": [
    "# printing a string 4 times.\n",
    "\n",
    "3*' Hello world'"
   ]
  },
  {
   "cell_type": "markdown",
   "id": "7e3da51f",
   "metadata": {},
   "source": [
    "# Escape sequence"
   ]
  },
  {
   "cell_type": "code",
   "execution_count": 66,
   "id": "66e667bf",
   "metadata": {},
   "outputs": [
    {
     "data": {
      "text/plain": [
       "'@ ! # &'"
      ]
     },
     "execution_count": 66,
     "metadata": {},
     "output_type": "execute_result"
    }
   ],
   "source": [
    "'@ ! # &'"
   ]
  },
  {
   "cell_type": "code",
   "execution_count": 75,
   "id": "a857f35e",
   "metadata": {},
   "outputs": [
    {
     "name": "stdout",
     "output_type": "stream",
     "text": [
      "\\\\\\\n"
     ]
    }
   ],
   "source": [
    "print('\\\\\\\\\\\\')"
   ]
  },
  {
   "cell_type": "code",
   "execution_count": 81,
   "id": "29ad2c86",
   "metadata": {},
   "outputs": [
    {
     "name": "stdout",
     "output_type": "stream",
     "text": [
      "Hello world\n",
      "How many peoples are living on the earth?\n",
      "Hello world\tHow many peoples are living on the earth?\n"
     ]
    }
   ],
   "source": [
    "print('Hello world\\nHow many peoples are living on the earth?')\n",
    "print('Hello world\\tHow many peoples are living on the earth?')\n"
   ]
  },
  {
   "cell_type": "code",
   "execution_count": 96,
   "id": "f7fa9aa0",
   "metadata": {},
   "outputs": [
    {
     "name": "stdout",
     "output_type": "stream",
     "text": [
      "Before Uppercase: hello python\n",
      "After Uppercase: HELLO PYTHON\n",
      "Again Lowercase: hello python\n"
     ]
    }
   ],
   "source": [
    "message='hello python'\n",
    "\n",
    "print('Before Uppercase:',message)\n",
    "message_upper=message.upper()\n",
    "print('After Uppercase:',message_upper)\n",
    "message_lower=message.lower()\n",
    "print('Again Lowercase:',message_lower)"
   ]
  },
  {
   "cell_type": "code",
   "execution_count": 97,
   "id": "b4b542cb",
   "metadata": {},
   "outputs": [
    {
     "data": {
      "text/plain": [
       "12"
      ]
     },
     "execution_count": 97,
     "metadata": {},
     "output_type": "execute_result"
    }
   ],
   "source": [
    "len(message)"
   ]
  },
  {
   "cell_type": "markdown",
   "id": "aa6fd2de",
   "metadata": {},
   "source": [
    "# Python String methods"
   ]
  },
  {
   "cell_type": "code",
   "execution_count": 123,
   "id": "edb77143",
   "metadata": {},
   "outputs": [
    {
     "name": "stdout",
     "output_type": "stream",
     "text": [
      "Hello world\n",
      "hello world\n",
      "HELLO WORLD\n",
      "6\n",
      "0\n",
      "7\n",
      "20-03-2023\n",
      "True\n",
      "True\n",
      "True\n"
     ]
    }
   ],
   "source": [
    "# Capitalize\n",
    "\n",
    "message1='hello WORLD'\n",
    "\n",
    "print(message1.capitalize())\n",
    "\n",
    "#lower\n",
    "print(message1.lower())\n",
    "# upper\n",
    "print(message1.upper())\n",
    "#index\n",
    "print(message1.index('W'))\n",
    "print(message1.index('h'))\n",
    "#find\n",
    "\n",
    "print(message1.find('O'))\n",
    "\n",
    "#replace\n",
    "message2='20/03/2023'\n",
    "print(message2.replace('/','-'))\n",
    "\n",
    "#isalnum\n",
    "message3='abc123'\n",
    "print(message3.isalnum())\n",
    "\n",
    "#isnumberic\n",
    "mes4='1233'\n",
    "print(mes4.isnumeric())\n",
    "\n",
    "#isupper\n",
    "\n",
    "mes5=\"HELLO WORLD\"\n",
    "print(mes5.isupper())\n"
   ]
  },
  {
   "cell_type": "code",
   "execution_count": null,
   "id": "1cf75e64",
   "metadata": {},
   "outputs": [],
   "source": []
  }
 ],
 "metadata": {
  "kernelspec": {
   "display_name": "Python 3 (ipykernel)",
   "language": "python",
   "name": "python3"
  },
  "language_info": {
   "codemirror_mode": {
    "name": "ipython",
    "version": 3
   },
   "file_extension": ".py",
   "mimetype": "text/x-python",
   "name": "python",
   "nbconvert_exporter": "python",
   "pygments_lexer": "ipython3",
   "version": "3.9.13"
  }
 },
 "nbformat": 4,
 "nbformat_minor": 5
}
