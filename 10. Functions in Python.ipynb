{
 "cells": [
  {
   "cell_type": "markdown",
   "id": "1e80c919",
   "metadata": {},
   "source": [
    "# 10. Functions in Python\n",
    "\n",
    "\n",
    "\n",
    " * In Python, a functions is a group of related statement that performs a spefici task.\n",
    " * Functions helps break our program into smaller and modular chunks. *As our programs grow larger and  larger, Functions make it more organized and manageable.\n",
    " * Furthermore, it avoids repetiton and makes the code reusable.\n",
    " * There are two types of functions:\n",
    " * 1. Pre-defined functions\n",
    " * 2. User-defined functions\n",
    " * In Python a function is defined using the def keyword followed by the function name and parentheses().\n",
    " * Keyword def that marks the start of the function header.\n",
    " * Function naming follows the same rule of writing identifiers in Python.\n",
    " * Parameters (arguments) though which we pass values to a function. They are optional.\n",
    " * A colon (:) to mark the end of the function header.\n",
    " * Optional documentation string (docstring) to describe what the function does.\n",
    " * One or more valid python statements that make  up the function body.\n",
    " * Statements must have the same identation level (usually 4 spaces).\n",
    " * An optional return statement to return a value from the function."
   ]
  },
  {
   "cell_type": "code",
   "execution_count": 1,
   "id": "ffe8600e",
   "metadata": {},
   "outputs": [
    {
     "name": "stdout",
     "output_type": "stream",
     "text": [
      "If you make the above operations with 20, the reuslt will be 10,30,2.0,200\n"
     ]
    },
    {
     "data": {
      "text/plain": [
       "(10, 30, 2.0, 200)"
      ]
     },
     "execution_count": 1,
     "metadata": {},
     "output_type": "execute_result"
    }
   ],
   "source": [
    "# Take a sample function.\n",
    "\n",
    "def process(x):\n",
    "    y1=x-10\n",
    "    y2=x+10\n",
    "    y3=x/10\n",
    "    y4=x*10\n",
    "    print(f'If you make the above operations with {x}, the reuslt will be {y1},{y2},{y3},{y4}')\n",
    "    return y1,y2,y3,y4\n",
    "\n",
    "process(20)  # pass the x value in the parameter as 20"
   ]
  },
  {
   "cell_type": "code",
   "execution_count": 3,
   "id": "a7782c27",
   "metadata": {},
   "outputs": [
    {
     "name": "stdout",
     "output_type": "stream",
     "text": [
      "If you make the above operations with 40, the reuslt will be 30,50,4.0,400\n"
     ]
    },
    {
     "data": {
      "text/plain": [
       "(30, 50, 4.0, 400)"
      ]
     },
     "execution_count": 3,
     "metadata": {},
     "output_type": "execute_result"
    }
   ],
   "source": [
    "process(40)\n"
   ]
  },
  {
   "cell_type": "code",
   "execution_count": 5,
   "id": "80619874",
   "metadata": {},
   "outputs": [
    {
     "name": "stdout",
     "output_type": "stream",
     "text": [
      "If you make the above operations with 50, the reuslt will be 40,60,5.0,500\n"
     ]
    },
    {
     "data": {
      "text/plain": [
       "(40, 60, 5.0, 500)"
      ]
     },
     "execution_count": 5,
     "metadata": {},
     "output_type": "execute_result"
    }
   ],
   "source": [
    "process(50)"
   ]
  },
  {
   "cell_type": "code",
   "execution_count": 6,
   "id": "1dee83b4",
   "metadata": {},
   "outputs": [
    {
     "name": "stdout",
     "output_type": "stream",
     "text": [
      "If you make the above operations with 3.14, the reuslt will be -6.859999999999999,13.14,0.314,31.400000000000002\n"
     ]
    },
    {
     "data": {
      "text/plain": [
       "(-6.859999999999999, 13.14, 0.314, 31.400000000000002)"
      ]
     },
     "execution_count": 6,
     "metadata": {},
     "output_type": "execute_result"
    }
   ],
   "source": [
    "process(3.14)"
   ]
  },
  {
   "cell_type": "code",
   "execution_count": 7,
   "id": "a16171d8",
   "metadata": {},
   "outputs": [
    {
     "name": "stdout",
     "output_type": "stream",
     "text": [
      "-34\n"
     ]
    }
   ],
   "source": [
    "# Define a function with multiple elements\n",
    "\n",
    "def multi(x,y):\n",
    "    z = 2*x-10*y+10\n",
    "    return z\n",
    "\n",
    "print(multi(3,5))"
   ]
  },
  {
   "cell_type": "code",
   "execution_count": 8,
   "id": "8d9fdec2",
   "metadata": {},
   "outputs": [
    {
     "data": {
      "text/plain": [
       "-590"
      ]
     },
     "execution_count": 8,
     "metadata": {},
     "output_type": "execute_result"
    }
   ],
   "source": [
    "multi(200,100)"
   ]
  },
  {
   "cell_type": "markdown",
   "id": "54eb020b",
   "metadata": {},
   "source": [
    "# Variable\n",
    "\n",
    " * The input to a function is called a formal parameter.\n",
    " * A variable that is declared inside a function is called a local variable.\n",
    " * The parameter only exists within the function (i.e the point where the function starts and stops).\n",
    " * A variable that is declared outside a function definition is a global variable, and its value is accessible and modifiable thoughtout the program."
   ]
  },
  {
   "cell_type": "code",
   "execution_count": 9,
   "id": "267e0d69",
   "metadata": {},
   "outputs": [
    {
     "name": "stdout",
     "output_type": "stream",
     "text": [
      "If your make the above operations with 15,the result will be 76.4.\n"
     ]
    }
   ],
   "source": [
    " # Define a function\n",
    "def function(x):\n",
    "    # take a local variable\n",
    "    y= 3.14\n",
    "    z = 3*x+10*y\n",
    "    \n",
    "    print(f'If your make the above operations with {x},the result will be {z}.')\n",
    "    \n",
    "function(15)"
   ]
  },
  {
   "cell_type": "code",
   "execution_count": 11,
   "id": "6cb30f88",
   "metadata": {},
   "outputs": [
    {
     "name": "stdout",
     "output_type": "stream",
     "text": [
      "If your make the above operations with 10,the result will be 61.400000000000006.\n",
      "None\n"
     ]
    }
   ],
   "source": [
    "# Define a function with global variable.\n",
    "\n",
    "a = 10\n",
    "\n",
    "s=function(a)\n",
    "print(s)"
   ]
  },
  {
   "cell_type": "markdown",
   "id": "3646b361",
   "metadata": {},
   "source": [
    "#  Withour return statement, the function return None."
   ]
  },
  {
   "cell_type": "code",
   "execution_count": 12,
   "id": "1cabdcc9",
   "metadata": {},
   "outputs": [
    {
     "name": "stdout",
     "output_type": "stream",
     "text": [
      "Hello World\n",
      "None\n",
      "Hello Python\n",
      "None\n"
     ]
    }
   ],
   "source": [
    "def msg1():\n",
    "    print('Hello World')\n",
    "    \n",
    "def msg2():\n",
    "    print('Hello Python')\n",
    "    \n",
    "    return None\n",
    "\n",
    "print(msg1())\n",
    "print(msg2())"
   ]
  },
  {
   "cell_type": "markdown",
   "id": "3837c575",
   "metadata": {},
   "source": [
    "#  Concatenation of two string with functions"
   ]
  },
  {
   "cell_type": "code",
   "execution_count": 14,
   "id": "bf4bdd5e",
   "metadata": {},
   "outputs": [
    {
     "data": {
      "text/plain": [
       "'Hello World'"
      ]
     },
     "execution_count": 14,
     "metadata": {},
     "output_type": "execute_result"
    }
   ],
   "source": [
    "# Define  a function\n",
    "\n",
    "def string(x,y):\n",
    "    \n",
    "    return x+y\n",
    "\n",
    "\n",
    "string('Hello ','World')"
   ]
  },
  {
   "cell_type": "code",
   "execution_count": 15,
   "id": "8b789388",
   "metadata": {},
   "outputs": [
    {
     "data": {
      "text/plain": [
       "30"
      ]
     },
     "execution_count": 15,
     "metadata": {},
     "output_type": "execute_result"
    }
   ],
   "source": [
    "string(10,20)"
   ]
  },
  {
   "cell_type": "code",
   "execution_count": 16,
   "id": "7ca4d30f",
   "metadata": {},
   "outputs": [
    {
     "data": {
      "text/plain": [
       "68.86"
      ]
     },
     "execution_count": 16,
     "metadata": {},
     "output_type": "execute_result"
    }
   ],
   "source": [
    "string(23.5,45.36)"
   ]
  },
  {
   "cell_type": "markdown",
   "id": "2c94f092",
   "metadata": {},
   "source": [
    "#  predefined functions like print(), sum(), min(), max(), len(), input().....etc"
   ]
  },
  {
   "cell_type": "code",
   "execution_count": 17,
   "id": "e95af2b7",
   "metadata": {},
   "outputs": [
    {
     "name": "stdout",
     "output_type": "stream",
     "text": [
      "[0.577, 2.718, 3.14, 1.618, 1729, 1025, 8975]\n"
     ]
    }
   ],
   "source": [
    "special_number=[0.577,2.718,3.14,1.618,1729,1025,8975]\n",
    "\n",
    "print(special_number)"
   ]
  },
  {
   "cell_type": "code",
   "execution_count": 18,
   "id": "b2619cb2",
   "metadata": {},
   "outputs": [
    {
     "data": {
      "text/plain": [
       "11737.053"
      ]
     },
     "execution_count": 18,
     "metadata": {},
     "output_type": "execute_result"
    }
   ],
   "source": [
    "sum(special_number)"
   ]
  },
  {
   "cell_type": "code",
   "execution_count": 19,
   "id": "3b8b460a",
   "metadata": {},
   "outputs": [
    {
     "data": {
      "text/plain": [
       "0.577"
      ]
     },
     "execution_count": 19,
     "metadata": {},
     "output_type": "execute_result"
    }
   ],
   "source": [
    "min(special_number)"
   ]
  },
  {
   "cell_type": "code",
   "execution_count": 20,
   "id": "20d9839a",
   "metadata": {},
   "outputs": [
    {
     "data": {
      "text/plain": [
       "8975"
      ]
     },
     "execution_count": 20,
     "metadata": {},
     "output_type": "execute_result"
    }
   ],
   "source": [
    "max(special_number)"
   ]
  },
  {
   "cell_type": "code",
   "execution_count": 21,
   "id": "d7f09059",
   "metadata": {},
   "outputs": [
    {
     "data": {
      "text/plain": [
       "7"
      ]
     },
     "execution_count": 21,
     "metadata": {},
     "output_type": "execute_result"
    }
   ],
   "source": [
    "len(special_number)"
   ]
  },
  {
   "cell_type": "markdown",
   "id": "f6c7bdf6",
   "metadata": {},
   "source": [
    "# Adjusting default value of independent variable in function."
   ]
  },
  {
   "cell_type": "code",
   "execution_count": 26,
   "id": "44fc595f",
   "metadata": {},
   "outputs": [
    {
     "name": "stdout",
     "output_type": "stream",
     "text": [
      "You should not watch the movie with the rating value of 5.5.\n",
      "You should watch the move with the rating value of 9.\n"
     ]
    }
   ],
   "source": [
    "def rating_value(rating=5.5):\n",
    "    if rating<8:\n",
    "        return (f'You should not watch the movie with the rating value of {rating}.')\n",
    "    else:\n",
    "        return (f'You should watch the move with the rating value of {rating}.')\n",
    "    \n",
    "print(rating_value())\n",
    "print(rating_value(9))"
   ]
  },
  {
   "cell_type": "markdown",
   "id": "9ac558ac",
   "metadata": {},
   "source": [
    "# Global Variables\n",
    "\n",
    " * Variables that are created outside of a functions(as in all of the examples above) are known as golbal variables.\n",
    " * Global variables can be used by everyone, both inside of the function and outside."
   ]
  },
  {
   "cell_type": "code",
   "execution_count": 4,
   "id": "3ab133e0",
   "metadata": {},
   "outputs": [
    {
     "name": "stdout",
     "output_type": "stream",
     "text": [
      "Python is a programming language.\n"
     ]
    },
    {
     "ename": "NameError",
     "evalue": "name 'global_var' is not defined",
     "output_type": "error",
     "traceback": [
      "\u001b[1;31m---------------------------------------------------------------------------\u001b[0m",
      "\u001b[1;31mNameError\u001b[0m                                 Traceback (most recent call last)",
      "\u001b[1;32m~\\AppData\\Local\\Temp\\ipykernel_15996\\2433044520.py\u001b[0m in \u001b[0;36m<module>\u001b[1;34m\u001b[0m\n\u001b[0;32m      9\u001b[0m \u001b[1;33m\u001b[0m\u001b[0m\n\u001b[0;32m     10\u001b[0m \u001b[0mlang\u001b[0m\u001b[1;33m(\u001b[0m\u001b[0mlanguage\u001b[0m\u001b[1;33m)\u001b[0m\u001b[1;33m\u001b[0m\u001b[1;33m\u001b[0m\u001b[0m\n\u001b[1;32m---> 11\u001b[1;33m \u001b[0mlang\u001b[0m\u001b[1;33m(\u001b[0m\u001b[0mglobal_var\u001b[0m\u001b[1;33m)\u001b[0m\u001b[1;33m\u001b[0m\u001b[1;33m\u001b[0m\u001b[0m\n\u001b[0m\u001b[0;32m     12\u001b[0m \u001b[1;33m\u001b[0m\u001b[0m\n\u001b[0;32m     13\u001b[0m '''The output gives a NameError, since all variables in the function are local variables,\n",
      "\u001b[1;31mNameError\u001b[0m: name 'global_var' is not defined"
     ]
    }
   ],
   "source": [
    "# Define a function for a global variable.\n",
    "\n",
    "language='Python'\n",
    "\n",
    "def lang(language):\n",
    "    global_var=language\n",
    "    print(f'{language} is a programming language.')\n",
    "    \n",
    "    \n",
    "lang(language)\n",
    "lang(global_var)\n",
    "    \n",
    "'''The output gives a NameError, since all variables in the function are local variables,\n",
    "so, variable assignment is not presistance outside the function.'''"
   ]
  },
  {
   "cell_type": "code",
   "execution_count": 5,
   "id": "8ec677e6",
   "metadata": {},
   "outputs": [
    {
     "name": "stdout",
     "output_type": "stream",
     "text": [
      "JavaScript is a programming language.\n",
      "Python is a programming language.\n"
     ]
    }
   ],
   "source": [
    "# Both variable are global if you take variable after global.\n",
    "language='JavaScript'\n",
    "\n",
    "\n",
    "def lang(language):\n",
    "    global global_var\n",
    "    global_var='Python'\n",
    "    print(f'{language} is a programming language.')\n",
    "lang(language)\n",
    "lang(global_var)"
   ]
  },
  {
   "cell_type": "markdown",
   "id": "b8b27699",
   "metadata": {},
   "source": [
    "# Variables in Functions\n",
    "\n",
    " * The scope of a variable is the part of the program to which that variable is accessible.\n",
    " * Variables declared outside of all functions definitions can be accessed from anywhere in the program.\n",
    " * Consequently, such variables are said to have global scope and are known as global variables."
   ]
  },
  {
   "cell_type": "code",
   "execution_count": 14,
   "id": "e02b5bc0",
   "metadata": {},
   "outputs": [
    {
     "name": "stdout",
     "output_type": "stream",
     "text": [
      "The productivity in continuous fermentation is 0.5g\n",
      "The productivity in batch fermentation is 0.25g\n",
      "Continuous fermentation has many advantages as compare to the batch fermentation.\n",
      "My favouriate process is Continuous fermentation.\n"
     ]
    }
   ],
   "source": [
    "process='Continuous fermentation'\n",
    "\n",
    "def fermentation(process_name):\n",
    "    if process_name == process:\n",
    "        return '0.5g'\n",
    "    else:\n",
    "        return '0.25g'\n",
    "    \n",
    "print('The productivity in continuous fermentation is',fermentation('Continuous fermentation'))\n",
    "print('The productivity in batch fermentation is',fermentation('Batch fermentation'))\n",
    "print('Continuous fermentation has many advantages as compare to the batch fermentation.')\n",
    "print(f'My favouriate process is {process}.')"
   ]
  },
  {
   "cell_type": "code",
   "execution_count": 15,
   "id": "b2fbbf97",
   "metadata": {},
   "outputs": [
    {
     "ename": "NameError",
     "evalue": "name 'process' is not defined",
     "output_type": "error",
     "traceback": [
      "\u001b[1;31m---------------------------------------------------------------------------\u001b[0m",
      "\u001b[1;31mNameError\u001b[0m                                 Traceback (most recent call last)",
      "\u001b[1;32m~\\AppData\\Local\\Temp\\ipykernel_15996\\3448132220.py\u001b[0m in \u001b[0;36m<module>\u001b[1;34m\u001b[0m\n\u001b[0;32m     11\u001b[0m         \u001b[1;32mreturn\u001b[0m \u001b[1;34m'0.25g'\u001b[0m\u001b[1;33m\u001b[0m\u001b[1;33m\u001b[0m\u001b[0m\n\u001b[0;32m     12\u001b[0m \u001b[1;33m\u001b[0m\u001b[0m\n\u001b[1;32m---> 13\u001b[1;33m \u001b[0mprint\u001b[0m\u001b[1;33m(\u001b[0m\u001b[1;34m'The productivity in continuous fermentation is'\u001b[0m\u001b[1;33m,\u001b[0m\u001b[0mfermentation\u001b[0m\u001b[1;33m(\u001b[0m\u001b[1;34m'Continuous fermentation'\u001b[0m\u001b[1;33m)\u001b[0m\u001b[1;33m)\u001b[0m\u001b[1;33m\u001b[0m\u001b[1;33m\u001b[0m\u001b[0m\n\u001b[0m\u001b[0;32m     14\u001b[0m \u001b[0mprint\u001b[0m\u001b[1;33m(\u001b[0m\u001b[1;34m'The productivity in batch fermentation is'\u001b[0m\u001b[1;33m,\u001b[0m\u001b[0mfermentation\u001b[0m\u001b[1;33m(\u001b[0m\u001b[1;34m'Batch fermentation'\u001b[0m\u001b[1;33m)\u001b[0m\u001b[1;33m)\u001b[0m\u001b[1;33m\u001b[0m\u001b[1;33m\u001b[0m\u001b[0m\n\u001b[0;32m     15\u001b[0m \u001b[0mprint\u001b[0m\u001b[1;33m(\u001b[0m\u001b[1;34m'Continuous fermentation has many advantages as compare to the batch fermentation.'\u001b[0m\u001b[1;33m)\u001b[0m\u001b[1;33m\u001b[0m\u001b[1;33m\u001b[0m\u001b[0m\n",
      "\u001b[1;32m~\\AppData\\Local\\Temp\\ipykernel_15996\\3448132220.py\u001b[0m in \u001b[0;36mfermentation\u001b[1;34m(process_name)\u001b[0m\n\u001b[0;32m      6\u001b[0m \u001b[1;33m\u001b[0m\u001b[0m\n\u001b[0;32m      7\u001b[0m \u001b[1;32mdef\u001b[0m \u001b[0mfermentation\u001b[0m\u001b[1;33m(\u001b[0m\u001b[0mprocess_name\u001b[0m\u001b[1;33m)\u001b[0m\u001b[1;33m:\u001b[0m\u001b[1;33m\u001b[0m\u001b[1;33m\u001b[0m\u001b[0m\n\u001b[1;32m----> 8\u001b[1;33m     \u001b[1;32mif\u001b[0m \u001b[0mprocess_name\u001b[0m \u001b[1;33m==\u001b[0m \u001b[0mprocess\u001b[0m\u001b[1;33m:\u001b[0m\u001b[1;33m\u001b[0m\u001b[1;33m\u001b[0m\u001b[0m\n\u001b[0m\u001b[0;32m      9\u001b[0m         \u001b[1;32mreturn\u001b[0m \u001b[1;34m'0.5g'\u001b[0m\u001b[1;33m\u001b[0m\u001b[1;33m\u001b[0m\u001b[0m\n\u001b[0;32m     10\u001b[0m     \u001b[1;32melse\u001b[0m\u001b[1;33m:\u001b[0m\u001b[1;33m\u001b[0m\u001b[1;33m\u001b[0m\u001b[0m\n",
      "\u001b[1;31mNameError\u001b[0m: name 'process' is not defined"
     ]
    }
   ],
   "source": [
    "# if the variable 'process' is deleted, it returns a NameError as follows\n",
    "\n",
    "process='Continuous fermentation'\n",
    "\n",
    "del process\n",
    "# since the variable, 'process' is deleted, the following function is an example of the local variable.\n",
    "def fermentation(process_name):\n",
    "    if process_name == process:\n",
    "        return '0.5g'\n",
    "    else:\n",
    "        return '0.25g'\n",
    "    \n",
    "print('The productivity in continuous fermentation is',fermentation('Continuous fermentation'))\n",
    "print('The productivity in batch fermentation is',fermentation('Batch fermentation'))\n",
    "print('Continuous fermentation has many advantages as compare to the batch fermentation.')\n",
    "print(f'My favouriate process is {process}.')"
   ]
  },
  {
   "cell_type": "markdown",
   "id": "2b40e32a",
   "metadata": {},
   "source": [
    "# (args) and/or (*args) and Functions.\n",
    "\n",
    "* when the number of arguments are unknown for a function, then the arguments can be packet into a tuple or a dicitionary.\n",
    "\n",
    "\n"
   ]
  },
  {
   "cell_type": "code",
   "execution_count": 20,
   "id": "79941e5c",
   "metadata": {},
   "outputs": [
    {
     "name": "stdout",
     "output_type": "stream",
     "text": [
      "Number of element is 4\n",
      "insuline\n",
      "batch\n",
      "1800 U/mL activity\n",
      "Paracitamol\n",
      "\n",
      "Number of element is 4\n",
      "ethanol\n",
      "Continuous\n",
      "45% yield\n",
      "Carbo\n"
     ]
    }
   ],
   "source": [
    "# Define a function regarding a tuple example\n",
    "\n",
    "def function(*args):\n",
    "    print('Number of element is',len(args))\n",
    "    for element in args:\n",
    "        print(element)\n",
    "function('insuline','batch','1800 U/mL activity','Paracitamol')\n",
    "print()\n",
    "function('ethanol','Continuous','45% yield','Carbo')"
   ]
  },
  {
   "cell_type": "code",
   "execution_count": 21,
   "id": "bd6165a4",
   "metadata": {},
   "outputs": [
    {
     "name": "stdout",
     "output_type": "stream",
     "text": [
      "The total of the numbers is 210\n"
     ]
    }
   ],
   "source": [
    "# Another example regarding 'args'\n",
    "\n",
    "def total (*args):\n",
    "    total=0\n",
    "    for i in args:\n",
    "        total +=i\n",
    "    return total\n",
    "\n",
    "\n",
    "print('The total of the numbers is',total(10,20,30,40,50,60))"
   ]
  },
  {
   "cell_type": "code",
   "execution_count": 22,
   "id": "80dbb84e",
   "metadata": {},
   "outputs": [
    {
     "name": "stdout",
     "output_type": "stream",
     "text": [
      "Microorganis : Lactobacillus\n",
      "Substrate : Metabolism\n",
      "Product : Curd\n",
      "Fermentation : Lacto-Fermentation\n"
     ]
    }
   ],
   "source": [
    "# Define a function regarding a dictionary example.\n",
    "\n",
    "def function (**args):\n",
    "    for key in args:\n",
    "        print(key,':',args[key])\n",
    "        \n",
    "function(Microorganis='Lactobacillus',Substrate='Metabolism',Product='Curd',Fermentation='Lacto-Fermentation')"
   ]
  },
  {
   "cell_type": "markdown",
   "id": "96c2d7f6",
   "metadata": {},
   "source": [
    "# Docstring in functions."
   ]
  },
  {
   "cell_type": "code",
   "execution_count": 29,
   "id": "91741899",
   "metadata": {},
   "outputs": [
    {
     "name": "stdout",
     "output_type": "stream",
     "text": [
      "The following function returns the sum of two numbers.\n",
      "30\n"
     ]
    }
   ],
   "source": [
    "# Define a function.\n",
    "\n",
    "\n",
    "def addition(x,y):\n",
    "    '''The following function returns the sum of two numbers.'''\n",
    "    z = x+y\n",
    "    return z\n",
    "\n",
    "print(addition.__doc__)   #use double underscore.\n",
    "print(addition(10,20))\n"
   ]
  },
  {
   "cell_type": "markdown",
   "id": "f405c336",
   "metadata": {},
   "source": [
    "# Recursive functions"
   ]
  },
  {
   "cell_type": "code",
   "execution_count": 4,
   "id": "c7a3afab",
   "metadata": {},
   "outputs": [
    {
     "name": "stdout",
     "output_type": "stream",
     "text": [
      "The value is: 720\n"
     ]
    }
   ],
   "source": [
    "# Calculate the factorial of a certain number.\n",
    "\n",
    "def factorial(number):\n",
    "    if number == 0:\n",
    "        return 1\n",
    "    else:\n",
    "        return number*factorial(number-1)   # Subtract the value 1\n",
    "    \n",
    "    \n",
    "print('The value is:',factorial(6))"
   ]
  },
  {
   "cell_type": "code",
   "execution_count": 18,
   "id": "9be956ba",
   "metadata": {},
   "outputs": [
    {
     "name": "stdout",
     "output_type": "stream",
     "text": [
      "The total of first ten number is: 55\n"
     ]
    }
   ],
   "source": [
    "# Define a function that gives the total of first ten number.\n",
    "\n",
    "\n",
    "def total_number(number,sum):\n",
    "    if number == 11:\n",
    "        return sum\n",
    "    else:\n",
    "        return total_number(number+1,sum+number)\n",
    "    \n",
    "    \n",
    "print('The total of first ten number is:',total_number(0,0))"
   ]
  },
  {
   "cell_type": "code",
   "execution_count": 12,
   "id": "139870ed",
   "metadata": {},
   "outputs": [
    {
     "name": "stdout",
     "output_type": "stream",
     "text": [
      "Sum is 55\n"
     ]
    }
   ],
   "source": [
    "# sum of number using for loop\n",
    "def function(sum_to_10,i): \n",
    "    for i in range(1, 11): \n",
    "        sum_to_10 += i \n",
    "print(\"Sum is\", sum_to_10)\n",
    "\n"
   ]
  },
  {
   "cell_type": "code",
   "execution_count": 20,
   "id": "6045c895",
   "metadata": {},
   "outputs": [
    {
     "name": "stdout",
     "output_type": "stream",
     "text": [
      "sum is: 55\n"
     ]
    }
   ],
   "source": [
    "def function(sum_to_10,i):\n",
    "    for i in range(1,11):\n",
    "        sum_to_10 += i\n",
    "print(\"sum is:\",sum_to_10)"
   ]
  },
  {
   "cell_type": "code",
   "execution_count": 22,
   "id": "7efe61ea",
   "metadata": {},
   "outputs": [
    {
     "name": "stdout",
     "output_type": "stream",
     "text": [
      "Enter your name: xyz\n",
      "Hello xyz\n"
     ]
    }
   ],
   "source": [
    "# Write a function giving a message 'Hello with your name'\n",
    "\n",
    "def function(name):\n",
    "    msg='Hello '+name\n",
    "    return msg\n",
    "name=input('Enter your name: ')\n",
    "print(function(name))"
   ]
  },
  {
   "cell_type": "code",
   "execution_count": 26,
   "id": "f47550c1",
   "metadata": {},
   "outputs": [
    {
     "name": "stdout",
     "output_type": "stream",
     "text": [
      "3\n"
     ]
    }
   ],
   "source": [
    "# Write a program to find the max of three numbers using function.\n",
    "def max_of_two(x,y):\n",
    "    if x>y:\n",
    "        return x\n",
    "    return y\n",
    "def max_of_three(x,y,z):\n",
    "    return max_of_two(x,max_of_two(y,z))\n",
    "print(max_of_three(1,2,3))"
   ]
  },
  {
   "cell_type": "code",
   "execution_count": 30,
   "id": "32d3c214",
   "metadata": {},
   "outputs": [
    {
     "name": "stdout",
     "output_type": "stream",
     "text": [
      "970\n"
     ]
    }
   ],
   "source": [
    "# Write a program to sum of all the number using function.\n",
    "\n",
    "def sum(numbers):\n",
    "    total=0\n",
    "    for i in numbers:\n",
    "        total+=i\n",
    "    return total\n",
    "print(sum((10,20,12,45,85,98,700)))"
   ]
  },
  {
   "cell_type": "code",
   "execution_count": 32,
   "id": "5b987556",
   "metadata": {},
   "outputs": [
    {
     "name": "stdout",
     "output_type": "stream",
     "text": [
      "Enter a number to calculate the factorial: 5\n",
      "120\n"
     ]
    }
   ],
   "source": [
    "# Write a program to calculate the factiorial of a number using function.\n",
    "\n",
    "def factorial(x):\n",
    "    if x==0:\n",
    "        return 1 \n",
    "    else:\n",
    "        return x* factorial(x-1)\n",
    "x=int(input('Enter a number to calculate the factorial: '))\n",
    "print(factorial(x))"
   ]
  },
  {
   "cell_type": "code",
   "execution_count": 33,
   "id": "5ba1e248",
   "metadata": {},
   "outputs": [
    {
     "name": "stdout",
     "output_type": "stream",
     "text": [
      " irhsiaJ\n"
     ]
    }
   ],
   "source": [
    "# Write a python program  to reverse a sting.\n",
    "\n",
    "def string_reverse(str1):\n",
    "    \n",
    "    rever_str1=' '\n",
    "    index = len(str1)\n",
    "    while index>0:\n",
    "        rever_str1 += str1[index - 1]\n",
    "        index = index - 1\n",
    "    return rever_str1\n",
    "print(string_reverse('Jaishri'))"
   ]
  },
  {
   "cell_type": "code",
   "execution_count": null,
   "id": "aa542fbe",
   "metadata": {},
   "outputs": [],
   "source": [
    "# Write a function giving a message 'Welcome you are Qualified.'\n",
    "# Write a program to find the max of three numbers using function.\n",
    "# Write a function to find the power of any number."
   ]
  }
 ],
 "metadata": {
  "kernelspec": {
   "display_name": "Python 3 (ipykernel)",
   "language": "python",
   "name": "python3"
  },
  "language_info": {
   "codemirror_mode": {
    "name": "ipython",
    "version": 3
   },
   "file_extension": ".py",
   "mimetype": "text/x-python",
   "name": "python",
   "nbconvert_exporter": "python",
   "pygments_lexer": "ipython3",
   "version": "3.9.13"
  }
 },
 "nbformat": 4,
 "nbformat_minor": 5
}
