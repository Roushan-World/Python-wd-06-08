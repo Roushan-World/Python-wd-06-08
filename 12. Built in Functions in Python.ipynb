{
 "cells": [
  {
   "cell_type": "markdown",
   "id": "26e01114",
   "metadata": {},
   "source": [
    "# 12. Built in Functions in Python\n",
    "\n",
    "Python has a several function that are readly available for use. These Functions are called buit-in functions. \n",
    "\n",
    "\n",
    "* A             E                                R\n",
    "\n",
    "* abs()         enumerate()                      range()\n",
    "* all()         eval()                           repr()\n",
    "* any()         exec()                           reversed()\n",
    "* ascii()                                        round()\n",
    "\n",
    "* B              F            L                  S\n",
    "\n",
    "* bin()          filter()     len()              set()\n",
    "* bool()         format()     list()             setattr()\n",
    "* breakpoint()   float()      locals()           slice()\n",
    "* bytearray()    frozenset()                     sorted()\n",
    "* bytes()                     M                  staticmethod()\n",
    "                            map()                str\n",
    "* C              G          max()                sum()\n",
    "                            memoryview()         super()\n",
    "* callable()     getattr()  min()          \n",
    "* chr()          global()\n",
    "* classmethod()               N                   T\n",
    "* compile()    H            next()                tuple()\n",
    "* complex()    hasattr()                          type()\n",
    "               hash()       O                  \n",
    "* D            help()       object()  \n",
    "               hex()        oct()               V\n",
    "* delattr()                 open()              vars()\n",
    "* dict()         I          ord()          \n",
    "* dir()          id()\n",
    "* divmod()       input()      P                   Z\n",
    "               int()        pow()               zip\n",
    "               isinstance() print()             -----------------\n",
    "               issubclass() property()          __import__()\n",
    "               iter()"
   ]
  },
  {
   "cell_type": "code",
   "execution_count": null,
   "id": "38e3e00f",
   "metadata": {},
   "outputs": [],
   "source": []
  }
 ],
 "metadata": {
  "kernelspec": {
   "display_name": "Python 3 (ipykernel)",
   "language": "python",
   "name": "python3"
  },
  "language_info": {
   "codemirror_mode": {
    "name": "ipython",
    "version": 3
   },
   "file_extension": ".py",
   "mimetype": "text/x-python",
   "name": "python",
   "nbconvert_exporter": "python",
   "pygments_lexer": "ipython3",
   "version": "3.9.13"
  }
 },
 "nbformat": 4,
 "nbformat_minor": 5
}
