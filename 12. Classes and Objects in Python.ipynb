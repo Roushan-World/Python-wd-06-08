{
 "cells": [
  {
   "cell_type": "markdown",
   "id": "df98189e",
   "metadata": {},
   "source": [
    "# 12. Classes and Objects in Python.\n",
    "\n",
    "\n",
    " * Python is an object-oriented programming language.\n",
    " * Unlike procedure-oriented programming, where the main emphasis is on functions, object-oriented programming stresses on objects.\n",
    " * An object is simply a collection of data (variables) and methods (functions) that act on those data.\n",
    " * Similarly, a class si a blueprient for that object.\n",
    " * Like function definitions begin with the def keyword in Python, class definitions begin with a class keyword.\n",
    " * The first string inside the class is called docstring and has a brief description of the class.\n",
    " * Although not mandatory, this is highly recommended."
   ]
  },
  {
   "cell_type": "code",
   "execution_count": 1,
   "id": "90040729",
   "metadata": {},
   "outputs": [
    {
     "name": "stdout",
     "output_type": "stream",
     "text": [
      "ABC School\n"
     ]
    }
   ],
   "source": [
    "class student:\n",
    "    school_name = \"ABC School\" #------------------ class variable\n",
    "    def __init__(self,name,age):  #---------------- Constructor to initialize instance variable\n",
    "        self.name = name \n",
    "        self.age = age\n",
    "    @classmethod                 # class method\n",
    "    def change_school(cls,name):   # ---------------cls refer to the class\n",
    "        print(student.school_name) # --------------- Access Class Variable\n",
    "        student.school_name=name   # --------------- Modify Class variable\n",
    "        \n",
    "jessa=student('Jessa',14)\n",
    "student.change_school('xyz school') # ---------------- Call Class Method\n",
    " "
   ]
  },
  {
   "cell_type": "markdown",
   "id": "739d86f0",
   "metadata": {},
   "source": [
    "# Create a class"
   ]
  },
  {
   "cell_type": "code",
   "execution_count": 5,
   "id": "d9a0b774",
   "metadata": {},
   "outputs": [
    {
     "name": "stdout",
     "output_type": "stream",
     "text": [
      "<class '__main__.Data'>\n",
      "Ajinkya\n"
     ]
    }
   ],
   "source": [
    "class Data:\n",
    "    name = 'Ajinkya'\n",
    "    \n",
    "    \n",
    "print(Data)\n",
    "print(Data.name)"
   ]
  },
  {
   "cell_type": "code",
   "execution_count": 8,
   "id": "683fd28f",
   "metadata": {},
   "outputs": [
    {
     "name": "stdout",
     "output_type": "stream",
     "text": [
      "<class '__main__.hotel'>\n",
      "Roti,Chawal,Dal,Tadka,Paneer\n"
     ]
    }
   ],
   "source": [
    "class hotel:\n",
    "    food = 'Roti,Chawal,Dal,Tadka,Paneer'\n",
    "        \n",
    "print(hotel)\n",
    "print(hotel.food)\n",
    "    "
   ]
  },
  {
   "cell_type": "code",
   "execution_count": 11,
   "id": "714f37ff",
   "metadata": {},
   "outputs": [
    {
     "name": "stdout",
     "output_type": "stream",
     "text": [
      "3.14\n",
      "ajinkya\n",
      "Kad\n"
     ]
    }
   ],
   "source": [
    "class Data:\n",
    "    num = 3.14\n",
    "    name='ajinkya'\n",
    "    lastname='Kad'\n",
    "var = Data()\n",
    "print(var.num)\n",
    "print(var.name)\n",
    "print(var.lastname)"
   ]
  },
  {
   "cell_type": "markdown",
   "id": "abce9c12",
   "metadata": {},
   "source": [
    "# Function init() "
   ]
  },
  {
   "cell_type": "code",
   "execution_count": 32,
   "id": "9e2b8d97",
   "metadata": {},
   "outputs": [
    {
     "name": "stdout",
     "output_type": "stream",
     "text": [
      "Ajinkya\n",
      "19\n",
      "789456\n",
      "male\n"
     ]
    }
   ],
   "source": [
    "class Data:\n",
    "    def __init__ (self,name,age,contact_no,gender):\n",
    "        self.name=name\n",
    "        self.age=age\n",
    "        self.contact_no = contact_no\n",
    "        self.gender=gender\n",
    "        \n",
    "val = Data('Ajinkya',19,789456,'male')\n",
    "print(val.name)\n",
    "print(val.age)\n",
    "print(val.contact_no)\n",
    "print(val.gender)"
   ]
  },
  {
   "cell_type": "code",
   "execution_count": 18,
   "id": "001bb2d8",
   "metadata": {},
   "outputs": [
    {
     "name": "stdout",
     "output_type": "stream",
     "text": [
      "Amit\n",
      "39\n",
      "456123\n"
     ]
    }
   ],
   "source": [
    "x = Data('Amit',39,456123)\n",
    "print(x.name)\n",
    "print(x.age)\n",
    "print(x.contact_no)"
   ]
  },
  {
   "cell_type": "code",
   "execution_count": 34,
   "id": "f61a3ac9",
   "metadata": {},
   "outputs": [
    {
     "name": "stdout",
     "output_type": "stream",
     "text": [
      "Divya\n",
      "45\n",
      "789566\n",
      "Female\n"
     ]
    }
   ],
   "source": [
    "y = Data('Divya',45,789566,'Female')\n",
    "print(y.name)\n",
    "print(y.age)\n",
    "print(y.contact_no)\n",
    "print(y.gender)"
   ]
  },
  {
   "cell_type": "code",
   "execution_count": 29,
   "id": "a009224c",
   "metadata": {},
   "outputs": [
    {
     "name": "stdout",
     "output_type": "stream",
     "text": [
      "Amit\n",
      "39\n",
      "Divya\n",
      "45\n",
      "Ajinkya\n",
      "19\n",
      "789456\n"
     ]
    }
   ],
   "source": [
    "print(x.name)\n",
    "print(x.age)\n",
    "print(y.name)\n",
    "print(y.age)\n",
    "print(val.name)\n",
    "print(val.age)\n",
    "print(val.contact_no)"
   ]
  },
  {
   "cell_type": "code",
   "execution_count": 5,
   "id": "b9c55a5e",
   "metadata": {},
   "outputs": [
    {
     "name": "stdout",
     "output_type": "stream",
     "text": [
      "Ajinkya\n",
      "45\n",
      "Engg\n",
      "789456123\n"
     ]
    }
   ],
   "source": [
    "class student:\n",
    "    def __init__(self,name,age,qualification,contact):\n",
    "        self.name=name\n",
    "        self.age=age\n",
    "        self.qualification=qualification\n",
    "        self.contact=contact\n",
    "details=student('Ajinkya',45,'Engg',789456123)\n",
    "print(details.name)\n",
    "print(details.age)\n",
    "print(details.qualification)\n",
    "print(details.contact)\n",
    "        \n",
    "        "
   ]
  },
  {
   "cell_type": "code",
   "execution_count": 11,
   "id": "bda09355",
   "metadata": {},
   "outputs": [
    {
     "name": "stdout",
     "output_type": "stream",
     "text": [
      "Amit\n",
      "42\n",
      "M.com\n",
      "2589633147\n"
     ]
    }
   ],
   "source": [
    "x=student('Amit',42,'M.com',2589633147)\n",
    "\n",
    "print(x.name)\n",
    "print(x.age)\n",
    "print(x.qualification)\n",
    "print(x.contact)"
   ]
  },
  {
   "cell_type": "markdown",
   "id": "c13f36c3",
   "metadata": {},
   "source": [
    "# Methods"
   ]
  },
  {
   "cell_type": "code",
   "execution_count": 12,
   "id": "872bd4cb",
   "metadata": {},
   "outputs": [
    {
     "name": "stdout",
     "output_type": "stream",
     "text": [
      "Your name is: Amit\n",
      "Your age is: 45\n",
      "Yours qualification: B.Com\n",
      "Your email is: xyz@webasha.com\n"
     ]
    }
   ],
   "source": [
    "class Data:\n",
    "    def __init__(self,name,age,qualification,email):\n",
    "        self.name=name\n",
    "        self.age=age\n",
    "        self.qualification=qualification\n",
    "        self.email=email\n",
    "        \n",
    "    def msg_function(self):\n",
    "        print(\"Your name is:\",self.name)\n",
    "        print(\"Your age is:\",self.age)\n",
    "        print(\"Yours qualification:\",self.qualification)\n",
    "        print('Your email is:',self.email)\n",
    "        \n",
    "val=Data('Amit',45,'B.Com','xyz@webasha.com')\n",
    "val.msg_function()"
   ]
  },
  {
   "cell_type": "code",
   "execution_count": 14,
   "id": "d4e30eed",
   "metadata": {},
   "outputs": [
    {
     "name": "stdout",
     "output_type": "stream",
     "text": [
      "Your name is: Ajinkya\n",
      "Your age is: 16\n",
      "Yours qualification: BCA\n",
      "Your email is: xy123@gmail.com\n"
     ]
    }
   ],
   "source": [
    "y=Data('Ajinkya',16,'BCA','xy123@gmail.com')\n",
    "y.msg_function()"
   ]
  },
  {
   "cell_type": "code",
   "execution_count": 15,
   "id": "d5643534",
   "metadata": {},
   "outputs": [
    {
     "data": {
      "text/plain": [
       "16"
      ]
     },
     "execution_count": 15,
     "metadata": {},
     "output_type": "execute_result"
    }
   ],
   "source": [
    "y.age"
   ]
  },
  {
   "cell_type": "code",
   "execution_count": 16,
   "id": "82f97bdd",
   "metadata": {},
   "outputs": [
    {
     "data": {
      "text/plain": [
       "45"
      ]
     },
     "execution_count": 16,
     "metadata": {},
     "output_type": "execute_result"
    }
   ],
   "source": [
    "val.age"
   ]
  },
  {
   "cell_type": "markdown",
   "id": "86079dcf",
   "metadata": {},
   "source": [
    "# Self parameter\n",
    "\n",
    "\n",
    " * The self parameter is reference to the current instance of the class, and is used to access varaiables that belongs to the class.\n",
    " * It does not have to be named self, you call call it whatever you like, but it has to be first parameter of any function in the class.\n"
   ]
  },
  {
   "cell_type": "code",
   "execution_count": 17,
   "id": "3c6d87c4",
   "metadata": {},
   "outputs": [
    {
     "name": "stdout",
     "output_type": "stream",
     "text": [
      "The eular number is: 2.718\n",
      "The golden ratio is: 1.618\n",
      "The pi number is: 3.14\n"
     ]
    }
   ],
   "source": [
    "'''\n",
    "The following codes are the same as the above under the title 'Methods'\n",
    "You see that the output is the same, but this codes contain 'classParameter' instead of 'self'.\n",
    "'''\n",
    "\n",
    "class data:\n",
    "    def __init__(classFirstParameter, eular_number,pi_number,golden_ratio):\n",
    "        classFirstParameter.eular_number=eular_number\n",
    "        classFirstParameter.pi_number=pi_number\n",
    "        classFirstParameter.golden_ratio=golden_ratio\n",
    "        \n",
    "    def function(classFirstParameter):\n",
    "        print('The eular number is:',classFirstParameter.eular_number)\n",
    "        print(\"The golden ratio is:\",classFirstParameter.golden_ratio)\n",
    "        print('The pi number is:',classFirstParameter.pi_number)\n",
    "        \n",
    "        \n",
    "val=data(2.718,3.14,1.618)\n",
    "val.function()"
   ]
  },
  {
   "cell_type": "markdown",
   "id": "d1d2f527",
   "metadata": {},
   "source": [
    "# Crating a class to draw square."
   ]
  },
  {
   "cell_type": "code",
   "execution_count": 34,
   "id": "cf71bb79",
   "metadata": {},
   "outputs": [
    {
     "name": "stdout",
     "output_type": "stream",
     "text": [
      "10\n",
      "5\n",
      "blue\n"
     ]
    },
    {
     "ename": "AttributeError",
     "evalue": "'Rectangle' object has no attribute 'height'",
     "output_type": "error",
     "traceback": [
      "\u001b[1;31m---------------------------------------------------------------------------\u001b[0m",
      "\u001b[1;31mAttributeError\u001b[0m                            Traceback (most recent call last)",
      "\u001b[1;32m~\\AppData\\Local\\Temp\\ipykernel_40256\\1477573542.py\u001b[0m in \u001b[0;36m<module>\u001b[1;34m\u001b[0m\n\u001b[0;32m     26\u001b[0m \u001b[0mprint\u001b[0m\u001b[1;33m(\u001b[0m\u001b[0mone_Rectangle\u001b[0m\u001b[1;33m.\u001b[0m\u001b[0mcolor\u001b[0m\u001b[1;33m)\u001b[0m\u001b[1;33m\u001b[0m\u001b[1;33m\u001b[0m\u001b[0m\n\u001b[0;32m     27\u001b[0m \u001b[1;33m\u001b[0m\u001b[0m\n\u001b[1;32m---> 28\u001b[1;33m \u001b[0mone_square\u001b[0m\u001b[1;33m.\u001b[0m\u001b[0mdrawRectangle\u001b[0m\u001b[1;33m(\u001b[0m\u001b[1;33m)\u001b[0m\u001b[1;33m\u001b[0m\u001b[1;33m\u001b[0m\u001b[0m\n\u001b[0m\u001b[0;32m     29\u001b[0m \u001b[1;31m#print(dir(one_Rectangle))\u001b[0m\u001b[1;33m\u001b[0m\u001b[1;33m\u001b[0m\u001b[0m\n",
      "\u001b[1;32m~\\AppData\\Local\\Temp\\ipykernel_40256\\998422659.py\u001b[0m in \u001b[0;36mdrawRectangle\u001b[1;34m(self)\u001b[0m\n\u001b[0;32m     12\u001b[0m     \u001b[1;31m# method\u001b[0m\u001b[1;33m\u001b[0m\u001b[1;33m\u001b[0m\u001b[0m\n\u001b[0;32m     13\u001b[0m     \u001b[1;32mdef\u001b[0m \u001b[0mdrawRectangle\u001b[0m\u001b[1;33m(\u001b[0m\u001b[0mself\u001b[0m\u001b[1;33m)\u001b[0m\u001b[1;33m:\u001b[0m\u001b[1;33m\u001b[0m\u001b[1;33m\u001b[0m\u001b[0m\n\u001b[1;32m---> 14\u001b[1;33m         \u001b[0mplt\u001b[0m\u001b[1;33m.\u001b[0m\u001b[0mgca\u001b[0m\u001b[1;33m(\u001b[0m\u001b[1;33m)\u001b[0m\u001b[1;33m.\u001b[0m\u001b[0madd_patch\u001b[0m\u001b[1;33m(\u001b[0m\u001b[0mplt\u001b[0m\u001b[1;33m.\u001b[0m\u001b[0mRectangle\u001b[0m\u001b[1;33m(\u001b[0m\u001b[1;33m(\u001b[0m\u001b[1;36m0\u001b[0m\u001b[1;33m,\u001b[0m\u001b[1;36m0\u001b[0m\u001b[1;33m)\u001b[0m\u001b[1;33m,\u001b[0m\u001b[0mself\u001b[0m\u001b[1;33m.\u001b[0m\u001b[0mwidth\u001b[0m\u001b[1;33m,\u001b[0m\u001b[0mself\u001b[0m\u001b[1;33m.\u001b[0m\u001b[0mheight\u001b[0m\u001b[1;33m,\u001b[0m\u001b[0mfc\u001b[0m\u001b[1;33m=\u001b[0m\u001b[0mself\u001b[0m\u001b[1;33m.\u001b[0m\u001b[0mcolor\u001b[0m\u001b[1;33m)\u001b[0m\u001b[1;33m)\u001b[0m\u001b[1;33m\u001b[0m\u001b[1;33m\u001b[0m\u001b[0m\n\u001b[0m\u001b[0;32m     15\u001b[0m         \u001b[0mplt\u001b[0m\u001b[1;33m.\u001b[0m\u001b[0maxis\u001b[0m\u001b[1;33m(\u001b[0m\u001b[1;34m'scaled'\u001b[0m\u001b[1;33m)\u001b[0m\u001b[1;33m\u001b[0m\u001b[1;33m\u001b[0m\u001b[0m\n\u001b[0;32m     16\u001b[0m         \u001b[0mplt\u001b[0m\u001b[1;33m.\u001b[0m\u001b[0mshow\u001b[0m\u001b[1;33m(\u001b[0m\u001b[1;33m)\u001b[0m\u001b[1;33m\u001b[0m\u001b[1;33m\u001b[0m\u001b[0m\n",
      "\u001b[1;31mAttributeError\u001b[0m: 'Rectangle' object has no attribute 'height'"
     ]
    },
    {
     "data": {
      "image/png": "[encoded data removed]",
      "text/plain": [
       "<Figure size 640x480 with 1 Axes>"
      ]
     },
     "metadata": {},
     "output_type": "display_data"
    }
   ],
   "source": [
    "import matplotlib.pyplot as plt\n",
    "%matplotlib inline\n",
    "# Creating a class to draw square.\n",
    "\n",
    "class Rectangle(object):\n",
    "    #constructor\n",
    "    def __init__(self,width,height,color):\n",
    "        self.width=width\n",
    "        self.heigh=height\n",
    "        self.color=color\n",
    "        \n",
    "    # method\n",
    "    def drawRectangle(self):\n",
    "        plt.gca().add_patch(plt.Rectangle((0,0),self.width,self.height,fc=self.color))\n",
    "        plt.axis('Scaled')\n",
    "        plt.show()\n",
    "        \n",
    "        \n",
    "\n",
    "\n",
    "# creating an object.\n",
    "one_Rectanlge=Rectangle(10,5,'yellow')\n",
    "\n",
    "print(one_Rectangle.width)\n",
    "print(one_Rectangle.height)\n",
    "print(one_Rectangle.color)\n",
    "\n",
    "one_square.drawRectangle()\n",
    "#print(dir(one_Rectangle))"
   ]
  },
  {
   "cell_type": "code",
   "execution_count": 35,
   "id": "a892d6ee",
   "metadata": {},
   "outputs": [
    {
     "name": "stdout",
     "output_type": "stream",
     "text": [
      "10\n",
      "10\n",
      "blue\n"
     ]
    },
    {
     "data": {
      "image/png": "[encoded data removed]",
      "text/plain": [
       "<Figure size 640x480 with 1 Axes>"
      ]
     },
     "metadata": {},
     "output_type": "display_data"
    }
   ],
   "source": [
    "# import library to draw the Rectangle.\n",
    "\n",
    "import matplotlib.pyplot as plt\n",
    "\n",
    "%matplotlib inline\n",
    "\n",
    "# Creating a class to draw a Rectangle.\n",
    "\n",
    "class Rectangle(object):\n",
    "    \n",
    "    # Constructor\n",
    "    \n",
    "    def __init__(self,width,height,color):\n",
    "        self.width = width\n",
    "        self.height = height\n",
    "        self.color = color\n",
    "        \n",
    "    # method\n",
    "    def drawRectangle(self):\n",
    "        plt.gca().add_patch(plt.Rectangle((0,0), self.width,self.height,fc=self.color))\n",
    "        plt.axis('Scaled')\n",
    "        plt.show\n",
    "        \n",
    "# Creating an object.\n",
    "\n",
    "one_Rectangle=Rectangle(10,10,'blue')\n",
    "\n",
    "print(one_Rectangle.width)\n",
    "\n",
    "print(one_Rectangle.height)\n",
    "print(one_Rectangle.color)\n",
    "one_Rectangle.drawRectangle()"
   ]
  },
  {
   "cell_type": "code",
   "execution_count": 37,
   "id": "859fc4ab",
   "metadata": {},
   "outputs": [
    {
     "data": {
      "image/png": "[encoded data removed]",
      "text/plain": [
       "<Figure size 640x480 with 1 Axes>"
      ]
     },
     "metadata": {},
     "output_type": "display_data"
    }
   ],
   "source": [
    "x =Rectangle(20,10,'red')\n",
    "x.drawRectangle()"
   ]
  },
  {
   "cell_type": "code",
   "execution_count": 38,
   "id": "b5a37ca7",
   "metadata": {},
   "outputs": [
    {
     "ename": "TypeError",
     "evalue": "Circle() takes no arguments",
     "output_type": "error",
     "traceback": [
      "\u001b[1;31m---------------------------------------------------------------------------\u001b[0m",
      "\u001b[1;31mTypeError\u001b[0m                                 Traceback (most recent call last)",
      "\u001b[1;32m~\\AppData\\Local\\Temp\\ipykernel_40256\\3213706992.py\u001b[0m in \u001b[0;36m<module>\u001b[1;34m\u001b[0m\n\u001b[0;32m     21\u001b[0m \u001b[1;31m# Creating an object.\u001b[0m\u001b[1;33m\u001b[0m\u001b[1;33m\u001b[0m\u001b[0m\n\u001b[0;32m     22\u001b[0m \u001b[1;33m\u001b[0m\u001b[0m\n\u001b[1;32m---> 23\u001b[1;33m \u001b[0mone_circle\u001b[0m\u001b[1;33m=\u001b[0m\u001b[0mCircle\u001b[0m\u001b[1;33m(\u001b[0m\u001b[1;36m10\u001b[0m\u001b[1;33m,\u001b[0m\u001b[1;34m'yellow'\u001b[0m\u001b[1;33m)\u001b[0m\u001b[1;33m\u001b[0m\u001b[1;33m\u001b[0m\u001b[0m\n\u001b[0m\u001b[0;32m     24\u001b[0m \u001b[1;33m\u001b[0m\u001b[0m\n\u001b[0;32m     25\u001b[0m \u001b[0mprint\u001b[0m\u001b[1;33m(\u001b[0m\u001b[0mone_circle\u001b[0m\u001b[1;33m.\u001b[0m\u001b[0mradius\u001b[0m\u001b[1;33m)\u001b[0m\u001b[1;33m\u001b[0m\u001b[1;33m\u001b[0m\u001b[0m\n",
      "\u001b[1;31mTypeError\u001b[0m: Circle() takes no arguments"
     ]
    }
   ],
   "source": [
    "import matplotlib.pyplot as plt\n",
    "\n",
    "%matplotlib inline\n",
    "\n",
    "# Creating a class to draw a Rectangle.\n",
    "\n",
    "class Circle(object):\n",
    "    \n",
    "    # Constructor\n",
    "    \n",
    "    def _init_(self,radius,color):\n",
    "        self.radius=radius\n",
    "        self.color = color\n",
    "        \n",
    "    # method\n",
    "    def drawCircle(self):\n",
    "        plt.gca().add_patch(plt.Circle((0,0), self.radius,fc=self.color))\n",
    "        plt.axis('Scaled')\n",
    "        plt.show\n",
    "        \n",
    "# Creating an object.\n",
    "\n",
    "one_circle=Circle(10,'yellow')\n",
    "\n",
    "print(one_circle.radius)\n",
    "\n",
    "print(one_circle.color)\n",
    "one_circle.drawCircle()"
   ]
  },
  {
   "cell_type": "code",
   "execution_count": null,
   "id": "81199251",
   "metadata": {},
   "outputs": [],
   "source": []
  }
 ],
 "metadata": {
  "kernelspec": {
   "display_name": "Python 3 (ipykernel)",
   "language": "python",
   "name": "python3"
  },
  "language_info": {
   "codemirror_mode": {
    "name": "ipython",
    "version": 3
   },
   "file_extension": ".py",
   "mimetype": "text/x-python",
   "name": "python",
   "nbconvert_exporter": "python",
   "pygments_lexer": "ipython3",
   "version": "3.9.13"
  }
 },
 "nbformat": 4,
 "nbformat_minor": 5
}
