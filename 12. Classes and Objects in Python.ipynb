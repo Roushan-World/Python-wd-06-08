{
 "cells": [
  {
   "cell_type": "markdown",
   "id": "df98189e",
   "metadata": {},
   "source": [
    "# 12. Classes and Objects in Python.\n",
    "\n",
    "\n",
    " * Python is an object-oriented programming language.\n",
    " * Unlike procedure-oriented programming, where the main emphasis is on functions, object-oriented programming stresses on objects.\n",
    " * An object is simply a collection of data (variables) and methods (functions) that act on those data.\n",
    " * Similarly, a class si a blueprient for that object.\n",
    " * Like function definitions begin with the def keyword in Python, class definitions begin with a class keyword.\n",
    " * The first string inside the class is called docstring and has a brief description of the class.\n",
    " * Although not mandatory, this is highly recommended."
   ]
  },
  {
   "cell_type": "code",
   "execution_count": 1,
   "id": "90040729",
   "metadata": {},
   "outputs": [
    {
     "name": "stdout",
     "output_type": "stream",
     "text": [
      "ABC School\n"
     ]
    }
   ],
   "source": [
    "class student:\n",
    "    school_name = \"ABC School\" #------------------ class variable\n",
    "    def __init__(self,name,age):  #---------------- Constructor to initialize instance variable\n",
    "        self.name = name \n",
    "        self.age = age\n",
    "    @classmethod                 # class method\n",
    "    def change_school(cls,name):   # ---------------cls refer to the class\n",
    "        print(student.school_name) # --------------- Access Class Variable\n",
    "        student.school_name=name   # --------------- Modify Class variable\n",
    "        \n",
    "jessa=student('Jessa',14)\n",
    "student.change_school('xyz school') # ---------------- Call Class Method\n",
    " "
   ]
  },
  {
   "cell_type": "markdown",
   "id": "739d86f0",
   "metadata": {},
   "source": [
    "# Create a class"
   ]
  },
  {
   "cell_type": "code",
   "execution_count": 5,
   "id": "d9a0b774",
   "metadata": {},
   "outputs": [
    {
     "name": "stdout",
     "output_type": "stream",
     "text": [
      "<class '__main__.Data'>\n",
      "Ajinkya\n"
     ]
    }
   ],
   "source": [
    "class Data:\n",
    "    name = 'Ajinkya'\n",
    "    \n",
    "    \n",
    "print(Data)\n",
    "print(Data.name)"
   ]
  },
  {
   "cell_type": "code",
   "execution_count": 8,
   "id": "683fd28f",
   "metadata": {},
   "outputs": [
    {
     "name": "stdout",
     "output_type": "stream",
     "text": [
      "<class '__main__.hotel'>\n",
      "Roti,Chawal,Dal,Tadka,Paneer\n"
     ]
    }
   ],
   "source": [
    "class hotel:\n",
    "    food = 'Roti,Chawal,Dal,Tadka,Paneer'\n",
    "        \n",
    "print(hotel)\n",
    "print(hotel.food)\n",
    "    "
   ]
  },
  {
   "cell_type": "code",
   "execution_count": 11,
   "id": "714f37ff",
   "metadata": {},
   "outputs": [
    {
     "name": "stdout",
     "output_type": "stream",
     "text": [
      "3.14\n",
      "ajinkya\n",
      "Kad\n"
     ]
    }
   ],
   "source": [
    "class Data:\n",
    "    num = 3.14\n",
    "    name='ajinkya'\n",
    "    lastname='Kad'\n",
    "var = Data()\n",
    "print(var.num)\n",
    "print(var.name)\n",
    "print(var.lastname)"
   ]
  },
  {
   "cell_type": "markdown",
   "id": "abce9c12",
   "metadata": {},
   "source": [
    "# Function init() "
   ]
  },
  {
   "cell_type": "code",
   "execution_count": 32,
   "id": "9e2b8d97",
   "metadata": {},
   "outputs": [
    {
     "name": "stdout",
     "output_type": "stream",
     "text": [
      "Ajinkya\n",
      "19\n",
      "789456\n",
      "male\n"
     ]
    }
   ],
   "source": [
    "class Data:\n",
    "    def __init__ (self,name,age,contact_no,gender):\n",
    "        self.name=name\n",
    "        self.age=age\n",
    "        self.contact_no = contact_no\n",
    "        self.gender=gender\n",
    "        \n",
    "val = Data('Ajinkya',19,789456,'male')\n",
    "print(val.name)\n",
    "print(val.age)\n",
    "print(val.contact_no)\n",
    "print(val.gender)"
   ]
  },
  {
   "cell_type": "code",
   "execution_count": 18,
   "id": "001bb2d8",
   "metadata": {},
   "outputs": [
    {
     "name": "stdout",
     "output_type": "stream",
     "text": [
      "Amit\n",
      "39\n",
      "456123\n"
     ]
    }
   ],
   "source": [
    "x = Data('Amit',39,456123)\n",
    "print(x.name)\n",
    "print(x.age)\n",
    "print(x.contact_no)"
   ]
  },
  {
   "cell_type": "code",
   "execution_count": 34,
   "id": "f61a3ac9",
   "metadata": {},
   "outputs": [
    {
     "name": "stdout",
     "output_type": "stream",
     "text": [
      "Divya\n",
      "45\n",
      "789566\n",
      "Female\n"
     ]
    }
   ],
   "source": [
    "y = Data('Divya',45,789566,'Female')\n",
    "print(y.name)\n",
    "print(y.age)\n",
    "print(y.contact_no)\n",
    "print(y.gender)"
   ]
  },
  {
   "cell_type": "code",
   "execution_count": 29,
   "id": "a009224c",
   "metadata": {},
   "outputs": [
    {
     "name": "stdout",
     "output_type": "stream",
     "text": [
      "Amit\n",
      "39\n",
      "Divya\n",
      "45\n",
      "Ajinkya\n",
      "19\n",
      "789456\n"
     ]
    }
   ],
   "source": [
    "print(x.name)\n",
    "print(x.age)\n",
    "print(y.name)\n",
    "print(y.age)\n",
    "print(val.name)\n",
    "print(val.age)\n",
    "print(val.contact_no)"
   ]
  },
  {
   "cell_type": "code",
   "execution_count": 5,
   "id": "b9c55a5e",
   "metadata": {},
   "outputs": [
    {
     "name": "stdout",
     "output_type": "stream",
     "text": [
      "Ajinkya\n",
      "45\n",
      "Engg\n",
      "789456123\n"
     ]
    }
   ],
   "source": [
    "class student:\n",
    "    def __init__(self,name,age,qualification,contact):\n",
    "        self.name=name\n",
    "        self.age=age\n",
    "        self.qualification=qualification\n",
    "        self.contact=contact\n",
    "details=student('Ajinkya',45,'Engg',789456123)\n",
    "print(details.name)\n",
    "print(details.age)\n",
    "print(details.qualification)\n",
    "print(details.contact)\n",
    "        \n",
    "        "
   ]
  },
  {
   "cell_type": "code",
   "execution_count": 11,
   "id": "bda09355",
   "metadata": {},
   "outputs": [
    {
     "name": "stdout",
     "output_type": "stream",
     "text": [
      "Amit\n",
      "42\n",
      "M.com\n",
      "2589633147\n"
     ]
    }
   ],
   "source": [
    "x=student('Amit',42,'M.com',2589633147)\n",
    "\n",
    "print(x.name)\n",
    "print(x.age)\n",
    "print(x.qualification)\n",
    "print(x.contact)"
   ]
  },
  {
   "cell_type": "markdown",
   "id": "c13f36c3",
   "metadata": {},
   "source": [
    "# Methods"
   ]
  },
  {
   "cell_type": "code",
   "execution_count": 12,
   "id": "872bd4cb",
   "metadata": {},
   "outputs": [
    {
     "name": "stdout",
     "output_type": "stream",
     "text": [
      "Your name is: Amit\n",
      "Your age is: 45\n",
      "Yours qualification: B.Com\n",
      "Your email is: xyz@webasha.com\n"
     ]
    }
   ],
   "source": [
    "class Data:\n",
    "    def __init__(self,name,age,qualification,email):\n",
    "        self.name=name\n",
    "        self.age=age\n",
    "        self.qualification=qualification\n",
    "        self.email=email\n",
    "        \n",
    "    def msg_function(self):\n",
    "        print(\"Your name is:\",self.name)\n",
    "        print(\"Your age is:\",self.age)\n",
    "        print(\"Yours qualification:\",self.qualification)\n",
    "        print('Your email is:',self.email)\n",
    "        \n",
    "val=Data('Amit',45,'B.Com','xyz@webasha.com')\n",
    "val.msg_function()"
   ]
  },
  {
   "cell_type": "code",
   "execution_count": 14,
   "id": "d4e30eed",
   "metadata": {},
   "outputs": [
    {
     "name": "stdout",
     "output_type": "stream",
     "text": [
      "Your name is: Ajinkya\n",
      "Your age is: 16\n",
      "Yours qualification: BCA\n",
      "Your email is: xy123@gmail.com\n"
     ]
    }
   ],
   "source": [
    "y=Data('Ajinkya',16,'BCA','xy123@gmail.com')\n",
    "y.msg_function()"
   ]
  },
  {
   "cell_type": "code",
   "execution_count": 15,
   "id": "d5643534",
   "metadata": {},
   "outputs": [
    {
     "data": {
      "text/plain": [
       "16"
      ]
     },
     "execution_count": 15,
     "metadata": {},
     "output_type": "execute_result"
    }
   ],
   "source": [
    "y.age"
   ]
  },
  {
   "cell_type": "code",
   "execution_count": 16,
   "id": "82f97bdd",
   "metadata": {},
   "outputs": [
    {
     "data": {
      "text/plain": [
       "45"
      ]
     },
     "execution_count": 16,
     "metadata": {},
     "output_type": "execute_result"
    }
   ],
   "source": [
    "val.age"
   ]
  },
  {
   "cell_type": "markdown",
   "id": "86079dcf",
   "metadata": {},
   "source": [
    "# Self parameter\n",
    "\n",
    "\n",
    " * The self parameter is reference to the current instance of the class, and is used to access varaiables that belongs to the class.\n",
    " * It does not have to be named self, you call call it whatever you like, but it has to be first parameter of any function in the class.\n"
   ]
  },
  {
   "cell_type": "code",
   "execution_count": 17,
   "id": "3c6d87c4",
   "metadata": {},
   "outputs": [
    {
     "name": "stdout",
     "output_type": "stream",
     "text": [
      "The eular number is: 2.718\n",
      "The golden ratio is: 1.618\n",
      "The pi number is: 3.14\n"
     ]
    }
   ],
   "source": [
    "'''\n",
    "The following codes are the same as the above under the title 'Methods'\n",
    "You see that the output is the same, but this codes contain 'classParameter' instead of 'self'.\n",
    "'''\n",
    "\n",
    "class data:\n",
    "    def __init__(classFirstParameter, eular_number,pi_number,golden_ratio):\n",
    "        classFirstParameter.eular_number=eular_number\n",
    "        classFirstParameter.pi_number=pi_number\n",
    "        classFirstParameter.golden_ratio=golden_ratio\n",
    "        \n",
    "    def function(classFirstParameter):\n",
    "        print('The eular number is:',classFirstParameter.eular_number)\n",
    "        print(\"The golden ratio is:\",classFirstParameter.golden_ratio)\n",
    "        print('The pi number is:',classFirstParameter.pi_number)\n",
    "        \n",
    "        \n",
    "val=data(2.718,3.14,1.618)\n",
    "val.function()"
   ]
  },
  {
   "cell_type": "markdown",
   "id": "d1d2f527",
   "metadata": {},
   "source": [
    "# Crating a class to draw square."
   ]
  },
  {
   "cell_type": "code",
   "execution_count": 4,
   "id": "cf71bb79",
   "metadata": {},
   "outputs": [
    {
     "name": "stdout",
     "output_type": "stream",
     "text": [
      "10\n",
      "5\n",
      "yellow\n"
     ]
    },
    {
     "data": {
      "image/png": "[encoded data removed]",
      "text/plain": [
       "<Figure size 640x480 with 1 Axes>"
      ]
     },
     "metadata": {},
     "output_type": "display_data"
    }
   ],
   "source": [
    "import matplotlib.pyplot as plt\n",
    "%matplotlib inline\n",
    "# Creating a class to draw square.\n",
    "\n",
    "class Rectangle(object):\n",
    "    #constructor\n",
    "    def __init__(self,width,height,color):\n",
    "        self.width=width\n",
    "        self.height=height\n",
    "        self.color=color\n",
    "        \n",
    "    # method\n",
    "    def drawRectangle(self):\n",
    "        plt.gca().add_patch(plt.Rectangle((0,0),self.width,self.height,fc=self.color))\n",
    "        plt.axis('Scaled')\n",
    "        plt.show()\n",
    "        \n",
    "        \n",
    "\n",
    "\n",
    "# creating an object.\n",
    "one_Rectangle=Rectangle(10,5,'yellow')\n",
    "\n",
    "print(one_Rectangle.width)\n",
    "print(one_Rectangle.height)\n",
    "print(one_Rectangle.color)\n",
    "\n",
    "one_Rectanlge.drawRectangle()\n",
    "#print(dir(one_Rectangle))"
   ]
  },
  {
   "cell_type": "code",
   "execution_count": 35,
   "id": "a892d6ee",
   "metadata": {},
   "outputs": [
    {
     "name": "stdout",
     "output_type": "stream",
     "text": [
      "10\n",
      "10\n",
      "blue\n"
     ]
    },
    {
     "data": {
      "image/png": "[encoded data removed]",
      "text/plain": [
       "<Figure size 640x480 with 1 Axes>"
      ]
     },
     "metadata": {},
     "output_type": "display_data"
    }
   ],
   "source": [
    "# import library to draw the Rectangle.\n",
    "\n",
    "import matplotlib.pyplot as plt\n",
    "\n",
    "%matplotlib inline\n",
    "\n",
    "# Creating a class to draw a Rectangle.\n",
    "\n",
    "class Rectangle(object):\n",
    "    \n",
    "    # Constructor\n",
    "    \n",
    "    def __init__(self,width,height,color):\n",
    "        self.width = width\n",
    "        self.height = height\n",
    "        self.color = color\n",
    "        \n",
    "    # method\n",
    "    def drawRectangle(self):\n",
    "        plt.gca().add_patch(plt.Rectangle((0,0), self.width,self.height,fc=self.color))\n",
    "        plt.axis('Scaled')\n",
    "        plt.show\n",
    "        \n",
    "# Creating an object.\n",
    "\n",
    "one_Rectangle=Rectangle(10,10,'blue')\n",
    "\n",
    "print(one_Rectangle.width)\n",
    "\n",
    "print(one_Rectangle.height)\n",
    "print(one_Rectangle.color)\n",
    "one_Rectangle.drawRectangle()"
   ]
  },
  {
   "cell_type": "code",
   "execution_count": 37,
   "id": "859fc4ab",
   "metadata": {},
   "outputs": [
    {
     "data": {
      "image/png": "[encoded data removed]",
      "text/plain": [
       "<Figure size 640x480 with 1 Axes>"
      ]
     },
     "metadata": {},
     "output_type": "display_data"
    }
   ],
   "source": [
    "x =Rectangle(20,10,'red')\n",
    "x.drawRectangle()"
   ]
  },
  {
   "cell_type": "code",
   "execution_count": 5,
   "id": "b5a37ca7",
   "metadata": {},
   "outputs": [
    {
     "ename": "TypeError",
     "evalue": "Circle() takes no arguments",
     "output_type": "error",
     "traceback": [
      "\u001b[1;31m---------------------------------------------------------------------------\u001b[0m",
      "\u001b[1;31mTypeError\u001b[0m                                 Traceback (most recent call last)",
      "\u001b[1;32m~\\AppData\\Local\\Temp\\ipykernel_37312\\3213706992.py\u001b[0m in \u001b[0;36m<module>\u001b[1;34m\u001b[0m\n\u001b[0;32m     21\u001b[0m \u001b[1;31m# Creating an object.\u001b[0m\u001b[1;33m\u001b[0m\u001b[1;33m\u001b[0m\u001b[0m\n\u001b[0;32m     22\u001b[0m \u001b[1;33m\u001b[0m\u001b[0m\n\u001b[1;32m---> 23\u001b[1;33m \u001b[0mone_circle\u001b[0m\u001b[1;33m=\u001b[0m\u001b[0mCircle\u001b[0m\u001b[1;33m(\u001b[0m\u001b[1;36m10\u001b[0m\u001b[1;33m,\u001b[0m\u001b[1;34m'yellow'\u001b[0m\u001b[1;33m)\u001b[0m\u001b[1;33m\u001b[0m\u001b[1;33m\u001b[0m\u001b[0m\n\u001b[0m\u001b[0;32m     24\u001b[0m \u001b[1;33m\u001b[0m\u001b[0m\n\u001b[0;32m     25\u001b[0m \u001b[0mprint\u001b[0m\u001b[1;33m(\u001b[0m\u001b[0mone_circle\u001b[0m\u001b[1;33m.\u001b[0m\u001b[0mradius\u001b[0m\u001b[1;33m)\u001b[0m\u001b[1;33m\u001b[0m\u001b[1;33m\u001b[0m\u001b[0m\n",
      "\u001b[1;31mTypeError\u001b[0m: Circle() takes no arguments"
     ]
    }
   ],
   "source": [
    "import matplotlib.pyplot as plt\n",
    "\n",
    "%matplotlib inline\n",
    "\n",
    "# Creating a class to draw a Rectangle.\n",
    "\n",
    "class Circle(object):\n",
    "    \n",
    "    # Constructor\n",
    "    \n",
    "    def _init_(self,radius,color):\n",
    "        self.radius=radius\n",
    "        self.color = color\n",
    "        \n",
    "    # method\n",
    "    def drawCircle(self):\n",
    "        plt.gca().add_patch(plt.Circle((0,0), self.radius,fc=self.color))\n",
    "        plt.axis('Scaled')\n",
    "        plt.show\n",
    "        \n",
    "# Creating an object.\n",
    "\n",
    "one_circle=Circle(10,'yellow')\n",
    "\n",
    "print(one_circle.radius)\n",
    "\n",
    "print(one_circle.color)\n",
    "one_circle.drawCircle()"
   ]
  },
  {
   "cell_type": "code",
   "execution_count": 7,
   "id": "81199251",
   "metadata": {},
   "outputs": [
    {
     "ename": "TypeError",
     "evalue": "person() takes no arguments",
     "output_type": "error",
     "traceback": [
      "\u001b[1;31m---------------------------------------------------------------------------\u001b[0m",
      "\u001b[1;31mTypeError\u001b[0m                                 Traceback (most recent call last)",
      "\u001b[1;32m~\\AppData\\Local\\Temp\\ipykernel_37312\\1457330398.py\u001b[0m in \u001b[0;36m<module>\u001b[1;34m\u001b[0m\n\u001b[0;32m      9\u001b[0m     \u001b[1;32mdef\u001b[0m \u001b[0msay_hello\u001b[0m\u001b[1;33m(\u001b[0m\u001b[0mself\u001b[0m\u001b[1;33m)\u001b[0m\u001b[1;33m:\u001b[0m\u001b[1;33m\u001b[0m\u001b[1;33m\u001b[0m\u001b[0m\n\u001b[0;32m     10\u001b[0m         \u001b[0mprint\u001b[0m\u001b[1;33m(\u001b[0m\u001b[1;34m'Hello, my name is '\u001b[0m\u001b[1;33m,\u001b[0m\u001b[0mself\u001b[0m\u001b[1;33m.\u001b[0m\u001b[0mname\u001b[0m\u001b[1;33m)\u001b[0m\u001b[1;33m\u001b[0m\u001b[1;33m\u001b[0m\u001b[0m\n\u001b[1;32m---> 11\u001b[1;33m \u001b[0mperson1\u001b[0m\u001b[1;33m=\u001b[0m\u001b[0mperson\u001b[0m\u001b[1;33m(\u001b[0m\u001b[1;34m'Ajinkya'\u001b[0m\u001b[1;33m)\u001b[0m\u001b[1;33m\u001b[0m\u001b[1;33m\u001b[0m\u001b[0m\n\u001b[0m\u001b[0;32m     12\u001b[0m \u001b[0mprint\u001b[0m\u001b[1;33m(\u001b[0m\u001b[0mperson1\u001b[0m\u001b[1;33m.\u001b[0m\u001b[0mname\u001b[0m\u001b[1;33m)\u001b[0m\u001b[1;33m\u001b[0m\u001b[1;33m\u001b[0m\u001b[0m\n",
      "\u001b[1;31mTypeError\u001b[0m: person() takes no arguments"
     ]
    }
   ],
   "source": [
    "# Create a class with instance attributes\n",
    "# write a Python program to create a Vehicle class with max_speed and mileage \n",
    "# instance attributes.\n",
    "\n",
    "class person:\n",
    "    def _init_(self, name):\n",
    "        self.name = name\n",
    "\n",
    "    def say_hello(self):\n",
    "        print('Hello, my name is ',self.name)\n",
    "person1=person('Ajinkya')\n",
    "print(person1.name)"
   ]
  },
  {
   "cell_type": "code",
   "execution_count": 8,
   "id": "65b8de78",
   "metadata": {},
   "outputs": [
    {
     "ename": "TypeError",
     "evalue": "vehicle() takes no arguments",
     "output_type": "error",
     "traceback": [
      "\u001b[1;31m---------------------------------------------------------------------------\u001b[0m",
      "\u001b[1;31mTypeError\u001b[0m                                 Traceback (most recent call last)",
      "\u001b[1;32m~\\AppData\\Local\\Temp\\ipykernel_37312\\1496681029.py\u001b[0m in \u001b[0;36m<module>\u001b[1;34m\u001b[0m\n\u001b[0;32m     10\u001b[0m         \u001b[0mprint\u001b[0m\u001b[1;33m(\u001b[0m\u001b[1;34m'The vehicle you entered is:'\u001b[0m\u001b[1;33m,\u001b[0m\u001b[0mself\u001b[0m\u001b[1;33m.\u001b[0m\u001b[0mvehicle\u001b[0m\u001b[1;33m)\u001b[0m\u001b[1;33m\u001b[0m\u001b[1;33m\u001b[0m\u001b[0m\n\u001b[0;32m     11\u001b[0m         \u001b[0mprint\u001b[0m\u001b[1;33m(\u001b[0m\u001b[1;34m'The milage of your vehicle is:'\u001b[0m\u001b[1;33m,\u001b[0m\u001b[0mself\u001b[0m\u001b[1;33m.\u001b[0m\u001b[0mmilage\u001b[0m\u001b[1;33m)\u001b[0m\u001b[1;33m\u001b[0m\u001b[1;33m\u001b[0m\u001b[0m\n\u001b[1;32m---> 12\u001b[1;33m \u001b[0mvehicle1\u001b[0m\u001b[1;33m=\u001b[0m\u001b[0mvehicle\u001b[0m\u001b[1;33m(\u001b[0m\u001b[1;34m'Lamborgini'\u001b[0m\u001b[1;33m,\u001b[0m\u001b[1;36m12\u001b[0m\u001b[1;33m)\u001b[0m\u001b[1;33m\u001b[0m\u001b[1;33m\u001b[0m\u001b[0m\n\u001b[0m\u001b[0;32m     13\u001b[0m \u001b[0mprint\u001b[0m\u001b[1;33m(\u001b[0m\u001b[0mvehicle1\u001b[0m\u001b[1;33m.\u001b[0m\u001b[0mvehicle\u001b[0m\u001b[1;33m)\u001b[0m\u001b[1;33m\u001b[0m\u001b[1;33m\u001b[0m\u001b[0m\n\u001b[0;32m     14\u001b[0m \u001b[0mprint\u001b[0m\u001b[1;33m(\u001b[0m\u001b[0mvehicle1\u001b[0m\u001b[1;33m.\u001b[0m\u001b[0mmilage\u001b[0m\u001b[1;33m)\u001b[0m\u001b[1;33m\u001b[0m\u001b[1;33m\u001b[0m\u001b[0m\n",
      "\u001b[1;31mTypeError\u001b[0m: vehicle() takes no arguments"
     ]
    }
   ],
   "source": [
    "# Create a Bus object that will inherit all of the variables and methods \n",
    "# of the parent Vehicle class and display it.\n",
    "# Vehicle Name: School Volvo. Speed: 180 Mileage: 12\n",
    "\n",
    "class vehicle:\n",
    "    def _init_(self,vehicle,milage):\n",
    "        self.vehicle=vehicle\n",
    "        self.milage=milage\n",
    "    def milage_1(self):\n",
    "        print('The vehicle you entered is:',self.vehicle)\n",
    "        print('The milage of your vehicle is:',self.milage)\n",
    "vehicle1=vehicle('Lamborgini',12)\n",
    "print(vehicle1.vehicle)\n",
    "print(vehicle1.milage)"
   ]
  },
  {
   "cell_type": "code",
   "execution_count": 1,
   "id": "288a00a0",
   "metadata": {},
   "outputs": [],
   "source": [
    "# Class Inheritance\n",
    "#Given:\n",
    "\n",
    "#Create a Bus class that inherits from the Vehicle class. \n",
    "# Give the capacity argument of Bus.seating_capacity() a default value of 50.\n",
    "# The seating capacity of a bus is 50 passengers"
   ]
  },
  {
   "cell_type": "code",
   "execution_count": 6,
   "id": "7fc81fb5",
   "metadata": {},
   "outputs": [
    {
     "name": "stdout",
     "output_type": "stream",
     "text": [
      "Ajinkya\n",
      "Kad\n"
     ]
    }
   ],
   "source": [
    "class person(object):\n",
    "    def __init__(self,first_name,last_name):\n",
    "        self.first_name = first_name\n",
    "        self.last_name = last_name\n",
    "        \n",
    "    def printname(self):\n",
    "        print(f'You have entered: ',self.first_name,self.last_name)\n",
    "        \n",
    "x = person('Ajinkya','Kad')\n",
    "print(x.first_name)\n",
    "print(x.last_name)"
   ]
  },
  {
   "cell_type": "code",
   "execution_count": 9,
   "id": "960db557",
   "metadata": {},
   "outputs": [
    {
     "name": "stdout",
     "output_type": "stream",
     "text": [
      "First Name: Marry\n",
      "Last Name: Gold\n"
     ]
    }
   ],
   "source": [
    "class Data:\n",
    "    def __init__(self,firstname,lastname):\n",
    "        self.firstname=firstname\n",
    "        self.lastname=lastname\n",
    "    def status(self):\n",
    "        return True\n",
    "    def Programming(self):\n",
    "        return True\n",
    "class Data_person(Data):\n",
    "    pass\n",
    "\n",
    "x = Data_person('Marry','Gold')\n",
    "\n",
    "print('First Name:',x.firstname)\n",
    "print('Last Name:',x.lastname)"
   ]
  },
  {
   "cell_type": "markdown",
   "id": "149be42b",
   "metadata": {},
   "source": [
    "Inheritance.\n",
    "\n",
    "\n",
    "   * __Simple(single) Inheritance__ = Parent class and Child Class\n",
    "\n",
    "   * __Multi Level Inheritance__ = Parent Class/Child class ----Child Class\n",
    "\n",
    "   * __Multiple Inheritance__  = Parent class and parent class ----- Child class\n",
    "\n",
    "   * __Hierarchical Inheritance__ = Parent -------- Child class ------ Child."
   ]
  },
  {
   "cell_type": "code",
   "execution_count": 11,
   "id": "9c602bdd",
   "metadata": {},
   "outputs": [
    {
     "name": "stdout",
     "output_type": "stream",
     "text": [
      "This function is parent class.\n",
      "This function is child class.\n"
     ]
    }
   ],
   "source": [
    "# Single Inheritance.\n",
    "\n",
    "class parent:\n",
    "    def func1(self):\n",
    "        print('This function is parent class.')\n",
    "class Child(parent):\n",
    "    def func2(self):\n",
    "        print('This function is child class.')\n",
    "        \n",
    "object=Child()\n",
    "object.func1()\n",
    "object.func2()"
   ]
  },
  {
   "cell_type": "code",
   "execution_count": 13,
   "id": "5abdf649",
   "metadata": {},
   "outputs": [
    {
     "name": "stdout",
     "output_type": "stream",
     "text": [
      "Grandfather name: Rajveer\n",
      "Father name:  Prince\n",
      "Son_name:  Bob\n"
     ]
    }
   ],
   "source": [
    "# Multilevel Inheritance\n",
    "\n",
    "class Grandfather:\n",
    "    def __init__(self,grandfathername):\n",
    "        self.grandfathername=grandfathername\n",
    "        \n",
    "# Intermediate class\n",
    "\n",
    "class Father(Grandfather):\n",
    "    def __init__(self,fathername,grandfathername):\n",
    "        self.fathername=fathername\n",
    "        # involving constructor of grandfather class\n",
    "        Grandfather.__init__(self,grandfathername)\n",
    "        \n",
    "class Son(Father):\n",
    "    def __init__(self,sonname,fathername,grandfathername):\n",
    "        self.sonname=sonname\n",
    "        \n",
    "        # involving constructor of father class\n",
    "        Father.__init__(self,fathername,grandfathername)\n",
    "    def print_name(self):\n",
    "        print('Grandfather name:',self.grandfathername)\n",
    "        print('Father name: ',self.fathername)\n",
    "        print('Son_name: ',self.sonname)\n",
    "s1=Son('Bob','Prince','Rajveer')\n",
    "s1.print_name()"
   ]
  },
  {
   "cell_type": "markdown",
   "id": "03a553b6",
   "metadata": {},
   "source": [
    "# Single inheritance."
   ]
  },
  {
   "cell_type": "code",
   "execution_count": 3,
   "id": "88caa110",
   "metadata": {},
   "outputs": [
    {
     "name": "stdout",
     "output_type": "stream",
     "text": [
      "Amazon  is an Online Commerce store\n",
      "Flipkart is a Online Store\n",
      "olx is an Online Buy Sell Store\n"
     ]
    }
   ],
   "source": [
    "# Single inheritance.\n",
    "\n",
    "class Brands:            # parent class\n",
    "    brand_name_1='Amazon'\n",
    "    brand_name_2='Flipkart'\n",
    "    brand_name_3='olx'\n",
    "    \n",
    "class products(Brands):   # Child class\n",
    "    prod_1='Online Commerce store'\n",
    "    prod_2='Online Store'\n",
    "    prod_3='Online Buy Sell Store'\n",
    "obj_1=products()   # Object Creation\n",
    "\n",
    "print(obj_1.brand_name_1,' is an',obj_1.prod_1)\n",
    "print(obj_1.brand_name_2+' is a',obj_1.prod_2)\n",
    "print(obj_1.brand_name_3+' is an',obj_1.prod_3)"
   ]
  },
  {
   "cell_type": "markdown",
   "id": "a051e4f8",
   "metadata": {},
   "source": [
    "# Multiple Inheritance"
   ]
  },
  {
   "cell_type": "code",
   "execution_count": 6,
   "id": "ab01a447",
   "metadata": {},
   "outputs": [
    {
     "name": "stdout",
     "output_type": "stream",
     "text": [
      "Amazon is an Online Commerce store its popularity is 100\n",
      "Flipkart is an Online Store its popularity is 70\n",
      "olx is an Online Buy Sell Store its popularity is 60\n"
     ]
    }
   ],
   "source": [
    "class Brands:            # parent class\n",
    "    brand_name_1='Amazon'\n",
    "    brand_name_2='Flipkart'\n",
    "    brand_name_3='olx'\n",
    "    \n",
    "class products:   # parent class\n",
    "    prod_1='Online Commerce store'\n",
    "    prod_2='Online Store'\n",
    "    prod_3='Online Buy Sell Store'\n",
    "    \n",
    "class popularity(Brands,products):   # Child class\n",
    "    prod_1_popularity=' 100'\n",
    "    prod_2_popularity=' 70'\n",
    "    prod_3_popularity=' 60'\n",
    "    \n",
    "    \n",
    "obj_1=popularity()\n",
    "\n",
    "\n",
    "print(obj_1.brand_name_1+' is an '+obj_1.prod_1+' its popularity is'+obj_1.prod_1_popularity)\n",
    "print(obj_1.brand_name_2+' is an '+obj_1.prod_2+' its popularity is'+obj_1.prod_2_popularity)\n",
    "print(obj_1.brand_name_3+' is an '+obj_1.prod_3+' its popularity is'+obj_1.prod_3_popularity)"
   ]
  },
  {
   "cell_type": "markdown",
   "id": "cbcc597b",
   "metadata": {},
   "source": [
    "# Multilevel Inheritance"
   ]
  },
  {
   "cell_type": "code",
   "execution_count": 7,
   "id": "4963e52f",
   "metadata": {},
   "outputs": [
    {
     "name": "stdout",
     "output_type": "stream",
     "text": [
      "Amazon is an Online Commerce store its popularity is 100\n",
      "Flipkart is an Online Store its popularity is 70\n",
      "olx is an Online Buy Sell Store its popularity is 60\n"
     ]
    }
   ],
   "source": [
    "class Brands:            # parent class\n",
    "    brand_name_1='Amazon'\n",
    "    brand_name_2='Flipkart'\n",
    "    brand_name_3='olx'\n",
    "    \n",
    "class products(Brands):   # Child class\n",
    "    prod_1='Online Commerce store'\n",
    "    prod_2='Online Store'\n",
    "    prod_3='Online Buy Sell Store'\n",
    "    \n",
    "class popularity(products):   # grand Child class\n",
    "    prod_1_popularity=' 100'\n",
    "    prod_2_popularity=' 70'\n",
    "    prod_3_popularity=' 60'\n",
    "    \n",
    "    \n",
    "obj_1=popularity()\n",
    "print(obj_1.brand_name_1+' is an '+obj_1.prod_1+' its popularity is'+obj_1.prod_1_popularity)\n",
    "print(obj_1.brand_name_2+' is an '+obj_1.prod_2+' its popularity is'+obj_1.prod_2_popularity)\n",
    "print(obj_1.brand_name_3+' is an '+obj_1.prod_3+' its popularity is'+obj_1.prod_3_popularity)\n",
    "    "
   ]
  },
  {
   "cell_type": "markdown",
   "id": "3572128f",
   "metadata": {},
   "source": [
    "# Hierarchical Inheritance"
   ]
  },
  {
   "cell_type": "code",
   "execution_count": 8,
   "id": "92df07b3",
   "metadata": {},
   "outputs": [
    {
     "name": "stdout",
     "output_type": "stream",
     "text": [
      "Amazon is a Best Value\n",
      "Amazon is a  Best Value\n",
      "Amazon is an Online Commerce store and has a popularity of  100 and has  Best Value\n",
      "Amazon is an Online Store and has a popularity of  70 and has  Better Value\n",
      "Amazon is an Online Buy Sell Store and has a popularity of  60 and has  Good Value\n"
     ]
    }
   ],
   "source": [
    "class Brands:            # parent class\n",
    "    brand_name_1='Amazon'\n",
    "    brand_name_2='Flipkart'\n",
    "    brand_name_3='olx'\n",
    "    \n",
    "class products(Brands):   # Child class\n",
    "    prod_1='Online Commerce store'\n",
    "    prod_2='Online Store'\n",
    "    prod_3='Online Buy Sell Store'\n",
    "    \n",
    "class popularity(Brands):   # Child class\n",
    "    prod_1_popularity=' 100'\n",
    "    prod_2_popularity=' 70'\n",
    "    prod_3_popularity=' 60'\n",
    "\n",
    "class value(Brands):    # child class\n",
    "    prod_1_value=' Best Value'\n",
    "    prod_2_value=' Better Value'\n",
    "    prod_3_value=' Good Value'\n",
    "    \n",
    "obj_1=products()\n",
    "obj_2=popularity()\n",
    "obj_3=value()\n",
    "\n",
    "print(obj_3.brand_name_1+' is a'+obj_3.prod_1_value)\n",
    "print(obj_3.brand_name_1+' is a '+obj_3.prod_1_value)\n",
    "print(obj_2.brand_name_1+' is an '+obj_1.prod_1+' and has a popularity of '+obj_2.prod_1_popularity+' and has '+obj_3.prod_1_value)\n",
    "print(obj_2.brand_name_1+' is an '+obj_1.prod_2+' and has a popularity of '+obj_2.prod_2_popularity+' and has '+obj_3.prod_2_value)\n",
    "print(obj_2.brand_name_1+' is an '+obj_1.prod_3+' and has a popularity of '+obj_2.prod_3_popularity+' and has '+obj_3.prod_3_value)\n"
   ]
  },
  {
   "cell_type": "markdown",
   "id": "1debdd0c",
   "metadata": {},
   "source": [
    "# 4 methods of OOPS concept in Real life.\n",
    " * __Inheritance.__\n",
    " * __Polymorphism__\n",
    " * __Encapsulation__\n",
    " * __Abastraction.__"
   ]
  },
  {
   "cell_type": "markdown",
   "id": "b293299c",
   "metadata": {},
   "source": [
    "# Mom and Daugther.\n",
    "# 1. __Inheritance.__\n",
    " * Some properties of mom inherits by her daughter."
   ]
  },
  {
   "cell_type": "markdown",
   "id": "8bdfd828",
   "metadata": {},
   "source": [
    "# 2. Polymorphism\n",
    " * Ex- In school behave like a student. In home behave like a son. In bus behave like a passenger. In shopping mall behave like a customer."
   ]
  },
  {
   "cell_type": "markdown",
   "id": "555cb105",
   "metadata": {},
   "source": [
    "# 3. Encapsulation\n",
    "\n",
    " * Ex- School bag can keep our book, pen, eraser, sharpner so on."
   ]
  },
  {
   "cell_type": "markdown",
   "id": "6b55d1c5",
   "metadata": {},
   "source": [
    "# 4. Abstraction:-\n",
    " * Ex- ATM:- Check Balance, Withdraw cash, Deposite Cash, Print bill"
   ]
  },
  {
   "cell_type": "markdown",
   "id": "1a10efdf",
   "metadata": {},
   "source": [
    "# Object-oriented programming\n",
    " * __Object__ ------------> Instance of Class.\n",
    " * __Class__ -------------> Blueprint of Object.\n",
    " * __Encapulation__ ------> Protecting our Data.\n",
    " * __Polymorphism__ ------> Different behaviours of difference instances.\n",
    " * __Abstraction__--------> Hiding our irrelevant Data.\n",
    " * __Inheritence__ -------> One property of object is acquiring to another property of object."
   ]
  },
  {
   "cell_type": "code",
   "execution_count": 15,
   "id": "bf188e8c",
   "metadata": {},
   "outputs": [
    {
     "name": "stdout",
     "output_type": "stream",
     "text": [
      "Total Bus fare is: 5500.0\n"
     ]
    }
   ],
   "source": [
    "#Create a Bus child class that inherits from the Vehicle class. \n",
    "# The default fare charge of any vehicle is seating capacity * 100. \n",
    "# If Vehicle is Bus instance, we need to add an extra 10% on full fare as a maintenance charge. \n",
    "# So total fare for bus instance will become the final amount = total fare + 10% of the total fare.\n",
    "# Note: The bus seating capacity is 50. so the final fare amount should be 5500. You need to override \n",
    "# the fare() method of a Vehicle class in Bus class.\n",
    "# output:Total Bus fare is: 5500.0\n",
    "\n",
    "\n",
    "# amout=super().fare()\n",
    "# amount+=amout*10/100\n",
    "# return amount\n",
    "\n",
    "\n",
    "class vehicle: \n",
    "    def __init__(self,name,max_speed,mileage,capacity):\n",
    "        self.name=name\n",
    "        self.max_speed=max_speed\n",
    "        self.mileage=mileage\n",
    "        self.capacity=capacity\n",
    "        \n",
    "    def fare(self):\n",
    "        return self.capacity*100\n",
    "    \n",
    "class Bus(vehicle):\n",
    "    def fare(self):\n",
    "        amount= super().fare()\n",
    "        amount+=amount*10/100\n",
    "        return amount\n",
    "    \n",
    "School_bus=Bus('Volvo',80,12,50)\n",
    "print('Total Bus fare is:',School_bus.fare())\n",
    "\n"
   ]
  },
  {
   "cell_type": "code",
   "execution_count": null,
   "id": "0d684d6b",
   "metadata": {},
   "outputs": [],
   "source": [
    "\n",
    "\n"
   ]
  },
  {
   "cell_type": "code",
   "execution_count": null,
   "id": "7a8905c3",
   "metadata": {},
   "outputs": [],
   "source": []
  }
 ],
 "metadata": {
  "kernelspec": {
   "display_name": "Python 3 (ipykernel)",
   "language": "python",
   "name": "python3"
  },
  "language_info": {
   "codemirror_mode": {
    "name": "ipython",
    "version": 3
   },
   "file_extension": ".py",
   "mimetype": "text/x-python",
   "name": "python",
   "nbconvert_exporter": "python",
   "pygments_lexer": "ipython3",
   "version": "3.9.13"
  }
 },
 "nbformat": 4,
 "nbformat_minor": 5
}
