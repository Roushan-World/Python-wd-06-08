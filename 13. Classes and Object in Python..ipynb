{
 "cells": [
  {
   "cell_type": "markdown",
   "id": "8a58ab49",
   "metadata": {},
   "source": [
    "# 13. Classes and Object in Python.\n",
    "\n",
    "\n",
    " * Python is an object oriented programming language.\n",
    " * Unlike procedure-oriented programming, where the main emphasis is  on function, object-oriented programming stresses on objects.\n",
    " * An object is simply a collection of data (variable) and methods (functions) that act on those data.\n",
    " * Similarly, a class is a blueprint for that object.\n",
    " * Like function definitions begin with the def keyword in Python, class definition begin with a class keyword.\n",
    " * The first string inside the class is called docstring and has a brief description of the class.\n",
    " * Although not mandatory; this is highly recommended."
   ]
  },
  {
   "cell_type": "markdown",
   "id": "a14b28d3",
   "metadata": {},
   "source": [
    "# sample of class and object\n",
    "\n",
    "class Student:\n",
    "      school_name= 'ABC school'  ---------------->class variable.\n",
    "      \n",
    "      def __init__ (self,name,age): ------------------> Constructor.\n",
    "      \n",
    "                self.name=name\n",
    "                \n",
    "                self.age=age\n",
    "                \n",
    "                \n",
    "@staticmethod\n",
    "\n",
    "def change_school(cls,name):     #cls=class\n",
    "\n",
    "       print(student.school_name) -----------------> Access the class variable.\n",
    "       \n",
    "       school_name=name -----------------------> Modify the class\n",
    "       \n",
    "x = Student('Anjali',20)\n",
    "\n",
    "Student.school_name('XYZ School')----------------------> call class Method.\n",
    "\n",
    "\n"
   ]
  },
  {
   "cell_type": "code",
   "execution_count": 1,
   "id": "fc0d46a1",
   "metadata": {},
   "outputs": [
    {
     "name": "stdout",
     "output_type": "stream",
     "text": [
      "3.14\n"
     ]
    }
   ],
   "source": [
    "class Data:\n",
    "    \n",
    "    num=3.14\n",
    "    \n",
    "    \n",
    "x = Data()\n",
    "\n",
    "print(x.num)"
   ]
  },
  {
   "cell_type": "code",
   "execution_count": 2,
   "id": "2ff3a50e",
   "metadata": {},
   "outputs": [
    {
     "name": "stdout",
     "output_type": "stream",
     "text": [
      "25\n"
     ]
    }
   ],
   "source": [
    "class jaishri:\n",
    "    age=25\n",
    "    \n",
    "y=jaishri()\n",
    "print(y.age)"
   ]
  },
  {
   "cell_type": "code",
   "execution_count": 14,
   "id": "8b22ada2",
   "metadata": {},
   "outputs": [
    {
     "name": "stdout",
     "output_type": "stream",
     "text": [
      "Jaishri\n",
      "30\n",
      "123456789\n",
      "Female\n",
      "Maharastra\n"
     ]
    }
   ],
   "source": [
    "class person:\n",
    "    def __init__(self,name,age,contact,gender,state):\n",
    "        self.name = name\n",
    "        self.age = age\n",
    "        self.contact = contact\n",
    "        self.gender=gender\n",
    "        self.state=state\n",
    "        \n",
    "x = person('Jaishri',30,123456789,'Female','Maharastra')\n",
    "\n",
    "print(x.name)\n",
    "print(x.age)\n",
    "print(x.contact)\n",
    "print(x.gender)\n",
    "print(x.state)"
   ]
  },
  {
   "cell_type": "markdown",
   "id": "6c106249",
   "metadata": {},
   "source": [
    "# Self Parameter\n",
    "\n",
    "\n",
    " * The self parameter is reference to the current instance of the class, and is used to access variables that belongs to the class.\n",
    " * It does not have to named self, you call it whatever you like, but it has to be the first parameter  of any function in the class.\n",
    " "
   ]
  },
  {
   "cell_type": "code",
   "execution_count": 15,
   "id": "3cb9024a",
   "metadata": {},
   "outputs": [
    {
     "name": "stdout",
     "output_type": "stream",
     "text": [
      "Jaishri\n",
      "30\n",
      "123456789\n",
      "Female\n",
      "Maharastra\n"
     ]
    }
   ],
   "source": [
    "class person:\n",
    "    def __init__(first_parameter,name,age,contact,gender,state):\n",
    "        first_parameter.name = name\n",
    "        first_parameter.age = age\n",
    "        first_parameter.contact = contact\n",
    "        first_parameter.gender=gender\n",
    "        first_parameter.state=state\n",
    "        \n",
    "x = person('Jaishri',30,123456789,'Female','Maharastra')\n",
    "\n",
    "print(x.name)\n",
    "print(x.age)\n",
    "print(x.contact)\n",
    "print(x.gender)\n",
    "print(x.state)\n",
    "    "
   ]
  },
  {
   "cell_type": "markdown",
   "id": "19c369a7",
   "metadata": {},
   "source": [
    "# Create a Class to draw Rectangle."
   ]
  },
  {
   "cell_type": "code",
   "execution_count": 16,
   "id": "22a5127d",
   "metadata": {},
   "outputs": [
    {
     "name": "stdout",
     "output_type": "stream",
     "text": [
      "20\n",
      "10\n",
      "blue\n"
     ]
    },
    {
     "data": {
      "image/png": "[encoded data removed]",
      "text/plain": [
       "<Figure size 640x480 with 1 Axes>"
      ]
     },
     "metadata": {},
     "output_type": "display_data"
    }
   ],
   "source": [
    "import matplotlib.pyplot as plt\n",
    "%matplotlib inline\n",
    "class Rectangle(object):\n",
    "    \n",
    "    # constructor\n",
    "    \n",
    "    def __init__(self,width, height, color):\n",
    "        self.width=width\n",
    "        self.height=height\n",
    "        self.color=color\n",
    "        \n",
    "    # Method\n",
    "    \n",
    "    def drawRectangle(self):\n",
    "        plt.gca().add_patch(plt.Rectangle((0,0),self.width,self.height,fc=self.color))\n",
    "        plt.axis('scaled')\n",
    "        plt.show()\n",
    "        \n",
    "# Creating an object with blue print.\n",
    "one_Rectangle=Rectangle(20,10,'blue')\n",
    "print(one_Rectangle.width)\n",
    "print(one_Rectangle.height)\n",
    "print(one_Rectangle.color)\n",
    "one_Rectangle.drawRectangle()"
   ]
  },
  {
   "cell_type": "code",
   "execution_count": 20,
   "id": "d03d4b39",
   "metadata": {},
   "outputs": [
    {
     "data": {
      "image/png": "[encoded data removed]",
      "text/plain": [
       "<Figure size 640x480 with 1 Axes>"
      ]
     },
     "metadata": {},
     "output_type": "display_data"
    },
    {
     "name": "stdout",
     "output_type": "stream",
     "text": [
      "None\n"
     ]
    }
   ],
   "source": [
    "Two_Rectangle=Rectangle(10,10,'red')\n",
    "print(Two_Rectangle.drawRectangle())"
   ]
  },
  {
   "cell_type": "code",
   "execution_count": 19,
   "id": "fdf4921c",
   "metadata": {},
   "outputs": [
    {
     "data": {
      "image/png": "[encoded data removed]",
      "text/plain": [
       "<Figure size 640x480 with 1 Axes>"
      ]
     },
     "metadata": {},
     "output_type": "display_data"
    },
    {
     "name": "stdout",
     "output_type": "stream",
     "text": [
      "None\n"
     ]
    }
   ],
   "source": [
    "Two_Rectangle=Rectangle(10,5,'yellow')\n",
    "print(Two_Rectangle.drawRectangle())"
   ]
  },
  {
   "cell_type": "markdown",
   "id": "93eb3c5f",
   "metadata": {},
   "source": [
    "# Inheritance.\n",
    "\n",
    "Simple(single) Inheritance = Parent class and Child Class\n",
    "\n",
    "Multi Level Inheritance = Parent Class/Child class ----Child Class\n",
    "\n",
    "Multiple Inheritance = Parent class and parent class ----- Child class\n",
    "\n",
    "Hierarchical Inheritance = Parent -------- Child class ------ Child."
   ]
  },
  {
   "cell_type": "code",
   "execution_count": 4,
   "id": "56fa9995",
   "metadata": {},
   "outputs": [
    {
     "name": "stdout",
     "output_type": "stream",
     "text": [
      "This function is parent class.\n",
      "This function is child class.\n"
     ]
    }
   ],
   "source": [
    "# Single Inheritance.\n",
    "\n",
    "class parent:\n",
    "    def func1(self):\n",
    "        print('This function is parent class.')\n",
    "class Child(parent):\n",
    "    def func2(self):\n",
    "        print('This function is child class.')\n",
    "        \n",
    "object=Child()\n",
    "object.func1()\n",
    "object.func2()"
   ]
  },
  {
   "cell_type": "markdown",
   "id": "d1bf97f5",
   "metadata": {},
   "source": [
    "# Single inheritance:\n",
    "\n",
    "\n",
    "# When child class is derived from only one parent class is called single Inheritance."
   ]
  },
  {
   "cell_type": "code",
   "execution_count": 3,
   "id": "bc90aafc",
   "metadata": {},
   "outputs": [
    {
     "name": "stdout",
     "output_type": "stream",
     "text": [
      "Amazon is an Online Commerce Store\n"
     ]
    }
   ],
   "source": [
    "# Syntax of single inheritance\n",
    "\n",
    "\n",
    "class Brand:             # parent class\n",
    "    brand_name_1='Amazon'\n",
    "    brand_name_2='Flipkart'\n",
    "    brand_name_3='olx'\n",
    "    \n",
    "class product(Brand):     # Child class\n",
    "    prod_1='Online Commerce Store'\n",
    "    prod_2='Online Store'\n",
    "    prod_3='Online Buy and Sell Store'\n",
    "    \n",
    "obje_1=product()\n",
    "print(obje_1.brand_name_1+' is an '+ obje_1.prod_1)"
   ]
  },
  {
   "cell_type": "markdown",
   "id": "712ddef4",
   "metadata": {},
   "source": [
    "\n",
    "# Multiple Inheritance:- When child class is derived or inherited from more than one parent class. This is called multiple inheritance. In multiple inheritance, we have two parent class/base classes and one child class that inherits both parent classes properties."
   ]
  },
  {
   "cell_type": "markdown",
   "id": "ff92717c",
   "metadata": {},
   "source": [
    "# Syntax of multiple inheritance\n",
    "\n",
    "class parent1   #Grandfather/grandmother\n",
    "\n",
    "pass\n",
    "\n",
    "class parent2  #father/mother\n",
    "\n",
    "pass\n",
    "\n",
    "class child(parent1/parent2)\n",
    "\n",
    "pass\n",
    "\n",
    "obj=child()"
   ]
  },
  {
   "cell_type": "code",
   "execution_count": 5,
   "id": "eebe14f9",
   "metadata": {},
   "outputs": [
    {
     "name": "stdout",
     "output_type": "stream",
     "text": [
      "Amazon is an Online Commerce store its popularity is 100\n",
      "Flipkart is an Online Store its popularity is 70\n",
      "olx is an Online Buy Sell Store its popularity is 60\n"
     ]
    }
   ],
   "source": [
    "class Brands:            # parent class\n",
    "    brand_name_1='Amazon'\n",
    "    brand_name_2='Flipkart'\n",
    "    brand_name_3='olx'\n",
    "    \n",
    "class products:   # parent class\n",
    "    prod_1='Online Commerce store'\n",
    "    prod_2='Online Store'\n",
    "    prod_3='Online Buy Sell Store'\n",
    "    \n",
    "class popularity(Brands,products):   # Child class\n",
    "    prod_1_popularity=' 100'\n",
    "    prod_2_popularity=' 70'\n",
    "    prod_3_popularity=' 60'\n",
    "    \n",
    "    \n",
    "obj_1=popularity()\n",
    "print(obj_1.brand_name_1+' is an '+obj_1.prod_1+' its popularity is'+obj_1.prod_1_popularity)\n",
    "print(obj_1.brand_name_2+' is an '+obj_1.prod_2+' its popularity is'+obj_1.prod_2_popularity)\n",
    "print(obj_1.brand_name_3+' is an '+obj_1.prod_3+' its popularity is'+obj_1.prod_3_popularity)"
   ]
  },
  {
   "cell_type": "markdown",
   "id": "00aa378a",
   "metadata": {},
   "source": [
    "# Multilevel Inheritance:- In Multilevel Inheritance, We have one parent class and child class that is derived or inherited from the parent class. When we have a grand- child class that is derived from the child class.\n",
    "\n",
    "\n",
    "Syntax of multilevel Inheritance\n",
    "\n",
    "class A: # parent class\n",
    "\n",
    "pass\n",
    "\n",
    "class B(A): # Child class\n",
    "\n",
    "pass\n",
    "\n",
    "class C(B) # Grand child class\n",
    "\n",
    "pass\n",
    "\n",
    "obj=c()"
   ]
  },
  {
   "cell_type": "code",
   "execution_count": 1,
   "id": "e984eda1",
   "metadata": {},
   "outputs": [
    {
     "name": "stdout",
     "output_type": "stream",
     "text": [
      "Amazon is an Online Commerce store its popularity is 100\n",
      "Flipkart is an Online Store its popularity is 70\n",
      "olx is an Online Buy Sell Store its popularity is 60\n"
     ]
    }
   ],
   "source": [
    "class Brands:            # parent class\n",
    "    brand_name_1='Amazon'\n",
    "    brand_name_2='Flipkart'\n",
    "    brand_name_3='olx'\n",
    "    \n",
    "class products(Brands):   # Child class\n",
    "    prod_1='Online Commerce store'\n",
    "    prod_2='Online Store'\n",
    "    prod_3='Online Buy Sell Store'\n",
    "    \n",
    "class popularity(products):   # grand Child class\n",
    "    prod_1_popularity=' 100'\n",
    "    prod_2_popularity=' 70'\n",
    "    prod_3_popularity=' 60'\n",
    "    \n",
    "    \n",
    "obj_1=popularity()\n",
    "print(obj_1.brand_name_1+' is an '+obj_1.prod_1+' its popularity is'+obj_1.prod_1_popularity)\n",
    "print(obj_1.brand_name_2+' is an '+obj_1.prod_2+' its popularity is'+obj_1.prod_2_popularity)\n",
    "print(obj_1.brand_name_3+' is an '+obj_1.prod_3+' its popularity is'+obj_1.prod_3_popularity)"
   ]
  },
  {
   "cell_type": "markdown",
   "id": "f2f0d6d5",
   "metadata": {},
   "source": [
    "# Hierarchicla Inheritance:- When we derive or inherit more than one child class from one (same) parent class. Then this type of inheritance is called hierarchical Inheritance."
   ]
  },
  {
   "cell_type": "markdown",
   "id": "164c8fbe",
   "metadata": {},
   "source": [
    "# Syntax of herirachical Inheritance.\n",
    "class A: # parent class\n",
    "\n",
    "pass\n",
    "\n",
    "class B(A): # Child class\n",
    "\n",
    "pass\n",
    "\n",
    "class C(A) # Child class\n",
    "\n",
    "pass\n",
    "\n",
    "class D(A) # Child class\n",
    "\n",
    "pass\n",
    "\n",
    "obj_1=B() #Object Creation.\n",
    "\n",
    "obj_1=C()\n",
    "\n",
    "obj_1=D()"
   ]
  },
  {
   "cell_type": "code",
   "execution_count": 3,
   "id": "1663828b",
   "metadata": {},
   "outputs": [
    {
     "name": "stdout",
     "output_type": "stream",
     "text": [
      "Amazon is a Best Value\n",
      "Amazon is a  Best Value\n",
      "Amazon is an Online Commerce store and has a popularity of  100 and has  Best Value\n",
      "Amazon is an Online Store and has a popularity of  70 and has  Better Value\n",
      "Amazon is an Online Buy Sell Store and has a popularity of  60 and has  Good Value\n"
     ]
    }
   ],
   "source": [
    "class Brands:            # parent class\n",
    "    brand_name_1='Amazon'\n",
    "    brand_name_2='Flipkart'\n",
    "    brand_name_3='olx'\n",
    "    \n",
    "class products(Brands):   # Child class\n",
    "    prod_1='Online Commerce store'\n",
    "    prod_2='Online Store'\n",
    "    prod_3='Online Buy Sell Store'\n",
    "    \n",
    "class popularity(Brands):   # Child class\n",
    "    prod_1_popularity=' 100'\n",
    "    prod_2_popularity=' 70'\n",
    "    prod_3_popularity=' 60'\n",
    "\n",
    "class value(Brands):    # child class\n",
    "    prod_1_value=' Best Value'\n",
    "    prod_2_value=' Better Value'\n",
    "    prod_3_value=' Good Value'\n",
    "    \n",
    "obj_1=products()\n",
    "obj_2=popularity()\n",
    "obj_3=value()\n",
    "\n",
    "print(obj_3.brand_name_1+' is a'+obj_3.prod_1_value)\n",
    "print(obj_3.brand_name_1+' is a '+obj_3.prod_1_value)\n",
    "print(obj_2.brand_name_1+' is an '+obj_1.prod_1+' and has a popularity of '+obj_2.prod_1_popularity+' and has '+obj_3.prod_1_value)\n",
    "print(obj_2.brand_name_1+' is an '+obj_1.prod_2+' and has a popularity of '+obj_2.prod_2_popularity+' and has '+obj_3.prod_2_value)\n",
    "print(obj_2.brand_name_1+' is an '+obj_1.prod_3+' and has a popularity of '+obj_2.prod_3_popularity+' and has '+obj_3.prod_3_value)\n"
   ]
  },
  {
   "cell_type": "code",
   "execution_count": 6,
   "id": "af668418",
   "metadata": {},
   "outputs": [
    {
     "name": "stdout",
     "output_type": "stream",
     "text": [
      "Amazon is a Online Commerce store and has a polularity of  100 and has  Best Value\n"
     ]
    }
   ],
   "source": [
    "print(obj_1.brand_name_1+' is a '+obj_1.prod_1+' and has a polularity of '+obj_2.prod_1_popularity+' and has '+obj_3.prod_1_value)\n"
   ]
  },
  {
   "cell_type": "code",
   "execution_count": 11,
   "id": "ab040c2e",
   "metadata": {},
   "outputs": [
    {
     "ename": "TypeError",
     "evalue": "Vehicle() takes no arguments",
     "output_type": "error",
     "traceback": [
      "\u001b[1;31m---------------------------------------------------------------------------\u001b[0m",
      "\u001b[1;31mTypeError\u001b[0m                                 Traceback (most recent call last)",
      "\u001b[1;32m~\\AppData\\Local\\Temp\\ipykernel_23924\\2790754128.py\u001b[0m in \u001b[0;36m<module>\u001b[1;34m\u001b[0m\n\u001b[0;32m      8\u001b[0m         \u001b[0mself\u001b[0m\u001b[1;33m.\u001b[0m\u001b[0mmilege\u001b[0m\u001b[1;33m=\u001b[0m\u001b[0mmilege\u001b[0m\u001b[1;33m\u001b[0m\u001b[1;33m\u001b[0m\u001b[0m\n\u001b[0;32m      9\u001b[0m \u001b[1;33m\u001b[0m\u001b[0m\n\u001b[1;32m---> 10\u001b[1;33m \u001b[0mx\u001b[0m\u001b[1;33m=\u001b[0m\u001b[0mVehicle\u001b[0m\u001b[1;33m(\u001b[0m\u001b[1;34m'Bajaj'\u001b[0m\u001b[1;33m,\u001b[0m\u001b[1;36m380\u001b[0m\u001b[1;33m,\u001b[0m\u001b[1;34m'18km'\u001b[0m\u001b[1;33m)\u001b[0m\u001b[1;33m\u001b[0m\u001b[1;33m\u001b[0m\u001b[0m\n\u001b[0m\u001b[0;32m     11\u001b[0m \u001b[0mprint\u001b[0m\u001b[1;33m(\u001b[0m\u001b[0mx\u001b[0m\u001b[1;33m.\u001b[0m\u001b[0mname\u001b[0m\u001b[1;33m,\u001b[0m\u001b[1;34m'is a one of best company and speed is'\u001b[0m\u001b[1;33m,\u001b[0m\u001b[0mx\u001b[0m\u001b[1;33m.\u001b[0m\u001b[0mspeed\u001b[0m\u001b[1;33m,\u001b[0m\u001b[1;34m'and milege are'\u001b[0m\u001b[1;33m,\u001b[0m\u001b[0mx\u001b[0m\u001b[1;33m.\u001b[0m\u001b[0mmilege\u001b[0m\u001b[1;33m)\u001b[0m\u001b[1;33m\u001b[0m\u001b[1;33m\u001b[0m\u001b[0m\n",
      "\u001b[1;31mTypeError\u001b[0m: Vehicle() takes no arguments"
     ]
    }
   ],
   "source": [
    "# Create a class with instance attribute \n",
    "# write python program to create vehicle class with max_speed and milage instance attribute.\n",
    "\n",
    "class Vehicle:\n",
    "    def _init_(self,name,speed,milege):\n",
    "        self.name=name\n",
    "        self.speed=speed\n",
    "        self.milege=milege\n",
    "\n",
    "x=Vehicle('Bajaj',380,'18km')\n",
    "print(x.name,'is a one of best company and speed is',x.speed,'and milege are',x.milege)"
   ]
  },
  {
   "cell_type": "code",
   "execution_count": 12,
   "id": "d9113db1",
   "metadata": {},
   "outputs": [
    {
     "ename": "TypeError",
     "evalue": "Vehicle() takes no arguments",
     "output_type": "error",
     "traceback": [
      "\u001b[1;31m---------------------------------------------------------------------------\u001b[0m",
      "\u001b[1;31mTypeError\u001b[0m                                 Traceback (most recent call last)",
      "\u001b[1;32m~\\AppData\\Local\\Temp\\ipykernel_23924\\2951949541.py\u001b[0m in \u001b[0;36m<module>\u001b[1;34m\u001b[0m\n\u001b[0;32m     10\u001b[0m         \u001b[0mself\u001b[0m\u001b[1;33m.\u001b[0m\u001b[0mmilege\u001b[0m\u001b[1;33m=\u001b[0m\u001b[0mmilege\u001b[0m\u001b[1;33m\u001b[0m\u001b[1;33m\u001b[0m\u001b[0m\n\u001b[0;32m     11\u001b[0m \u001b[1;33m\u001b[0m\u001b[0m\n\u001b[1;32m---> 12\u001b[1;33m \u001b[0mBus\u001b[0m\u001b[1;33m=\u001b[0m\u001b[0mVehicle\u001b[0m\u001b[1;33m(\u001b[0m\u001b[1;34m'S.T.Antony'\u001b[0m\u001b[1;33m,\u001b[0m\u001b[1;34m'Volvo Bus'\u001b[0m\u001b[1;33m,\u001b[0m\u001b[1;36m180\u001b[0m\u001b[1;33m,\u001b[0m\u001b[1;34m'12km'\u001b[0m\u001b[1;33m)\u001b[0m\u001b[1;33m\u001b[0m\u001b[1;33m\u001b[0m\u001b[0m\n\u001b[0m\u001b[0;32m     13\u001b[0m \u001b[0mprint\u001b[0m\u001b[1;33m(\u001b[0m\u001b[0mBus\u001b[0m\u001b[1;33m.\u001b[0m\u001b[0mschool\u001b[0m\u001b[1;33m,\u001b[0m\u001b[1;34m'in pune'\u001b[0m\u001b[1;33m,\u001b[0m\u001b[0mBus\u001b[0m\u001b[1;33m.\u001b[0m\u001b[0mname\u001b[0m\u001b[1;33m,\u001b[0m\u001b[1;34m'is a one of best company and speed is'\u001b[0m\u001b[1;33m,\u001b[0m\u001b[0mBus\u001b[0m\u001b[1;33m.\u001b[0m\u001b[0mspeed\u001b[0m\u001b[1;33m,\u001b[0m\u001b[1;34m'and milege are'\u001b[0m\u001b[1;33m,\u001b[0m\u001b[0mBus\u001b[0m\u001b[1;33m.\u001b[0m\u001b[0mmilege\u001b[0m\u001b[1;33m)\u001b[0m\u001b[1;33m\u001b[0m\u001b[1;33m\u001b[0m\u001b[0m\n",
      "\u001b[1;31mTypeError\u001b[0m: Vehicle() takes no arguments"
     ]
    }
   ],
   "source": [
    "# Create a Bus object that will inherit all of the variables and methods \n",
    "# of the parent Vehicle class and display it.\n",
    "# Vehicle Name: School Volvo. Speed: 180 Mileage: 12\n",
    "\n",
    "class Vehicle:\n",
    "    def _init_(self,school,name,speed,milege):\n",
    "        self.school=school\n",
    "        self.name=name\n",
    "        self.speed=speed\n",
    "        self.milege=milege\n",
    "     \n",
    "Bus=Vehicle('S.T.Antony','Volvo Bus',180,'12km')  \n",
    "print(Bus.school,'in pune',Bus.name,'is a one of best company and speed is',Bus.speed,'and milege are',Bus.milege)"
   ]
  },
  {
   "cell_type": "code",
   "execution_count": 14,
   "id": "0d0e823a",
   "metadata": {},
   "outputs": [
    {
     "ename": "TypeError",
     "evalue": "Bus() takes no arguments",
     "output_type": "error",
     "traceback": [
      "\u001b[1;31m---------------------------------------------------------------------------\u001b[0m",
      "\u001b[1;31mTypeError\u001b[0m                                 Traceback (most recent call last)",
      "\u001b[1;32m~\\AppData\\Local\\Temp\\ipykernel_23924\\3625091221.py\u001b[0m in \u001b[0;36m<module>\u001b[1;34m\u001b[0m\n\u001b[0;32m     16\u001b[0m         \u001b[1;32mreturn\u001b[0m \u001b[0msuper\u001b[0m\u001b[1;33m(\u001b[0m\u001b[1;33m)\u001b[0m\u001b[1;33m.\u001b[0m \u001b[0mseating_capacity\u001b[0m\u001b[1;33m(\u001b[0m\u001b[0mcapacity\u001b[0m\u001b[1;33m=\u001b[0m\u001b[1;36m50\u001b[0m\u001b[1;33m)\u001b[0m\u001b[1;33m\u001b[0m\u001b[1;33m\u001b[0m\u001b[0m\n\u001b[0;32m     17\u001b[0m \u001b[1;33m\u001b[0m\u001b[0m\n\u001b[1;32m---> 18\u001b[1;33m \u001b[0mSchool_bus\u001b[0m\u001b[1;33m=\u001b[0m\u001b[0mBus\u001b[0m\u001b[1;33m(\u001b[0m\u001b[1;34m'School Volvo'\u001b[0m\u001b[1;33m,\u001b[0m\u001b[1;36m180\u001b[0m\u001b[1;33m,\u001b[0m\u001b[1;36m12\u001b[0m\u001b[1;33m)\u001b[0m\u001b[1;33m\u001b[0m\u001b[1;33m\u001b[0m\u001b[0m\n\u001b[0m\u001b[0;32m     19\u001b[0m \u001b[0mprint\u001b[0m\u001b[1;33m(\u001b[0m\u001b[0mSchool_bus\u001b[0m\u001b[1;33m.\u001b[0m\u001b[0mseating_capacity\u001b[0m\u001b[1;33m(\u001b[0m\u001b[1;33m)\u001b[0m\u001b[1;33m)\u001b[0m\u001b[1;33m\u001b[0m\u001b[1;33m\u001b[0m\u001b[0m\n",
      "\u001b[1;31mTypeError\u001b[0m: Bus() takes no arguments"
     ]
    }
   ],
   "source": [
    "# Create a Bus class that inherits from the Vehicle class. \n",
    "# Give the capacity argument of Bus.seating_capacity() a default value of 50.\n",
    "# The seating capacity of a bus is 50 passengers\n",
    "class Vehicle:\n",
    "    def _init_(self,school,name,speed,milege):\n",
    "        self.school=school\n",
    "        self.name=name\n",
    "        self.speed=speed\n",
    "        self.milege=milege\n",
    "        \n",
    "    def seating_capacity(self,capacity):\n",
    "        return(f'The seating capacity of a {self.name} is {capacity} passengers')\n",
    "    \n",
    "class Bus(Vehicle):\n",
    "    def seating_capacity(self,capacity=50):\n",
    "        return super(). seating_capacity(capacity=50)\n",
    "    \n",
    "School_bus=Bus('School Volvo',180,12)\n",
    "print(School_bus.seating_capacity())"
   ]
  },
  {
   "cell_type": "markdown",
   "id": "b4f0b38b",
   "metadata": {},
   "source": [
    "4 methods of OOPS concept in Real life.\n",
    "Inheritance.\n",
    "Polymorphism\n",
    "Encapsulation\n",
    "Abastraction.\n",
    "Mom and Daugther.\n",
    "1. Inheritance.\n",
    "Some properties of mom inherits by her daughter.\n",
    "2. Polymorphism\n",
    "Ex- In school behave like a student. In home behave like a son. In bus behave like a passenger. In shopping mall behave like a customer.\n",
    "3. Encapsulation\n",
    "Ex- School bag can keep our book, pen, eraser, sharpner so on.\n",
    "\n",
    "4. Abstraction:-\n",
    "Ex- ATM:- Check Balance, Withdraw cash, Deposite Cash, Print bill\n",
    "\n",
    "Object-oriented programming\n",
    "Object -----------> Instance of Class.\n",
    "Class-------------> Blueprint of Object.\n",
    "Encapulation -----> Protecting our Data.\n",
    "Polymorphism------> Different behaviours of difference instances.\n",
    "Abstraction-------> Hiding our irrelevant Data.\n",
    "Inheritence ------> One property of object is acquiring to another property of object."
   ]
  },
  {
   "cell_type": "code",
   "execution_count": 1,
   "id": "56f86c3d",
   "metadata": {},
   "outputs": [
    {
     "name": "stdout",
     "output_type": "stream",
     "text": [
      "White School Volvo Speed: 180 Mileage: 12\n",
      "White Audi Q5 Speed: 240 Mileage: 18\n"
     ]
    }
   ],
   "source": [
    "#Define a property that must have the same value for every class instance (object)\n",
    "#Define a class attribute”color” with a default value white. I.e., Every Vehicle should be white.\n",
    "#Color: White, Vehicle name: School Volvo, Speed: 180, Mileage: 12\n",
    "#Color: White, Vehicle name: Audi Q5, Speed: 240, Mileage: 18\n",
    "\n",
    "\n",
    "class vehicle:\n",
    "    color='White'\n",
    "    def __init__(self,name,max_speed,mileage):\n",
    "        self.name=name\n",
    "        self.max_speed=max_speed\n",
    "        self.mileage=mileage\n",
    "        \n",
    "class Bus(vehicle):\n",
    "    pass\n",
    "\n",
    "class Car(vehicle):\n",
    "    pass\n",
    "\n",
    "School_bus=Bus('School Volvo',180,12)\n",
    "print(School_bus.color,School_bus.name,'Speed:',School_bus.max_speed,\"Mileage:\",School_bus.mileage)\n",
    "\n",
    "car=Car('Audi Q5',240,18)\n",
    "print(car.color,car.name,'Speed:',car.max_speed,'Mileage:',car.mileage)"
   ]
  },
  {
   "cell_type": "code",
   "execution_count": null,
   "id": "cda77f2e",
   "metadata": {},
   "outputs": [],
   "source": [
    "#Define a property that must have the same value for every class instance (object)\n",
    "#Define a class attribute”color” with a default value Black. I.e., Every Vehicle should be Black.\n",
    "#Color: White, Vehicle name: Apachae RTR250, Speed: 280, Mileage: 30\n",
    "#Color: White, Vehicle name: Thar, Speed: 240, Mileage: 20\n"
   ]
  },
  {
   "cell_type": "code",
   "execution_count": 4,
   "id": "7aefe51e",
   "metadata": {},
   "outputs": [
    {
     "name": "stdout",
     "output_type": "stream",
     "text": [
      "Total Bus Fare is: 11000.0\n"
     ]
    }
   ],
   "source": [
    "# Create a Bus child class that inherits from the vehicle class.\n",
    "# The default fare charge of any any vehicle is seating capacity * 100.\n",
    "# If vehicle is Bus instance, we need to add an extra 10% on full fare as a maintenace charge.\n",
    "# so the total bus instance wll become ifnal amount = total_fare +10% of the total fare.\n",
    "# Note: The Bus seating capacity is 50. So the final fare amount should be 5500.\n",
    "\n",
    "class vehicle:\n",
    "    def __init__(self,name,mileage,capacity):\n",
    "        self.name=name\n",
    "        self.mileage=mileage\n",
    "        self.capacity=capacity\n",
    "        \n",
    "    def fare(self):\n",
    "        return self.capacity*100\n",
    "    \n",
    "class Bus(vehicle):\n",
    "    def fare(self):\n",
    "        amount=super().fare()\n",
    "        amount+=amount*10/100\n",
    "        return amount\n",
    "        \n",
    "school_bus=Bus('School volvo',12,100)\n",
    "print('Total Bus Fare is:',school_bus.fare())\n"
   ]
  },
  {
   "cell_type": "code",
   "execution_count": 5,
   "id": "94e8c66e",
   "metadata": {},
   "outputs": [
    {
     "ename": "TypeError",
     "evalue": "Bus() takes no arguments",
     "output_type": "error",
     "traceback": [
      "\u001b[1;31m---------------------------------------------------------------------------\u001b[0m",
      "\u001b[1;31mTypeError\u001b[0m                                 Traceback (most recent call last)",
      "\u001b[1;32m~\\AppData\\Local\\Temp\\ipykernel_14308\\4052515659.py\u001b[0m in \u001b[0;36m<module>\u001b[1;34m\u001b[0m\n\u001b[0;32m     17\u001b[0m         \u001b[0mamount\u001b[0m\u001b[1;33m+=\u001b[0m\u001b[0mamount\u001b[0m\u001b[1;33m*\u001b[0m\u001b[1;36m20\u001b[0m\u001b[1;33m/\u001b[0m\u001b[1;36m100\u001b[0m\u001b[1;33m\u001b[0m\u001b[1;33m\u001b[0m\u001b[0m\n\u001b[0;32m     18\u001b[0m         \u001b[1;32mreturn\u001b[0m \u001b[0mamount\u001b[0m\u001b[1;33m\u001b[0m\u001b[1;33m\u001b[0m\u001b[0m\n\u001b[1;32m---> 19\u001b[1;33m \u001b[0mCar\u001b[0m\u001b[1;33m=\u001b[0m\u001b[0mBus\u001b[0m\u001b[1;33m(\u001b[0m\u001b[1;34m'Mercidies'\u001b[0m\u001b[1;33m,\u001b[0m\u001b[1;36m12\u001b[0m\u001b[1;33m,\u001b[0m\u001b[1;36m100\u001b[0m\u001b[1;33m)\u001b[0m\u001b[1;33m\u001b[0m\u001b[1;33m\u001b[0m\u001b[0m\n\u001b[0m\u001b[0;32m     20\u001b[0m \u001b[0mprint\u001b[0m\u001b[1;33m(\u001b[0m\u001b[0mCar\u001b[0m\u001b[1;33m.\u001b[0m\u001b[0mcolor\u001b[0m\u001b[1;33m,\u001b[0m\u001b[0mCar\u001b[0m\u001b[1;33m.\u001b[0m\u001b[0mname\u001b[0m\u001b[1;33m,\u001b[0m\u001b[1;34m'milege'\u001b[0m\u001b[1;33m,\u001b[0m\u001b[0mCar\u001b[0m\u001b[1;33m.\u001b[0m\u001b[0mmilege\u001b[0m\u001b[1;33m,\u001b[0m\u001b[1;34m'capacity:'\u001b[0m\u001b[1;33m,\u001b[0m\u001b[0mCar\u001b[0m\u001b[1;33m.\u001b[0m\u001b[0mcapacity\u001b[0m\u001b[1;33m)\u001b[0m\u001b[1;33m\u001b[0m\u001b[1;33m\u001b[0m\u001b[0m\n\u001b[0;32m     21\u001b[0m \u001b[0mprint\u001b[0m\u001b[1;33m(\u001b[0m\u001b[1;34m'The fare is'\u001b[0m\u001b[1;33m,\u001b[0m\u001b[0mCar\u001b[0m\u001b[1;33m.\u001b[0m\u001b[0mfare\u001b[0m\u001b[1;33m(\u001b[0m\u001b[1;33m)\u001b[0m\u001b[1;33m)\u001b[0m\u001b[1;33m\u001b[0m\u001b[1;33m\u001b[0m\u001b[0m\n",
      "\u001b[1;31mTypeError\u001b[0m: Bus() takes no arguments"
     ]
    }
   ],
   "source": [
    "# Create a Bus_name='Mercidies' child class that inherits from the vehicle class.\n",
    "# The default fare charge of any any vehicle is seating capacity * 300.\n",
    "# If vehicle is Bus instance, we need to add an extra 20% on full fare as a maintenace charge.\n",
    "# so the total bus instance wll become final amount = total_fare +20% of the total fare. display all\n",
    "# all the featurs.\n",
    "class vehicle:\n",
    "    color='Black'\n",
    "    def _init_(self,name,milege,capacity):\n",
    "        self.name=name\n",
    "        self.milege=milege\n",
    "        self.capacity=capacity\n",
    "    def fare(self):\n",
    "        return self.capacity*300\n",
    "class Bus(vehicle):\n",
    "    def fare(self):\n",
    "        amount=super().fare()\n",
    "        amount+=amount*20/100\n",
    "        return amount\n",
    "Car=Bus('Mercidies',12,100)\n",
    "print(Car.color,Car.name,'milege',Car.milege,'capacity:',Car.capacity)\n",
    "print('The fare is',Car.fare())"
   ]
  },
  {
   "cell_type": "code",
   "execution_count": 9,
   "id": "6c80a740",
   "metadata": {},
   "outputs": [
    {
     "name": "stdout",
     "output_type": "stream",
     "text": [
      "Person name: Jayshree\n",
      "Person age: 37\n",
      "-------------------\n",
      "Student Name: Jayshree\n",
      "Student age: 37\n",
      "Student Section: A\n"
     ]
    }
   ],
   "source": [
    "# Create a Python class Person with attributes: name and age of type string.\n",
    "# Create a display() method that displays the name and age of an object created via the Person class.\n",
    "# Create a child class Student  which inherits from the Person class and which also has a section attribute.\n",
    "# Create a method displayStudent() that displays the name, age and section of an object created via the Student class.\n",
    "# Create a student object via an instantiation on the Student class and then test the displayStudent method.\n",
    "\n",
    "\n",
    "class person:\n",
    "    def __init__(self,name,age):\n",
    "        self.name=name\n",
    "        self.age=age\n",
    "        \n",
    "    def display(self):\n",
    "        print('Person name:',self.name)\n",
    "        print('Person age:',self.age)\n",
    "class student(person):\n",
    "    def __init__(self,name,age,section):\n",
    "        person.__init__ (self,name,age)\n",
    "        self.section=section\n",
    "        \n",
    "    def displayStudent(self):\n",
    "        print('Student Name:',self.name)\n",
    "        print(\"Student age:\",self.age)\n",
    "        print(\"Student Section:\",self.section)\n",
    "        \n",
    "        \n",
    "x= person('Jayshree',37)\n",
    "x.display()\n",
    "print(\"-------------------\")\n",
    "y=student('Jayshree',37,'A')\n",
    "y.displayStudent()\n"
   ]
  },
  {
   "cell_type": "code",
   "execution_count": null,
   "id": "1478a11e",
   "metadata": {},
   "outputs": [],
   "source": [
    "# Define a Circle class allowing to create a circleC (O, r) with center O(a, b) and radius r using the constructor:\n",
    "# def __init__(self,a,b,r):         \n",
    "        #self.a = a         \n",
    "        #self.b = b         \n",
    "        #self.r = r\n",
    "#Define a Area() method of the class which calculates the area of ​​the circle.\n",
    "#- Define a Perimeter() method of the class which allows you to calculate the perimeter of the circle.\n",
    "# - Define a testBelongs() method of the class which allows to test whether a point A(x, y) belongs to the \n",
    "# circle C(O, r) or not."
   ]
  },
  {
   "cell_type": "code",
   "execution_count": 19,
   "id": "c3cef7d9",
   "metadata": {},
   "outputs": [
    {
     "name": "stdout",
     "output_type": "stream",
     "text": [
      "Enter radius: 14\n"
     ]
    },
    {
     "ename": "NameError",
     "evalue": "name 'r' is not defined",
     "output_type": "error",
     "traceback": [
      "\u001b[1;31m---------------------------------------------------------------------------\u001b[0m",
      "\u001b[1;31mNameError\u001b[0m                                 Traceback (most recent call last)",
      "\u001b[1;32m~\\AppData\\Local\\Temp\\ipykernel_14308\\3447960592.py\u001b[0m in \u001b[0;36m<module>\u001b[1;34m\u001b[0m\n\u001b[0;32m      9\u001b[0m \u001b[1;33m\u001b[0m\u001b[0m\n\u001b[0;32m     10\u001b[0m \u001b[0ma\u001b[0m\u001b[1;33m=\u001b[0m\u001b[0mint\u001b[0m\u001b[1;33m(\u001b[0m\u001b[0minput\u001b[0m\u001b[1;33m(\u001b[0m\u001b[1;34m'Enter radius: '\u001b[0m\u001b[1;33m)\u001b[0m\u001b[1;33m)\u001b[0m\u001b[1;33m\u001b[0m\u001b[1;33m\u001b[0m\u001b[0m\n\u001b[1;32m---> 11\u001b[1;33m \u001b[0mobj\u001b[0m\u001b[1;33m=\u001b[0m\u001b[0mcircle\u001b[0m\u001b[1;33m(\u001b[0m\u001b[0mr\u001b[0m\u001b[1;33m)\u001b[0m\u001b[1;33m\u001b[0m\u001b[1;33m\u001b[0m\u001b[0m\n\u001b[0m\u001b[0;32m     12\u001b[0m \u001b[0mprint\u001b[0m\u001b[1;33m(\u001b[0m\u001b[1;34m'Area of circle is:'\u001b[0m\u001b[1;33m,\u001b[0m\u001b[0mobj\u001b[0m\u001b[1;33m.\u001b[0m\u001b[0marea\u001b[0m\u001b[1;33m(\u001b[0m\u001b[1;33m)\u001b[0m\u001b[1;33m)\u001b[0m\u001b[1;33m\u001b[0m\u001b[1;33m\u001b[0m\u001b[0m\n",
      "\u001b[1;31mNameError\u001b[0m: name 'r' is not defined"
     ]
    }
   ],
   "source": [
    "# find the area using oops concept.\n",
    "\n",
    "class circle:\n",
    "    def __init__(self,radius):\n",
    "        self.radius=radius\n",
    "        \n",
    "    def area(self):\n",
    "        return (22/7*radius**2)\n",
    "    \n",
    "a=int(input('Enter radius: '))\n",
    "obj=circle(r)\n",
    "print('Area of circle is:',obj.area())"
   ]
  },
  {
   "cell_type": "code",
   "execution_count": null,
   "id": "9154a238",
   "metadata": {},
   "outputs": [],
   "source": []
  }
 ],
 "metadata": {
  "kernelspec": {
   "display_name": "Python 3 (ipykernel)",
   "language": "python",
   "name": "python3"
  },
  "language_info": {
   "codemirror_mode": {
    "name": "ipython",
    "version": 3
   },
   "file_extension": ".py",
   "mimetype": "text/x-python",
   "name": "python",
   "nbconvert_exporter": "python",
   "pygments_lexer": "ipython3",
   "version": "3.9.13"
  }
 },
 "nbformat": 4,
 "nbformat_minor": 5
}
