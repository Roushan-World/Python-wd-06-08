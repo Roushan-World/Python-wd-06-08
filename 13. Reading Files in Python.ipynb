{
 "cells": [
  {
   "cell_type": "markdown",
   "id": "aec5e054",
   "metadata": {},
   "source": [
    "# 13. Reading Files in Python\n",
    "\n",
    "\n",
    " * To read a text file in Python, you follow these steps:\n",
    "     \n",
    "     * First, open a text file for reading by using the __Open()__ functions.\n",
    "     * Second, read text from the text file using the file __read(),readline(),__ Or __readlines()__ method of the file object.\n",
    "     * Third, close the file using the file __close()__ method. This frees up resources and ensures consistency across different python versions."
   ]
  },
  {
   "cell_type": "markdown",
   "id": "bd63225d",
   "metadata": {},
   "source": [
    "  __Method__ | __Description__\n",
    "  \n",
    "  Writable()  | Returns whether the file can be written to or not.\n",
    "  \n",
    "  readable()  | Returns whether the file stream can be read or not.\n",
    "  \n",
    "  read()      | Returns the file content.\n",
    "  \n",
    "  readline()  | Returns one line from the file.\n",
    "  \n",
    "  readlines() | Returns a list of lines from the file.\n",
    "  \n",
    "  write()     | Writes the specified string to the file.\n",
    "  \n",
    "  writelines()| Writes a list of strings to the file.\n",
    "  \n",
    "  close()     | Closes the file.\n",
    "  \n",
    "  flush()     | Flushed the internal buffer.\n",
    "  \n",
    "  seek()      | Change the file position.\n",
    "  \n",
    "  tell()      | Returns the current file.\n",
    "  \n",
    "  truncate()  | Resizes the file to a specified."
   ]
  },
  {
   "cell_type": "code",
   "execution_count": 1,
   "id": "4ab0d2f7",
   "metadata": {},
   "outputs": [
    {
     "data": {
      "text/plain": [
       "'When the British mission proposed two plans for transfer of power, there was considerable opposition within the Congress to both. The plan of 16 May 1946 proposed a loose federation with extensive provincial autonomy, and the \"grouping\" of provinces based on religious-majority. The plan of 16 May 1946 proposed the partition of India on religious lines, with over 565 princely states free to choose between independence or accession to either dominion. The League approved both plans while the Congress flatly rejected the proposal of 16 May. Gandhi criticised the 16 May proposal as being inherently divisive, but Patel, realising that rejecting the proposal would mean that only the League would be invited to form a government, lobbied the Congress Working Committee hard to give its assent to the 16 May proposal. Patel engaged in discussions with the British envoys Sir Stafford Cripps and Lord Pethick-Lawrence and obtained an assurance that the \"grouping\" clause would not be given practical force, Patel converted Jawaharlal Nehru, Rajendra Prasad, and Rajagopalachari to accept the plan. When the League retracted its approval of the 16 May plan, the viceroy Lord Wavell invited the Congress to form the government. Under Nehru, who was styled the \"Vice President of the Viceroy\\'s Executive Council\", Patel took charge of the departments of home affairs and information and broadcasting. He moved into a government house on Aurangzeb Road in Delhi, which would be his home until his death in 1950.[54]\\n\\nVallabhbhai Patel was one of the first Congress leaders to accept the partition of India as a solution to the rising Muslim separatist movement led by Muhammad Ali Jinnah. He had been outraged by Jinnah\\'s Direct Action campaign, which had provoked communal violence across India, and by the viceroy\\'s vetoes of his home department\\'s plans to stop the violence on the grounds of constitutionality. Patel severely criticised the viceroy\\'s induction of League ministers into the government, and the revalidation of the grouping scheme by the British government without Congress\\'s approval. Although further outraged at the League\\'s boycott of the assembly and non-acceptance of the plan of 16 May despite entering government, he was also aware that Jinnah did enjoy popular support amongst Muslims, and that an open conflict between him and the nationalists could degenerate into a Hindu-Muslim civil war of disastrous consequences. The continuation of a divided and weak central government would, in Patel\\'s mind, result in the wider fragmentation of India by encouraging more than 600 princely states towards independence.[55] In December 1946 and January 1947, Patel worked with civil servant V. P. Menon on the latter\\'s suggestion for a separate dominion of Pakistan created out of Muslim-majority provinces. Communal violence in Bengal and Punjab in January and March 1947 further convinced Patel of the soundness of partition. Patel, a fierce critic of Jinnah\\'s demand that the Hindu-majority areas of Punjab and Bengal be included in a Muslim state, obtained the partition of those provinces, thus blocking any possibility of their inclusion in Pakistan. Patel\\'s decisiveness on the partition of Punjab and Bengal had won him many supporters and admirers amongst the Indian public, which had tired of the League\\'s tactics, but he was criticised by Gandhi, Nehru, secular Muslims, and socialists for a perceived eagerness to do so. When Lord Louis Mountbatten formally proposed the plan on 3 June 1947, Patel gave his approval and lobbied Nehru and other Congress leaders to accept the proposal. Knowing Gandhi\\'s deep anguish regarding proposals of partition, Patel engaged him in frank discussion in private meetings over what he saw as the practical unworkability of any Congressâ€“League coalition, the rising violence, and the threat of civil war. At the All India Congress Committee meeting called to vote on the proposal, Patel said:\\n\\nI fully appreciate the fears of our brothers from [the Muslim-majority areas]. Nobody likes the division of India and my heart is heavy. But the choice is between one division and many divisions. We must face facts. We cannot give way to emotionalism and sentimentality. The Working Committee has not acted out of fear. But I am afraid of one thing, that all our toil and hard work of these many years might go waste or prove unfruitful. My nine months in office has completely disillusioned me regarding the supposed merits of the Cabinet Mission Plan. Except for a few honourable exceptions, Muslim officials from the top down to the chaprasis (peons or servants) are working for the League. The communal veto given to the League in the Mission Plan would have blocked India\\'s progress at every stage. Whether we like it or not, de facto Pakistan already exists in the Punjab and Bengal. Under the circumstances I would prefer a de jure Pakistan, which may make the League more responsible. Freedom is coming. We have 75 to 80 percent of India, which we can make strong with our own genius. The League can develop the rest of the country.[56]\\n\\nAfter Gandhi rejected and Congress approved the plan, Patel represented India on the Partition Council,[57][58] where he oversaw the division of public assets, and selected the Indian council of ministers with Nehru.[59] However, neither Patel nor any other Indian leader had foreseen the intense violence and population transfer that would take place with partition. Patel took the lead in organising relief and emergency supplies, establishing refugee camps, and visiting the border areas with Pakistani leaders to encourage peace. Despite these efforts, the death toll is estimated at between 500,000 and 1 million people.[60] The estimated number of refugees in both countries exceeds 15 million.[61] Understanding that Delhi and Punjab policemen, accused of organising attacks on Muslims, were personally affected by the tragedies of partition, Patel called out the Indian Army with South Indian regiments to restore order, imposing strict curfews and shoot-on-sight orders. Visiting the Nizamuddin Auliya Dargah area in Delhi, where thousands of Delhi Muslims feared attacks, he prayed at the shrine, visited the people, and reinforced the presence of police. He suppressed from the press reports of atrocities in Pakistan against Hindus and Sikhs to prevent retaliatory violence. Establishing the Delhi Emergency Committee to restore order and organising relief efforts for refugees in the capital, Patel publicly warned officials against partiality and neglect. When reports reached Patel that large groups of Sikhs were preparing to attack Muslim convoys heading for Pakistan, Patel hurried to Amritsar and met Sikh and Hindu leaders. Arguing that attacking helpless people was cowardly and dishonourable, Patel emphasised that Sikh actions would result in further attacks against Hindus and Sikhs in Pakistan. He assured the community leaders that if they worked to establish peace and order and guarantee the safety of Muslims, the Indian government would react forcefully to any failures of Pakistan to do the same. Additionally, Patel addressed a massive crowd of approximately 200,000 refugees who had surrounded his car after the meetings:\\n\\nHere, in this same city, the blood of Hindus, Sikhs and Muslims mingled in the bloodbath of Jallianwala Bagh. I am grieved to think that things have come to such a pass that no Muslim can go about in Amritsar and no Hindu or Sikh can even think of living in Lahore. The butchery of innocent and defenceless men, women and children does not behove brave men ... I am quite certain that India\\'s interest lies in getting all her men and women across the border and sending out all Muslims from East Punjab. I have come to you with a specific appeal. Pledge the safety of Muslim refugees crossing the city. Any obstacles or hindrances will only worsen the plight of our refugees who are already performing prodigious feats of endurance. If we have to fight, we must fight clean. Such a fight must await an appropriate time and conditions and you must be watchful in choosing your ground. To fight against the refugees is no fight at all. No laws of humanity or war among honourable men permit the murder of people who have sought shelter and protection. Let there be truce for three months in which both sides can exchange their refugees. This sort of truce is permitted even by laws of war. Let us take the initiative in breaking this vicious circle of attacks and counter-attacks. Hold your hands for a week and see what happens. Make way for the refugees with your own force of volunteers and let them deliver the refugees safely at our frontier.[62]\\n\\nFollowing his dialogue with community leaders and his speech, no further attacks occurred against Muslim refugees, and a wider peace and order was soon re-established over the entire area. However, Patel was criticised by Nehru, secular Muslims, and Gandhi over his alleged wish to see Muslims from other parts of India depart. While Patel vehemently denied such allegations, the acrimony with Maulana Azad and other secular Muslim leaders increased when Patel refused to dismiss Delhi\\'s Sikh police commissioner, who was accused of discrimination. Hindu and Sikh leaders also accused Patel and other leaders of not taking Pakistan sufficiently to task over the attacks on their communities there, and Muslim leaders further criticised him for allegedly neglecting the needs of Muslims leaving for Pakistan, and concentrating resources for incoming Hindu and Sikh refugees. Patel clashed with Nehru and Azad over the allocation of houses in Delhi vacated by Muslims leaving for Pakistan; Nehru and Azad desired to allocate them for displaced Muslims, while Patel argued that no government professing secularism must make such exclusions. However, Patel was publicly defended by Gandhi and received widespread admiration and support for speaking frankly on communal issues and acting decisively and resourcefully to quell disorder and violence.[63]\\n\\nPolitical integration of independent India\\nMain article: Political integration of India\\nAs the first Home Minister, Patel played the key role in the integration of the princely states into the Indian federation.[64] This achievement formed the cornerstone of Patel\\'s popularity in the post-independence era. Even today he is remembered as the man who united India. He is, in this regard, compared to Otto von Bismarck who unified the many German states in 1871.[65] Under the plan of 3 June, more than 565 princely states were given the option of joining either India or Pakistan, or choosing independence. Indian nationalists and large segments of the public feared that if these states did not accede, most of the people and territory would be fragmented. The Congress, as well as senior British officials, considered Patel the best man for the task of achieving conquest of the princely states by the Indian dominion. Gandhi had said to Patel, \"The problem of the States is so difficult that you alone can solve it\".[66] Patel was considered a statesman of integrity with the practical acumen and resolve to accomplish a monumental task. He asked V. P. Menon, a senior civil servant with whom he had worked on the partition of India, to become his right-hand man as chief secretary of the States Ministry. On 6 August 1947, Patel began lobbying the princes, attempting to make them receptive towards dialogue with the future government and forestall potential conflicts. Patel used social meetings and unofficial surroundings to engage most of the monarchs, inviting them to lunch and tea at his home in Delhi. At these meetings, Patel explained that there was no inherent conflict between the Congress and the princely order. Patel invoked the patriotism of India\\'s monarchs, asking them to join in the independence of their nation and act as responsible rulers who cared about the future of their people. He persuaded the princes of 565 states of the impossibility of independence from the Indian republic, especially in the presence of growing opposition from their subjects. He proposed favourable terms for the merger, including the creation of privy purses for the rulers\\' descendants. While encouraging the rulers to act out of patriotism, Patel did not rule out force. Stressing that the princes would need to accede to India in good faith, he set a deadline of 15 August 1947 for them to sign the instrument of accession document. All but three of the states willingly merged into the Indian union; only Jammu and Kashmir, Junagadh, and Hyderabad did not fall into his basket.[67]'"
      ]
     },
     "execution_count": 1,
     "metadata": {},
     "output_type": "execute_result"
    }
   ],
   "source": [
    "# Reading the txt file.\n",
    "\n",
    "\n",
    "file_name=\"Sardar_Vallabhbhai_Patel.txt\"\n",
    "file=open(file_name,\"r\")\n",
    "content=file.read()\n",
    "content"
   ]
  },
  {
   "cell_type": "code",
   "execution_count": null,
   "id": "57c54a5b",
   "metadata": {},
   "outputs": [],
   "source": []
  }
 ],
 "metadata": {
  "kernelspec": {
   "display_name": "Python 3 (ipykernel)",
   "language": "python",
   "name": "python3"
  },
  "language_info": {
   "codemirror_mode": {
    "name": "ipython",
    "version": 3
   },
   "file_extension": ".py",
   "mimetype": "text/x-python",
   "name": "python",
   "nbconvert_exporter": "python",
   "pygments_lexer": "ipython3",
   "version": "3.9.13"
  }
 },
 "nbformat": 4,
 "nbformat_minor": 5
}
