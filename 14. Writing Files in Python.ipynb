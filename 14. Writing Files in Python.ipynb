{
 "cells": [
  {
   "cell_type": "markdown",
   "id": "27fd0254",
   "metadata": {},
   "source": [
    "# 14. Writing Files in Python\n",
    "\n",
    "\n",
    " * To Write a text file in Python, You follows these steps:\n",
    " \n",
    "   * First, Open the text file for witing (or appending) using the __Open()__ function.\n",
    "   * Second, write to the text file using the __write() or writelines()__ method.\n",
    "   * Third, close the file using the __close()__ method."
   ]
  },
  {
   "cell_type": "markdown",
   "id": "e3b968f0",
   "metadata": {},
   "source": [
    "__Character__ ------------------- __Functions__\n",
    "\n",
    " __r__-------------------------> Open file for reading only. Starts reading from beginning of file. This default mode.\n",
    " \n",
    " __rb__------------------------> Open a file for reading only in binary formate. Starts reading from beginning of file.\n",
    " \n",
    " __r+__------------------------> Open file for reading and Writing. File pointer placed at beginning of the file.\n",
    " \n",
    " __w__-------------------------> Open file for writing only. File pointer placed at beginning of the file.Overwrites existing file and creates a new one if it does not exits.\n",
    " \n",
    " __wb__------------------------> Same as __w__ but opens in binary mode.\n",
    " \n",
    " __w+__------------------------> Same as __w__ but also allows to read from file.\n",
    " \n",
    " __wb+__-----------------------> Same as __wb__ but also allows to read from file.\n",
    " \n",
    " __a__-------------------------> Open a file for appending. starts writing at the end of file. Creates a new file if file does not exist.\n",
    " \n",
    " __ab__------------------------> Same as __a__ but in binary format. Creates a new file if file does not exist.\n",
    " \n",
    " __a+__------------------------> Same as __a__ but also open for reading.\n",
    " \n",
    " __ab+__-----------------------> Same as __ab__ but also open for reading.\n",
    " "
   ]
  },
  {
   "cell_type": "code",
   "execution_count": 8,
   "id": "614ac2b3",
   "metadata": {},
   "outputs": [],
   "source": [
    "# writing lines to a file.\n",
    "\n",
    "fname='pcr_file.txt'\n",
    "with open(fname,'w') as f:\n",
    "    f.write('My name is Ajinkya.\\n')\n",
    "    f.write('I am 21 years old.\\n')\n",
    "    f.write('My hobby is to Travelling.\\n')\n",
    "    f.write('You can contact me on ajinkya@123gamil.com')\n",
    "    "
   ]
  },
  {
   "cell_type": "code",
   "execution_count": 9,
   "id": "2e1b1ab8",
   "metadata": {},
   "outputs": [
    {
     "name": "stdout",
     "output_type": "stream",
     "text": [
      "My name is Ajinkya.\n",
      "I am 21 years old.\n",
      "My hobby is to Travelling.\n",
      "You can contact me on ajinkya@123gamil.com\n"
     ]
    }
   ],
   "source": [
    "with open(fname,'r') as f:\n",
    "    content=f.read()\n",
    "    print(content)"
   ]
  },
  {
   "cell_type": "code",
   "execution_count": 12,
   "id": "2380e6ee",
   "metadata": {},
   "outputs": [
    {
     "name": "stdout",
     "output_type": "stream",
     "text": [
      "Python\n",
      "\n",
      "Java\n",
      "\n",
      "JavaScript\n",
      "\n",
      "C\n",
      "\n",
      "C++ ,\n",
      "These are Programming languages.\n"
     ]
    }
   ],
   "source": [
    "added_text=['Python\\n','Java\\n','JavaScript\\n','C\\n','C++ ,', 'These are Programming languages.']\n",
    "\n",
    "fname='sample.txt'\n",
    "with open(fname,'w') as f:\n",
    "    for line in added_text:\n",
    "        print(line)\n",
    "        f.write(line)\n"
   ]
  },
  {
   "cell_type": "code",
   "execution_count": 14,
   "id": "43cbfcac",
   "metadata": {},
   "outputs": [
    {
     "name": "stdout",
     "output_type": "stream",
     "text": [
      "Python\n",
      "\n",
      "Java\n",
      "\n",
      "JavaScript\n",
      "\n",
      "C\n",
      "\n",
      "C++ ,\n",
      "These are Programming languages.\n"
     ]
    }
   ],
   "source": [
    "added_text=['Python\\n','Java\\n','JavaScript\\n','C\\n','C++ ,', 'These are Programming languages.']\n",
    "\n",
    "fname='sample.xlsx'\n",
    "with open(fname,'w') as f:\n",
    "    for line in added_text:\n",
    "        print(line)\n",
    "        f.write(line)"
   ]
  },
  {
   "cell_type": "markdown",
   "id": "b8bad6b1",
   "metadata": {},
   "source": [
    "# Appending files"
   ]
  },
  {
   "cell_type": "code",
   "execution_count": 15,
   "id": "fb6483bf",
   "metadata": {},
   "outputs": [
    {
     "name": "stdout",
     "output_type": "stream",
     "text": [
      "Ajinkya,Amit\n"
     ]
    }
   ],
   "source": [
    "new_file='sample.xlsx'\n",
    "with open(new_file,'w') as f:\n",
    "    f.write('Ajinkya,Amit')\n",
    "with open (new_file,'r') as f:\n",
    "    print(f.read())                   #overwrite"
   ]
  },
  {
   "cell_type": "markdown",
   "id": "6ebb1d88",
   "metadata": {},
   "source": [
    "# other modes"
   ]
  },
  {
   "cell_type": "code",
   "execution_count": 17,
   "id": "af830084",
   "metadata": {},
   "outputs": [
    {
     "name": "stdout",
     "output_type": "stream",
     "text": [
      "\n"
     ]
    }
   ],
   "source": [
    "fname='sample_1.txt'\n",
    "with open(fname,'a+') as f:\n",
    "    f.write('My self Pune.\\n')\n",
    "    f.write('I belong to Maharashtra.\\n')\n",
    "    f.write('My favoriate food is misal')\n",
    "    print(f.read())"
   ]
  },
  {
   "cell_type": "code",
   "execution_count": 18,
   "id": "2235daaa",
   "metadata": {},
   "outputs": [
    {
     "name": "stdout",
     "output_type": "stream",
     "text": [
      "My self Pune.\n",
      "I belong to Maharashtra.\n",
      "My favoriate food is misal\n"
     ]
    }
   ],
   "source": [
    "with open(fname,'r') as f:\n",
    "    content=f.read()\n",
    "    print(content)"
   ]
  },
  {
   "cell_type": "code",
   "execution_count": null,
   "id": "4280483e",
   "metadata": {},
   "outputs": [],
   "source": []
  }
 ],
 "metadata": {
  "kernelspec": {
   "display_name": "Python 3 (ipykernel)",
   "language": "python",
   "name": "python3"
  },
  "language_info": {
   "codemirror_mode": {
    "name": "ipython",
    "version": 3
   },
   "file_extension": ".py",
   "mimetype": "text/x-python",
   "name": "python",
   "nbconvert_exporter": "python",
   "pygments_lexer": "ipython3",
   "version": "3.9.13"
  }
 },
 "nbformat": 4,
 "nbformat_minor": 5
}
