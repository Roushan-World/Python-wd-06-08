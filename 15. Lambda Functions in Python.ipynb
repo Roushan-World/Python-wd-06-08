{
 "cells": [
  {
   "cell_type": "markdown",
   "id": "0dc7766c",
   "metadata": {},
   "source": [
    "# 15. Lambda Functions in Python\n",
    "\n",
    "\n",
    " * A __lambda__ function is a small anonymous function.\n",
    " * A __lambda__ function can take any number of arguments, but can only have one expression.\n",
    " * The expression is evaluated and returned.\n",
    " * __Lambda__ functions can be used wherever function objects are required.\n",
    " * __Lambda__ expression(or lambda functions) are essentially blocks of code that can be assigned to variables, passed as an arguments, or returned from a function call, in langauges that support high- order functions.\n",
    " * They have been part of programming languages for quire some time.\n",
    " * The main role of lambda function is better described in the scenarios when we employ them anonymously inside another function.\n",
    " * n Python, the __lambda__ function can be utilized as an arguments to the high functions as argument."
   ]
  },
  {
   "cell_type": "code",
   "execution_count": 1,
   "id": "4dd05da4",
   "metadata": {},
   "outputs": [
    {
     "name": "stdout",
     "output_type": "stream",
     "text": [
      "20\n"
     ]
    }
   ],
   "source": [
    "# Define a function using 'def'\n",
    "\n",
    "def f(x):\n",
    "    return x+10\n",
    "print(f(10))"
   ]
  },
  {
   "cell_type": "code",
   "execution_count": 2,
   "id": "0a647789",
   "metadata": {},
   "outputs": [
    {
     "data": {
      "text/plain": [
       "20"
      ]
     },
     "execution_count": 2,
     "metadata": {},
     "output_type": "execute_result"
    }
   ],
   "source": [
    "# Define the some value function using 'lambda'\n",
    "\n",
    "(lambda x:x+10)(10)"
   ]
  },
  {
   "cell_type": "code",
   "execution_count": 3,
   "id": "00ec7c9d",
   "metadata": {},
   "outputs": [
    {
     "data": {
      "text/plain": [
       "10.0"
      ]
     },
     "execution_count": 3,
     "metadata": {},
     "output_type": "execute_result"
    }
   ],
   "source": [
    "(lambda y:y/2)(20)"
   ]
  },
  {
   "cell_type": "code",
   "execution_count": 4,
   "id": "320f02fc",
   "metadata": {},
   "outputs": [
    {
     "data": {
      "text/plain": [
       "100000000000000000000"
      ]
     },
     "execution_count": 4,
     "metadata": {},
     "output_type": "execute_result"
    }
   ],
   "source": [
    "10**20"
   ]
  },
  {
   "cell_type": "code",
   "execution_count": 5,
   "id": "b4df6715",
   "metadata": {},
   "outputs": [
    {
     "name": "stdout",
     "output_type": "stream",
     "text": [
      "The Exponent of 2 and 4 is 16\n"
     ]
    }
   ],
   "source": [
    "def f(x,y):\n",
    "    return x**y\n",
    "print('The Exponent of {} and {} is'.format(2,4),f(2,4))"
   ]
  },
  {
   "cell_type": "code",
   "execution_count": 6,
   "id": "a00756af",
   "metadata": {},
   "outputs": [
    {
     "name": "stdout",
     "output_type": "stream",
     "text": [
      "The Exponent of 2 and 4 is 16\n"
     ]
    }
   ],
   "source": [
    "print(f'The Exponent of 2 and 4 is {(lambda x,y: x**y)(2,4)}')"
   ]
  },
  {
   "cell_type": "code",
   "execution_count": null,
   "id": "a9009e47",
   "metadata": {},
   "outputs": [],
   "source": []
  }
 ],
 "metadata": {
  "kernelspec": {
   "display_name": "Python 3 (ipykernel)",
   "language": "python",
   "name": "python3"
  },
  "language_info": {
   "codemirror_mode": {
    "name": "ipython",
    "version": 3
   },
   "file_extension": ".py",
   "mimetype": "text/x-python",
   "name": "python",
   "nbconvert_exporter": "python",
   "pygments_lexer": "ipython3",
   "version": "3.9.13"
  }
 },
 "nbformat": 4,
 "nbformat_minor": 5
}
