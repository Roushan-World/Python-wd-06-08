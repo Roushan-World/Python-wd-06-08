{
 "cells": [
  {
   "cell_type": "markdown",
   "id": "0dc7766c",
   "metadata": {},
   "source": [
    "# 15. Lambda Functions in Python\n",
    "\n",
    "\n",
    " * A __lambda__ function is a small anonymous function.\n",
    " * A __lambda__ function can take any number of arguments, but can only have one expression.\n",
    " * The expression is evaluated and returned.\n",
    " * __Lambda__ functions can be used wherever function objects are required.\n",
    " * __Lambda__ expression(or lambda functions) are essentially blocks of code that can be assigned to variables, passed as an arguments, or returned from a function call, in langauges that support high- order functions.\n",
    " * They have been part of programming languages for quire some time.\n",
    " * The main role of lambda function is better described in the scenarios when we employ them anonymously inside another function.\n",
    " * n Python, the __lambda__ function can be utilized as an arguments to the high functions as argument."
   ]
  },
  {
   "cell_type": "code",
   "execution_count": 1,
   "id": "4dd05da4",
   "metadata": {},
   "outputs": [
    {
     "name": "stdout",
     "output_type": "stream",
     "text": [
      "20\n"
     ]
    }
   ],
   "source": [
    "# Define a function using 'def'\n",
    "\n",
    "def f(x):\n",
    "    return x+10\n",
    "print(f(10))"
   ]
  },
  {
   "cell_type": "code",
   "execution_count": 2,
   "id": "0a647789",
   "metadata": {},
   "outputs": [
    {
     "data": {
      "text/plain": [
       "20"
      ]
     },
     "execution_count": 2,
     "metadata": {},
     "output_type": "execute_result"
    }
   ],
   "source": [
    "# Define the some value function using 'lambda'\n",
    "\n",
    "(lambda x:x+10)(10)"
   ]
  },
  {
   "cell_type": "code",
   "execution_count": 3,
   "id": "00ec7c9d",
   "metadata": {},
   "outputs": [
    {
     "data": {
      "text/plain": [
       "10.0"
      ]
     },
     "execution_count": 3,
     "metadata": {},
     "output_type": "execute_result"
    }
   ],
   "source": [
    "(lambda y:y/2)(20)"
   ]
  },
  {
   "cell_type": "code",
   "execution_count": 4,
   "id": "320f02fc",
   "metadata": {},
   "outputs": [
    {
     "data": {
      "text/plain": [
       "100000000000000000000"
      ]
     },
     "execution_count": 4,
     "metadata": {},
     "output_type": "execute_result"
    }
   ],
   "source": [
    "10**20"
   ]
  },
  {
   "cell_type": "code",
   "execution_count": 5,
   "id": "b4df6715",
   "metadata": {},
   "outputs": [
    {
     "name": "stdout",
     "output_type": "stream",
     "text": [
      "The Exponent of 2 and 4 is 16\n"
     ]
    }
   ],
   "source": [
    "def f(x,y):\n",
    "    return x**y\n",
    "print('The Exponent of {} and {} is'.format(2,4),f(2,4))"
   ]
  },
  {
   "cell_type": "code",
   "execution_count": 6,
   "id": "a00756af",
   "metadata": {},
   "outputs": [
    {
     "name": "stdout",
     "output_type": "stream",
     "text": [
      "The Exponent of 2 and 4 is 16\n"
     ]
    }
   ],
   "source": [
    "print(f'The Exponent of 2 and 4 is {(lambda x,y: x**y)(2,4)}')"
   ]
  },
  {
   "cell_type": "code",
   "execution_count": 2,
   "id": "a9009e47",
   "metadata": {},
   "outputs": [
    {
     "name": "stdout",
     "output_type": "stream",
     "text": [
      "The volume of cube using def function is: 64\n"
     ]
    }
   ],
   "source": [
    "# Cube\n",
    "\n",
    "\n",
    "def cube_volume(a):\n",
    "    return a*a*a\n",
    "print(f'The volume of cube using def function is: {cube_volume(4)}')"
   ]
  },
  {
   "cell_type": "code",
   "execution_count": 5,
   "id": "526ce9f3",
   "metadata": {},
   "outputs": [
    {
     "data": {
      "text/plain": [
       "'The volume of cube using lambda function is:64'"
      ]
     },
     "execution_count": 5,
     "metadata": {},
     "output_type": "execute_result"
    }
   ],
   "source": [
    "# Display the volume of cube with lambda function\n",
    "\n",
    "(f'The volume of cube using lambda function is:{(lambda a:a*a*a)(4)}')"
   ]
  },
  {
   "cell_type": "code",
   "execution_count": 6,
   "id": "0c44f7f1",
   "metadata": {},
   "outputs": [
    {
     "data": {
      "text/plain": [
       "[6, 28, 100, 200, 150]"
      ]
     },
     "execution_count": 6,
     "metadata": {},
     "output_type": "execute_result"
    }
   ],
   "source": [
    "# Program returns a new list when the special numbers in the list divided by 2.\n",
    "special=[0.577,1.618,2.718,3.147,6,28,47,1729,100,200,150]\n",
    "\n",
    "list(filter(lambda x:(x%2==0),special))"
   ]
  },
  {
   "cell_type": "code",
   "execution_count": 9,
   "id": "6e5fee08",
   "metadata": {},
   "outputs": [
    {
     "name": "stdout",
     "output_type": "stream",
     "text": [
      "Enter your age:\n",
      "16\n",
      "The entered age is:16\n",
      "You cannot vote\n"
     ]
    }
   ],
   "source": [
    "# Lambda function with if/else\n",
    "\n",
    "\n",
    "age=int(input('Enter your age:\\n'))\n",
    "print(f'The entered age is:{age}')\n",
    "(lambda age:print('Therefore, your can Vote.') if age>=18 else print('You cannot vote'))(age) "
   ]
  },
  {
   "cell_type": "code",
   "execution_count": 12,
   "id": "de84bb95",
   "metadata": {},
   "outputs": [
    {
     "name": "stdout",
     "output_type": "stream",
     "text": [
      "Python is programming language.\n"
     ]
    }
   ],
   "source": [
    "text='Python is programming language.'\n",
    "\n",
    "(lambda text:print(text))(text)"
   ]
  },
  {
   "cell_type": "code",
   "execution_count": 24,
   "id": "ebaff83a",
   "metadata": {},
   "outputs": [
    {
     "name": "stdout",
     "output_type": "stream",
     "text": [
      "[24]\n",
      "[24, 10.0]\n",
      "[24, 10.0, 150]\n",
      "[24, 10.0, 150, 30]\n",
      "[24, 10.0, 150, 30, 1]\n",
      "[24, 10.0, 150, 30, 1, 8]\n",
      "[24, 10.0, 150, 30, 1, 8, 100]\n"
     ]
    }
   ],
   "source": [
    "lambda_list=[]\n",
    "\n",
    "\n",
    "lambda_list.append((lambda x:x*3)(8))\n",
    "print(lambda_list)\n",
    "lambda_list.append((lambda y:y/2)(20))\n",
    "print(lambda_list)\n",
    "lambda_list.append((lambda g:g+100)(50))\n",
    "print(lambda_list)\n",
    "lambda_list.append((lambda t:t-50)(80))\n",
    "print(lambda_list)\n",
    "lambda_list.append((lambda v:v%2)(21))\n",
    "print(lambda_list)\n",
    "lambda_list.append((lambda h:h//3)(24))\n",
    "print(lambda_list)\n",
    "lambda_list.append((lambda r:r**2)(10))\n",
    "print(lambda_list)"
   ]
  },
  {
   "cell_type": "code",
   "execution_count": 25,
   "id": "1bfd72ce",
   "metadata": {},
   "outputs": [],
   "source": [
    "# Write a lambda function with formula of area of rectangle?\n",
    "# find the area of circle with lambda function and radius is entered by user?\n",
    "# find the are of square with lambda function and are side is enerted by the user?\n",
    "# find the perimeter of square with lambda function and  isde is entered by user?\n",
    "# find the perimeter of rectangle with lambda function and lenght and breadth is entered by user?"
   ]
  },
  {
   "cell_type": "code",
   "execution_count": null,
   "id": "1d084228",
   "metadata": {},
   "outputs": [],
   "source": []
  }
 ],
 "metadata": {
  "kernelspec": {
   "display_name": "Python 3 (ipykernel)",
   "language": "python",
   "name": "python3"
  },
  "language_info": {
   "codemirror_mode": {
    "name": "ipython",
    "version": 3
   },
   "file_extension": ".py",
   "mimetype": "text/x-python",
   "name": "python",
   "nbconvert_exporter": "python",
   "pygments_lexer": "ipython3",
   "version": "3.9.13"
  }
 },
 "nbformat": 4,
 "nbformat_minor": 5
}
