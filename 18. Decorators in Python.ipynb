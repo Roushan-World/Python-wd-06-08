{
 "cells": [
  {
   "cell_type": "markdown",
   "id": "95c3ae8c",
   "metadata": {},
   "source": [
    "# 18. Decorators in Python\n",
    "\n",
    "\n",
    " * __Decorators provides a simple syntax for calling higher-order functions.__\n",
    " * __By definition, a decorator is function that takes another function extends the behavior of the latter functon without explicityly modifying it.__\n",
    " * __Decorators in python is a function that takes another functions as its arguments, and returns yet another function.__\n",
    " * __Decorators can be extremely useful as they allow the extension of an existing function, without any modification to the original functions source code.__\n",
    " * __In fact, there are two types of decorators in Python including class decorators and function decorators.__\n",
    " * __In application, decorators are majorly used in creating module layer in the backed, it performs task like token authentaction, image compression and many more.__"
   ]
  },
  {
   "cell_type": "code",
   "execution_count": 1,
   "id": "334bf4ce",
   "metadata": {},
   "outputs": [],
   "source": [
    "import decorator\n",
    "from decorator import*\n",
    "import functools\n",
    "import math"
   ]
  },
  {
   "cell_type": "code",
   "execution_count": 2,
   "id": "d54853dc",
   "metadata": {},
   "outputs": [
    {
     "name": "stdout",
     "output_type": "stream",
     "text": [
      "Help on function decorator in module decorator:\n",
      "\n",
      "decorator(caller, _func=None, kwsyntax=False)\n",
      "    decorator(caller) converts a caller function into a decorator\n",
      "\n"
     ]
    }
   ],
   "source": [
    "help(decorator)"
   ]
  },
  {
   "cell_type": "code",
   "execution_count": 3,
   "id": "b4229547",
   "metadata": {},
   "outputs": [
    {
     "name": "stdout",
     "output_type": "stream",
     "text": [
      "Python is a programming language\n",
      "Hello Python\n"
     ]
    }
   ],
   "source": [
    "def mytext(text):\n",
    "    print(text)\n",
    "    \n",
    "mytext('Python is a programming language')\n",
    "new_text=mytext\n",
    "new_text('Hello Python')"
   ]
  },
  {
   "cell_type": "code",
   "execution_count": 4,
   "id": "28634506",
   "metadata": {},
   "outputs": [
    {
     "name": "stdout",
     "output_type": "stream",
     "text": [
      "Myself Ajinkya\n"
     ]
    }
   ],
   "source": [
    "new_text1=mytext\n",
    "new_text1('Myself Ajinkya')"
   ]
  },
  {
   "cell_type": "code",
   "execution_count": 6,
   "id": "6676579c",
   "metadata": {},
   "outputs": [
    {
     "name": "stdout",
     "output_type": "stream",
     "text": [
      "123.256698\n"
     ]
    }
   ],
   "source": [
    "new_text2=mytext\n",
    "new_text2(123.256698)"
   ]
  },
  {
   "cell_type": "code",
   "execution_count": null,
   "id": "8b321d4b",
   "metadata": {},
   "outputs": [],
   "source": []
  }
 ],
 "metadata": {
  "kernelspec": {
   "display_name": "Python 3 (ipykernel)",
   "language": "python",
   "name": "python3"
  },
  "language_info": {
   "codemirror_mode": {
    "name": "ipython",
    "version": 3
   },
   "file_extension": ".py",
   "mimetype": "text/x-python",
   "name": "python",
   "nbconvert_exporter": "python",
   "pygments_lexer": "ipython3",
   "version": "3.9.13"
  }
 },
 "nbformat": 4,
 "nbformat_minor": 5
}
