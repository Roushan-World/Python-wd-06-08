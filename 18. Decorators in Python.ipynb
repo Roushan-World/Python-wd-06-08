{
 "cells": [
  {
   "cell_type": "markdown",
   "id": "95c3ae8c",
   "metadata": {},
   "source": [
    "# 18. Decorators in Python\n",
    "\n",
    "\n",
    " * __Decorators provides a simple syntax for calling higher-order functions.__\n",
    " * __By definition, a decorator is function that takes another function extends the behavior of the latter functon without explicityly modifying it.__\n",
    " * __Decorators in python is a function that takes another functions as its arguments, and returns yet another function.__\n",
    " * __Decorators can be extremely useful as they allow the extension of an existing function, without any modification to the original functions source code.__\n",
    " * __In fact, there are two types of decorators in Python including class decorators and function decorators.__\n",
    " * __In application, decorators are majorly used in creating module layer in the backed, it performs task like token authentaction, image compression and many more.__"
   ]
  },
  {
   "cell_type": "code",
   "execution_count": 1,
   "id": "334bf4ce",
   "metadata": {},
   "outputs": [],
   "source": [
    "import decorator\n",
    "from decorator import*\n",
    "import functools\n",
    "import math"
   ]
  },
  {
   "cell_type": "code",
   "execution_count": 2,
   "id": "d54853dc",
   "metadata": {},
   "outputs": [
    {
     "name": "stdout",
     "output_type": "stream",
     "text": [
      "Help on function decorator in module decorator:\n",
      "\n",
      "decorator(caller, _func=None, kwsyntax=False)\n",
      "    decorator(caller) converts a caller function into a decorator\n",
      "\n"
     ]
    }
   ],
   "source": [
    "help(decorator)"
   ]
  },
  {
   "cell_type": "code",
   "execution_count": 3,
   "id": "b4229547",
   "metadata": {},
   "outputs": [
    {
     "name": "stdout",
     "output_type": "stream",
     "text": [
      "Python is a programming language\n",
      "Hello Python\n"
     ]
    }
   ],
   "source": [
    "def mytext(text):\n",
    "    print(text)\n",
    "    \n",
    "mytext('Python is a programming language')\n",
    "new_text=mytext\n",
    "new_text('Hello Python')"
   ]
  },
  {
   "cell_type": "code",
   "execution_count": 4,
   "id": "28634506",
   "metadata": {},
   "outputs": [
    {
     "name": "stdout",
     "output_type": "stream",
     "text": [
      "Myself Ajinkya\n"
     ]
    }
   ],
   "source": [
    "new_text1=mytext\n",
    "new_text1('Myself Ajinkya')"
   ]
  },
  {
   "cell_type": "code",
   "execution_count": 6,
   "id": "6676579c",
   "metadata": {},
   "outputs": [
    {
     "name": "stdout",
     "output_type": "stream",
     "text": [
      "123.256698\n"
     ]
    }
   ],
   "source": [
    "new_text2=mytext\n",
    "new_text2(123.256698)"
   ]
  },
  {
   "cell_type": "code",
   "execution_count": 5,
   "id": "8b321d4b",
   "metadata": {},
   "outputs": [
    {
     "name": "stdout",
     "output_type": "stream",
     "text": [
      "PYTHON IS THE MOST POPULAR PROGRAMMING LANGUAGE. MYSELF AJINKYA\n"
     ]
    }
   ],
   "source": [
    "def decorator_text_uppercase(func):\n",
    "    def wrapper():\n",
    "        function=func()\n",
    "        text_uppercase=function.upper()\n",
    "        return text_uppercase\n",
    "    return wrapper\n",
    "\n",
    "@decorator_text_uppercase\n",
    "def text():\n",
    "    return 'python is the most popular programming language. Myself Ajinkya'\n",
    "print(text())"
   ]
  },
  {
   "cell_type": "code",
   "execution_count": 6,
   "id": "1d5bcf33",
   "metadata": {},
   "outputs": [
    {
     "name": "stdout",
     "output_type": "stream",
     "text": [
      "DHONI WAS BORN IN RANCHI, BIHAR (NOW IN JHARKHAND) AND HAILS FROM A HINDU RAJPUT FAMILY TO PARENTS FROM UTTARAKHAND.[19][20] HE IS THE YOUNGEST OF THREE CHILDREN OF PAN SINGH AND DEVAKI DEVI.[21][22][23][4] HIS PATERNAL VILLAGE LWALI, IS IN JAINTI TEHSIL, LAMGARA BLOCK OF THE ALMORA DISTRICT OF UTTARAKHAND.[24] HIS PARENTS MOVED FROM UTTARAKHAND TO RANCHI, JHARKHAND WHERE HIS FATHER WORKED AS A PUMP OPERATOR IN JUNIOR MANAGEMENT POSITION IN MECON COLONY SITUATED IN DORANDA AREA IN RANCHI.[25] UNLIKE DHONI, HIS UNCLE AND COUSINS SPELL THEIR SURNAME \"DHAUNI\".[24]\n"
     ]
    }
   ],
   "source": [
    "@decorator_text_uppercase\n",
    "def x():\n",
    "    return 'Dhoni was born in Ranchi, Bihar (now in Jharkhand) and hails from a Hindu Rajput family to parents from Uttarakhand.[19][20] He is the youngest of three children of Pan Singh and Devaki Devi.[21][22][23][4] His paternal village Lwali, is in Jainti Tehsil, Lamgara block of the Almora District of Uttarakhand.[24] His parents moved from Uttarakhand to Ranchi, Jharkhand where his father worked as a pump operator in junior management position in MECON Colony situated in Doranda area in Ranchi.[25] Unlike Dhoni, his uncle and cousins spell their surname \"Dhauni\".[24]'\n",
    "print(x())"
   ]
  },
  {
   "cell_type": "code",
   "execution_count": 7,
   "id": "45467317",
   "metadata": {},
   "outputs": [
    {
     "name": "stdout",
     "output_type": "stream",
     "text": [
      "MYSELF AJINKYA AND I LIVE AT PUNE.\n"
     ]
    }
   ],
   "source": [
    "@decorator_text_uppercase\n",
    "def y():\n",
    "    return 'Myself Ajinkya and I live at Pune.'\n",
    "print(y())"
   ]
  },
  {
   "cell_type": "markdown",
   "id": "901a4f43",
   "metadata": {},
   "source": [
    "# Fancy decorators\n",
    "\n",
    " * __@propertymethod__\n",
    " * __@staticmethod__\n",
    " * __@classmethod__"
   ]
  },
  {
   "cell_type": "markdown",
   "id": "b9e5ee14",
   "metadata": {},
   "source": [
    "# propertymethod"
   ]
  },
  {
   "cell_type": "code",
   "execution_count": 32,
   "id": "e922c3af",
   "metadata": {},
   "outputs": [
    {
     "name": "stdout",
     "output_type": "stream",
     "text": [
      "Person name: Divya\n",
      "Person age: 21\n",
      "Person Address: Delhi\n",
      "Message: Divya is a Beautiful girl and age is:21 Her Address is: Delhi\n"
     ]
    }
   ],
   "source": [
    "class person:\n",
    "    def __init__(self,name,age,contact):\n",
    "        self.name=name\n",
    "        self.age=age\n",
    "        self.contact=contact\n",
    "    @property\n",
    "    def show(self):\n",
    "        return self.name+' is a Beautiful girl and age is:'+self.age+' Her Address is: '+self.contact\n",
    "man=person('Divya','21','Delhi')\n",
    "print(f'Person name: {man.name}')\n",
    "print(f'Person age: {man.age}')\n",
    "print(f'Person Address: {man.contact}')\n",
    "print(f'Message: {man.show}')\n"
   ]
  },
  {
   "cell_type": "markdown",
   "id": "c23fb8fb",
   "metadata": {},
   "source": [
    "# static method"
   ]
  },
  {
   "cell_type": "code",
   "execution_count": 33,
   "id": "613a90bd",
   "metadata": {},
   "outputs": [
    {
     "name": "stdout",
     "output_type": "stream",
     "text": [
      "Divya is a Beautiful girl and her age is 25, you can contact on this email divya@123.com\n",
      "Divya is a Beautiful girl and her age is 25, you can contact on this email divya@123.com\n"
     ]
    }
   ],
   "source": [
    "class person:\n",
    "    @staticmethod\n",
    "    def name():\n",
    "        print('Divya is a Beautiful girl and her age is 25, you can contact on this email divya@123.com')\n",
    "        \n",
    "man=person()\n",
    "man.name()\n",
    "person.name()"
   ]
  },
  {
   "cell_type": "markdown",
   "id": "b3782bb3",
   "metadata": {},
   "source": [
    "# classmethod"
   ]
  },
  {
   "cell_type": "code",
   "execution_count": 36,
   "id": "946a97c8",
   "metadata": {},
   "outputs": [
    {
     "name": "stdout",
     "output_type": "stream",
     "text": [
      "The man Modi is a member of BJP is a successful PM.\n"
     ]
    }
   ],
   "source": [
    "class parent:\n",
    "    def __init__(self,name,product):\n",
    "        self.name=name\n",
    "        self.product=product\n",
    "        \n",
    "    @classmethod\n",
    "    def display(cls):\n",
    "        return cls('Modi','BJP')\n",
    "party=parent.display()\n",
    "print(f'The man {party.name} is a member of {party.product} is a successful PM.')"
   ]
  },
  {
   "cell_type": "code",
   "execution_count": null,
   "id": "2b9df9a2",
   "metadata": {},
   "outputs": [],
   "source": []
  }
 ],
 "metadata": {
  "kernelspec": {
   "display_name": "Python 3 (ipykernel)",
   "language": "python",
   "name": "python3"
  },
  "language_info": {
   "codemirror_mode": {
    "name": "ipython",
    "version": 3
   },
   "file_extension": ".py",
   "mimetype": "text/x-python",
   "name": "python",
   "nbconvert_exporter": "python",
   "pygments_lexer": "ipython3",
   "version": "3.9.13"
  }
 },
 "nbformat": 4,
 "nbformat_minor": 5
}
