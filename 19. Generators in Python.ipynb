{
 "cells": [
  {
   "cell_type": "markdown",
   "id": "51da5dc8",
   "metadata": {},
   "source": [
    "# 19. Generators in Python\n",
    "\n",
    " * __Python generators are the function that returns the transversal object and a simple way of creating iterators.__\n",
    " * __It transverses the entire items at once.__\n",
    " * __The generators can also be an expression in which syntax is similar to the list comprehension of the python.__\n",
    " * __There is a lot of complexity in creating iteration in Python. It is required to implement iter() and next() methods to keep track of internal states.__\n",
    " * __It is a lengthy process to create iteratrs.__\n",
    " * __That is why the generators plays a significant role in simplifying this process.__\n",
    " * __If there is no value found in iteration, it raises Stopiteration exception.__\n",
    " * __It is quite simple to create a generators in Python.__\n",
    " * __It is similar to the normal function defined by the def keyword and employs a yield keyword instead of return.__\n",
    " * __If the body of any function includes a yield statement, it automatically becomes a generator function.__\n",
    " * __The yield keyword is responsible to control the flow of the generator funcitons.__\n",
    " * __It pauses the function execution by saving all states and yielded to the caller.__\n",
    " * __Later it resumes execution when a successive function is called.__\n",
    " * __The return keyword returns a value and terminates the whole function and only one return statement can be employed in the function.__"
   ]
  },
  {
   "cell_type": "code",
   "execution_count": 1,
   "id": "375f75a7",
   "metadata": {},
   "outputs": [
    {
     "name": "stdout",
     "output_type": "stream",
     "text": [
      "[0, 2, 4, 6, 8]\n"
     ]
    }
   ],
   "source": [
    "def function():\n",
    "    for i in range(10):\n",
    "        if i%2==0:\n",
    "            yield i\n",
    "            \n",
    "nlis=[]\n",
    "for i in function():\n",
    "    nlis.append(i)\n",
    "print(nlis)"
   ]
  },
  {
   "cell_type": "code",
   "execution_count": 2,
   "id": "375e763f",
   "metadata": {},
   "outputs": [
    {
     "name": "stdout",
     "output_type": "stream",
     "text": [
      "[0, 4, 8, 12, 16, 20, 24, 28, 32, 36, 40, 44, 48]\n"
     ]
    }
   ],
   "source": [
    "def function():\n",
    "    for i in range(50):\n",
    "        if i%4==0:\n",
    "            yield i\n",
    "            \n",
    "nlis=[]\n",
    "for i in function():\n",
    "    nlis.append(i)\n",
    "print(nlis)"
   ]
  },
  {
   "cell_type": "code",
   "execution_count": 6,
   "id": "7644ea01",
   "metadata": {},
   "outputs": [
    {
     "name": "stdout",
     "output_type": "stream",
     "text": [
      "Hello, World\n",
      "Hi, Python\n",
      "Python is a programming language.\n",
      "My self Ajinkya\n"
     ]
    }
   ],
   "source": [
    "def message():\n",
    "    msg_one='Hello, World'\n",
    "    yield msg_one\n",
    "    \n",
    "    msg_two='Hi, Python'\n",
    "    yield msg_two\n",
    "    \n",
    "    msg_three='Python is a programming language.'\n",
    "    yield msg_three\n",
    "    \n",
    "    msg_fourth='My self Ajinkya'\n",
    "    yield msg_fourth\n",
    "    \n",
    "    \n",
    "result=message()\n",
    "print(next(result))\n",
    "print(next(result))\n",
    "print(next(result))\n",
    "print(next(result))"
   ]
  },
  {
   "cell_type": "code",
   "execution_count": 9,
   "id": "8687cda1",
   "metadata": {},
   "outputs": [
    {
     "name": "stdout",
     "output_type": "stream",
     "text": [
      "[0, 20, 40, 60, 80, 100, 120, 140, 160, 180, 200, 220, 240, 260, 280, 300, 320, 340, 360, 380, 400]\n"
     ]
    }
   ],
   "source": [
    "def multi_table(n):\n",
    "    for i in range(21):\n",
    "        yield n*i\n",
    "        i+=1\n",
    "        \n",
    "multi_table_list=[]\n",
    "for i in multi_table(20):\n",
    "    multi_table_list.append(i)\n",
    "print(multi_table_list)"
   ]
  },
  {
   "cell_type": "code",
   "execution_count": 18,
   "id": "002b9148",
   "metadata": {},
   "outputs": [
    {
     "name": "stdout",
     "output_type": "stream",
     "text": [
      "0\n",
      "1\n",
      "2\n",
      "3\n",
      "4\n",
      "5\n"
     ]
    }
   ],
   "source": [
    "def generator(a):\n",
    "    for i in range(a):\n",
    "        yield i\n",
    "        \n",
    "val=generator(6)\n",
    "print(next(val))\n",
    "print(next(val))\n",
    "print(next(val))\n",
    "print(next(val))\n",
    "print(next(val))\n",
    "print(next(val))"
   ]
  },
  {
   "cell_type": "code",
   "execution_count": null,
   "id": "f7ba5258",
   "metadata": {},
   "outputs": [],
   "source": []
  }
 ],
 "metadata": {
  "kernelspec": {
   "display_name": "Python 3 (ipykernel)",
   "language": "python",
   "name": "python3"
  },
  "language_info": {
   "codemirror_mode": {
    "name": "ipython",
    "version": 3
   },
   "file_extension": ".py",
   "mimetype": "text/x-python",
   "name": "python",
   "nbconvert_exporter": "python",
   "pygments_lexer": "ipython3",
   "version": "3.9.13"
  }
 },
 "nbformat": 4,
 "nbformat_minor": 5
}
