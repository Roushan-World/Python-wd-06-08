{
 "cells": [
  {
   "cell_type": "markdown",
   "id": "934c303a",
   "metadata": {},
   "source": [
    "# 3. Lists in Python\n",
    "\n",
    " * Lists are ordered.\n",
    " * Lists can contain an arbitrary objects.\n",
    " * Lists elemenents can be accessed by index.\n",
    " * Lists can be nested to arbitrary depth.\n",
    " * Lists are mutable.\n",
    " * Lists are dynamic."
   ]
  },
  {
   "cell_type": "code",
   "execution_count": 10,
   "id": "38126e5a",
   "metadata": {},
   "outputs": [
    {
     "name": "stdout",
     "output_type": "stream",
     "text": [
      "['Python', 22, 2023, 1]\n",
      "<class 'list'>\n"
     ]
    }
   ],
   "source": [
    "# Creating a list.\n",
    "\n",
    "nlis=['Python',22,2023,1]\n",
    "print(nlis)\n",
    "print(type(nlis))"
   ]
  },
  {
   "cell_type": "code",
   "execution_count": 11,
   "id": "303f91a4",
   "metadata": {},
   "outputs": [
    {
     "name": "stdout",
     "output_type": "stream",
     "text": [
      "Positive indexing of list: Python\n",
      "Positive indexing of list: 22\n",
      "Positive indexing of list: 2023\n",
      "Positive indexing of list: 1\n"
     ]
    }
   ],
   "source": [
    "# List accessed by positive indexing.\n",
    "print('Positive indexing of list:',nlis[0])\n",
    "print('Positive indexing of list:',nlis[1])\n",
    "print('Positive indexing of list:',nlis[2])\n",
    "print('Positive indexing of list:',nlis[3])"
   ]
  },
  {
   "cell_type": "code",
   "execution_count": 15,
   "id": "e03c43d2",
   "metadata": {},
   "outputs": [
    {
     "name": "stdout",
     "output_type": "stream",
     "text": [
      "Negative indexing of list: 1\n",
      "Negative indexing of list: 2023\n",
      "Negative indexing of list: 22\n",
      "Negative indexing of list: Python\n"
     ]
    }
   ],
   "source": [
    "# List accessed by Negative indexing.\n",
    "print('Negative indexing of list:',nlis[-1])\n",
    "print('Negative indexing of list:',nlis[-2])\n",
    "print('Negative indexing of list:',nlis[-3])\n",
    "print('Negative indexing of list:',nlis[-4])"
   ]
  },
  {
   "cell_type": "code",
   "execution_count": 22,
   "id": "38ca82d1",
   "metadata": {},
   "outputs": [
    {
     "name": "stdout",
     "output_type": "stream",
     "text": [
      "['Python', 22]\n",
      "[2023]\n"
     ]
    }
   ],
   "source": [
    "print(nlis[0:2])\n",
    "print(nlis[2:3])\n"
   ]
  },
  {
   "cell_type": "markdown",
   "id": "2b52b82b",
   "metadata": {},
   "source": [
    "#  What can content a list?\n",
    "\n",
    "\n",
    " * Strings\n",
    " * Floats\n",
    " * Integer\n",
    " * Boolean\n",
    " * Nested List.\n",
    " * Nested Tuple.\n",
    " * Other Data Structures.\n",
    " "
   ]
  },
  {
   "cell_type": "code",
   "execution_count": 23,
   "id": "4239e363",
   "metadata": {},
   "outputs": [
    {
     "name": "stdout",
     "output_type": "stream",
     "text": [
      "['Python', 3.14, 14, 2023, True, False, [1, 2, 3, 4, 5, 6], ('Hello World', 3.14, 2023)]\n",
      "<class 'list'>\n"
     ]
    }
   ],
   "source": [
    "nlis1=['Python',3.14,14,2023,True,False,[1,2,3,4,5,6],('Hello World',3.14,2023)]\n",
    "print(nlis1)\n",
    "print(type(nlis1))"
   ]
  },
  {
   "cell_type": "markdown",
   "id": "495e594c",
   "metadata": {},
   "source": [
    "# List Operations"
   ]
  },
  {
   "cell_type": "code",
   "execution_count": 24,
   "id": "b072fa6e",
   "metadata": {},
   "outputs": [
    {
     "data": {
      "text/plain": [
       "8"
      ]
     },
     "execution_count": 24,
     "metadata": {},
     "output_type": "execute_result"
    }
   ],
   "source": [
    "# lenght\n",
    "\n",
    "len(nlis1)"
   ]
  },
  {
   "cell_type": "markdown",
   "id": "a358c1b5",
   "metadata": {},
   "source": [
    "# Slicing of list"
   ]
  },
  {
   "cell_type": "code",
   "execution_count": 32,
   "id": "4d24886c",
   "metadata": {},
   "outputs": [
    {
     "name": "stdout",
     "output_type": "stream",
     "text": [
      "['Python', 3.14, 14, 2023, True, False, [1, 2, 3, 4, 5, 6], ('Hello World', 3.14, 2023)]\n",
      "[True]\n",
      "[False]\n",
      "[[1, 2, 3, 4, 5, 6]]\n",
      "[('Hello World', 3.14, 2023)]\n"
     ]
    }
   ],
   "source": [
    "nlis1=['Python',3.14,14,2023,True,False,[1,2,3,4,5,6],('Hello World',3.14,2023)]\n",
    "print(nlis1)\n",
    "print(nlis1[4:5])\n",
    "print(nlis1[5:6])\n",
    "print(nlis1[6:7])\n",
    "print(nlis1[7:8])"
   ]
  },
  {
   "cell_type": "code",
   "execution_count": 39,
   "id": "fcd57cc4",
   "metadata": {},
   "outputs": [
    {
     "name": "stdout",
     "output_type": "stream",
     "text": [
      "3\n"
     ]
    }
   ],
   "source": [
    "print(nlis1[6][2])"
   ]
  },
  {
   "cell_type": "markdown",
   "id": "bde29502",
   "metadata": {},
   "source": [
    "# Extending the list\n",
    "\n",
    " * We use the extend() function to add a new element to the list.\n",
    " * With the function, we add more than one element to the list."
   ]
  },
  {
   "cell_type": "code",
   "execution_count": 46,
   "id": "503672d8",
   "metadata": {},
   "outputs": [
    {
     "name": "stdout",
     "output_type": "stream",
     "text": [
      "['Python', 3.14, 14, 2023, True, False, [1, 2, 3, 4, 5, 6], ('Hello World', 3.14, 2023)]\n",
      "['Python', 3.14, 14, 2023, True, False, [1, 2, 3, 4, 5, 6], ('Hello World', 3.14, 2023), 'Ajinkya', 19]\n",
      "['Python', 3.14, 14, 2023, True, False, [1, 2, 3, 4, 5, 6], ('Hello World', 3.14, 2023), 'Ajinkya', 19, 'Amit', 30, 'Rohit Sharm', 45]\n"
     ]
    }
   ],
   "source": [
    "nlis1=['Python',3.14,14,2023,True,False,[1,2,3,4,5,6],('Hello World',3.14,2023)]\n",
    "print(nlis1)\n",
    "\n",
    "nlis1.extend(['Ajinkya',19])\n",
    "print(nlis1)\n",
    "nlis1.extend(['Amit',30,'Rohit Sharm',45])\n",
    "print(nlis1)"
   ]
  },
  {
   "cell_type": "markdown",
   "id": "a3984bfa",
   "metadata": {},
   "source": [
    "# append() method\n",
    "\n",
    " * As differed form the extend() method, with the append() method, we add only one element\n",
    " to the list.\n",
    " * You can see the difference by comparing the above and below codes."
   ]
  },
  {
   "cell_type": "code",
   "execution_count": 51,
   "id": "760a273d",
   "metadata": {},
   "outputs": [
    {
     "name": "stdout",
     "output_type": "stream",
     "text": [
      "['Python', 3.14, 14, 2023, True, False, [1, 2, 3, 4, 5, 6], ('Hello World', 3.14, 2023)]\n",
      "['Python', 3.14, 14, 2023, True, False, [1, 2, 3, 4, 5, 6], ('Hello World', 3.14, 2023), ['hello world', 1.618]]\n",
      "['Python', 3.14, 14, 2023, True, False, [1, 2, 3, 4, 5, 6], ('Hello World', 3.14, 2023), ['hello world', 1.618], ['Amit']]\n"
     ]
    }
   ],
   "source": [
    "nlis1=['Python',3.14,14,2023,True,False,[1,2,3,4,5,6],('Hello World',3.14,2023)]\n",
    "print(nlis1)\n",
    "\n",
    "nlis1.append(['hello world',1.618])\n",
    "print(nlis1)\n",
    "nlis1.append(['Amit'])\n",
    "print(nlis1)"
   ]
  },
  {
   "cell_type": "code",
   "execution_count": 55,
   "id": "6ef0e0ae",
   "metadata": {},
   "outputs": [
    {
     "name": "stdout",
     "output_type": "stream",
     "text": [
      "['Python', 3.14, 14, 2023, True, False, [1, 2, 3, 4, 5, 6], ('Hello World', 3.14, 2023)]\n",
      "['Python', 3.14, 14, 2023, True, False, [1, 2, 3, 4, 5, 6], 8, ('Hello World', 3.14, 2023)]\n"
     ]
    }
   ],
   "source": [
    "# insert() method.\n",
    "nlis1=['Python',3.14,14,2023,True,False,[1,2,3,4,5,6],('Hello World',3.14,2023)]\n",
    "print(nlis1)\n",
    "\n",
    "nlis1.insert(7,8)\n",
    "print(nlis1)"
   ]
  },
  {
   "cell_type": "markdown",
   "id": "1b940a91",
   "metadata": {},
   "source": [
    "# Changing the element of a list since it is mutable.\n",
    "\n"
   ]
  },
  {
   "cell_type": "code",
   "execution_count": 7,
   "id": "cf7c63e8",
   "metadata": {},
   "outputs": [
    {
     "name": "stdout",
     "output_type": "stream",
     "text": [
      "Before Changing: ['Python', 3.14, 14, 2023, True, False, [1, 2, 3, 4, 5, 6], ('Hello World', 3.14, 2023)]\n",
      "After Changing: ['Amit', 3.14, 14, 2023, True, False, [1, 2, 3, 4, 5, 6], ('Hello World', 3.14, 2023)]\n",
      "After Changing: ['Amit', 3.14, 14, 2023, True, False, [1, 2, 3, 4, 5, 'E'], ('Hello World', 3.14, 2023)]\n"
     ]
    },
    {
     "ename": "TypeError",
     "evalue": "'tuple' object does not support item assignment",
     "output_type": "error",
     "traceback": [
      "\u001b[1;31m---------------------------------------------------------------------------\u001b[0m",
      "\u001b[1;31mTypeError\u001b[0m                                 Traceback (most recent call last)",
      "\u001b[1;32m~\\AppData\\Local\\Temp\\ipykernel_15384\\1350289021.py\u001b[0m in \u001b[0;36m<module>\u001b[1;34m\u001b[0m\n\u001b[0;32m      8\u001b[0m \u001b[0mnlis1\u001b[0m\u001b[1;33m[\u001b[0m\u001b[1;36m6\u001b[0m\u001b[1;33m]\u001b[0m\u001b[1;33m[\u001b[0m\u001b[1;36m5\u001b[0m\u001b[1;33m]\u001b[0m\u001b[1;33m=\u001b[0m\u001b[1;34m'E'\u001b[0m\u001b[1;33m\u001b[0m\u001b[1;33m\u001b[0m\u001b[0m\n\u001b[0;32m      9\u001b[0m \u001b[0mprint\u001b[0m\u001b[1;33m(\u001b[0m\u001b[1;34m'After Changing:'\u001b[0m\u001b[1;33m,\u001b[0m\u001b[0mnlis1\u001b[0m\u001b[1;33m)\u001b[0m\u001b[1;33m\u001b[0m\u001b[1;33m\u001b[0m\u001b[0m\n\u001b[1;32m---> 10\u001b[1;33m \u001b[0mnlis1\u001b[0m\u001b[1;33m[\u001b[0m\u001b[1;36m7\u001b[0m\u001b[1;33m]\u001b[0m\u001b[1;33m[\u001b[0m\u001b[1;36m0\u001b[0m\u001b[1;33m]\u001b[0m\u001b[1;33m=\u001b[0m\u001b[1;34m'Ajinkya'\u001b[0m\u001b[1;33m\u001b[0m\u001b[1;33m\u001b[0m\u001b[0m\n\u001b[0m\u001b[0;32m     11\u001b[0m \u001b[0mprint\u001b[0m\u001b[1;33m(\u001b[0m\u001b[1;34m'After Changing:'\u001b[0m\u001b[1;33m,\u001b[0m\u001b[0mnlis1\u001b[0m\u001b[1;33m)\u001b[0m\u001b[1;33m\u001b[0m\u001b[1;33m\u001b[0m\u001b[0m\n",
      "\u001b[1;31mTypeError\u001b[0m: 'tuple' object does not support item assignment"
     ]
    }
   ],
   "source": [
    "nlis1=['Python',3.14,14,2023,True,False,[1,2,3,4,5,6],('Hello World',3.14,2023)]\n",
    "\n",
    "\n",
    "print('Before Changing:',nlis1)\n",
    "nlis1[0]='Amit'\n",
    "print('After Changing:',nlis1)\n",
    "\n",
    "nlis1[6][5]='E'\n",
    "print('After Changing:',nlis1)\n",
    "nlis1[7][0]='Ajinkya'\n",
    "print('After Changing:',nlis1)"
   ]
  },
  {
   "cell_type": "markdown",
   "id": "d38c4063",
   "metadata": {},
   "source": [
    "# Deleting the element from the list using del() function."
   ]
  },
  {
   "cell_type": "code",
   "execution_count": 12,
   "id": "ab64cc40",
   "metadata": {},
   "outputs": [
    {
     "name": "stdout",
     "output_type": "stream",
     "text": [
      "Before Deleting: ['Python', 3.14, 14, 2023, True, False, [1, 2, 3, 4, 5, 6], ('Hello World', 3.14, 2023)]\n",
      "After Deleting: ['Python', 3.14, 14, 2023, True, [1, 2, 3, 4, 5, 6], ('Hello World', 3.14, 2023)]\n",
      "After Deleting: ['Python', 3.14, 14, 2023, True, [1, 2, 3, 4, 5], ('Hello World', 3.14, 2023)]\n"
     ]
    },
    {
     "ename": "TypeError",
     "evalue": "'tuple' object doesn't support item deletion",
     "output_type": "error",
     "traceback": [
      "\u001b[1;31m---------------------------------------------------------------------------\u001b[0m",
      "\u001b[1;31mTypeError\u001b[0m                                 Traceback (most recent call last)",
      "\u001b[1;32m~\\AppData\\Local\\Temp\\ipykernel_15384\\1305037231.py\u001b[0m in \u001b[0;36m<module>\u001b[1;34m\u001b[0m\n\u001b[0;32m      5\u001b[0m \u001b[1;32mdel\u001b[0m\u001b[1;33m(\u001b[0m\u001b[0mnlis1\u001b[0m\u001b[1;33m[\u001b[0m\u001b[1;36m5\u001b[0m\u001b[1;33m]\u001b[0m\u001b[1;33m[\u001b[0m\u001b[1;36m5\u001b[0m\u001b[1;33m]\u001b[0m\u001b[1;33m)\u001b[0m\u001b[1;33m\u001b[0m\u001b[1;33m\u001b[0m\u001b[0m\n\u001b[0;32m      6\u001b[0m \u001b[0mprint\u001b[0m\u001b[1;33m(\u001b[0m\u001b[1;34m'After Deleting:'\u001b[0m\u001b[1;33m,\u001b[0m\u001b[0mnlis1\u001b[0m\u001b[1;33m)\u001b[0m\u001b[1;33m\u001b[0m\u001b[1;33m\u001b[0m\u001b[0m\n\u001b[1;32m----> 7\u001b[1;33m \u001b[1;32mdel\u001b[0m\u001b[1;33m(\u001b[0m\u001b[0mnlis1\u001b[0m\u001b[1;33m[\u001b[0m\u001b[1;36m6\u001b[0m\u001b[1;33m]\u001b[0m\u001b[1;33m[\u001b[0m\u001b[1;36m0\u001b[0m\u001b[1;33m]\u001b[0m\u001b[1;33m)\u001b[0m\u001b[1;33m\u001b[0m\u001b[1;33m\u001b[0m\u001b[0m\n\u001b[0m\u001b[0;32m      8\u001b[0m \u001b[0mprint\u001b[0m\u001b[1;33m(\u001b[0m\u001b[1;34m'After Deleting:'\u001b[0m\u001b[1;33m,\u001b[0m\u001b[0mnlis1\u001b[0m\u001b[1;33m)\u001b[0m\u001b[1;33m\u001b[0m\u001b[1;33m\u001b[0m\u001b[0m\n",
      "\u001b[1;31mTypeError\u001b[0m: 'tuple' object doesn't support item deletion"
     ]
    }
   ],
   "source": [
    "nlis1=['Python',3.14,14,2023,True,False,[1,2,3,4,5,6],('Hello World',3.14,2023)]\n",
    "print('Before Deleting:',nlis1)\n",
    "del(nlis1[5])\n",
    "print('After Deleting:',nlis1)\n",
    "del(nlis1[5][5])\n",
    "print('After Deleting:',nlis1)\n",
    "del(nlis1[6][0])\n",
    "print('After Deleting:',nlis1)"
   ]
  },
  {
   "cell_type": "code",
   "execution_count": 13,
   "id": "eaca7645",
   "metadata": {},
   "outputs": [
    {
     "name": "stdout",
     "output_type": "stream",
     "text": [
      "Before Deleting: ['Python', 3.14, 14, 2023, True, False, [1, 2, 3, 4, 5, 6], ('Hello World', 3.14, 2023)]\n",
      "After Deletion: ['Python', 3.14, 14, 2023, True, False, [1, 2, 3, 4, 5, 6]]\n"
     ]
    }
   ],
   "source": [
    "nlis1=['Python',3.14,14,2023,True,False,[1,2,3,4,5,6],('Hello World',3.14,2023)]\n",
    "print('Before Deleting:',nlis1)\n",
    "del(nlis1[7])\n",
    "print('After Deletion:',nlis1)"
   ]
  },
  {
   "cell_type": "markdown",
   "id": "ee011349",
   "metadata": {},
   "source": [
    "# Conversion of a string into a list by using split() function."
   ]
  },
  {
   "cell_type": "code",
   "execution_count": 14,
   "id": "d0c95d31",
   "metadata": {},
   "outputs": [
    {
     "data": {
      "text/plain": [
       "['Python', 'is', 'a', 'programming', 'language.']"
      ]
     },
     "execution_count": 14,
     "metadata": {},
     "output_type": "execute_result"
    }
   ],
   "source": [
    "message='Python is a programming language.'\n",
    "\n",
    "message.split()"
   ]
  },
  {
   "cell_type": "code",
   "execution_count": 19,
   "id": "64e055d5",
   "metadata": {},
   "outputs": [
    {
     "data": {
      "text/plain": [
       "['Ajinkya', 'kad']"
      ]
     },
     "execution_count": 19,
     "metadata": {},
     "output_type": "execute_result"
    }
   ],
   "source": [
    "msg='Ajinkya kad'\n",
    "msg.split()"
   ]
  },
  {
   "cell_type": "markdown",
   "id": "e85575a2",
   "metadata": {},
   "source": [
    "# Use of split() function with a delimiter."
   ]
  },
  {
   "cell_type": "code",
   "execution_count": 23,
   "id": "ba27f683",
   "metadata": {},
   "outputs": [
    {
     "data": {
      "text/plain": [
       "['A', 'j', 'i', 'n', 'k', 'y', 'a', 'k', 'a', 'd']"
      ]
     },
     "execution_count": 23,
     "metadata": {},
     "output_type": "execute_result"
    }
   ],
   "source": [
    "text='A,j,i,n,k,y,a,k,a,d'\n",
    "text.split(\",\")"
   ]
  },
  {
   "cell_type": "code",
   "execution_count": 34,
   "id": "51ce2905",
   "metadata": {},
   "outputs": [
    {
     "name": "stdout",
     "output_type": "stream",
     "text": [
      "<class 'str'>\n",
      "A,B,C,D,E,F,G,H,I,J\n"
     ]
    }
   ],
   "source": [
    "text1='A,B,C,D,E,F,G,H,I,J'\n",
    "print(type(text1))\n",
    "text1[3]\n",
    "print(text1)\n",
    "\n"
   ]
  },
  {
   "cell_type": "code",
   "execution_count": 31,
   "id": "1bde220a",
   "metadata": {},
   "outputs": [
    {
     "data": {
      "text/plain": [
       "['A', 'B', 'C', 'D', 'E', 'F', 'G', 'H', 'I', 'J']"
      ]
     },
     "execution_count": 31,
     "metadata": {},
     "output_type": "execute_result"
    }
   ],
   "source": [
    "text1='A,B,C,D,E,F,G,H,I,J'\n",
    "\n",
    "text1.split(',')\n"
   ]
  },
  {
   "cell_type": "code",
   "execution_count": 33,
   "id": "8ed28f04",
   "metadata": {},
   "outputs": [
    {
     "name": "stdout",
     "output_type": "stream",
     "text": [
      "<class 'list'>\n",
      "D\n"
     ]
    }
   ],
   "source": [
    "z=['A', 'B', 'C', 'D', 'E', 'F', 'G', 'H', 'I', 'J']\n",
    "print(type(z))\n",
    "print(z[3])"
   ]
  },
  {
   "cell_type": "markdown",
   "id": "bf8db9b9",
   "metadata": {},
   "source": [
    "# Basic operations of list"
   ]
  },
  {
   "cell_type": "code",
   "execution_count": 43,
   "id": "41a6383e",
   "metadata": {},
   "outputs": [
    {
     "name": "stdout",
     "output_type": "stream",
     "text": [
      "4\n",
      "6\n",
      "['a', 'b', 'Hello', 'Python', 1, 2, 3, 4, 5, 6]\n",
      "['a', 'b', 'Hello', 'Python', 'a', 'b', 'Hello', 'Python', 'a', 'b', 'Hello', 'Python']\n",
      "[1, 2, 3, 4, 5, 6, 1, 2, 3, 4, 5, 6, 1, 2, 3, 4, 5, 6]\n",
      "a\n",
      "b\n",
      "Hello\n",
      "Python\n",
      "1\n",
      "2\n",
      "3\n",
      "4\n",
      "5\n",
      "6\n"
     ]
    }
   ],
   "source": [
    "a_1=['a','b','Hello','Python']\n",
    "b_2=[1,2,3,4,5,6]\n",
    "\n",
    "print(len(a_1))\n",
    "print(len(b_2))\n",
    "print(a_1+b_2)\n",
    "print(a_1*3)\n",
    "print(b_2*3)\n",
    "for i in a_1:\n",
    "    print(i)\n",
    "    \n",
    "for i in b_2:\n",
    "    print(i)"
   ]
  },
  {
   "cell_type": "markdown",
   "id": "c453c776",
   "metadata": {},
   "source": [
    "# Copy the list\n"
   ]
  },
  {
   "cell_type": "code",
   "execution_count": 45,
   "id": "cea87e72",
   "metadata": {},
   "outputs": [
    {
     "name": "stdout",
     "output_type": "stream",
     "text": [
      "Original list:  ['Python', 3.14, 14, 2023, True, False, [1, 2, 3, 4, 5, 6], ('Hello World', 3.14, 2023)]\n",
      "Copy list: ['Python', 3.14, 14, 2023, True, False, [1, 2, 3, 4, 5, 6], ('Hello World', 3.14, 2023)]\n"
     ]
    }
   ],
   "source": [
    "nlis1=['Python',3.14,14,2023,True,False,[1,2,3,4,5,6],('Hello World',3.14,2023)]\n",
    "print('Original list: ',nlis1)\n",
    "copy_list=nlis1\n",
    "print(\"Copy list:\",copy_list)"
   ]
  },
  {
   "cell_type": "code",
   "execution_count": 47,
   "id": "8706d1a7",
   "metadata": {},
   "outputs": [
    {
     "name": "stdout",
     "output_type": "stream",
     "text": [
      "['Python', 3.14, 14, 2023, True, False, [1, 2, 3, 4, 5, 6], ('Hello World', 3.14, 2023)]\n",
      "['Python', 3.14, 14, 2023, True, False, [1, 2, 3, 4, 5, 6], ('Hello World', 3.14, 2023)]\n",
      "Copy list[0]:  Python\n",
      "Copy list[0]: Matplotlib\n"
     ]
    }
   ],
   "source": [
    "# The element in the copied list also changes when the element in the original list was changed.\n",
    "# See the following examples:\n",
    "\n",
    "nlis1=['Python',3.14,14,2023,True,False,[1,2,3,4,5,6],('Hello World',3.14,2023)]\n",
    "\n",
    "print(nlis1)\n",
    "copy_list=nlis1\n",
    "print(copy_list)\n",
    "print('Copy list[0]: ',copy_list[0])\n",
    "nlis1[0]='Matplotlib'\n",
    "print('Copy list[0]:',copy_list[0])"
   ]
  },
  {
   "cell_type": "code",
   "execution_count": 50,
   "id": "8076016e",
   "metadata": {},
   "outputs": [
    {
     "name": "stdout",
     "output_type": "stream",
     "text": [
      "['Python', 3.14, 14, 2023, True, False, [1, 2, 3, 4, 5, 6], ('Hello World', 3.14, 2023)]\n",
      "['Python', 3.14, 14, 2023, True, False, [1, 2, 3, 4, 5, 6], ('Hello World', 3.14, 2023)]\n",
      "Clone_list[0]: Python\n",
      "nlis1[0]: Hello World\n"
     ]
    }
   ],
   "source": [
    "# When an element in the original list changed, the element in the clone list does not changed.\n",
    "\n",
    "nlis1=['Python',3.14,14,2023,True,False,[1,2,3,4,5,6],('Hello World',3.14,2023)]\n",
    "\n",
    "print(nlis1)\n",
    "clone_list=nlis1[:]\n",
    "print(clone_list)\n",
    "print('Clone_list[0]:',clone_list[0])\n",
    "nlis1[0]='Hello World'\n",
    "print('nlis1[0]:',nlis1[0])"
   ]
  },
  {
   "cell_type": "markdown",
   "id": "7d656aba",
   "metadata": {},
   "source": [
    "#  Concatenate the list\n",
    "\n"
   ]
  },
  {
   "cell_type": "code",
   "execution_count": 52,
   "id": "10e7e080",
   "metadata": {},
   "outputs": [
    {
     "name": "stdout",
     "output_type": "stream",
     "text": [
      "['a', 'b', 'c', ['d', 'e'], 'f', 1, 2, 3, 4, 5, 6, (7, 8), True, False]\n",
      "['a', 'b', 'c', ['d', 'e'], 'f', 1, 2, 3, 4, 5, 6, (7, 8), True, False]\n"
     ]
    }
   ],
   "source": [
    "a_list=['a','b','c',['d','e'],'f']\n",
    "\n",
    "b_list=[1,2,3,4,5,6,(7,8),True,False]\n",
    "\n",
    "print(a_list+b_list)\n",
    "new_list=a_list+b_list\n",
    "print(new_list)"
   ]
  },
  {
   "cell_type": "markdown",
   "id": "42ed7483",
   "metadata": {},
   "source": [
    "# As different from the list, I also find significant the followint information.\n",
    "\n",
    "\n",
    " * input() function\n",
    "  * input() function in python provides a user of a program supply inputs to the program at runtime."
   ]
  },
  {
   "cell_type": "code",
   "execution_count": 55,
   "id": "6293ac56",
   "metadata": {},
   "outputs": [
    {
     "name": "stdout",
     "output_type": "stream",
     "text": [
      "Enter your text: amit\n",
      "You Entered your text is:  amit\n",
      "<class 'str'>\n"
     ]
    }
   ],
   "source": [
    "text=input('Enter your text: ')\n",
    "\n",
    "print('You Entered your text is: ',text)\n",
    "print(type(text))"
   ]
  },
  {
   "cell_type": "code",
   "execution_count": null,
   "id": "858259c2",
   "metadata": {},
   "outputs": [],
   "source": []
  }
 ],
 "metadata": {
  "kernelspec": {
   "display_name": "Python 3 (ipykernel)",
   "language": "python",
   "name": "python3"
  },
  "language_info": {
   "codemirror_mode": {
    "name": "ipython",
    "version": 3
   },
   "file_extension": ".py",
   "mimetype": "text/x-python",
   "name": "python",
   "nbconvert_exporter": "python",
   "pygments_lexer": "ipython3",
   "version": "3.9.13"
  }
 },
 "nbformat": 4,
 "nbformat_minor": 5
}
