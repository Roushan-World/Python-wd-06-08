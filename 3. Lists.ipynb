{
 "cells": [
  {
   "cell_type": "markdown",
   "id": "934c303a",
   "metadata": {},
   "source": [
    "# 3. Lists in Python\n",
    "\n",
    " * Lists are ordered.\n",
    " * Lists can contain an arbitrary objects.\n",
    " * Lists elemenents can be accessed by index.\n",
    " * Lists can be nested to arbitrary depth.\n",
    " * Lists are mutable.\n",
    " * Lists are dynamic."
   ]
  },
  {
   "cell_type": "code",
   "execution_count": 10,
   "id": "38126e5a",
   "metadata": {},
   "outputs": [
    {
     "name": "stdout",
     "output_type": "stream",
     "text": [
      "['Python', 22, 2023, 1]\n",
      "<class 'list'>\n"
     ]
    }
   ],
   "source": [
    "# Creating a list.\n",
    "\n",
    "nlis=['Python',22,2023,1]\n",
    "print(nlis)\n",
    "print(type(nlis))"
   ]
  },
  {
   "cell_type": "code",
   "execution_count": 11,
   "id": "303f91a4",
   "metadata": {},
   "outputs": [
    {
     "name": "stdout",
     "output_type": "stream",
     "text": [
      "Positive indexing of list: Python\n",
      "Positive indexing of list: 22\n",
      "Positive indexing of list: 2023\n",
      "Positive indexing of list: 1\n"
     ]
    }
   ],
   "source": [
    "# List accessed by positive indexing.\n",
    "print('Positive indexing of list:',nlis[0])\n",
    "print('Positive indexing of list:',nlis[1])\n",
    "print('Positive indexing of list:',nlis[2])\n",
    "print('Positive indexing of list:',nlis[3])"
   ]
  },
  {
   "cell_type": "code",
   "execution_count": 15,
   "id": "e03c43d2",
   "metadata": {},
   "outputs": [
    {
     "name": "stdout",
     "output_type": "stream",
     "text": [
      "Negative indexing of list: 1\n",
      "Negative indexing of list: 2023\n",
      "Negative indexing of list: 22\n",
      "Negative indexing of list: Python\n"
     ]
    }
   ],
   "source": [
    "# List accessed by Negative indexing.\n",
    "print('Negative indexing of list:',nlis[-1])\n",
    "print('Negative indexing of list:',nlis[-2])\n",
    "print('Negative indexing of list:',nlis[-3])\n",
    "print('Negative indexing of list:',nlis[-4])"
   ]
  },
  {
   "cell_type": "code",
   "execution_count": 22,
   "id": "38ca82d1",
   "metadata": {},
   "outputs": [
    {
     "name": "stdout",
     "output_type": "stream",
     "text": [
      "['Python', 22]\n",
      "[2023]\n"
     ]
    }
   ],
   "source": [
    "print(nlis[0:2])\n",
    "print(nlis[2:3])\n"
   ]
  },
  {
   "cell_type": "markdown",
   "id": "2b52b82b",
   "metadata": {},
   "source": [
    "#  What can content a list?\n",
    "\n",
    "\n",
    " * Strings\n",
    " * Floats\n",
    " * Integer\n",
    " * Boolean\n",
    " * Nested List.\n",
    " * Nested Tuple.\n",
    " * Other Data Structures.\n",
    " "
   ]
  },
  {
   "cell_type": "code",
   "execution_count": 23,
   "id": "4239e363",
   "metadata": {},
   "outputs": [
    {
     "name": "stdout",
     "output_type": "stream",
     "text": [
      "['Python', 3.14, 14, 2023, True, False, [1, 2, 3, 4, 5, 6], ('Hello World', 3.14, 2023)]\n",
      "<class 'list'>\n"
     ]
    }
   ],
   "source": [
    "nlis1=['Python',3.14,14,2023,True,False,[1,2,3,4,5,6],('Hello World',3.14,2023)]\n",
    "print(nlis1)\n",
    "print(type(nlis1))"
   ]
  },
  {
   "cell_type": "markdown",
   "id": "495e594c",
   "metadata": {},
   "source": [
    "# List Operations"
   ]
  },
  {
   "cell_type": "code",
   "execution_count": 24,
   "id": "b072fa6e",
   "metadata": {},
   "outputs": [
    {
     "data": {
      "text/plain": [
       "8"
      ]
     },
     "execution_count": 24,
     "metadata": {},
     "output_type": "execute_result"
    }
   ],
   "source": [
    "# lenght\n",
    "\n",
    "len(nlis1)"
   ]
  },
  {
   "cell_type": "markdown",
   "id": "a358c1b5",
   "metadata": {},
   "source": [
    "# Slicing of list"
   ]
  },
  {
   "cell_type": "code",
   "execution_count": 32,
   "id": "4d24886c",
   "metadata": {},
   "outputs": [
    {
     "name": "stdout",
     "output_type": "stream",
     "text": [
      "['Python', 3.14, 14, 2023, True, False, [1, 2, 3, 4, 5, 6], ('Hello World', 3.14, 2023)]\n",
      "[True]\n",
      "[False]\n",
      "[[1, 2, 3, 4, 5, 6]]\n",
      "[('Hello World', 3.14, 2023)]\n"
     ]
    }
   ],
   "source": [
    "nlis1=['Python',3.14,14,2023,True,False,[1,2,3,4,5,6],('Hello World',3.14,2023)]\n",
    "print(nlis1)\n",
    "print(nlis1[4:5])\n",
    "print(nlis1[5:6])\n",
    "print(nlis1[6:7])\n",
    "print(nlis1[7:8])"
   ]
  },
  {
   "cell_type": "code",
   "execution_count": 39,
   "id": "fcd57cc4",
   "metadata": {},
   "outputs": [
    {
     "name": "stdout",
     "output_type": "stream",
     "text": [
      "3\n"
     ]
    }
   ],
   "source": [
    "print(nlis1[6][2])"
   ]
  },
  {
   "cell_type": "markdown",
   "id": "bde29502",
   "metadata": {},
   "source": [
    "# Extending the list\n",
    "\n",
    " * We use the extend() function to add a new element to the list.\n",
    " * With the function, we add more than one element to the list."
   ]
  },
  {
   "cell_type": "code",
   "execution_count": 46,
   "id": "503672d8",
   "metadata": {},
   "outputs": [
    {
     "name": "stdout",
     "output_type": "stream",
     "text": [
      "['Python', 3.14, 14, 2023, True, False, [1, 2, 3, 4, 5, 6], ('Hello World', 3.14, 2023)]\n",
      "['Python', 3.14, 14, 2023, True, False, [1, 2, 3, 4, 5, 6], ('Hello World', 3.14, 2023), 'Ajinkya', 19]\n",
      "['Python', 3.14, 14, 2023, True, False, [1, 2, 3, 4, 5, 6], ('Hello World', 3.14, 2023), 'Ajinkya', 19, 'Amit', 30, 'Rohit Sharm', 45]\n"
     ]
    }
   ],
   "source": [
    "nlis1=['Python',3.14,14,2023,True,False,[1,2,3,4,5,6],('Hello World',3.14,2023)]\n",
    "print(nlis1)\n",
    "\n",
    "nlis1.extend(['Ajinkya',19])\n",
    "print(nlis1)\n",
    "nlis1.extend(['Amit',30,'Rohit Sharm',45])\n",
    "print(nlis1)"
   ]
  },
  {
   "cell_type": "markdown",
   "id": "a3984bfa",
   "metadata": {},
   "source": [
    "# append() method\n",
    "\n",
    " * As differed form the extend() method, with the append() method, we add only one element\n",
    " to the list.\n",
    " * You can see the difference by comparing the above and below codes."
   ]
  },
  {
   "cell_type": "code",
   "execution_count": 51,
   "id": "760a273d",
   "metadata": {},
   "outputs": [
    {
     "name": "stdout",
     "output_type": "stream",
     "text": [
      "['Python', 3.14, 14, 2023, True, False, [1, 2, 3, 4, 5, 6], ('Hello World', 3.14, 2023)]\n",
      "['Python', 3.14, 14, 2023, True, False, [1, 2, 3, 4, 5, 6], ('Hello World', 3.14, 2023), ['hello world', 1.618]]\n",
      "['Python', 3.14, 14, 2023, True, False, [1, 2, 3, 4, 5, 6], ('Hello World', 3.14, 2023), ['hello world', 1.618], ['Amit']]\n"
     ]
    }
   ],
   "source": [
    "nlis1=['Python',3.14,14,2023,True,False,[1,2,3,4,5,6],('Hello World',3.14,2023)]\n",
    "print(nlis1)\n",
    "\n",
    "nlis1.append(['hello world',1.618])\n",
    "print(nlis1)\n",
    "nlis1.append(['Amit'])\n",
    "print(nlis1)"
   ]
  },
  {
   "cell_type": "code",
   "execution_count": 55,
   "id": "6ef0e0ae",
   "metadata": {},
   "outputs": [
    {
     "name": "stdout",
     "output_type": "stream",
     "text": [
      "['Python', 3.14, 14, 2023, True, False, [1, 2, 3, 4, 5, 6], ('Hello World', 3.14, 2023)]\n",
      "['Python', 3.14, 14, 2023, True, False, [1, 2, 3, 4, 5, 6], 8, ('Hello World', 3.14, 2023)]\n"
     ]
    }
   ],
   "source": [
    "# insert() method.\n",
    "nlis1=['Python',3.14,14,2023,True,False,[1,2,3,4,5,6],('Hello World',3.14,2023)]\n",
    "print(nlis1)\n",
    "\n",
    "nlis1.insert(7,8)\n",
    "print(nlis1)"
   ]
  },
  {
   "cell_type": "code",
   "execution_count": null,
   "id": "740ec8cb",
   "metadata": {},
   "outputs": [],
   "source": []
  }
 ],
 "metadata": {
  "kernelspec": {
   "display_name": "Python 3 (ipykernel)",
   "language": "python",
   "name": "python3"
  },
  "language_info": {
   "codemirror_mode": {
    "name": "ipython",
    "version": 3
   },
   "file_extension": ".py",
   "mimetype": "text/x-python",
   "name": "python",
   "nbconvert_exporter": "python",
   "pygments_lexer": "ipython3",
   "version": "3.9.13"
  }
 },
 "nbformat": 4,
 "nbformat_minor": 5
}
