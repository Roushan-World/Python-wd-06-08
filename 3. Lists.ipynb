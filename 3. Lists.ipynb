{
 "cells": [
  {
   "cell_type": "markdown",
   "id": "934c303a",
   "metadata": {},
   "source": [
    "# 3. Lists in Python\n",
    "\n",
    " * Lists are ordered.\n",
    " * Lists can contain an arbitrary objects.\n",
    " * Lists elemenents can be accessed by index.\n",
    " * Lists can be nested to arbitrary depth.\n",
    " * Lists are mutable.\n",
    " * Lists are dynamic."
   ]
  },
  {
   "cell_type": "code",
   "execution_count": 10,
   "id": "38126e5a",
   "metadata": {},
   "outputs": [
    {
     "name": "stdout",
     "output_type": "stream",
     "text": [
      "['Python', 22, 2023, 1]\n",
      "<class 'list'>\n"
     ]
    }
   ],
   "source": [
    "# Creating a list.\n",
    "\n",
    "nlis=['Python',22,2023,1]\n",
    "print(nlis)\n",
    "print(type(nlis))"
   ]
  },
  {
   "cell_type": "code",
   "execution_count": 11,
   "id": "303f91a4",
   "metadata": {},
   "outputs": [
    {
     "name": "stdout",
     "output_type": "stream",
     "text": [
      "Positive indexing of list: Python\n",
      "Positive indexing of list: 22\n",
      "Positive indexing of list: 2023\n",
      "Positive indexing of list: 1\n"
     ]
    }
   ],
   "source": [
    "# List accessed by positive indexing.\n",
    "print('Positive indexing of list:',nlis[0])\n",
    "print('Positive indexing of list:',nlis[1])\n",
    "print('Positive indexing of list:',nlis[2])\n",
    "print('Positive indexing of list:',nlis[3])"
   ]
  },
  {
   "cell_type": "code",
   "execution_count": 15,
   "id": "e03c43d2",
   "metadata": {},
   "outputs": [
    {
     "name": "stdout",
     "output_type": "stream",
     "text": [
      "Negative indexing of list: 1\n",
      "Negative indexing of list: 2023\n",
      "Negative indexing of list: 22\n",
      "Negative indexing of list: Python\n"
     ]
    }
   ],
   "source": [
    "# List accessed by Negative indexing.\n",
    "print('Negative indexing of list:',nlis[-1])\n",
    "print('Negative indexing of list:',nlis[-2])\n",
    "print('Negative indexing of list:',nlis[-3])\n",
    "print('Negative indexing of list:',nlis[-4])"
   ]
  },
  {
   "cell_type": "code",
   "execution_count": 22,
   "id": "38ca82d1",
   "metadata": {},
   "outputs": [
    {
     "name": "stdout",
     "output_type": "stream",
     "text": [
      "['Python', 22]\n",
      "[2023]\n"
     ]
    }
   ],
   "source": [
    "print(nlis[0:2])\n",
    "print(nlis[2:3])\n"
   ]
  },
  {
   "cell_type": "markdown",
   "id": "2b52b82b",
   "metadata": {},
   "source": [
    "#  What can content a list?\n",
    "\n",
    "\n",
    " * Strings\n",
    " * Floats\n",
    " * Integer\n",
    " * Boolean\n",
    " * Nested List.\n",
    " * Nested Tuple.\n",
    " * Other Data Structures.\n",
    " "
   ]
  },
  {
   "cell_type": "code",
   "execution_count": 23,
   "id": "4239e363",
   "metadata": {},
   "outputs": [
    {
     "name": "stdout",
     "output_type": "stream",
     "text": [
      "['Python', 3.14, 14, 2023, True, False, [1, 2, 3, 4, 5, 6], ('Hello World', 3.14, 2023)]\n",
      "<class 'list'>\n"
     ]
    }
   ],
   "source": [
    "nlis1=['Python',3.14,14,2023,True,False,[1,2,3,4,5,6],('Hello World',3.14,2023)]\n",
    "print(nlis1)\n",
    "print(type(nlis1))"
   ]
  },
  {
   "cell_type": "markdown",
   "id": "495e594c",
   "metadata": {},
   "source": [
    "# List Operations"
   ]
  },
  {
   "cell_type": "code",
   "execution_count": 24,
   "id": "b072fa6e",
   "metadata": {},
   "outputs": [
    {
     "data": {
      "text/plain": [
       "8"
      ]
     },
     "execution_count": 24,
     "metadata": {},
     "output_type": "execute_result"
    }
   ],
   "source": [
    "# lenght\n",
    "\n",
    "len(nlis1)"
   ]
  },
  {
   "cell_type": "markdown",
   "id": "a358c1b5",
   "metadata": {},
   "source": [
    "# Slicing of list"
   ]
  },
  {
   "cell_type": "code",
   "execution_count": 32,
   "id": "4d24886c",
   "metadata": {},
   "outputs": [
    {
     "name": "stdout",
     "output_type": "stream",
     "text": [
      "['Python', 3.14, 14, 2023, True, False, [1, 2, 3, 4, 5, 6], ('Hello World', 3.14, 2023)]\n",
      "[True]\n",
      "[False]\n",
      "[[1, 2, 3, 4, 5, 6]]\n",
      "[('Hello World', 3.14, 2023)]\n"
     ]
    }
   ],
   "source": [
    "nlis1=['Python',3.14,14,2023,True,False,[1,2,3,4,5,6],('Hello World',3.14,2023)]\n",
    "print(nlis1)\n",
    "print(nlis1[4:5])\n",
    "print(nlis1[5:6])\n",
    "print(nlis1[6:7])\n",
    "print(nlis1[7:8])"
   ]
  },
  {
   "cell_type": "code",
   "execution_count": 39,
   "id": "fcd57cc4",
   "metadata": {},
   "outputs": [
    {
     "name": "stdout",
     "output_type": "stream",
     "text": [
      "3\n"
     ]
    }
   ],
   "source": [
    "print(nlis1[6][2])"
   ]
  },
  {
   "cell_type": "markdown",
   "id": "bde29502",
   "metadata": {},
   "source": [
    "# Extending the list\n",
    "\n",
    " * We use the extend() function to add a new element to the list.\n",
    " * With the function, we add more than one element to the list."
   ]
  },
  {
   "cell_type": "code",
   "execution_count": 46,
   "id": "503672d8",
   "metadata": {},
   "outputs": [
    {
     "name": "stdout",
     "output_type": "stream",
     "text": [
      "['Python', 3.14, 14, 2023, True, False, [1, 2, 3, 4, 5, 6], ('Hello World', 3.14, 2023)]\n",
      "['Python', 3.14, 14, 2023, True, False, [1, 2, 3, 4, 5, 6], ('Hello World', 3.14, 2023), 'Ajinkya', 19]\n",
      "['Python', 3.14, 14, 2023, True, False, [1, 2, 3, 4, 5, 6], ('Hello World', 3.14, 2023), 'Ajinkya', 19, 'Amit', 30, 'Rohit Sharm', 45]\n"
     ]
    }
   ],
   "source": [
    "nlis1=['Python',3.14,14,2023,True,False,[1,2,3,4,5,6],('Hello World',3.14,2023)]\n",
    "print(nlis1)\n",
    "\n",
    "nlis1.extend(['Ajinkya',19])\n",
    "print(nlis1)\n",
    "nlis1.extend(['Amit',30,'Rohit Sharm',45])\n",
    "print(nlis1)"
   ]
  },
  {
   "cell_type": "markdown",
   "id": "a3984bfa",
   "metadata": {},
   "source": [
    "# append() method\n",
    "\n",
    " * As differed form the extend() method, with the append() method, we add only one element\n",
    " to the list.\n",
    " * You can see the difference by comparing the above and below codes."
   ]
  },
  {
   "cell_type": "code",
   "execution_count": 51,
   "id": "760a273d",
   "metadata": {},
   "outputs": [
    {
     "name": "stdout",
     "output_type": "stream",
     "text": [
      "['Python', 3.14, 14, 2023, True, False, [1, 2, 3, 4, 5, 6], ('Hello World', 3.14, 2023)]\n",
      "['Python', 3.14, 14, 2023, True, False, [1, 2, 3, 4, 5, 6], ('Hello World', 3.14, 2023), ['hello world', 1.618]]\n",
      "['Python', 3.14, 14, 2023, True, False, [1, 2, 3, 4, 5, 6], ('Hello World', 3.14, 2023), ['hello world', 1.618], ['Amit']]\n"
     ]
    }
   ],
   "source": [
    "nlis1=['Python',3.14,14,2023,True,False,[1,2,3,4,5,6],('Hello World',3.14,2023)]\n",
    "print(nlis1)\n",
    "\n",
    "nlis1.append(['hello world',1.618])\n",
    "print(nlis1)\n",
    "nlis1.append(['Amit'])\n",
    "print(nlis1)"
   ]
  },
  {
   "cell_type": "code",
   "execution_count": 55,
   "id": "6ef0e0ae",
   "metadata": {},
   "outputs": [
    {
     "name": "stdout",
     "output_type": "stream",
     "text": [
      "['Python', 3.14, 14, 2023, True, False, [1, 2, 3, 4, 5, 6], ('Hello World', 3.14, 2023)]\n",
      "['Python', 3.14, 14, 2023, True, False, [1, 2, 3, 4, 5, 6], 8, ('Hello World', 3.14, 2023)]\n"
     ]
    }
   ],
   "source": [
    "# insert() method.\n",
    "nlis1=['Python',3.14,14,2023,True,False,[1,2,3,4,5,6],('Hello World',3.14,2023)]\n",
    "print(nlis1)\n",
    "\n",
    "nlis1.insert(7,8)\n",
    "print(nlis1)"
   ]
  },
  {
   "cell_type": "markdown",
   "id": "f2c70ff0",
   "metadata": {},
   "source": [
    "# Changing the element of a list since it is mutable.\n",
    "\n"
   ]
  },
  {
   "cell_type": "code",
   "execution_count": 7,
   "id": "447c58ac",
   "metadata": {},
   "outputs": [
    {
     "name": "stdout",
     "output_type": "stream",
     "text": [
      "Before Changing: ['Python', 3.14, 14, 2023, True, False, [1, 2, 3, 4, 5, 6], ('Hello World', 3.14, 2023)]\n",
      "After Changing: ['Amit', 3.14, 14, 2023, True, False, [1, 2, 3, 4, 5, 6], ('Hello World', 3.14, 2023)]\n",
      "After Changing: ['Amit', 3.14, 14, 2023, True, False, [1, 2, 3, 4, 5, 'E'], ('Hello World', 3.14, 2023)]\n"
     ]
    },
    {
     "ename": "TypeError",
     "evalue": "'tuple' object does not support item assignment",
     "output_type": "error",
     "traceback": [
      "\u001b[1;31m---------------------------------------------------------------------------\u001b[0m",
      "\u001b[1;31mTypeError\u001b[0m                                 Traceback (most recent call last)",
      "\u001b[1;32m~\\AppData\\Local\\Temp\\ipykernel_15384\\1350289021.py\u001b[0m in \u001b[0;36m<module>\u001b[1;34m\u001b[0m\n\u001b[0;32m      8\u001b[0m \u001b[0mnlis1\u001b[0m\u001b[1;33m[\u001b[0m\u001b[1;36m6\u001b[0m\u001b[1;33m]\u001b[0m\u001b[1;33m[\u001b[0m\u001b[1;36m5\u001b[0m\u001b[1;33m]\u001b[0m\u001b[1;33m=\u001b[0m\u001b[1;34m'E'\u001b[0m\u001b[1;33m\u001b[0m\u001b[1;33m\u001b[0m\u001b[0m\n\u001b[0;32m      9\u001b[0m \u001b[0mprint\u001b[0m\u001b[1;33m(\u001b[0m\u001b[1;34m'After Changing:'\u001b[0m\u001b[1;33m,\u001b[0m\u001b[0mnlis1\u001b[0m\u001b[1;33m)\u001b[0m\u001b[1;33m\u001b[0m\u001b[1;33m\u001b[0m\u001b[0m\n\u001b[1;32m---> 10\u001b[1;33m \u001b[0mnlis1\u001b[0m\u001b[1;33m[\u001b[0m\u001b[1;36m7\u001b[0m\u001b[1;33m]\u001b[0m\u001b[1;33m[\u001b[0m\u001b[1;36m0\u001b[0m\u001b[1;33m]\u001b[0m\u001b[1;33m=\u001b[0m\u001b[1;34m'Ajinkya'\u001b[0m\u001b[1;33m\u001b[0m\u001b[1;33m\u001b[0m\u001b[0m\n\u001b[0m\u001b[0;32m     11\u001b[0m \u001b[0mprint\u001b[0m\u001b[1;33m(\u001b[0m\u001b[1;34m'After Changing:'\u001b[0m\u001b[1;33m,\u001b[0m\u001b[0mnlis1\u001b[0m\u001b[1;33m)\u001b[0m\u001b[1;33m\u001b[0m\u001b[1;33m\u001b[0m\u001b[0m\n",
      "\u001b[1;31mTypeError\u001b[0m: 'tuple' object does not support item assignment"
     ]
    }
   ],
   "source": [
    "nlis1=['Python',3.14,14,2023,True,False,[1,2,3,4,5,6],('Hello World',3.14,2023)]\n",
    "\n",
    "\n",
    "print('Before Changing:',nlis1)\n",
    "nlis1[0]='Amit'\n",
    "print('After Changing:',nlis1)\n",
    "\n",
    "nlis1[6][5]='E'\n",
    "print('After Changing:',nlis1)\n",
    "nlis1[7][0]='Ajinkya'\n",
    "print('After Changing:',nlis1)"
   ]
  },
  {
   "cell_type": "markdown",
   "id": "0c2eb18b",
   "metadata": {},
   "source": [
    "# Deleting the element from the list using del() function."
   ]
  },
  {
   "cell_type": "code",
   "execution_count": 12,
   "id": "0800e69c",
   "metadata": {},
   "outputs": [
    {
     "name": "stdout",
     "output_type": "stream",
     "text": [
      "Before Deleting: ['Python', 3.14, 14, 2023, True, False, [1, 2, 3, 4, 5, 6], ('Hello World', 3.14, 2023)]\n",
      "After Deleting: ['Python', 3.14, 14, 2023, True, [1, 2, 3, 4, 5, 6], ('Hello World', 3.14, 2023)]\n",
      "After Deleting: ['Python', 3.14, 14, 2023, True, [1, 2, 3, 4, 5], ('Hello World', 3.14, 2023)]\n"
     ]
    },
    {
     "ename": "TypeError",
     "evalue": "'tuple' object doesn't support item deletion",
     "output_type": "error",
     "traceback": [
      "\u001b[1;31m---------------------------------------------------------------------------\u001b[0m",
      "\u001b[1;31mTypeError\u001b[0m                                 Traceback (most recent call last)",
      "\u001b[1;32m~\\AppData\\Local\\Temp\\ipykernel_15384\\1305037231.py\u001b[0m in \u001b[0;36m<module>\u001b[1;34m\u001b[0m\n\u001b[0;32m      5\u001b[0m \u001b[1;32mdel\u001b[0m\u001b[1;33m(\u001b[0m\u001b[0mnlis1\u001b[0m\u001b[1;33m[\u001b[0m\u001b[1;36m5\u001b[0m\u001b[1;33m]\u001b[0m\u001b[1;33m[\u001b[0m\u001b[1;36m5\u001b[0m\u001b[1;33m]\u001b[0m\u001b[1;33m)\u001b[0m\u001b[1;33m\u001b[0m\u001b[1;33m\u001b[0m\u001b[0m\n\u001b[0;32m      6\u001b[0m \u001b[0mprint\u001b[0m\u001b[1;33m(\u001b[0m\u001b[1;34m'After Deleting:'\u001b[0m\u001b[1;33m,\u001b[0m\u001b[0mnlis1\u001b[0m\u001b[1;33m)\u001b[0m\u001b[1;33m\u001b[0m\u001b[1;33m\u001b[0m\u001b[0m\n\u001b[1;32m----> 7\u001b[1;33m \u001b[1;32mdel\u001b[0m\u001b[1;33m(\u001b[0m\u001b[0mnlis1\u001b[0m\u001b[1;33m[\u001b[0m\u001b[1;36m6\u001b[0m\u001b[1;33m]\u001b[0m\u001b[1;33m[\u001b[0m\u001b[1;36m0\u001b[0m\u001b[1;33m]\u001b[0m\u001b[1;33m)\u001b[0m\u001b[1;33m\u001b[0m\u001b[1;33m\u001b[0m\u001b[0m\n\u001b[0m\u001b[0;32m      8\u001b[0m \u001b[0mprint\u001b[0m\u001b[1;33m(\u001b[0m\u001b[1;34m'After Deleting:'\u001b[0m\u001b[1;33m,\u001b[0m\u001b[0mnlis1\u001b[0m\u001b[1;33m)\u001b[0m\u001b[1;33m\u001b[0m\u001b[1;33m\u001b[0m\u001b[0m\n",
      "\u001b[1;31mTypeError\u001b[0m: 'tuple' object doesn't support item deletion"
     ]
    }
   ],
   "source": [
    "nlis1=['Python',3.14,14,2023,True,False,[1,2,3,4,5,6],('Hello World',3.14,2023)]\n",
    "print('Before Deleting:',nlis1)\n",
    "del(nlis1[5])\n",
    "print('After Deleting:',nlis1)\n",
    "del(nlis1[5][5])\n",
    "print('After Deleting:',nlis1)\n",
    "del(nlis1[6][0])\n",
    "print('After Deleting:',nlis1)"
   ]
  },
  {
   "cell_type": "code",
   "execution_count": 13,
   "id": "378345c5",
   "metadata": {},
   "outputs": [
    {
     "name": "stdout",
     "output_type": "stream",
     "text": [
      "Before Deleting: ['Python', 3.14, 14, 2023, True, False, [1, 2, 3, 4, 5, 6], ('Hello World', 3.14, 2023)]\n",
      "After Deletion: ['Python', 3.14, 14, 2023, True, False, [1, 2, 3, 4, 5, 6]]\n"
     ]
    }
   ],
   "source": [
    "nlis1=['Python',3.14,14,2023,True,False,[1,2,3,4,5,6],('Hello World',3.14,2023)]\n",
    "print('Before Deleting:',nlis1)\n",
    "del(nlis1[7])\n",
    "print('After Deletion:',nlis1)"
   ]
  },
  {
   "cell_type": "markdown",
   "id": "24a87792",
   "metadata": {},
   "source": [
    "# Conversion of a string into a list by using split() function."
   ]
  },
  {
   "cell_type": "code",
   "execution_count": 14,
   "id": "c2af7f4f",
   "metadata": {},
   "outputs": [
    {
     "data": {
      "text/plain": [
       "['Python', 'is', 'a', 'programming', 'language.']"
      ]
     },
     "execution_count": 14,
     "metadata": {},
     "output_type": "execute_result"
    }
   ],
   "source": [
    "message='Python is a programming language.'\n",
    "\n",
    "message.split()"
   ]
  },
  {
   "cell_type": "code",
   "execution_count": 19,
   "id": "defa9887",
   "metadata": {},
   "outputs": [
    {
     "data": {
      "text/plain": [
       "['Ajinkya', 'kad']"
      ]
     },
     "execution_count": 19,
     "metadata": {},
     "output_type": "execute_result"
    }
   ],
   "source": [
    "msg='Ajinkya kad'\n",
    "msg.split()"
   ]
  },
  {
   "cell_type": "markdown",
   "id": "ab4705bb",
   "metadata": {},
   "source": [
    "# Use of split() function with a delimiter."
   ]
  },
  {
   "cell_type": "code",
   "execution_count": 23,
   "id": "830bc41f",
   "metadata": {},
   "outputs": [
    {
     "data": {
      "text/plain": [
       "['A', 'j', 'i', 'n', 'k', 'y', 'a', 'k', 'a', 'd']"
      ]
     },
     "execution_count": 23,
     "metadata": {},
     "output_type": "execute_result"
    }
   ],
   "source": [
    "text='A,j,i,n,k,y,a,k,a,d'\n",
    "text.split(\",\")"
   ]
  },
  {
   "cell_type": "code",
   "execution_count": 34,
   "id": "2d305992",
   "metadata": {},
   "outputs": [
    {
     "name": "stdout",
     "output_type": "stream",
     "text": [
      "<class 'str'>\n",
      "A,B,C,D,E,F,G,H,I,J\n"
     ]
    }
   ],
   "source": [
    "text1='A,B,C,D,E,F,G,H,I,J'\n",
    "print(type(text1))\n",
    "text1[3]\n",
    "print(text1)\n",
    "\n"
   ]
  },
  {
   "cell_type": "code",
   "execution_count": 31,
   "id": "75668d9f",
   "metadata": {},
   "outputs": [
    {
     "data": {
      "text/plain": [
       "['A', 'B', 'C', 'D', 'E', 'F', 'G', 'H', 'I', 'J']"
      ]
     },
     "execution_count": 31,
     "metadata": {},
     "output_type": "execute_result"
    }
   ],
   "source": [
    "text1='A,B,C,D,E,F,G,H,I,J'\n",
    "\n",
    "text1.split(',')\n"
   ]
  },
  {
   "cell_type": "code",
   "execution_count": 33,
   "id": "535148d9",
   "metadata": {},
   "outputs": [
    {
     "name": "stdout",
     "output_type": "stream",
     "text": [
      "<class 'list'>\n",
      "D\n"
     ]
    }
   ],
   "source": [
    "z=['A', 'B', 'C', 'D', 'E', 'F', 'G', 'H', 'I', 'J']\n",
    "print(type(z))\n",
    "print(z[3])"
   ]
  },
  {
   "cell_type": "markdown",
   "id": "83251e98",
   "metadata": {},
   "source": [
    "# Basic operations of list"
   ]
  },
  {
   "cell_type": "code",
   "execution_count": 43,
   "id": "2fd2f60d",
   "metadata": {},
   "outputs": [
    {
     "name": "stdout",
     "output_type": "stream",
     "text": [
      "4\n",
      "6\n",
      "['a', 'b', 'Hello', 'Python', 1, 2, 3, 4, 5, 6]\n",
      "['a', 'b', 'Hello', 'Python', 'a', 'b', 'Hello', 'Python', 'a', 'b', 'Hello', 'Python']\n",
      "[1, 2, 3, 4, 5, 6, 1, 2, 3, 4, 5, 6, 1, 2, 3, 4, 5, 6]\n",
      "a\n",
      "b\n",
      "Hello\n",
      "Python\n",
      "1\n",
      "2\n",
      "3\n",
      "4\n",
      "5\n",
      "6\n"
     ]
    }
   ],
   "source": [
    "a_1=['a','b','Hello','Python']\n",
    "b_2=[1,2,3,4,5,6]\n",
    "\n",
    "print(len(a_1))\n",
    "print(len(b_2))\n",
    "print(a_1+b_2)\n",
    "print(a_1*3)\n",
    "print(b_2*3)\n",
    "for i in a_1:\n",
    "    print(i)\n",
    "    \n",
    "for i in b_2:\n",
    "    print(i)"
   ]
  },
  {
   "cell_type": "markdown",
   "id": "903e7b40",
   "metadata": {},
   "source": [
    "# Copy the list\n"
   ]
  },
  {
   "cell_type": "code",
   "execution_count": 45,
   "id": "21a94122",
   "metadata": {},
   "outputs": [
    {
     "name": "stdout",
     "output_type": "stream",
     "text": [
      "Original list:  ['Python', 3.14, 14, 2023, True, False, [1, 2, 3, 4, 5, 6], ('Hello World', 3.14, 2023)]\n",
      "Copy list: ['Python', 3.14, 14, 2023, True, False, [1, 2, 3, 4, 5, 6], ('Hello World', 3.14, 2023)]\n"
     ]
    }
   ],
   "source": [
    "nlis1=['Python',3.14,14,2023,True,False,[1,2,3,4,5,6],('Hello World',3.14,2023)]\n",
    "print('Original list: ',nlis1)\n",
    "copy_list=nlis1\n",
    "print(\"Copy list:\",copy_list)"
   ]
  },
  {
   "cell_type": "code",
   "execution_count": 47,
   "id": "a17e9438",
   "metadata": {},
   "outputs": [
    {
     "name": "stdout",
     "output_type": "stream",
     "text": [
      "['Python', 3.14, 14, 2023, True, False, [1, 2, 3, 4, 5, 6], ('Hello World', 3.14, 2023)]\n",
      "['Python', 3.14, 14, 2023, True, False, [1, 2, 3, 4, 5, 6], ('Hello World', 3.14, 2023)]\n",
      "Copy list[0]:  Python\n",
      "Copy list[0]: Matplotlib\n"
     ]
    }
   ],
   "source": [
    "# The element in the copied list also changes when the element in the original list was changed.\n",
    "# See the following examples:\n",
    "\n",
    "nlis1=['Python',3.14,14,2023,True,False,[1,2,3,4,5,6],('Hello World',3.14,2023)]\n",
    "\n",
    "print(nlis1)\n",
    "copy_list=nlis1\n",
    "print(copy_list)\n",
    "print('Copy list[0]: ',copy_list[0])\n",
    "nlis1[0]='Matplotlib'\n",
    "print('Copy list[0]:',copy_list[0])"
   ]
  },
  {
   "cell_type": "code",
   "execution_count": 50,
   "id": "a8d494b6",
   "metadata": {},
   "outputs": [
    {
     "name": "stdout",
     "output_type": "stream",
     "text": [
      "['Python', 3.14, 14, 2023, True, False, [1, 2, 3, 4, 5, 6], ('Hello World', 3.14, 2023)]\n",
      "['Python', 3.14, 14, 2023, True, False, [1, 2, 3, 4, 5, 6], ('Hello World', 3.14, 2023)]\n",
      "Clone_list[0]: Python\n",
      "nlis1[0]: Hello World\n"
     ]
    }
   ],
   "source": [
    "# When an element in the original list changed, the element in the clone list does not changed.\n",
    "\n",
    "nlis1=['Python',3.14,14,2023,True,False,[1,2,3,4,5,6],('Hello World',3.14,2023)]\n",
    "\n",
    "print(nlis1)\n",
    "clone_list=nlis1[:]\n",
    "print(clone_list)\n",
    "print('Clone_list[0]:',clone_list[0])\n",
    "nlis1[0]='Hello World'\n",
    "print('nlis1[0]:',nlis1[0])"
   ]
  },
  {
   "cell_type": "markdown",
   "id": "5a7db4aa",
   "metadata": {},
   "source": [
    "#  Concatenate the list\n",
    "\n"
   ]
  },
  {
   "cell_type": "code",
   "execution_count": 52,
   "id": "8df1a7d3",
   "metadata": {},
   "outputs": [
    {
     "name": "stdout",
     "output_type": "stream",
     "text": [
      "['a', 'b', 'c', ['d', 'e'], 'f', 1, 2, 3, 4, 5, 6, (7, 8), True, False]\n",
      "['a', 'b', 'c', ['d', 'e'], 'f', 1, 2, 3, 4, 5, 6, (7, 8), True, False]\n"
     ]
    }
   ],
   "source": [
    "a_list=['a','b','c',['d','e'],'f']\n",
    "\n",
    "b_list=[1,2,3,4,5,6,(7,8),True,False]\n",
    "\n",
    "print(a_list+b_list)\n",
    "new_list=a_list+b_list\n",
    "print(new_list)"
   ]
  },
  {
   "cell_type": "markdown",
   "id": "c853aa62",
   "metadata": {},
   "source": [
    "# As different from the list, I also find significant the followint information.\n",
    "\n",
    "\n",
    " * input() function\n",
    "  * input() function in python provides a user of a program supply inputs to the program at runtime."
   ]
  },
  {
   "cell_type": "code",
   "execution_count": 2,
   "id": "2a7155ab",
   "metadata": {},
   "outputs": [
    {
     "name": "stdout",
     "output_type": "stream",
     "text": [
      "Enter your text: 69\n",
      "You Entered your text is:  69\n",
      "<class 'str'>\n"
     ]
    }
   ],
   "source": [
    "text=input('Enter your text: ')\n",
    "\n",
    "print('You Entered your text is: ',text)\n",
    "print(type(text))"
   ]
  },
  {
   "cell_type": "code",
   "execution_count": 3,
   "id": "0a79400e",
   "metadata": {},
   "outputs": [
    {
     "name": "stdout",
     "output_type": "stream",
     "text": [
      "Enter your text: 456\n",
      "You Entered your text is:  456\n",
      "<class 'int'>\n"
     ]
    }
   ],
   "source": [
    "text1=int(input('Enter your text: '))\n",
    "print('You Entered your text is: ',text1)\n",
    "print(type(text1))"
   ]
  },
  {
   "cell_type": "code",
   "execution_count": 5,
   "id": "525be61d",
   "metadata": {},
   "outputs": [
    {
     "name": "stdout",
     "output_type": "stream",
     "text": [
      "Enter your text: 789.023\n",
      "You Entered your text is:  789.023\n",
      "<class 'float'>\n"
     ]
    }
   ],
   "source": [
    "text1=float(input('Enter your text: '))\n",
    "print('You Entered your text is: ',text1)\n",
    "print(type(text1))"
   ]
  },
  {
   "cell_type": "markdown",
   "id": "c38908db",
   "metadata": {},
   "source": [
    "# eval() functions.\n",
    "\n",
    " * This function serves the aim of converting a string to an integer or a float."
   ]
  },
  {
   "cell_type": "code",
   "execution_count": 17,
   "id": "b6dd93f3",
   "metadata": {},
   "outputs": [
    {
     "name": "stdout",
     "output_type": "stream",
     "text": [
      "8+7\n",
      "<class 'str'>\n",
      "Sum of the expression is:  15\n",
      "<class 'int'>\n"
     ]
    }
   ],
   "source": [
    "experssion='8+7'\n",
    "print(experssion)\n",
    "print(type(experssion))\n",
    "\n",
    "total=eval(experssion)\n",
    "print('Sum of the expression is: ',total)\n",
    "print(type(total))"
   ]
  },
  {
   "cell_type": "code",
   "execution_count": 20,
   "id": "1e802e9e",
   "metadata": {},
   "outputs": [
    {
     "name": "stdout",
     "output_type": "stream",
     "text": [
      "8+7.23\n",
      "<class 'str'>\n",
      "Sum of the expression is:  15.23\n",
      "<class 'float'>\n"
     ]
    }
   ],
   "source": [
    "experssion='8+7.23'\n",
    "print(experssion)\n",
    "print(type(experssion))\n",
    "\n",
    "total=eval(experssion)\n",
    "print('Sum of the expression is: ',total)\n",
    "print(type(total))"
   ]
  },
  {
   "cell_type": "markdown",
   "id": "33b395e8",
   "metadata": {},
   "source": [
    "# format() function\n",
    " * This function helps to format the output pointed on the screen with good look and attractive."
   ]
  },
  {
   "cell_type": "code",
   "execution_count": 10,
   "id": "b12f860d",
   "metadata": {},
   "outputs": [
    {
     "name": "stdout",
     "output_type": "stream",
     "text": [
      "Enter First number: 23\n",
      "Enter Second number: 23\n",
      "46.0\n",
      "The sum of Two number that is 78 and 78 is : 46.0\n",
      "The sum of 23.0 and 23.0 is 46.0.\n"
     ]
    }
   ],
   "source": [
    "a = float(input('Enter First number: '))\n",
    "b = float(input('Enter Second number: '))\n",
    "\n",
    "total= a+b\n",
    "print(total)\n",
    "print('The sum of Two number that is 78 and 78 is :',total)\n",
    "print('The sum of {} and {} is {}.'.format(a,b,total))"
   ]
  },
  {
   "cell_type": "code",
   "execution_count": 36,
   "id": "362a4dc4",
   "metadata": {},
   "outputs": [
    {
     "name": "stdout",
     "output_type": "stream",
     "text": [
      "Enter your favorite fruit: Apple\n",
      "Enter your favorite food: Biryani\n",
      "I like Apple and Biryani.\n",
      "I like Biryani and Apple\n",
      "I like Apple and Biryani\n",
      "I like Biryani and Apple\n"
     ]
    }
   ],
   "source": [
    "a= input('Enter your favorite fruit: ')\n",
    "b= input('Enter your favorite food: ')\n",
    "print('I like {} and {}.'.format(a,b))\n",
    "print('I like {} and {}'.format(b,a))\n",
    "print('I like {0} and {1}'.format(a,b))\n",
    "print('I like {1} and {0}'.format(a,b))"
   ]
  },
  {
   "cell_type": "markdown",
   "id": "a6ffae53",
   "metadata": {},
   "source": [
    "# Comparison Operators\n",
    "\n",
    " * The operators such as <,>,<=,>=,== and != compare the certain two operands and return True of False."
   ]
  },
  {
   "cell_type": "code",
   "execution_count": 42,
   "id": "7afc429a",
   "metadata": {},
   "outputs": [
    {
     "name": "stdout",
     "output_type": "stream",
     "text": [
      "a>b is: True\n",
      "a<b is: False\n",
      "a<=b is: False\n",
      "a>=b is: True\n",
      "a==b is: False\n",
      "a!=b is: True\n"
     ]
    }
   ],
   "source": [
    "a = 3.14\n",
    "b= 1.618\n",
    "\n",
    "print('a>b is:',a>b)\n",
    "print('a<b is:',a<b)\n",
    "print('a<=b is:',a<=b)\n",
    "print('a>=b is:',a>=b)\n",
    "print('a==b is:',a==b)\n",
    "print('a!=b is:',a!=b)"
   ]
  },
  {
   "cell_type": "markdown",
   "id": "a8a6c609",
   "metadata": {},
   "source": [
    "# Logical operators\n",
    " * The operators including and, or, not are utilised to bring two conditions together and access them. \n",
    " * The  output returns True or False."
   ]
  },
  {
   "cell_type": "code",
   "execution_count": 4,
   "id": "36d8258c",
   "metadata": {},
   "outputs": [
    {
     "name": "stdout",
     "output_type": "stream",
     "text": [
      "True\n",
      "False\n",
      "False\n",
      "True\n",
      "False\n"
     ]
    }
   ],
   "source": [
    "a = 3.14\n",
    "b = 2.718\n",
    "c = 12\n",
    "d = 3.14\n",
    "\n",
    "print(a>b and c>a)\n",
    "print(b>c and d>a)\n",
    "print(b<c and d>a)\n",
    "print(not a==b)\n",
    "print(not a==d)\n"
   ]
  },
  {
   "cell_type": "code",
   "execution_count": 9,
   "id": "5449608b",
   "metadata": {},
   "outputs": [
    {
     "name": "stdout",
     "output_type": "stream",
     "text": [
      "True\n",
      "False\n",
      "True\n",
      "True\n",
      "False\n"
     ]
    }
   ],
   "source": [
    "a = 3.14\n",
    "b = 2.718\n",
    "c = 12\n",
    "d = 3.14\n",
    "\n",
    "print(a>b or c>a)\n",
    "print(b>c or d>a)\n",
    "print(b<c or d>a)\n",
    "print(not a==b)\n",
    "print(not a==d)"
   ]
  },
  {
   "cell_type": "markdown",
   "id": "35848fd9",
   "metadata": {},
   "source": [
    "# Assignment operators\n",
    "\n",
    " * The operators including =, +=, -=, /=,%=, //=, *=, &=, \\=, ^=, >>= and <<= are employed to \n",
    " evaluate a value to a variable."
   ]
  },
  {
   "cell_type": "code",
   "execution_count": 10,
   "id": "28ec3ad5",
   "metadata": {},
   "outputs": [
    {
     "name": "stdout",
     "output_type": "stream",
     "text": [
      "8.14\n"
     ]
    }
   ],
   "source": [
    "x = 3.14\n",
    "x+=5\n",
    "print(x)"
   ]
  },
  {
   "cell_type": "code",
   "execution_count": 11,
   "id": "f2ea64dd",
   "metadata": {},
   "outputs": [
    {
     "name": "stdout",
     "output_type": "stream",
     "text": [
      "5.140000000000001\n"
     ]
    }
   ],
   "source": [
    "x-=3\n",
    "print(x)"
   ]
  },
  {
   "cell_type": "code",
   "execution_count": 12,
   "id": "c731a5df",
   "metadata": {},
   "outputs": [
    {
     "name": "stdout",
     "output_type": "stream",
     "text": [
      "1.028\n"
     ]
    }
   ],
   "source": [
    "x/=5\n",
    "print(x)"
   ]
  },
  {
   "cell_type": "code",
   "execution_count": 16,
   "id": "342283e4",
   "metadata": {},
   "outputs": [
    {
     "name": "stdout",
     "output_type": "stream",
     "text": [
      "1.2\n"
     ]
    }
   ],
   "source": [
    "x = 6\n",
    "x/=5\n",
    "print(x)"
   ]
  },
  {
   "cell_type": "markdown",
   "id": "0b19325c",
   "metadata": {},
   "source": [
    "# Identity operators\n",
    "\n",
    " * The operators is or is not are employed to control if the operands or objects to the left and right of these operators are referring to a value stored in the same memory location and return True or False."
   ]
  },
  {
   "cell_type": "code",
   "execution_count": 31,
   "id": "ed483710",
   "metadata": {},
   "outputs": [
    {
     "name": "stdout",
     "output_type": "stream",
     "text": [
      "False\n",
      "True\n",
      "False\n",
      "True\n",
      "False\n",
      "True\n"
     ]
    }
   ],
   "source": [
    "a = 3.14\n",
    "b= 1.618\n",
    "print(a is b)\n",
    "print(a is not b)\n",
    "msg1='Hello, python'\n",
    "msg2= 'Hello, World'\n",
    "print(msg1 is msg2)\n",
    "print(msg1 is not msg2)\n",
    "\n",
    "lis1=[1,2,3,4,5]\n",
    "lis2=[1,2,3,4,5]\n",
    "print(lis1 is lis2)\n",
    "print(lis1 is not lis2)"
   ]
  },
  {
   "cell_type": "markdown",
   "id": "464b354f",
   "metadata": {},
   "source": [
    "# Membership operators\n",
    " * These operators including in and not in are employed to check if the certain value is available in the \n",
    " Sequence of value and return True or False."
   ]
  },
  {
   "cell_type": "code",
   "execution_count": 35,
   "id": "fc1d04b2",
   "metadata": {},
   "outputs": [
    {
     "name": "stdout",
     "output_type": "stream",
     "text": [
      "False\n",
      "True\n",
      "False\n"
     ]
    }
   ],
   "source": [
    "nlis=['Hello',6,7,8,9,10,{'name':'python'},{1,2,3},[1,2,3]]\n",
    "\n",
    "print(5 in nlis)\n",
    "print('Hello' in nlis)\n",
    "print('Hello' not in  nlis)"
   ]
  },
  {
   "cell_type": "code",
   "execution_count": 9,
   "id": "17844fd7",
   "metadata": {},
   "outputs": [
    {
     "name": "stdout",
     "output_type": "stream",
     "text": [
      "<class 'str'>\n",
      "15\n",
      "<class 'int'>\n"
     ]
    }
   ],
   "source": [
    "x='8+7'\n",
    "print(type(x))\n",
    "y=eval(x)\n",
    "print(y)\n",
    "print(type(y))"
   ]
  },
  {
   "cell_type": "code",
   "execution_count": 16,
   "id": "3b9141fa",
   "metadata": {},
   "outputs": [
    {
     "name": "stdout",
     "output_type": "stream",
     "text": [
      "Enter any number: 78\n",
      "Enter second number: 89\n",
      "167\n",
      "The addition of two value is 23 and 23 is: 167\n",
      "The addition of 78 and 89 is 167.\n"
     ]
    }
   ],
   "source": [
    "x=int(input('Enter any number: '))\n",
    "y=int(input('Enter second number: '))\n",
    "\n",
    "z=x+y\n",
    "print(z)\n",
    "print('The addition of two value is 23 and 23 is:',z)\n",
    "\n",
    "print('The addition of {} and {} is {}.'.format(x,y,z))"
   ]
  },
  {
   "cell_type": "code",
   "execution_count": null,
   "id": "649d108e",
   "metadata": {},
   "outputs": [],
   "source": []
  }
 ],
 "metadata": {
  "kernelspec": {
   "display_name": "Python 3 (ipykernel)",
   "language": "python",
   "name": "python3"
  },
  "language_info": {
   "codemirror_mode": {
    "name": "ipython",
    "version": 3
   },
   "file_extension": ".py",
   "mimetype": "text/x-python",
   "name": "python",
   "nbconvert_exporter": "python",
   "pygments_lexer": "ipython3",
   "version": "3.9.13"
  }
 },
 "nbformat": 4,
 "nbformat_minor": 5
}
