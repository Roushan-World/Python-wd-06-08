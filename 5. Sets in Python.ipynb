{
 "cells": [
  {
   "cell_type": "markdown",
   "id": "e449f2f7",
   "metadata": {},
   "source": [
    "# 5. Sets in Python\n",
    " \n",
    " \n",
    " * Sets is one of the 4 built-in data types in Python used to store collections of data including List, Tuples and Dictionary.\n",
    " * Sets are unordered, but you can remove item and add new items.\n",
    " * Set elements are unique, Duplicate elements are now allowed.\n",
    " * A set itself may be modified, but the elements contained in the set must be of an immutable type.\n",
    " * Sets are used to store multiple items in a single variable.\n",
    " * You can denote a set with a pair of curly brackets {}."
   ]
  },
  {
   "cell_type": "code",
   "execution_count": 4,
   "id": "2108037a",
   "metadata": {},
   "outputs": [
    {
     "data": {
      "text/plain": [
       "dict"
      ]
     },
     "execution_count": 4,
     "metadata": {},
     "output_type": "execute_result"
    }
   ],
   "source": [
    "# The empty set of curly braces denotes the empty dictionary, not empty set.\n",
    "\n",
    "x = {}\n",
    "type(x)"
   ]
  },
  {
   "cell_type": "code",
   "execution_count": 5,
   "id": "843158dd",
   "metadata": {},
   "outputs": [
    {
     "data": {
      "text/plain": [
       "set"
      ]
     },
     "execution_count": 5,
     "metadata": {},
     "output_type": "execute_result"
    }
   ],
   "source": [
    "# To take a set without element, use set() function without ony items.\n",
    "x=set()\n",
    "type(x)"
   ]
  },
  {
   "cell_type": "code",
   "execution_count": 6,
   "id": "7b4160b0",
   "metadata": {},
   "outputs": [
    {
     "name": "stdout",
     "output_type": "stream",
     "text": [
      "{False, 1.618, True, 3.14, 'Hello Python', 'Hello world', 2023}\n"
     ]
    }
   ],
   "source": [
    "# Take a sample set.\n",
    "\n",
    "set1={'Hello world',3.14,1.618,'Hello Python',3.14,1.618,True,False,2023}\n",
    "print(set1)"
   ]
  },
  {
   "cell_type": "markdown",
   "id": "64ce1c8a",
   "metadata": {},
   "source": [
    "# Converting list to set."
   ]
  },
  {
   "cell_type": "code",
   "execution_count": 9,
   "id": "f85d10fc",
   "metadata": {},
   "outputs": [
    {
     "name": "stdout",
     "output_type": "stream",
     "text": [
      "['Hello world', 3.14, 1.618, 'Hello Python', 3.14, 1.618, True, False, 2023]\n",
      "<class 'list'>\n",
      "{False, 1.618, True, 3.14, 'Hello world', 2023, 'Hello Python'}\n",
      "<class 'set'>\n"
     ]
    }
   ],
   "source": [
    "x=['Hello world',3.14,1.618,'Hello Python',3.14,1.618,True,False,2023]\n",
    "print(x)\n",
    "print(type(x))\n",
    "\n",
    "set2=set(x)\n",
    "print(set2)\n",
    "print(type(set2))"
   ]
  },
  {
   "cell_type": "code",
   "execution_count": 10,
   "id": "bba1e278",
   "metadata": {},
   "outputs": [
    {
     "name": "stdout",
     "output_type": "stream",
     "text": [
      "{False, 1.618, True, 3.14, 'Hello world', 2023, 'Hello Python'}\n",
      "<class 'set'>\n"
     ]
    }
   ],
   "source": [
    "set3=set(['Hello world',3.14,1.618,'Hello Python',3.14,1.618,True,False,2023])\n",
    "print(set3)\n",
    "print(type(set3))"
   ]
  },
  {
   "cell_type": "markdown",
   "id": "f5327841",
   "metadata": {},
   "source": [
    "# add()\n",
    "\n",
    " * To add an element into a set, we use the function add(). If the same element is added to the set , nothing will happen because the set accepts no duplicates."
   ]
  },
  {
   "cell_type": "code",
   "execution_count": 14,
   "id": "afdf4659",
   "metadata": {},
   "outputs": [
    {
     "name": "stdout",
     "output_type": "stream",
     "text": [
      "{False, 1.618, True, 3.14, 'Hello world', 2023, 'Hello Python', 'Ajinkya'}\n",
      "{False, 1.618, True, 3.14, 'Hello world', 2023, 'Hello Python', 'Ajinkya'}\n"
     ]
    }
   ],
   "source": [
    "set3=set(['Hello world',3.14,1.618,'Hello Python',3.14,1.618,True,False,2023])\n",
    "\n",
    "set3.add('Ajinkya')\n",
    "print(set3)\n",
    "set3.add('Ajinkya')\n",
    "print(set3)"
   ]
  },
  {
   "cell_type": "code",
   "execution_count": 15,
   "id": "2c5ffd3a",
   "metadata": {},
   "outputs": [
    {
     "name": "stdout",
     "output_type": "stream",
     "text": [
      "{False, 1.618, True, 3.14, 'Hello world', 'Amit', 2023, 'Hello Python', 'Ajinkya'}\n"
     ]
    }
   ],
   "source": [
    "set3.add('Amit')\n",
    "print(set3)"
   ]
  },
  {
   "cell_type": "markdown",
   "id": "bf14372d",
   "metadata": {},
   "source": [
    "# Update() function\n",
    "\n",
    "To add multiple element into the set"
   ]
  },
  {
   "cell_type": "code",
   "execution_count": 17,
   "id": "856ccdd7",
   "metadata": {},
   "outputs": [
    {
     "name": "stdout",
     "output_type": "stream",
     "text": [
      "{8, 9, 6, 7}\n",
      "{3, 4, 5, 6, 7, 8, 9}\n"
     ]
    }
   ],
   "source": [
    "x_set={6,7,8,9}\n",
    "print(x_set)\n",
    "\n",
    "x_set.update({3,4,5,6,7,8})\n",
    "print(x_set)"
   ]
  },
  {
   "cell_type": "markdown",
   "id": "562d7bd8",
   "metadata": {},
   "source": [
    "# remove() function\n",
    "\n",
    "* To remove an element from the set.\n",
    "\n"
   ]
  },
  {
   "cell_type": "code",
   "execution_count": 21,
   "id": "946a2c3b",
   "metadata": {},
   "outputs": [
    {
     "data": {
      "text/plain": [
       "{1.618, 2023, 3.14, False, 'Hello world', True}"
      ]
     },
     "execution_count": 21,
     "metadata": {},
     "output_type": "execute_result"
    }
   ],
   "source": [
    "set3=set(['Hello world',3.14,1.618,'Hello Python',3.14,1.618,True,False,2023])\n",
    "\n",
    "set3.remove('Hello Python')\n",
    "set3"
   ]
  },
  {
   "cell_type": "code",
   "execution_count": 22,
   "id": "6879d9c3",
   "metadata": {},
   "outputs": [
    {
     "data": {
      "text/plain": [
       "{1.618, 2023, False, 'Hello world', True}"
      ]
     },
     "execution_count": 22,
     "metadata": {},
     "output_type": "execute_result"
    }
   ],
   "source": [
    "set3.remove(3.14)\n",
    "set3"
   ]
  },
  {
   "cell_type": "code",
   "execution_count": 23,
   "id": "f31410f4",
   "metadata": {},
   "outputs": [
    {
     "data": {
      "text/plain": [
       "False"
      ]
     },
     "execution_count": 23,
     "metadata": {},
     "output_type": "execute_result"
    }
   ],
   "source": [
    "# To verify if element in the set.\n",
    "\n",
    "3.14 in set3"
   ]
  },
  {
   "cell_type": "code",
   "execution_count": 24,
   "id": "44f295a6",
   "metadata": {},
   "outputs": [
    {
     "data": {
      "text/plain": [
       "True"
      ]
     },
     "execution_count": 24,
     "metadata": {},
     "output_type": "execute_result"
    }
   ],
   "source": [
    "False in set3"
   ]
  },
  {
   "cell_type": "code",
   "execution_count": 25,
   "id": "c205de27",
   "metadata": {},
   "outputs": [
    {
     "data": {
      "text/plain": [
       "False"
      ]
     },
     "execution_count": 25,
     "metadata": {},
     "output_type": "execute_result"
    }
   ],
   "source": [
    "'Amit' in set3"
   ]
  },
  {
   "cell_type": "code",
   "execution_count": 26,
   "id": "037579bd",
   "metadata": {},
   "outputs": [
    {
     "data": {
      "text/plain": [
       "{1.618, 2023, False, 'Hello world', True}"
      ]
     },
     "execution_count": 26,
     "metadata": {},
     "output_type": "execute_result"
    }
   ],
   "source": [
    "set3"
   ]
  },
  {
   "cell_type": "code",
   "execution_count": 27,
   "id": "3e980757",
   "metadata": {},
   "outputs": [
    {
     "data": {
      "text/plain": [
       "{1.618, 2023, 'Amit', False, 'Hello world', True}"
      ]
     },
     "execution_count": 27,
     "metadata": {},
     "output_type": "execute_result"
    }
   ],
   "source": [
    "set3.add('Amit')\n",
    "set3"
   ]
  },
  {
   "cell_type": "code",
   "execution_count": 28,
   "id": "2f025405",
   "metadata": {},
   "outputs": [
    {
     "data": {
      "text/plain": [
       "True"
      ]
     },
     "execution_count": 28,
     "metadata": {},
     "output_type": "execute_result"
    }
   ],
   "source": [
    "'Amit' in set3"
   ]
  },
  {
   "cell_type": "markdown",
   "id": "0fce2cb6",
   "metadata": {},
   "source": [
    "# Logic operations in Sets\n",
    "\n"
   ]
  },
  {
   "cell_type": "code",
   "execution_count": 1,
   "id": "48e71074",
   "metadata": {},
   "outputs": [
    {
     "name": "stdout",
     "output_type": "stream",
     "text": [
      "{1.618, 3.14, 'Hello world', 2023, 2045}\n",
      "{False, 1.618, True, 3.14, 2023}\n"
     ]
    }
   ],
   "source": [
    "set4={'Hello world',3.14,2023,1.618,2045}\n",
    "\n",
    "set5={3.14,2023,1.618,True, False}\n",
    "\n",
    "print(set4)\n",
    "print(set5)"
   ]
  },
  {
   "cell_type": "code",
   "execution_count": 2,
   "id": "c78cfeb6",
   "metadata": {},
   "outputs": [
    {
     "data": {
      "text/plain": [
       "({1.618, 2023, 2045, 3.14, 'Hello world'}, {False, True, 1.618, 3.14, 2023})"
      ]
     },
     "execution_count": 2,
     "metadata": {},
     "output_type": "execute_result"
    }
   ],
   "source": [
    "# Other method of printing set.\n",
    "set4,set5"
   ]
  },
  {
   "cell_type": "markdown",
   "id": "2a01cf4b",
   "metadata": {},
   "source": [
    "# To find the intersect of two sets using &"
   ]
  },
  {
   "cell_type": "code",
   "execution_count": 3,
   "id": "95c65ddb",
   "metadata": {},
   "outputs": [
    {
     "name": "stdout",
     "output_type": "stream",
     "text": [
      "{1.618, 3.14, 2023}\n"
     ]
    }
   ],
   "source": [
    "set4={'Hello world',3.14,2023,1.618,2045}\n",
    "\n",
    "set5={3.14,2023,1.618,True, False}\n",
    "\n",
    "\n",
    "intersection=set4&set5\n",
    "print(intersection)"
   ]
  },
  {
   "cell_type": "markdown",
   "id": "50733106",
   "metadata": {},
   "source": [
    "# To find intersect of two sets, use intersection method"
   ]
  },
  {
   "cell_type": "code",
   "execution_count": 4,
   "id": "e5d345e0",
   "metadata": {},
   "outputs": [
    {
     "data": {
      "text/plain": [
       "{1.618, 3.14, 2023}"
      ]
     },
     "execution_count": 4,
     "metadata": {},
     "output_type": "execute_result"
    }
   ],
   "source": [
    "set4.intersection(set5)   # The output is the same as that of above."
   ]
  },
  {
   "cell_type": "markdown",
   "id": "f7b3d52e",
   "metadata": {},
   "source": [
    "# Difference() function\n",
    "\n",
    " * To find the difference between two sets."
   ]
  },
  {
   "cell_type": "code",
   "execution_count": 9,
   "id": "06fe1b7e",
   "metadata": {},
   "outputs": [
    {
     "name": "stdout",
     "output_type": "stream",
     "text": [
      "{2045, 'Hello world'}\n",
      "{False, True}\n",
      "{2045, 'Hello world'}\n",
      "{False, True}\n"
     ]
    }
   ],
   "source": [
    "set4={'Hello world',3.14,2023,1.618,2045}\n",
    "\n",
    "set5={3.14,2023,1.618,True, False}\n",
    "\n",
    "\n",
    "print(set4.difference(set5))\n",
    "print(set5.difference(set4))\n",
    "\n",
    "\n",
    "# The same process can make using substraction operators\n",
    "\n",
    "print(set4-set5)\n",
    "print(set5-set4)"
   ]
  },
  {
   "cell_type": "markdown",
   "id": "f5bf01f9",
   "metadata": {},
   "source": [
    "# union() function\n",
    "\n",
    " * It corresponds to all the elements in both sets.\n",
    " \n",
    " \n",
    " "
   ]
  },
  {
   "cell_type": "code",
   "execution_count": 10,
   "id": "cf5b6624",
   "metadata": {},
   "outputs": [
    {
     "data": {
      "text/plain": [
       "{1.618, 2023, 2045, 3.14, False, 'Hello world', True}"
      ]
     },
     "execution_count": 10,
     "metadata": {},
     "output_type": "execute_result"
    }
   ],
   "source": [
    "set4.union(set5)"
   ]
  },
  {
   "cell_type": "markdown",
   "id": "6dad95c9",
   "metadata": {},
   "source": [
    "# min(), max() and sum() functions."
   ]
  },
  {
   "cell_type": "code",
   "execution_count": 17,
   "id": "7dbaece9",
   "metadata": {},
   "outputs": [
    {
     "name": "stdout",
     "output_type": "stream",
     "text": [
      "The minimum number of a is: 1\n",
      "The maximum number of a is: 8\n",
      "The minimum number of b is: 1\n",
      "The maximum number of b is: 25\n",
      "The sum of a is: 44\n",
      "The sum of b is: 65\n"
     ]
    }
   ],
   "source": [
    "a=[1,1,1,2,2,2,2,3,4,5,6,7,8]\n",
    "b=[1,1,1,2,2,2,3,2,25,5,5,6,5,5]\n",
    "\n",
    "print('The minimum number of a is:',min(a))\n",
    "print('The maximum number of a is:',max(a))\n",
    "print('The minimum number of b is:',min(b))\n",
    "print(\"The maximum number of b is:\",max(b))\n",
    "print('The sum of a is:', sum(a))\n",
    "print('The sum of b is:', sum(b))"
   ]
  },
  {
   "cell_type": "markdown",
   "id": "176be000",
   "metadata": {},
   "source": [
    "#  No mutable sequence in a set\n",
    "\n",
    " * A set can not have mutable sequence element in such as list, dictionary in it. If any, it returns error are as follow:"
   ]
  },
  {
   "cell_type": "code",
   "execution_count": 19,
   "id": "251432b4",
   "metadata": {},
   "outputs": [
    {
     "data": {
      "text/plain": [
       "{(1, 2, 3), 1, 2, 3, 'Python'}"
      ]
     },
     "execution_count": 19,
     "metadata": {},
     "output_type": "execute_result"
    }
   ],
   "source": [
    "# set accept the tuple data type because it is immutable and set is also.\n",
    "set6={'Python',1,2,3,(1,2,3)}\n",
    "set6"
   ]
  },
  {
   "cell_type": "code",
   "execution_count": 20,
   "id": "77cb00ce",
   "metadata": {},
   "outputs": [
    {
     "ename": "TypeError",
     "evalue": "unhashable type: 'list'",
     "output_type": "error",
     "traceback": [
      "\u001b[1;31m---------------------------------------------------------------------------\u001b[0m",
      "\u001b[1;31mTypeError\u001b[0m                                 Traceback (most recent call last)",
      "\u001b[1;32m~\\AppData\\Local\\Temp\\ipykernel_10940\\1217784769.py\u001b[0m in \u001b[0;36m<module>\u001b[1;34m\u001b[0m\n\u001b[1;32m----> 1\u001b[1;33m \u001b[0mset7\u001b[0m\u001b[1;33m=\u001b[0m\u001b[1;33m{\u001b[0m\u001b[1;34m'Python'\u001b[0m\u001b[1;33m,\u001b[0m\u001b[1;36m1\u001b[0m\u001b[1;33m,\u001b[0m\u001b[1;36m2\u001b[0m\u001b[1;33m,\u001b[0m\u001b[1;36m3\u001b[0m\u001b[1;33m,\u001b[0m\u001b[1;33m[\u001b[0m\u001b[1;36m1\u001b[0m\u001b[1;33m,\u001b[0m\u001b[1;36m2\u001b[0m\u001b[1;33m,\u001b[0m\u001b[1;36m3\u001b[0m\u001b[1;33m]\u001b[0m\u001b[1;33m}\u001b[0m\u001b[1;33m\u001b[0m\u001b[1;33m\u001b[0m\u001b[0m\n\u001b[0m\u001b[0;32m      2\u001b[0m \u001b[0mset7\u001b[0m\u001b[1;33m\u001b[0m\u001b[1;33m\u001b[0m\u001b[0m\n",
      "\u001b[1;31mTypeError\u001b[0m: unhashable type: 'list'"
     ]
    }
   ],
   "source": [
    "# Set do not accept the list data type.\n",
    "set7={'Python',1,2,3,[1,2,3]}\n",
    "set7"
   ]
  },
  {
   "cell_type": "markdown",
   "id": "1f3a476e",
   "metadata": {},
   "source": [
    "# Index() function\n",
    "\n",
    " * This function does not work in set since the set is unordered collection."
   ]
  },
  {
   "cell_type": "code",
   "execution_count": 21,
   "id": "61384f03",
   "metadata": {},
   "outputs": [
    {
     "ename": "TypeError",
     "evalue": "'set' object is not subscriptable",
     "output_type": "error",
     "traceback": [
      "\u001b[1;31m---------------------------------------------------------------------------\u001b[0m",
      "\u001b[1;31mTypeError\u001b[0m                                 Traceback (most recent call last)",
      "\u001b[1;32m~\\AppData\\Local\\Temp\\ipykernel_10940\\1969095296.py\u001b[0m in \u001b[0;36m<module>\u001b[1;34m\u001b[0m\n\u001b[0;32m      1\u001b[0m \u001b[0mset8\u001b[0m\u001b[1;33m=\u001b[0m\u001b[1;33m{\u001b[0m\u001b[1;36m1\u001b[0m\u001b[1;33m,\u001b[0m\u001b[1;36m2\u001b[0m\u001b[1;33m,\u001b[0m\u001b[1;36m3\u001b[0m\u001b[1;33m,\u001b[0m\u001b[1;36m4\u001b[0m\u001b[1;33m}\u001b[0m\u001b[1;33m\u001b[0m\u001b[1;33m\u001b[0m\u001b[0m\n\u001b[1;32m----> 2\u001b[1;33m \u001b[0mset8\u001b[0m\u001b[1;33m[\u001b[0m\u001b[1;36m2\u001b[0m\u001b[1;33m]\u001b[0m\u001b[1;33m\u001b[0m\u001b[1;33m\u001b[0m\u001b[0m\n\u001b[0m",
      "\u001b[1;31mTypeError\u001b[0m: 'set' object is not subscriptable"
     ]
    }
   ],
   "source": [
    "set8={1,2,3,4}\n",
    "set8[2]"
   ]
  },
  {
   "cell_type": "markdown",
   "id": "d554502a",
   "metadata": {},
   "source": [
    "# Copy the set\n",
    "\n"
   ]
  },
  {
   "cell_type": "code",
   "execution_count": 26,
   "id": "1d71e9f0",
   "metadata": {},
   "outputs": [
    {
     "name": "stdout",
     "output_type": "stream",
     "text": [
      "{1, 3, 5, 7, 9}\n",
      "{1, 3, 5, 7, 9}\n",
      "{1, 3, 5, 7, 9, 11}\n",
      "{1, 3, 5, 7, 9, 11}\n"
     ]
    },
    {
     "data": {
      "text/plain": [
       "\" \\nAs you see that althogh the number 11 is added into the set9, the added number is also added into the set 'set10'\\n\""
      ]
     },
     "execution_count": 26,
     "metadata": {},
     "output_type": "execute_result"
    }
   ],
   "source": [
    "set9={1,3,5,7,9}\n",
    "\n",
    "print(set9)\n",
    "\n",
    "set10=set9\n",
    "\n",
    "print(set10)\n",
    "\n",
    "set9.add(11)\n",
    "print(set9)\n",
    "print(set10)\n",
    "\n",
    "\"\"\" \n",
    "As you see that althogh the number 11 is added into the set9, the added number is also added into the set 'set10'\n",
    "\n",
    "\"\"\""
   ]
  },
  {
   "cell_type": "markdown",
   "id": "b26027e3",
   "metadata": {},
   "source": [
    "# Clear() function\n",
    "\n",
    " It removes all elements in the set and then do the set empty."
   ]
  },
  {
   "cell_type": "code",
   "execution_count": 28,
   "id": "ffadba6d",
   "metadata": {},
   "outputs": [
    {
     "name": "stdout",
     "output_type": "stream",
     "text": [
      "{0, 1, 2, 3, 4, 5, 6, 7, 8, 9}\n",
      "set()\n"
     ]
    }
   ],
   "source": [
    "x = {0,1,2,3,4,5,6,7,8,9}\n",
    "\n",
    "print(x)\n",
    "\n",
    "x.clear()\n",
    "\n",
    "print(x)"
   ]
  },
  {
   "cell_type": "markdown",
   "id": "fcc6c9ee",
   "metadata": {},
   "source": [
    "# pop() function\n",
    "\n",
    " * It removes and return as arbitrary set element.."
   ]
  },
  {
   "cell_type": "code",
   "execution_count": 29,
   "id": "d2653a49",
   "metadata": {},
   "outputs": [
    {
     "name": "stdout",
     "output_type": "stream",
     "text": [
      "{0, 1, 2, 3, 4, 5, 6, 7, 8, 9}\n",
      "{1, 2, 3, 4, 5, 6, 7, 8, 9}\n"
     ]
    }
   ],
   "source": [
    "x = {0,1,2,3,4,5,6,7,8,9}\n",
    "print(x)\n",
    "\n",
    "x.pop()\n",
    "print(x)"
   ]
  },
  {
   "cell_type": "markdown",
   "id": "b033fa75",
   "metadata": {},
   "source": [
    "# copy() function\n",
    "\n",
    " * It returns a shallow copy of the original set"
   ]
  },
  {
   "cell_type": "code",
   "execution_count": 33,
   "id": "dafa9a92",
   "metadata": {},
   "outputs": [
    {
     "name": "stdout",
     "output_type": "stream",
     "text": [
      "{1, 3, 5, 7, 9}\n",
      "{1, 3, 5, 7, 9}\n",
      "{1, 3, 5, 7, 9, 12}\n",
      "{1, 3, 5, 7, 9}\n"
     ]
    }
   ],
   "source": [
    "\n",
    "\n",
    "set8={1,3,5,7,9}\n",
    "print(set8)\n",
    "\n",
    "set9=set8.copy()\n",
    "print(set9)\n",
    "\n",
    "set8.add(12)\n",
    "print(set8)\n",
    "print(set9)"
   ]
  },
  {
   "cell_type": "code",
   "execution_count": null,
   "id": "93cacf3c",
   "metadata": {},
   "outputs": [],
   "source": []
  }
 ],
 "metadata": {
  "kernelspec": {
   "display_name": "Python 3 (ipykernel)",
   "language": "python",
   "name": "python3"
  },
  "language_info": {
   "codemirror_mode": {
    "name": "ipython",
    "version": 3
   },
   "file_extension": ".py",
   "mimetype": "text/x-python",
   "name": "python",
   "nbconvert_exporter": "python",
   "pygments_lexer": "ipython3",
   "version": "3.9.13"
  }
 },
 "nbformat": 4,
 "nbformat_minor": 5
}
