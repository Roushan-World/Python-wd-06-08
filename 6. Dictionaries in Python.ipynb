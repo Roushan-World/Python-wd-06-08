{
 "cells": [
  {
   "cell_type": "markdown",
   "id": "838cf34e",
   "metadata": {},
   "source": [
    "# 6. Dictionaries in Python\n",
    "\n",
    " * Dictionaries are used to store data values in key: value pair.\n",
    " * A dictionary is a collection which is ordered, changeable, mutable and do not allow duplicates.\n",
    " * Dictionary items are ordered, changeable, and does not allow duplicates.\n",
    " * Dictionary items are presented key: value pair and can be referred to by using the key name.\n",
    " * Dictionaries are changeable, meaning that we can change, add or remove items afger the dictionary has been created.\n",
    " * Dictionaries cannot have two pairs with the same key.\n",
    " * A Dictionary can nested and can contains another dictionary.\n",
    " \n",
    "              Key-----------------Values\n",
    "             'name'--------------'Johns'\n",
    "             'age'---------------25\n",
    "             'job'---------------'Engineer'\n",
    "             'city'--------------'goa'\n",
    "             'email'------------'john@web.com'"
   ]
  },
  {
   "cell_type": "code",
   "execution_count": 3,
   "id": "d368dced",
   "metadata": {},
   "outputs": [
    {
     "data": {
      "text/plain": [
       "dict"
      ]
     },
     "execution_count": 3,
     "metadata": {},
     "output_type": "execute_result"
    }
   ],
   "source": [
    "sample_dict={}\n",
    "type(sample_dict)"
   ]
  },
  {
   "cell_type": "code",
   "execution_count": 4,
   "id": "66d13aa3",
   "metadata": {},
   "outputs": [
    {
     "data": {
      "text/plain": [
       "{'key_1': 3.14,\n",
       " 'key_2': 1.618,\n",
       " 'key_3': True,\n",
       " 'key_4': [3.14, 1.618],\n",
       " 'key_5': (3.14, 1.618),\n",
       " 'key_6': 2023,\n",
       " 'key_7': 'Hello World'}"
      ]
     },
     "execution_count": 4,
     "metadata": {},
     "output_type": "execute_result"
    }
   ],
   "source": [
    "sample_dict={'key_1':3.14,'key_2':1.618,\n",
    "            'key_3':True,'key_4':[3.14,1.618],\n",
    "            'key_5':(3.14,1.618),'key_6':2023,\n",
    "            'key_7':'Hello World'}\n",
    "sample_dict"
   ]
  },
  {
   "cell_type": "code",
   "execution_count": 5,
   "id": "8534e0d2",
   "metadata": {},
   "outputs": [
    {
     "data": {
      "text/plain": [
       "dict"
      ]
     },
     "execution_count": 5,
     "metadata": {},
     "output_type": "execute_result"
    }
   ],
   "source": [
    "type(sample_dict)"
   ]
  },
  {
   "cell_type": "code",
   "execution_count": 6,
   "id": "1483f5f3",
   "metadata": {},
   "outputs": [
    {
     "data": {
      "text/plain": [
       "{'name': 'Amit Khale',\n",
       " 'age': 37,\n",
       " 'Gender': 'Male',\n",
       " 'contact No:': 12345678910,\n",
       " 'email': 'amit@webasha.com',\n",
       " 'city': 'Pune'}"
      ]
     },
     "execution_count": 6,
     "metadata": {},
     "output_type": "execute_result"
    }
   ],
   "source": [
    "person={'name':'Amit Khale',\n",
    "       'age':37,\n",
    "       'Gender':'Male',\n",
    "       'contact No:':12345678910,\n",
    "       'email':'amit@webasha.com',\n",
    "       'city':'Pune'}\n",
    "person"
   ]
  },
  {
   "cell_type": "code",
   "execution_count": 8,
   "id": "fb4f704b",
   "metadata": {},
   "outputs": [
    {
     "data": {
      "text/plain": [
       "dict_keys(['name', 'age', 'Gender', 'contact No:', 'email', 'city'])"
      ]
     },
     "execution_count": 8,
     "metadata": {},
     "output_type": "execute_result"
    }
   ],
   "source": [
    "person.keys()"
   ]
  },
  {
   "cell_type": "code",
   "execution_count": 9,
   "id": "042b06c1",
   "metadata": {},
   "outputs": [
    {
     "data": {
      "text/plain": [
       "dict_values(['Amit Khale', 37, 'Male', 12345678910, 'amit@webasha.com', 'Pune'])"
      ]
     },
     "execution_count": 9,
     "metadata": {},
     "output_type": "execute_result"
    }
   ],
   "source": [
    "person.values()"
   ]
  },
  {
   "cell_type": "code",
   "execution_count": null,
   "id": "a1f6298e",
   "metadata": {},
   "outputs": [],
   "source": []
  }
 ],
 "metadata": {
  "kernelspec": {
   "display_name": "Python 3 (ipykernel)",
   "language": "python",
   "name": "python3"
  },
  "language_info": {
   "codemirror_mode": {
    "name": "ipython",
    "version": 3
   },
   "file_extension": ".py",
   "mimetype": "text/x-python",
   "name": "python",
   "nbconvert_exporter": "python",
   "pygments_lexer": "ipython3",
   "version": "3.9.13"
  }
 },
 "nbformat": 4,
 "nbformat_minor": 5
}
