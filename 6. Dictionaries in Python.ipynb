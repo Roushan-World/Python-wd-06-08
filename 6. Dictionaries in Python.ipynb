{
 "cells": [
  {
   "cell_type": "markdown",
   "id": "ae296317",
   "metadata": {},
   "source": [
    "# 6. Dictionaries in Python\n",
    "\n",
    " * Dictionaries are used to store data values in key: value pair.\n",
    " * A dictionary is a collection which is ordered, changeable, mutable and do not allow duplicates.\n",
    " * Dictionary items are ordered, changeable, and does not allow duplicates.\n",
    " * Dictionary items are presented key: value pair and can be referred to by using the key name.\n",
    " * Dictionaries are changeable, meaning that we can change, add or remove items afger the dictionary has been created.\n",
    " * Dictionaries cannot have two pairs with the same key.\n",
    " * A Dictionary can nested and can contains another dictionary.\n",
    " \n",
    "              Key-----------------Values\n",
    "             'name'--------------'Johns'\n",
    "             'age'---------------25\n",
    "             'job'---------------'Engineer'\n",
    "             'city'--------------'goa'\n",
    "             'email'------------'john@web.com'"
   ]
  },
  {
   "cell_type": "code",
   "execution_count": 3,
   "id": "99781aa2",
   "metadata": {},
   "outputs": [
    {
     "data": {
      "text/plain": [
       "dict"
      ]
     },
     "execution_count": 3,
     "metadata": {},
     "output_type": "execute_result"
    }
   ],
   "source": [
    "sample_dict={}\n",
    "type(sample_dict)"
   ]
  },
  {
   "cell_type": "code",
   "execution_count": 4,
   "id": "3652f8fc",
   "metadata": {},
   "outputs": [
    {
     "data": {
      "text/plain": [
       "{'key_1': 3.14,\n",
       " 'key_2': 1.618,\n",
       " 'key_3': True,\n",
       " 'key_4': [3.14, 1.618],\n",
       " 'key_5': (3.14, 1.618),\n",
       " 'key_6': 2023,\n",
       " 'key_7': 'Hello World'}"
      ]
     },
     "execution_count": 4,
     "metadata": {},
     "output_type": "execute_result"
    }
   ],
   "source": [
    "sample_dict={'key_1':3.14,'key_2':1.618,\n",
    "            'key_3':True,'key_4':[3.14,1.618],\n",
    "            'key_5':(3.14,1.618),'key_6':2023,\n",
    "            'key_7':'Hello World'}\n",
    "sample_dict"
   ]
  },
  {
   "cell_type": "code",
   "execution_count": 5,
   "id": "d12f597b",
   "metadata": {},
   "outputs": [
    {
     "data": {
      "text/plain": [
       "dict"
      ]
     },
     "execution_count": 5,
     "metadata": {},
     "output_type": "execute_result"
    }
   ],
   "source": [
    "type(sample_dict)"
   ]
  },
  {
   "cell_type": "code",
   "execution_count": 1,
   "id": "cdce47d7",
   "metadata": {},
   "outputs": [
    {
     "data": {
      "text/plain": [
       "{'name': 'Amit Khale',\n",
       " 'age': 37,\n",
       " 'Gender': 'Male',\n",
       " 'contact No:': 12345678910,\n",
       " 'email': 'amit@webasha.com',\n",
       " 'city': 'Pune'}"
      ]
     },
     "execution_count": 1,
     "metadata": {},
     "output_type": "execute_result"
    }
   ],
   "source": [
    "person={'name':'Amit Khale',\n",
    "       'age':37,\n",
    "       'Gender':'Male',\n",
    "       'contact No:':12345678910,\n",
    "       'email':'amit@webasha.com',\n",
    "       'city':'Pune'}\n",
    "person"
   ]
  },
  {
   "cell_type": "code",
   "execution_count": 2,
   "id": "b3c938d3",
   "metadata": {},
   "outputs": [
    {
     "data": {
      "text/plain": [
       "dict_keys(['name', 'age', 'Gender', 'contact No:', 'email', 'city'])"
      ]
     },
     "execution_count": 2,
     "metadata": {},
     "output_type": "execute_result"
    }
   ],
   "source": [
    "person.keys()"
   ]
  },
  {
   "cell_type": "code",
   "execution_count": 3,
   "id": "4027d266",
   "metadata": {},
   "outputs": [
    {
     "data": {
      "text/plain": [
       "dict_values(['Amit Khale', 37, 'Male', 12345678910, 'amit@webasha.com', 'Pune'])"
      ]
     },
     "execution_count": 3,
     "metadata": {},
     "output_type": "execute_result"
    }
   ],
   "source": [
    "person.values()"
   ]
  },
  {
   "cell_type": "markdown",
   "id": "f207e180",
   "metadata": {},
   "source": [
    "# Note:- As you see that the wholw dictionary is enclosed in curly braces, each key is separated from its value by a column \":\" , and comma are used to separate the items in the dictionary. "
   ]
  },
  {
   "cell_type": "code",
   "execution_count": 12,
   "id": "bae4265a",
   "metadata": {},
   "outputs": [
    {
     "name": "stdout",
     "output_type": "stream",
     "text": [
      "Amit Khale\n",
      "37\n",
      "Male\n",
      "Amit Khale\n",
      "Pune\n",
      "12345678910\n",
      "amit@webasha.com\n"
     ]
    }
   ],
   "source": [
    "# Retrieving the value by key.\n",
    "\n",
    "print(person['name'])\n",
    "print(person['age'])\n",
    "print(person['Gender'])\n",
    "print(person['name'])\n",
    "print(person['city'])\n",
    "print(person['contact No:'])\n",
    "print(person['email'])"
   ]
  },
  {
   "cell_type": "code",
   "execution_count": 13,
   "id": "db438a0f",
   "metadata": {},
   "outputs": [
    {
     "data": {
      "text/plain": [
       "dict_keys(['name', 'age', 'Gender', 'contact No:', 'email', 'city'])"
      ]
     },
     "execution_count": 13,
     "metadata": {},
     "output_type": "execute_result"
    }
   ],
   "source": [
    "person.keys()"
   ]
  },
  {
   "cell_type": "code",
   "execution_count": 14,
   "id": "42ac3932",
   "metadata": {},
   "outputs": [
    {
     "data": {
      "text/plain": [
       "dict_values(['Amit Khale', 37, 'Male', 12345678910, 'amit@webasha.com', 'Pune'])"
      ]
     },
     "execution_count": 14,
     "metadata": {},
     "output_type": "execute_result"
    }
   ],
   "source": [
    "person.values()"
   ]
  },
  {
   "cell_type": "code",
   "execution_count": 15,
   "id": "f483695e",
   "metadata": {},
   "outputs": [
    {
     "data": {
      "text/plain": [
       "{'name': 'Amit Khale',\n",
       " 'age': 37,\n",
       " 'Gender': 'Male',\n",
       " 'contact No:': 12345678910,\n",
       " 'email': 'amit@webasha.com',\n",
       " 'city': 'Pune'}"
      ]
     },
     "execution_count": 15,
     "metadata": {},
     "output_type": "execute_result"
    }
   ],
   "source": [
    "person"
   ]
  },
  {
   "cell_type": "markdown",
   "id": "3434dfd7",
   "metadata": {},
   "source": [
    "# Addition of a new key:values pair in the dictionary."
   ]
  },
  {
   "cell_type": "code",
   "execution_count": 17,
   "id": "aa52df6a",
   "metadata": {},
   "outputs": [
    {
     "data": {
      "text/plain": [
       "{'name': 'Amit Khale',\n",
       " 'age': 37,\n",
       " 'Gender': 'Male',\n",
       " 'contact No:': 12345678910,\n",
       " 'email': 'amit@webasha.com',\n",
       " 'city': 'Pune',\n",
       " 'Weight': 60.78}"
      ]
     },
     "execution_count": 17,
     "metadata": {},
     "output_type": "execute_result"
    }
   ],
   "source": [
    "person['Weight']=60.78\n",
    "person"
   ]
  },
  {
   "cell_type": "code",
   "execution_count": 18,
   "id": "72031ae8",
   "metadata": {},
   "outputs": [
    {
     "data": {
      "text/plain": [
       "{'name': 'Amit Khale',\n",
       " 'age': 37,\n",
       " 'Gender': 'Male',\n",
       " 'contact No:': 12345678910,\n",
       " 'email': 'amit@webasha.com',\n",
       " 'city': 'Pune',\n",
       " 'Weight': 60.78,\n",
       " 'Height': 7.5}"
      ]
     },
     "execution_count": 18,
     "metadata": {},
     "output_type": "execute_result"
    }
   ],
   "source": [
    "person['Height']=7.5\n",
    "person"
   ]
  },
  {
   "cell_type": "code",
   "execution_count": 20,
   "id": "077fad80",
   "metadata": {},
   "outputs": [
    {
     "data": {
      "text/plain": [
       "dict_keys(['name', 'age', 'Gender', 'contact No:', 'email', 'city', 'Weight', 'Height'])"
      ]
     },
     "execution_count": 20,
     "metadata": {},
     "output_type": "execute_result"
    }
   ],
   "source": [
    "person.keys()"
   ]
  },
  {
   "cell_type": "code",
   "execution_count": 21,
   "id": "d5f90c8d",
   "metadata": {},
   "outputs": [
    {
     "data": {
      "text/plain": [
       "dict_values(['Amit Khale', 37, 'Male', 12345678910, 'amit@webasha.com', 'Pune', 60.78, 7.5])"
      ]
     },
     "execution_count": 21,
     "metadata": {},
     "output_type": "execute_result"
    }
   ],
   "source": [
    "person.values()"
   ]
  },
  {
   "cell_type": "markdown",
   "id": "394cb43f",
   "metadata": {},
   "source": [
    "# Delete and item using del() function in the dictionary by key."
   ]
  },
  {
   "cell_type": "code",
   "execution_count": 22,
   "id": "cf77f3ae",
   "metadata": {},
   "outputs": [
    {
     "data": {
      "text/plain": [
       "{'name': 'Amit Khale',\n",
       " 'age': 37,\n",
       " 'Gender': 'Male',\n",
       " 'contact No:': 12345678910,\n",
       " 'email': 'amit@webasha.com',\n",
       " 'city': 'Pune',\n",
       " 'Weight': 60.78}"
      ]
     },
     "execution_count": 22,
     "metadata": {},
     "output_type": "execute_result"
    }
   ],
   "source": [
    "del(person['Height'])\n",
    "person"
   ]
  },
  {
   "cell_type": "code",
   "execution_count": 25,
   "id": "a74df30d",
   "metadata": {},
   "outputs": [
    {
     "data": {
      "text/plain": [
       "{'age': 37,\n",
       " 'Gender': 'Male',\n",
       " 'contact No:': 12345678910,\n",
       " 'email': 'amit@webasha.com',\n",
       " 'city': 'Pune',\n",
       " 'Weight': 60.78}"
      ]
     },
     "execution_count": 25,
     "metadata": {},
     "output_type": "execute_result"
    }
   ],
   "source": [
    "del(person['name'])\n",
    "person"
   ]
  },
  {
   "cell_type": "code",
   "execution_count": 26,
   "id": "5fd89f14",
   "metadata": {},
   "outputs": [
    {
     "data": {
      "text/plain": [
       "{'age': 37,\n",
       " 'Gender': 'Male',\n",
       " 'contact No:': 12345678910,\n",
       " 'email': 'amit@webasha.com',\n",
       " 'city': 'Pune',\n",
       " 'Weight': 60.78,\n",
       " 'name': 'Ajinkya'}"
      ]
     },
     "execution_count": 26,
     "metadata": {},
     "output_type": "execute_result"
    }
   ],
   "source": [
    "person['name']='Ajinkya'\n",
    "person"
   ]
  },
  {
   "cell_type": "code",
   "execution_count": null,
   "id": "843f6fb1",
   "metadata": {},
   "outputs": [],
   "source": []
  }
 ],
 "metadata": {
  "kernelspec": {
   "display_name": "Python 3 (ipykernel)",
   "language": "python",
   "name": "python3"
  },
  "language_info": {
   "codemirror_mode": {
    "name": "ipython",
    "version": 3
   },
   "file_extension": ".py",
   "mimetype": "text/x-python",
   "name": "python",
   "nbconvert_exporter": "python",
   "pygments_lexer": "ipython3",
   "version": "3.9.13"
  }
 },
 "nbformat": 4,
 "nbformat_minor": 5
}
