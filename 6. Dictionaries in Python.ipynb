{
 "cells": [
  {
   "cell_type": "markdown",
   "id": "ae296317",
   "metadata": {},
   "source": [
    "# 6. Dictionaries in Python\n",
    "\n",
    " * Dictionaries are used to store data values in key: value pair.\n",
    " * A dictionary is a collection which is ordered, changeable, mutable and do not allow duplicates.\n",
    " * Dictionary items are ordered, changeable, and does not allow duplicates.\n",
    " * Dictionary items are presented key: value pair and can be referred to by using the key name.\n",
    " * Dictionaries are changeable, meaning that we can change, add or remove items afger the dictionary has been created.\n",
    " * Dictionaries cannot have two pairs with the same key.\n",
    " * A Dictionary can nested and can contains another dictionary.\n",
    " \n",
    "              Key-----------------Values\n",
    "             'name'--------------'Johns'\n",
    "             'age'---------------25\n",
    "             'job'---------------'Engineer'\n",
    "             'city'--------------'goa'\n",
    "             'email'------------'john@web.com'"
   ]
  },
  {
   "cell_type": "code",
   "execution_count": 3,
   "id": "99781aa2",
   "metadata": {},
   "outputs": [
    {
     "data": {
      "text/plain": [
       "dict"
      ]
     },
     "execution_count": 3,
     "metadata": {},
     "output_type": "execute_result"
    }
   ],
   "source": [
    "sample_dict={}\n",
    "type(sample_dict)"
   ]
  },
  {
   "cell_type": "code",
   "execution_count": 4,
   "id": "3652f8fc",
   "metadata": {},
   "outputs": [
    {
     "data": {
      "text/plain": [
       "{'key_1': 3.14,\n",
       " 'key_2': 1.618,\n",
       " 'key_3': True,\n",
       " 'key_4': [3.14, 1.618],\n",
       " 'key_5': (3.14, 1.618),\n",
       " 'key_6': 2023,\n",
       " 'key_7': 'Hello World'}"
      ]
     },
     "execution_count": 4,
     "metadata": {},
     "output_type": "execute_result"
    }
   ],
   "source": [
    "sample_dict={'key_1':3.14,'key_2':1.618,\n",
    "            'key_3':True,'key_4':[3.14,1.618],\n",
    "            'key_5':(3.14,1.618),'key_6':2023,\n",
    "            'key_7':'Hello World'}\n",
    "sample_dict"
   ]
  },
  {
   "cell_type": "code",
   "execution_count": 5,
   "id": "d12f597b",
   "metadata": {},
   "outputs": [
    {
     "data": {
      "text/plain": [
       "dict"
      ]
     },
     "execution_count": 5,
     "metadata": {},
     "output_type": "execute_result"
    }
   ],
   "source": [
    "type(sample_dict)"
   ]
  },
  {
   "cell_type": "code",
   "execution_count": 1,
   "id": "cdce47d7",
   "metadata": {},
   "outputs": [
    {
     "data": {
      "text/plain": [
       "{'name': 'Amit Khale',\n",
       " 'age': 37,\n",
       " 'Gender': 'Male',\n",
       " 'contact No:': 12345678910,\n",
       " 'email': 'amit@webasha.com',\n",
       " 'city': 'Pune'}"
      ]
     },
     "execution_count": 1,
     "metadata": {},
     "output_type": "execute_result"
    }
   ],
   "source": [
    "person={'name':'Amit Khale',\n",
    "       'age':37,\n",
    "       'Gender':'Male',\n",
    "       'contact No:':12345678910,\n",
    "       'email':'amit@webasha.com',\n",
    "       'city':'Pune'}\n",
    "person"
   ]
  },
  {
   "cell_type": "code",
   "execution_count": 2,
   "id": "b3c938d3",
   "metadata": {},
   "outputs": [
    {
     "data": {
      "text/plain": [
       "dict_keys(['name', 'age', 'Gender', 'contact No:', 'email', 'city'])"
      ]
     },
     "execution_count": 2,
     "metadata": {},
     "output_type": "execute_result"
    }
   ],
   "source": [
    "person.keys()"
   ]
  },
  {
   "cell_type": "code",
   "execution_count": 3,
   "id": "4027d266",
   "metadata": {},
   "outputs": [
    {
     "data": {
      "text/plain": [
       "dict_values(['Amit Khale', 37, 'Male', 12345678910, 'amit@webasha.com', 'Pune'])"
      ]
     },
     "execution_count": 3,
     "metadata": {},
     "output_type": "execute_result"
    }
   ],
   "source": [
    "person.values()"
   ]
  },
  {
   "cell_type": "markdown",
   "id": "f207e180",
   "metadata": {},
   "source": [
    "# Note:- As you see that the wholw dictionary is enclosed in curly braces, each key is separated from its value by a column \":\" , and comma are used to separate the items in the dictionary. "
   ]
  },
  {
   "cell_type": "code",
   "execution_count": 12,
   "id": "bae4265a",
   "metadata": {},
   "outputs": [
    {
     "name": "stdout",
     "output_type": "stream",
     "text": [
      "Amit Khale\n",
      "37\n",
      "Male\n",
      "Amit Khale\n",
      "Pune\n",
      "12345678910\n",
      "amit@webasha.com\n"
     ]
    }
   ],
   "source": [
    "# Retrieving the value by key.\n",
    "\n",
    "print(person['name'])\n",
    "print(person['age'])\n",
    "print(person['Gender'])\n",
    "print(person['name'])\n",
    "print(person['city'])\n",
    "print(person['contact No:'])\n",
    "print(person['email'])"
   ]
  },
  {
   "cell_type": "code",
   "execution_count": 13,
   "id": "db438a0f",
   "metadata": {},
   "outputs": [
    {
     "data": {
      "text/plain": [
       "dict_keys(['name', 'age', 'Gender', 'contact No:', 'email', 'city'])"
      ]
     },
     "execution_count": 13,
     "metadata": {},
     "output_type": "execute_result"
    }
   ],
   "source": [
    "person.keys()"
   ]
  },
  {
   "cell_type": "code",
   "execution_count": 14,
   "id": "42ac3932",
   "metadata": {},
   "outputs": [
    {
     "data": {
      "text/plain": [
       "dict_values(['Amit Khale', 37, 'Male', 12345678910, 'amit@webasha.com', 'Pune'])"
      ]
     },
     "execution_count": 14,
     "metadata": {},
     "output_type": "execute_result"
    }
   ],
   "source": [
    "person.values()"
   ]
  },
  {
   "cell_type": "code",
   "execution_count": 15,
   "id": "f483695e",
   "metadata": {},
   "outputs": [
    {
     "data": {
      "text/plain": [
       "{'name': 'Amit Khale',\n",
       " 'age': 37,\n",
       " 'Gender': 'Male',\n",
       " 'contact No:': 12345678910,\n",
       " 'email': 'amit@webasha.com',\n",
       " 'city': 'Pune'}"
      ]
     },
     "execution_count": 15,
     "metadata": {},
     "output_type": "execute_result"
    }
   ],
   "source": [
    "person"
   ]
  },
  {
   "cell_type": "markdown",
   "id": "3434dfd7",
   "metadata": {},
   "source": [
    "# Addition of a new key:values pair in the dictionary."
   ]
  },
  {
   "cell_type": "code",
   "execution_count": 17,
   "id": "aa52df6a",
   "metadata": {},
   "outputs": [
    {
     "data": {
      "text/plain": [
       "{'name': 'Amit Khale',\n",
       " 'age': 37,\n",
       " 'Gender': 'Male',\n",
       " 'contact No:': 12345678910,\n",
       " 'email': 'amit@webasha.com',\n",
       " 'city': 'Pune',\n",
       " 'Weight': 60.78}"
      ]
     },
     "execution_count": 17,
     "metadata": {},
     "output_type": "execute_result"
    }
   ],
   "source": [
    "person['Weight']=60.78\n",
    "person"
   ]
  },
  {
   "cell_type": "code",
   "execution_count": 18,
   "id": "72031ae8",
   "metadata": {},
   "outputs": [
    {
     "data": {
      "text/plain": [
       "{'name': 'Amit Khale',\n",
       " 'age': 37,\n",
       " 'Gender': 'Male',\n",
       " 'contact No:': 12345678910,\n",
       " 'email': 'amit@webasha.com',\n",
       " 'city': 'Pune',\n",
       " 'Weight': 60.78,\n",
       " 'Height': 7.5}"
      ]
     },
     "execution_count": 18,
     "metadata": {},
     "output_type": "execute_result"
    }
   ],
   "source": [
    "person['Height']=7.5\n",
    "person"
   ]
  },
  {
   "cell_type": "code",
   "execution_count": 20,
   "id": "077fad80",
   "metadata": {},
   "outputs": [
    {
     "data": {
      "text/plain": [
       "dict_keys(['name', 'age', 'Gender', 'contact No:', 'email', 'city', 'Weight', 'Height'])"
      ]
     },
     "execution_count": 20,
     "metadata": {},
     "output_type": "execute_result"
    }
   ],
   "source": [
    "person.keys()"
   ]
  },
  {
   "cell_type": "code",
   "execution_count": 21,
   "id": "d5f90c8d",
   "metadata": {},
   "outputs": [
    {
     "data": {
      "text/plain": [
       "dict_values(['Amit Khale', 37, 'Male', 12345678910, 'amit@webasha.com', 'Pune', 60.78, 7.5])"
      ]
     },
     "execution_count": 21,
     "metadata": {},
     "output_type": "execute_result"
    }
   ],
   "source": [
    "person.values()"
   ]
  },
  {
   "cell_type": "markdown",
   "id": "394cb43f",
   "metadata": {},
   "source": [
    "# Delete and item using del() function in the dictionary by key."
   ]
  },
  {
   "cell_type": "code",
   "execution_count": 22,
   "id": "cf77f3ae",
   "metadata": {},
   "outputs": [
    {
     "data": {
      "text/plain": [
       "{'name': 'Amit Khale',\n",
       " 'age': 37,\n",
       " 'Gender': 'Male',\n",
       " 'contact No:': 12345678910,\n",
       " 'email': 'amit@webasha.com',\n",
       " 'city': 'Pune',\n",
       " 'Weight': 60.78}"
      ]
     },
     "execution_count": 22,
     "metadata": {},
     "output_type": "execute_result"
    }
   ],
   "source": [
    "del(person['Height'])\n",
    "person"
   ]
  },
  {
   "cell_type": "code",
   "execution_count": 25,
   "id": "a74df30d",
   "metadata": {},
   "outputs": [
    {
     "data": {
      "text/plain": [
       "{'age': 37,\n",
       " 'Gender': 'Male',\n",
       " 'contact No:': 12345678910,\n",
       " 'email': 'amit@webasha.com',\n",
       " 'city': 'Pune',\n",
       " 'Weight': 60.78}"
      ]
     },
     "execution_count": 25,
     "metadata": {},
     "output_type": "execute_result"
    }
   ],
   "source": [
    "del(person['name'])\n",
    "person"
   ]
  },
  {
   "cell_type": "code",
   "execution_count": 26,
   "id": "5fd89f14",
   "metadata": {},
   "outputs": [
    {
     "data": {
      "text/plain": [
       "{'age': 37,\n",
       " 'Gender': 'Male',\n",
       " 'contact No:': 12345678910,\n",
       " 'email': 'amit@webasha.com',\n",
       " 'city': 'Pune',\n",
       " 'Weight': 60.78,\n",
       " 'name': 'Ajinkya'}"
      ]
     },
     "execution_count": 26,
     "metadata": {},
     "output_type": "execute_result"
    }
   ],
   "source": [
    "person['name']='Ajinkya'\n",
    "person"
   ]
  },
  {
   "cell_type": "code",
   "execution_count": 4,
   "id": "843f6fb1",
   "metadata": {},
   "outputs": [
    {
     "ename": "NameError",
     "evalue": "name 'person' is not defined",
     "output_type": "error",
     "traceback": [
      "\u001b[1;31m---------------------------------------------------------------------------\u001b[0m",
      "\u001b[1;31mNameError\u001b[0m                                 Traceback (most recent call last)",
      "\u001b[1;32m~\\AppData\\Local\\Temp\\ipykernel_21164\\4292763083.py\u001b[0m in \u001b[0;36m<module>\u001b[1;34m\u001b[0m\n\u001b[0;32m      1\u001b[0m \u001b[1;32mdel\u001b[0m \u001b[0mperson\u001b[0m\u001b[1;33m\u001b[0m\u001b[1;33m\u001b[0m\u001b[0m\n\u001b[1;32m----> 2\u001b[1;33m \u001b[0mprint\u001b[0m\u001b[1;33m(\u001b[0m\u001b[0mperson\u001b[0m\u001b[1;33m)\u001b[0m\u001b[1;33m\u001b[0m\u001b[1;33m\u001b[0m\u001b[0m\n\u001b[0m",
      "\u001b[1;31mNameError\u001b[0m: name 'person' is not defined"
     ]
    }
   ],
   "source": [
    "del person\n",
    "print(person)"
   ]
  },
  {
   "cell_type": "code",
   "execution_count": 5,
   "id": "626083a9",
   "metadata": {},
   "outputs": [
    {
     "data": {
      "text/plain": [
       "{'name': 'Amit Khale',\n",
       " 'age': 37,\n",
       " 'Gender': 'Male',\n",
       " 'contact No:': 12345678910,\n",
       " 'email': 'amit@webasha.com',\n",
       " 'city': 'Pune'}"
      ]
     },
     "execution_count": 5,
     "metadata": {},
     "output_type": "execute_result"
    }
   ],
   "source": [
    "person={'name':'Amit Khale',\n",
    "       'age':37,\n",
    "       'Gender':'Male',\n",
    "       'contact No:':12345678910,\n",
    "       'email':'amit@webasha.com',\n",
    "       'city':'Pune'}\n",
    "person"
   ]
  },
  {
   "cell_type": "markdown",
   "id": "d72c1aef",
   "metadata": {},
   "source": [
    "# Verification using in or not in."
   ]
  },
  {
   "cell_type": "code",
   "execution_count": 8,
   "id": "35382eea",
   "metadata": {},
   "outputs": [
    {
     "name": "stdout",
     "output_type": "stream",
     "text": [
      "True\n",
      "False\n",
      "True\n"
     ]
    }
   ],
   "source": [
    "print('name' in person)\n",
    "print('Weight' in person)\n",
    "print('Weight' not in person)"
   ]
  },
  {
   "cell_type": "markdown",
   "id": "b96995b3",
   "metadata": {},
   "source": [
    "# dict() function\n",
    "\n",
    "\n",
    "This functiion is used to create a dictionary."
   ]
  },
  {
   "cell_type": "code",
   "execution_count": 9,
   "id": "9bbf9b1c",
   "metadata": {},
   "outputs": [
    {
     "data": {
      "text/plain": [
       "{'family': 'music', 'type': 'pop', 'year': 2023, 'name': 'Happy new year'}"
      ]
     },
     "execution_count": 9,
     "metadata": {},
     "output_type": "execute_result"
    }
   ],
   "source": [
    "sample_dict=dict(family='music', type='pop',year=2023,name='Happy new year')\n",
    "sample_dict"
   ]
  },
  {
   "cell_type": "code",
   "execution_count": 10,
   "id": "4ee0006f",
   "metadata": {},
   "outputs": [
    {
     "data": {
      "text/plain": [
       "dict_keys(['family', 'type', 'year', 'name'])"
      ]
     },
     "execution_count": 10,
     "metadata": {},
     "output_type": "execute_result"
    }
   ],
   "source": [
    "sample_dict.keys()"
   ]
  },
  {
   "cell_type": "code",
   "execution_count": 11,
   "id": "041be0d6",
   "metadata": {},
   "outputs": [
    {
     "data": {
      "text/plain": [
       "dict_values(['music', 'pop', 2023, 'Happy new year'])"
      ]
     },
     "execution_count": 11,
     "metadata": {},
     "output_type": "execute_result"
    }
   ],
   "source": [
    "sample_dict.values()"
   ]
  },
  {
   "cell_type": "markdown",
   "id": "6f677853",
   "metadata": {},
   "source": [
    "# clear() functions\n",
    "\n",
    "\n",
    " It removes all the items in the dictionary are returns empty dictionary."
   ]
  },
  {
   "cell_type": "code",
   "execution_count": 12,
   "id": "8d6e8aba",
   "metadata": {},
   "outputs": [
    {
     "data": {
      "text/plain": [
       "{'family': 'music', 'type': 'pop', 'year': 2023, 'name': 'Happy new year'}"
      ]
     },
     "execution_count": 12,
     "metadata": {},
     "output_type": "execute_result"
    }
   ],
   "source": [
    "sample_dict"
   ]
  },
  {
   "cell_type": "code",
   "execution_count": 13,
   "id": "3d2580df",
   "metadata": {},
   "outputs": [
    {
     "data": {
      "text/plain": [
       "{}"
      ]
     },
     "execution_count": 13,
     "metadata": {},
     "output_type": "execute_result"
    }
   ],
   "source": [
    "sample_dict.clear()\n",
    "sample_dict"
   ]
  },
  {
   "cell_type": "markdown",
   "id": "6c2cf730",
   "metadata": {},
   "source": [
    "# copy() function\n",
    "\n",
    "\n",
    "It returns a shallow copy of the main dictionary."
   ]
  },
  {
   "cell_type": "code",
   "execution_count": 32,
   "id": "dca3b519",
   "metadata": {},
   "outputs": [
    {
     "name": "stdout",
     "output_type": "stream",
     "text": [
      "{'family': 'music', 'type': 'pop', 'year': 2023, 'name': 'Happy new year', 'Height': 78}\n",
      "{'family': 'music', 'type': 'pop', 'year': 2023, 'name': 'Happy new year'}\n"
     ]
    }
   ],
   "source": [
    "sample_dict=dict(family='music', type='pop',year=2023,name='Happy new year')\n",
    "sample_copy=sample_dict.copy()\n",
    "#print=(sample_copy)\n",
    "\n",
    "sample_dict['Height']=78\n",
    "print(sample_dict)\n",
    "print(sample_copy)"
   ]
  },
  {
   "cell_type": "code",
   "execution_count": 28,
   "id": "75019b74",
   "metadata": {},
   "outputs": [
    {
     "name": "stdout",
     "output_type": "stream",
     "text": [
      "{'family': 'music', 'type': 'pop', 'year': 2023, 'name': 'Happy new year'}\n",
      "{'family': 'music', 'type': 'pop', 'year': 2023, 'name': 'Happy new year'}\n",
      "{'family': 'music', 'type': 'pop', 'year': 2023, 'name': 'Happy new year', 'Weight': 70}\n",
      "{'family': 'music', 'type': 'pop', 'year': 2023, 'name': 'Happy new year', 'Weight': 70}\n"
     ]
    }
   ],
   "source": [
    "sample_dict=dict(family='music', type='pop',year=2023,name='Happy new year')\n",
    "sample_copy=sample_dict\n",
    "print(sample_copy)\n",
    "print(sample_dict)\n",
    "sample_dict['Weight']=70\n",
    "print(sample_dict)\n",
    "print(sample_copy)"
   ]
  },
  {
   "cell_type": "code",
   "execution_count": 31,
   "id": "3f22c3b9",
   "metadata": {},
   "outputs": [
    {
     "name": "stdout",
     "output_type": "stream",
     "text": [
      "{'family': 'music', 'type': 'pop', 'year': 2023, 'name': 'Happy new year'}\n",
      "{'family': 'music', 'type': 'pop', 'year': 2023, 'name': 'Happy new year'}\n",
      "{'family': 'music', 'type': 'pop', 'year': 2023, 'name': 'Happy new year', 'Weight': 70}\n",
      "{'family': 'music', 'type': 'pop', 'year': 2023, 'name': 'Happy new year', 'Weight': 70}\n"
     ]
    }
   ],
   "source": [
    "x=dict(family='music', type='pop',year=2023,name='Happy new year')\n",
    "y=x\n",
    "print(x)\n",
    "print(y)\n",
    "x['Weight']=70\n",
    "print(x)\n",
    "print(y)"
   ]
  },
  {
   "cell_type": "markdown",
   "id": "6e943c7c",
   "metadata": {},
   "source": [
    "# pop() function\n",
    "\n",
    " This function is used to remove a specific items from the dictionary.\n",
    " \n",
    " "
   ]
  },
  {
   "cell_type": "code",
   "execution_count": 33,
   "id": "93634d88",
   "metadata": {},
   "outputs": [
    {
     "name": "stdout",
     "output_type": "stream",
     "text": [
      "pop\n",
      "{'family': 'music', 'year': 2023, 'name': 'Happy new year'}\n"
     ]
    }
   ],
   "source": [
    "x=dict(family='music', type='pop',year=2023,name='Happy new year')\n",
    "\n",
    "print(x.pop('type'))\n",
    "print(x)"
   ]
  },
  {
   "cell_type": "markdown",
   "id": "5fdb80be",
   "metadata": {},
   "source": [
    "# popitem() function\n",
    "\n",
    "\n",
    "It is used to remove the arbitrary items from the dictionary and return tuple.\n"
   ]
  },
  {
   "cell_type": "code",
   "execution_count": 34,
   "id": "a3af5550",
   "metadata": {},
   "outputs": [
    {
     "name": "stdout",
     "output_type": "stream",
     "text": [
      "('name', 'Happy new year')\n",
      "{'family': 'music', 'type': 'pop', 'year': 2023}\n"
     ]
    }
   ],
   "source": [
    "x=dict(family='music', type='pop',year=2023,name='Happy new year')\n",
    "print(x.popitem())\n",
    "print(x)"
   ]
  },
  {
   "cell_type": "markdown",
   "id": "1f0ef9b5",
   "metadata": {},
   "source": [
    "# get() function\n",
    "\n",
    "This method returns the value for the specified key if it is available in the dictionary. If the key is not available, it returns None."
   ]
  },
  {
   "cell_type": "code",
   "execution_count": 36,
   "id": "6608a40e",
   "metadata": {},
   "outputs": [
    {
     "name": "stdout",
     "output_type": "stream",
     "text": [
      "music\n",
      "{'family': 'music', 'type': 'pop', 'year': 2023, 'name': 'Happy new year'}\n",
      "None\n",
      "{'family': 'music', 'type': 'pop', 'year': 2023, 'name': 'Happy new year'}\n"
     ]
    }
   ],
   "source": [
    "x=dict(family='music', type='pop',year=2023,name='Happy new year')\n",
    "\n",
    "print(x.get('family'))\n",
    "print(x)\n",
    "print(x.get('Weight'))\n",
    "print(x)"
   ]
  },
  {
   "cell_type": "markdown",
   "id": "2af1591c",
   "metadata": {},
   "source": [
    "# fromkeys() function\n",
    "\n",
    "It returns a new dictionary with the certain sequence of the items as the key of the dictionary and the value are assigned with None."
   ]
  },
  {
   "cell_type": "code",
   "execution_count": 41,
   "id": "59d74358",
   "metadata": {},
   "outputs": [
    {
     "name": "stdout",
     "output_type": "stream",
     "text": [
      "{'t': None, 'a': None, 'g': None, 'c': None}\n"
     ]
    },
    {
     "data": {
      "text/plain": [
       "dict"
      ]
     },
     "execution_count": 41,
     "metadata": {},
     "output_type": "execute_result"
    }
   ],
   "source": [
    "keys={'a','t','c','g'}\n",
    "x=dict.fromkeys(keys)\n",
    "print(x)\n",
    "type(x)"
   ]
  },
  {
   "cell_type": "markdown",
   "id": "a6f9e21a",
   "metadata": {},
   "source": [
    "# update() function\n",
    "\n",
    "It integrates a dictionary with another dictionary or with an iterable of key:value pairs."
   ]
  },
  {
   "cell_type": "code",
   "execution_count": 42,
   "id": "f479e556",
   "metadata": {},
   "outputs": [
    {
     "name": "stdout",
     "output_type": "stream",
     "text": [
      "{'name': 'Happy new year', 'age': 37, 'Gender': 'Male', 'contact No:': 12345678910, 'email': 'amit@webasha.com', 'city': 'Pune', 'family': 'music', 'type': 'pop', 'year': 2023}\n"
     ]
    }
   ],
   "source": [
    "person={'name':'Amit Khale',\n",
    "       'age':37,\n",
    "       'Gender':'Male',\n",
    "       'contact No:':12345678910,\n",
    "       'email':'amit@webasha.com',\n",
    "       'city':'Pune'}\n",
    "x=dict(family='music', type='pop',year=2023,name='Happy new year')\n",
    "\n",
    "person.update(x)\n",
    "print(person)"
   ]
  },
  {
   "cell_type": "code",
   "execution_count": null,
   "id": "5b8aa0a9",
   "metadata": {},
   "outputs": [],
   "source": []
  }
 ],
 "metadata": {
  "kernelspec": {
   "display_name": "Python 3 (ipykernel)",
   "language": "python",
   "name": "python3"
  },
  "language_info": {
   "codemirror_mode": {
    "name": "ipython",
    "version": 3
   },
   "file_extension": ".py",
   "mimetype": "text/x-python",
   "name": "python",
   "nbconvert_exporter": "python",
   "pygments_lexer": "ipython3",
   "version": "3.9.13"
  }
 },
 "nbformat": 4,
 "nbformat_minor": 5
}
