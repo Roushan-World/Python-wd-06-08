{
 "cells": [
  {
   "cell_type": "markdown",
   "id": "36bcbbe1",
   "metadata": {},
   "source": [
    "#  Comparison operators\n",
    "\n",
    " * Comparison operators compare some value or operand and based on a condition, produce a Boolean. Python has six comparison operators as below:\n",
    " \n",
    " \n",
    "   * Less than(<)\n",
    "   * Less than or equal to(<=)\n",
    "   * Greater than(>)\n",
    "   * Greater than or equal to(>=)\n",
    "   * Equal to(==)\n",
    "   * Not Equal to(!=)\n",
    "   "
   ]
  },
  {
   "cell_type": "code",
   "execution_count": 3,
   "id": "a652fc23",
   "metadata": {},
   "outputs": [
    {
     "name": "stdout",
     "output_type": "stream",
     "text": [
      "False\n",
      "True\n"
     ]
    }
   ],
   "source": [
    "ratio=1.618\n",
    "\n",
    "# Condtions\n",
    "print(ratio>2)  # The ratio is greater than 2, thus the output is False.\n",
    "print(ratio<2) # The ratio is lower then 2, thus the output is True."
   ]
  },
  {
   "cell_type": "code",
   "execution_count": 9,
   "id": "ce943e40",
   "metadata": {},
   "outputs": [
    {
     "name": "stdout",
     "output_type": "stream",
     "text": [
      "True\n",
      "False\n",
      "False\n",
      "True\n",
      "True\n",
      "True\n"
     ]
    }
   ],
   "source": [
    "# Take a variable.\n",
    "\n",
    "x = 1.618\n",
    "\n",
    "\n",
    "print(ratio <= 2) \n",
    "print(ratio>=2)\n",
    "print(ratio<=1)\n",
    "print(ratio>=1)\n",
    "print(ratio==1.618)\n",
    "print(ratio!=3)"
   ]
  },
  {
   "cell_type": "markdown",
   "id": "29c139aa",
   "metadata": {},
   "source": [
    "# Branching (if, elif, else)\n",
    "\n",
    " * Decision making is required when we want ot execute a code only if a certain condition is satisfied.\n",
    " * The if/elif/else statement is used to Python for decision making. \n",
    " * An else statement can be combined with an if statement.\n",
    " * An else statement constains the block of code that executes if the conditional expression in the if statement resolves to 0 or a False value.\n",
    " * The else statement is an optional statement and there could be at most only one else statement following if.\n",
    " * The elif statement allow you to check multiple expressions for True and execute a block of code as soon as one of the conditions evaluates to True.\n",
    " * Similar to the else, the elif statement is optional.\n",
    " * However, unlike else, for which there can be at most one statement, there can be arbitrary number of elif statement following an if."
   ]
  },
  {
   "cell_type": "code",
   "execution_count": 6,
   "id": "650d574b",
   "metadata": {},
   "outputs": [
    {
     "name": "stdout",
     "output_type": "stream",
     "text": [
      "The number 4 is greater than the value 3\n",
      "Done\n"
     ]
    }
   ],
   "source": [
    "x = 4\n",
    "y = 3\n",
    "\n",
    "if x>y:\n",
    "    print ('The number 4 is greater than the value 3')\n",
    "   \n",
    "\n",
    "print('Done')"
   ]
  },
  {
   "cell_type": "code",
   "execution_count": 8,
   "id": "26dbb0a3",
   "metadata": {},
   "outputs": [
    {
     "name": "stdout",
     "output_type": "stream",
     "text": [
      "The number 10 is the greater than the value 8\n"
     ]
    }
   ],
   "source": [
    "x = 10\n",
    "y = 8\n",
    "\n",
    "if x>y:\n",
    "    print (f'The number {x} is the greater than the value {y}')\n",
    "   "
   ]
  },
  {
   "cell_type": "code",
   "execution_count": 11,
   "id": "b9f5008b",
   "metadata": {},
   "outputs": [
    {
     "name": "stdout",
     "output_type": "stream",
     "text": [
      "The number 8 is lower than the value 10\n"
     ]
    }
   ],
   "source": [
    "x = 10\n",
    "y = 8\n",
    "\n",
    "if x<y:\n",
    "    print(f'The number {x} is greater than the value {y}')\n",
    "    \n",
    "else:\n",
    "    print(f'The number {y} is lower than the value {x}')"
   ]
  },
  {
   "cell_type": "code",
   "execution_count": 23,
   "id": "7eecbb6f",
   "metadata": {},
   "outputs": [
    {
     "name": "stdout",
     "output_type": "stream",
     "text": [
      "You should go to kindergarden\n"
     ]
    }
   ],
   "source": [
    "age=5\n",
    "\n",
    "if age>6:\n",
    "    print('You can go to primary school')\n",
    "    \n",
    "elif age==5:\n",
    "    print('You should go to kindergarden')\n",
    "    \n",
    "else:\n",
    "    print('You are a teen')"
   ]
  },
  {
   "cell_type": "code",
   "execution_count": 27,
   "id": "956adb29",
   "metadata": {},
   "outputs": [
    {
     "name": "stdout",
     "output_type": "stream",
     "text": [
      "Album year is higher than 1995\n"
     ]
    }
   ],
   "source": [
    "album_year=2000\n",
    "#album_year1=1990\n",
    "\n",
    "\n",
    "if album_year >=1995:\n",
    "    print('Album year is higher than 1995')"
   ]
  },
  {
   "cell_type": "code",
   "execution_count": 33,
   "id": "561d1937",
   "metadata": {},
   "outputs": [
    {
     "name": "stdout",
     "output_type": "stream",
     "text": [
      "Enter movie rating: 7.0\n",
      "Could not win oscar\n"
     ]
    }
   ],
   "source": [
    "imdb_point=float(input('Enter movie rating: '))\n",
    "\n",
    "if imdb_point>8.0:\n",
    "    print('This movie could win oscar')\n",
    "    \n",
    "else:\n",
    "    print('Could not win oscar')"
   ]
  },
  {
   "cell_type": "code",
   "execution_count": 37,
   "id": "65153f54",
   "metadata": {},
   "outputs": [
    {
     "name": "stdout",
     "output_type": "stream",
     "text": [
      "Enter your age: 19\n",
      "You are elegible for voting.\n"
     ]
    }
   ],
   "source": [
    "# Write a program to check your age you are elegible for voting or not.\n",
    "\n",
    "\n",
    "age=int(input('Enter your age: '))\n",
    "\n",
    "if age>=18:\n",
    "    print(\"You are elegible for voting.\")\n",
    "    \n",
    "    \n",
    "else:\n",
    "    print('You are not elegible for voting.')"
   ]
  },
  {
   "cell_type": "code",
   "execution_count": 38,
   "id": "62e81b0d",
   "metadata": {},
   "outputs": [
    {
     "name": "stdout",
     "output_type": "stream",
     "text": [
      "Enter your age: 19\n",
      "You can go and watch movie at your home\n"
     ]
    }
   ],
   "source": [
    "# Write a program to check your age and if your age is above 20 yrs. \n",
    "# display you can watch movie in the theater.\n",
    "\n",
    "age1=int(input('Enter your age: '))\n",
    "\n",
    "if age1>20:\n",
    "    print('You can watch movie in the theater. ')\n",
    "    \n",
    "else:\n",
    "    print('You can go and watch movie at your home')"
   ]
  },
  {
   "cell_type": "code",
   "execution_count": 43,
   "id": "d9f4505f",
   "metadata": {},
   "outputs": [
    {
     "name": "stdout",
     "output_type": "stream",
     "text": [
      "Enter any number: 4651684651651461\n",
      "You Entered Odd number\n"
     ]
    }
   ],
   "source": [
    "# Write a program to find the even number.\n",
    "\n",
    "num=int(input('Enter any number: '))\n",
    "\n",
    "if num%2==0:\n",
    "    print('You Entered Even number')\n",
    "    \n",
    "else:\n",
    "    print('You Entered Odd number')"
   ]
  },
  {
   "cell_type": "code",
   "execution_count": 45,
   "id": "0ae8e39e",
   "metadata": {},
   "outputs": [
    {
     "name": "stdout",
     "output_type": "stream",
     "text": [
      "Enter any number: 6546164616162\n",
      "You Entered Even number\n"
     ]
    }
   ],
   "source": [
    "# Write a program to find the odd number\n",
    "\n",
    "num=int(input('Enter any number: '))\n",
    "\n",
    "if num%2!=0:\n",
    "    print('You Entered Odd number')\n",
    "    \n",
    "else:\n",
    "    print('You Entered Even number')"
   ]
  },
  {
   "cell_type": "code",
   "execution_count": 2,
   "id": "29891eba",
   "metadata": {},
   "outputs": [
    {
     "name": "stdout",
     "output_type": "stream",
     "text": [
      "Enter any number: 15\n",
      "Not Divisible by 7\n"
     ]
    }
   ],
   "source": [
    "# Write a program to check whether a number is divisible by 7 or not.\n",
    "\n",
    "num=int(input('Enter any number: '))\n",
    "\n",
    "if num%7==0:\n",
    "    print('It is Divisible by 7')\n",
    "else:\n",
    "    print('Not Divisible by 7')"
   ]
  },
  {
   "cell_type": "code",
   "execution_count": 3,
   "id": "386ee8b8",
   "metadata": {},
   "outputs": [],
   "source": [
    "# Write a program to display the Weekdays name if user enter 0 to display sunday\n",
    "# and if user enter 1 to display monday and so on."
   ]
  },
  {
   "cell_type": "code",
   "execution_count": null,
   "id": "0f314484",
   "metadata": {},
   "outputs": [],
   "source": [
    "# Write a program to dispay month name and days if user enter 1 to display \n",
    "# january and 31 days and as so 2 to display February and 28/29 days and so on."
   ]
  },
  {
   "cell_type": "code",
   "execution_count": 7,
   "id": "34e5ce03",
   "metadata": {},
   "outputs": [
    {
     "name": "stdout",
     "output_type": "stream",
     "text": [
      "Enter your Percentage: 100\n",
      "Excellent\n"
     ]
    }
   ],
   "source": [
    "# Write a program to accept percentage and display the Category \n",
    "# according to the following Criteria:\n",
    "\n",
    "# Percentage----------------> Category\n",
    "# <40-----------------------> Failed\n",
    "# >=40 and <55---------------> Fair\n",
    "# >=55 and <65 --------------> Good\n",
    "# >= 65---------------------> Excellent.\n",
    "\n",
    "\n",
    "per=int(input('Enter your Percentage: '))\n",
    "\n",
    "if per<40:\n",
    "    print('You are Failed.')\n",
    "elif per>=40 and per<55:\n",
    "    print('Fair')\n",
    "elif per>=55 and per<65:\n",
    "    print(\"Good\")\n",
    "elif per>=65:\n",
    "    print('Excellent')"
   ]
  },
  {
   "cell_type": "code",
   "execution_count": null,
   "id": "64b59df9",
   "metadata": {},
   "outputs": [],
   "source": [
    "#  Accept the percentage form the user and display the \n",
    "# Grade according to the following criteria:\n",
    "\n",
    "# Below 25-------------> D\n",
    "# 25 to 45 ------------> C\n",
    "# 45 to 50-------------> B\n",
    "# 50 to 60 ------------> B+\n",
    "# 60 to 80 ------------> A\n",
    "# Above 80-------------> A+\n"
   ]
  },
  {
   "cell_type": "code",
   "execution_count": 8,
   "id": "065e51e1",
   "metadata": {},
   "outputs": [
    {
     "name": "stdout",
     "output_type": "stream",
     "text": [
      "Enter Your age: 23\n",
      "Enter your age: 24\n",
      "24 is Older than 23.\n"
     ]
    }
   ],
   "source": [
    "# Accept the age of 2 people and display the olderst person.\n",
    "age=int(input('Enter Your age: '))\n",
    "age1=int(input('Enter your age: '))\n",
    "\n",
    "if age>age1:\n",
    "    print(f'{age} is Older than {age1}.')\n",
    "    \n",
    "else:\n",
    "    print(f'{age1} is Older than {age}.')"
   ]
  },
  {
   "cell_type": "code",
   "execution_count": 10,
   "id": "16f48d5b",
   "metadata": {},
   "outputs": [
    {
     "name": "stdout",
     "output_type": "stream",
     "text": [
      "Enter your age 5\n",
      "Enter your age 6\n",
      "Enter your age 7\n",
      "Enter your age 9\n",
      "9 is oldest. \n"
     ]
    }
   ],
   "source": [
    "# Accept the age of 4 people and display the olderst person.\n",
    "age1=int(input('Enter your age '))\n",
    "age2=int(input('Enter your age '))\n",
    "age3=int(input('Enter your age '))\n",
    "age4=int(input('Enter your age '))\n",
    "\n",
    "if age1>age2 and age1>age3 and age1>age4:\n",
    "    print(f'{age1} is olderst.')\n",
    "elif age2>age1 and age2>age3 and age2>age4:\n",
    "    print(f'{age2} is oldest.')\n",
    "elif age3>age1 and age3>age2 and age3>age4:\n",
    "    print(f'{age3} is oldest.')\n",
    "    \n",
    "elif age4>age1 and age4>age2 and age4>age3:\n",
    "    print(f'{age4} is oldest. ')"
   ]
  },
  {
   "cell_type": "code",
   "execution_count": 1,
   "id": "30b773a6",
   "metadata": {},
   "outputs": [
    {
     "name": "stdout",
     "output_type": "stream",
     "text": [
      "Enter any number: -23\n",
      "You Entered Negative Number\n"
     ]
    }
   ],
   "source": [
    "# write a program to check whether a number is positive or negative entered by the user.\n",
    "num=int(input('Enter any number: '))\n",
    "\n",
    "if num>=0:\n",
    "    print(\"You Entered Positive Number\")\n",
    "else:\n",
    "    print('You Entered Negative Number')"
   ]
  },
  {
   "cell_type": "code",
   "execution_count": 5,
   "id": "cbf5d132",
   "metadata": {},
   "outputs": [
    {
     "name": "stdout",
     "output_type": "stream",
     "text": [
      "Enter the price of your Bike: 100000\n",
      "Tax to be paid:  10000.0\n",
      "Total Price Of your Bike:  110000.0\n"
     ]
    }
   ],
   "source": [
    "# Write a program to accept the cost price of a bike and display the road tax to be paid according\n",
    "# to the following criteria:\n",
    "\n",
    "# Cost Price(in Rs)--------------------> Tax\n",
    "# >100000------------------------------> 15%\n",
    "# 50000 and <=100000-------------------> 10%\n",
    "#<=50000 ------------------------------> 5%\n",
    "\n",
    "\n",
    "# total_tax=tax/100*price\n",
    "\n",
    "\n",
    "\n",
    "price=int(input('Enter the price of your Bike: '))\n",
    "\n",
    "if price>100000:\n",
    "    total_tax=15/100*price\n",
    "    \n",
    "elif price>50000 and price<=100000:\n",
    "    total_tax=10/100*price\n",
    "    \n",
    "else:\n",
    "    total_tax=5/100*price\n",
    "print(\"Tax to be paid: \",total_tax)\n",
    "print('Total Price Of your Bike: ',price+total_tax)"
   ]
  },
  {
   "cell_type": "code",
   "execution_count": null,
   "id": "194a4274",
   "metadata": {},
   "outputs": [],
   "source": [
    "# Write a program to accept the cost price of a bike and display the \n",
    "# road tax to be paid according\n",
    "# to the following criteria:\n",
    "\n",
    "# Cost Price(in Rs)--------------------> Tax\n",
    "# >=200000-------------------------------> 25%\n",
    "# 150000 and <200000-------------------> 20%\n",
    "# 100000 and <= 1500000 ----------------> 15%\n",
    "# 50000 and <=100000 -------------------> 10%"
   ]
  },
  {
   "cell_type": "code",
   "execution_count": null,
   "id": "ab89b317",
   "metadata": {},
   "outputs": [],
   "source": [
    "# Write a program to enterd a city name by user and display monument of the city.\n",
    "\n",
    "# city------------------> Monument.\n",
    "\n",
    "# Delhi----------------> 'Red Fort','India Gate','Lotus Temple'\n",
    "# Agra-----------------> Taj Mahal\n",
    "# Jaipur --------------> Jal Mahal\n",
    "# Pune ----------------> Shaniwar Wada\n",
    "# Mumbai --------------> Gateway of India\n",
    "# Bihar ---------------> Sher ShahSuri Tomb\n",
    "# Rajasthan -----------> 'SherGrah Fort','Vijay Stambh','Grave of Layla Munjun'\n",
    "# Punjab --------------> 'Golden Temple','Ram Bagh Palace'\n",
    "# Madhya Pradesh------->'Elephant Place','Bhojpur Palace','Heliodorus Pillars'\n",
    "# Kerala --------------> 'Dutch Palace','Poonjar Palace'"
   ]
  },
  {
   "cell_type": "code",
   "execution_count": null,
   "id": "293c5261",
   "metadata": {},
   "outputs": [],
   "source": [
    "# Write a program to check whether a number is divisible by  2 and 3 both.\n",
    "# Accept the age of 4 people and display the youngest one.\n",
    "# Write a program to check a character in your name is vowel or consonent.\n",
    "\n"
   ]
  },
  {
   "cell_type": "code",
   "execution_count": 4,
   "id": "40852e63",
   "metadata": {},
   "outputs": [
    {
     "name": "stdout",
     "output_type": "stream",
     "text": [
      "Enter any Character: a\n",
      "You Entered Vowel character\n"
     ]
    }
   ],
   "source": [
    "# Write a program to check a character in your name is vowel or consonent.\n",
    "vowel=['A','E','I','O','U','a','e','i','o','u']\n",
    "ch= input('Enter any Character: ')\n",
    "\n",
    "if ch in vowel:\n",
    "    print('You Entered Vowel character')\n",
    "    \n",
    "else:\n",
    "    print('You Entered Consonent')"
   ]
  },
  {
   "cell_type": "code",
   "execution_count": 9,
   "id": "ad1c812b",
   "metadata": {},
   "outputs": [
    {
     "name": "stdout",
     "output_type": "stream",
     "text": [
      "Enter any Character: A quick brown fox jumps over the lazy dog\n",
      "Vowels 11\n",
      "Consonent 30\n"
     ]
    }
   ],
   "source": [
    "# Write a program to check a character in your name is vowel or consonent.\n",
    "vowel=['A','E','I','O','U','a','e','i','o','u']\n",
    "ch= input('Enter any Character: ')\n",
    "\n",
    "vow_ch=0\n",
    "cons_ch=0\n",
    "\n",
    "for i in ch:\n",
    "    if i in vowel:\n",
    "        vow_ch+=1\n",
    "    elif i != \"\":\n",
    "        cons_ch+=1\n",
    "        \n",
    "print('Vowels',vow_ch)\n",
    "print('Consonent',cons_ch)"
   ]
  },
  {
   "cell_type": "code",
   "execution_count": 19,
   "id": "b7f1353d",
   "metadata": {},
   "outputs": [
    {
     "name": "stdout",
     "output_type": "stream",
     "text": [
      "Enter total number of working days: 100\n",
      "Enter total number of absent: 0\n",
      "Your Attendence: 100.0\n",
      "You are the Best Student.\n"
     ]
    }
   ],
   "source": [
    "# Accept the following from the user and calculate the percentage of the class\n",
    "# attended:\n",
    "# a. Total number of working days.\n",
    "# b. Tofal number of days for absent.\n",
    "# After calculating percentage show that, if the percentage is less than 75, \n",
    "# then student will not able to sit in the exam.\n",
    "\n",
    "# hint: per=(no.of working days-absent)/working_days *100\n",
    "\n",
    "w_days=int(input('Enter total number of working days: '))\n",
    "absent=int(input('Enter total number of absent: '))\n",
    "\n",
    "per=(w_days-absent)/w_days*100\n",
    "\n",
    "print('Your Attendence:',per)\n",
    "\n",
    "if per==100:\n",
    "    print('You are the Best Student.')\n",
    "elif per>=75:\n",
    "    print('You are elegible for examination.')\n",
    "else:\n",
    "    print('You are not elegible for examination.')"
   ]
  },
  {
   "cell_type": "code",
   "execution_count": 22,
   "id": "52b5307d",
   "metadata": {},
   "outputs": [
    {
     "name": "stdout",
     "output_type": "stream",
     "text": [
      "Enter your salary: 30000\n",
      "Enter your time period of Services: 4\n",
      "Your Net Bonus is:  1500.0\n",
      "Total Salary is:  31500.0\n"
     ]
    }
   ],
   "source": [
    "# A company decided to give bonus to an employee according the \n",
    "# following criteria.\n",
    "\n",
    "# Time Period of Services --------------> Bonus\n",
    "\n",
    "#More than 10 Years ---------------------> 10%\n",
    "#>=6 and <=10 years ----------------------> 8%\n",
    "#Less than 6 years -----------------------> 5%\n",
    "\n",
    "# Ask user for their salary and years and print the bonus amount.\n",
    "\n",
    "salary=int(input('Enter your salary: '))\n",
    "service=int(input('Enter your time period of Services: '))\n",
    "\n",
    "if service>10:\n",
    "    net_bonus=10/100*salary\n",
    "elif service>=6 and service<=10:\n",
    "    net_bonus=8/100*salary\n",
    "elif service<6:\n",
    "    net_bonus=5/100*salary\n",
    "    \n",
    "    \n",
    "print('Your Net Bonus is: ',net_bonus)\n",
    "print('Total Salary is: ',salary+net_bonus)"
   ]
  },
  {
   "cell_type": "code",
   "execution_count": null,
   "id": "88ba5caa",
   "metadata": {},
   "outputs": [],
   "source": []
  }
 ],
 "metadata": {
  "kernelspec": {
   "display_name": "Python 3 (ipykernel)",
   "language": "python",
   "name": "python3"
  },
  "language_info": {
   "codemirror_mode": {
    "name": "ipython",
    "version": 3
   },
   "file_extension": ".py",
   "mimetype": "text/x-python",
   "name": "python",
   "nbconvert_exporter": "python",
   "pygments_lexer": "ipython3",
   "version": "3.9.13"
  }
 },
 "nbformat": 4,
 "nbformat_minor": 5
}
