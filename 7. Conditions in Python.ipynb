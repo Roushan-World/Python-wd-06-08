{
 "cells": [
  {
   "cell_type": "markdown",
   "id": "36bcbbe1",
   "metadata": {},
   "source": [
    "#  Comparison operators\n",
    "\n",
    " * Comparison operators compare some value or operand and based on a condition, produce a Boolean. Python has six comparison operators as below:\n",
    " \n",
    " \n",
    "   * Less than(<)\n",
    "   * Less than or equal to(<=)\n",
    "   * Greater than(>)\n",
    "   * Greater than or equal to(>=)\n",
    "   * Equal to(==)\n",
    "   * Not Equal to(!=)\n",
    "   "
   ]
  },
  {
   "cell_type": "code",
   "execution_count": 3,
   "id": "a652fc23",
   "metadata": {},
   "outputs": [
    {
     "name": "stdout",
     "output_type": "stream",
     "text": [
      "False\n",
      "True\n"
     ]
    }
   ],
   "source": [
    "ratio=1.618\n",
    "\n",
    "# Condtions\n",
    "print(ratio>2)  # The ratio is greater than 2, thus the output is False.\n",
    "print(ratio<2) # The ratio is lower then 2, thus the output is True."
   ]
  },
  {
   "cell_type": "code",
   "execution_count": 9,
   "id": "ce943e40",
   "metadata": {},
   "outputs": [
    {
     "name": "stdout",
     "output_type": "stream",
     "text": [
      "True\n",
      "False\n",
      "False\n",
      "True\n",
      "True\n",
      "True\n"
     ]
    }
   ],
   "source": [
    "# Take a variable.\n",
    "\n",
    "x = 1.618\n",
    "\n",
    "\n",
    "print(ratio <= 2) \n",
    "print(ratio>=2)\n",
    "print(ratio<=1)\n",
    "print(ratio>=1)\n",
    "print(ratio==1.618)\n",
    "print(ratio!=3)"
   ]
  },
  {
   "cell_type": "markdown",
   "id": "29c139aa",
   "metadata": {},
   "source": [
    "# Branching (if, elif, else)\n",
    "\n",
    " * Decision making is required when we want ot execute a code only if a certain condition is satisfied.\n",
    " * The if/elif/else statement is used to Python for decision making. \n",
    " * An else statement can be combined with an if statement.\n",
    " * An else statement constains the block of code that executes if the conditional expression in the if statement resolves to 0 or a False value.\n",
    " * The else statement is an optional statement and there could be at most only one else statement following if.\n",
    " * The elif statement allow you to check multiple expressions for True and execute a block of code as soon as one of the conditions evaluates to True.\n",
    " * Similar to the else, the elif statement is optional.\n",
    " * However, unlike else, for which there can be at most one statement, there can be arbitrary number of elif statement following an if."
   ]
  },
  {
   "cell_type": "code",
   "execution_count": 17,
   "id": "650d574b",
   "metadata": {},
   "outputs": [
    {
     "name": "stdout",
     "output_type": "stream",
     "text": [
      "The number 3.14 is greater than the value 1.618\n",
      "Done\n"
     ]
    }
   ],
   "source": [
    "x = 4\n",
    "y = 3\n",
    "\n",
    "if x>y:\n",
    "    print ('The number 3.14 is greater than the value 1.618')\n",
    "   \n",
    "\n",
    "print('Done')"
   ]
  },
  {
   "cell_type": "code",
   "execution_count": 18,
   "id": "26dbb0a3",
   "metadata": {},
   "outputs": [
    {
     "name": "stdout",
     "output_type": "stream",
     "text": [
      "The number 4 is greater than the value 3 \n"
     ]
    }
   ],
   "source": [
    "x = 4\n",
    "y = 3\n",
    "\n",
    "if x>y:\n",
    "    print (f'The number {x} is greater than the value {y} ')\n",
    "   "
   ]
  },
  {
   "cell_type": "code",
   "execution_count": null,
   "id": "b9f5008b",
   "metadata": {},
   "outputs": [],
   "source": []
  }
 ],
 "metadata": {
  "kernelspec": {
   "display_name": "Python 3 (ipykernel)",
   "language": "python",
   "name": "python3"
  },
  "language_info": {
   "codemirror_mode": {
    "name": "ipython",
    "version": 3
   },
   "file_extension": ".py",
   "mimetype": "text/x-python",
   "name": "python",
   "nbconvert_exporter": "python",
   "pygments_lexer": "ipython3",
   "version": "3.9.13"
  }
 },
 "nbformat": 4,
 "nbformat_minor": 5
}
