{
 "cells": [
  {
   "cell_type": "markdown",
   "id": "36bcbbe1",
   "metadata": {},
   "source": [
    "#  Comparison operators\n",
    "\n",
    " * Comparison operators compare some value or operand and based on a condition, produce a Boolean. Python has six comparison operators as below:\n",
    " \n",
    " \n",
    "   * Less than(<)\n",
    "   * Less than or equal to(<=)\n",
    "   * Greater than(>)\n",
    "   * Greater than or equal to(>=)\n",
    "   * Equal to(==)\n",
    "   * Not Equal to(!=)\n",
    "   "
   ]
  },
  {
   "cell_type": "code",
   "execution_count": 3,
   "id": "a652fc23",
   "metadata": {},
   "outputs": [
    {
     "name": "stdout",
     "output_type": "stream",
     "text": [
      "False\n",
      "True\n"
     ]
    }
   ],
   "source": [
    "ratio=1.618\n",
    "\n",
    "# Condtions\n",
    "print(ratio>2)  # The ratio is greater than 2, thus the output is False.\n",
    "print(ratio<2) # The ratio is lower then 2, thus the output is True."
   ]
  },
  {
   "cell_type": "code",
   "execution_count": 9,
   "id": "ce943e40",
   "metadata": {},
   "outputs": [
    {
     "name": "stdout",
     "output_type": "stream",
     "text": [
      "True\n",
      "False\n",
      "False\n",
      "True\n",
      "True\n",
      "True\n"
     ]
    }
   ],
   "source": [
    "# Take a variable.\n",
    "\n",
    "x = 1.618\n",
    "\n",
    "\n",
    "print(ratio <= 2) \n",
    "print(ratio>=2)\n",
    "print(ratio<=1)\n",
    "print(ratio>=1)\n",
    "print(ratio==1.618)\n",
    "print(ratio!=3)"
   ]
  },
  {
   "cell_type": "markdown",
   "id": "29c139aa",
   "metadata": {},
   "source": [
    "# Branching (if, elif, else)\n",
    "\n",
    " * Decision making is required when we want ot execute a code only if a certain condition is satisfied.\n",
    " * The if/elif/else statement is used to Python for decision making. \n",
    " * An else statement can be combined with an if statement.\n",
    " * An else statement constains the block of code that executes if the conditional expression in the if statement resolves to 0 or a False value.\n",
    " * The else statement is an optional statement and there could be at most only one else statement following if.\n",
    " * The elif statement allow you to check multiple expressions for True and execute a block of code as soon as one of the conditions evaluates to True.\n",
    " * Similar to the else, the elif statement is optional.\n",
    " * However, unlike else, for which there can be at most one statement, there can be arbitrary number of elif statement following an if."
   ]
  },
  {
   "cell_type": "code",
   "execution_count": 6,
   "id": "650d574b",
   "metadata": {},
   "outputs": [
    {
     "name": "stdout",
     "output_type": "stream",
     "text": [
      "The number 4 is greater than the value 3\n",
      "Done\n"
     ]
    }
   ],
   "source": [
    "x = 4\n",
    "y = 3\n",
    "\n",
    "if x>y:\n",
    "    print ('The number 4 is greater than the value 3')\n",
    "   \n",
    "\n",
    "print('Done')"
   ]
  },
  {
   "cell_type": "code",
   "execution_count": 8,
   "id": "26dbb0a3",
   "metadata": {},
   "outputs": [
    {
     "name": "stdout",
     "output_type": "stream",
     "text": [
      "The number 10 is the greater than the value 8\n"
     ]
    }
   ],
   "source": [
    "x = 10\n",
    "y = 8\n",
    "\n",
    "if x>y:\n",
    "    print (f'The number {x} is the greater than the value {y}')\n",
    "   "
   ]
  },
  {
   "cell_type": "code",
   "execution_count": 11,
   "id": "b9f5008b",
   "metadata": {},
   "outputs": [
    {
     "name": "stdout",
     "output_type": "stream",
     "text": [
      "The number 8 is lower than the value 10\n"
     ]
    }
   ],
   "source": [
    "x = 10\n",
    "y = 8\n",
    "\n",
    "if x<y:\n",
    "    print(f'The number {x} is greater than the value {y}')\n",
    "    \n",
    "else:\n",
    "    print(f'The number {y} is lower than the value {x}')"
   ]
  },
  {
   "cell_type": "code",
   "execution_count": 23,
   "id": "0ecceae0",
   "metadata": {},
   "outputs": [
    {
     "name": "stdout",
     "output_type": "stream",
     "text": [
      "You should go to kindergarden\n"
     ]
    }
   ],
   "source": [
    "age=5\n",
    "\n",
    "if age>6:\n",
    "    print('You can go to primary school')\n",
    "    \n",
    "elif age==5:\n",
    "    print('You should go to kindergarden')\n",
    "    \n",
    "else:\n",
    "    print('You are a teen')"
   ]
  },
  {
   "cell_type": "code",
   "execution_count": 27,
   "id": "d54e86bd",
   "metadata": {},
   "outputs": [
    {
     "name": "stdout",
     "output_type": "stream",
     "text": [
      "Album year is higher than 1995\n"
     ]
    }
   ],
   "source": [
    "album_year=2000\n",
    "#album_year1=1990\n",
    "\n",
    "\n",
    "if album_year >=1995:\n",
    "    print('Album year is higher than 1995')"
   ]
  },
  {
   "cell_type": "code",
   "execution_count": 33,
   "id": "6806e2cf",
   "metadata": {},
   "outputs": [
    {
     "name": "stdout",
     "output_type": "stream",
     "text": [
      "Enter movie rating: 7.0\n",
      "Could not win oscar\n"
     ]
    }
   ],
   "source": [
    "imdb_point=float(input('Enter movie rating: '))\n",
    "\n",
    "if imdb_point>8.0:\n",
    "    print('This movie could win oscar')\n",
    "    \n",
    "else:\n",
    "    print('Could not win oscar')"
   ]
  },
  {
   "cell_type": "code",
   "execution_count": 37,
   "id": "edae5f29",
   "metadata": {},
   "outputs": [
    {
     "name": "stdout",
     "output_type": "stream",
     "text": [
      "Enter your age: 19\n",
      "You are elegible for voting.\n"
     ]
    }
   ],
   "source": [
    "# Write a program to check your age you are elegible for voting or not.\n",
    "\n",
    "\n",
    "age=int(input('Enter your age: '))\n",
    "\n",
    "if age>=18:\n",
    "    print(\"You are elegible for voting.\")\n",
    "    \n",
    "    \n",
    "else:\n",
    "    print('You are not elegible for voting.')"
   ]
  },
  {
   "cell_type": "code",
   "execution_count": 38,
   "id": "21a77c7b",
   "metadata": {},
   "outputs": [
    {
     "name": "stdout",
     "output_type": "stream",
     "text": [
      "Enter your age: 19\n",
      "You can go and watch movie at your home\n"
     ]
    }
   ],
   "source": [
    "# Write a program to check your age and if your age is above 20 yrs. \n",
    "# display you can watch movie in the theater.\n",
    "\n",
    "age1=int(input('Enter your age: '))\n",
    "\n",
    "if age1>20:\n",
    "    print('You can watch movie in the theater. ')\n",
    "    \n",
    "else:\n",
    "    print('You can go and watch movie at your home')"
   ]
  },
  {
   "cell_type": "code",
   "execution_count": 43,
   "id": "f5743d41",
   "metadata": {},
   "outputs": [
    {
     "name": "stdout",
     "output_type": "stream",
     "text": [
      "Enter any number: 4651684651651461\n",
      "You Entered Odd number\n"
     ]
    }
   ],
   "source": [
    "# Write a program to find the even number.\n",
    "\n",
    "num=int(input('Enter any number: '))\n",
    "\n",
    "if num%2==0:\n",
    "    print('You Entered Even number')\n",
    "    \n",
    "else:\n",
    "    print('You Entered Odd number')"
   ]
  },
  {
   "cell_type": "code",
   "execution_count": 45,
   "id": "5328c1a4",
   "metadata": {},
   "outputs": [
    {
     "name": "stdout",
     "output_type": "stream",
     "text": [
      "Enter any number: 6546164616162\n",
      "You Entered Even number\n"
     ]
    }
   ],
   "source": [
    "# Write a program to find the odd number\n",
    "\n",
    "num=int(input('Enter any number: '))\n",
    "\n",
    "if num%2!=0:\n",
    "    print('You Entered Odd number')\n",
    "    \n",
    "else:\n",
    "    print('You Entered Even number')"
   ]
  },
  {
   "cell_type": "code",
   "execution_count": null,
   "id": "2b422f3b",
   "metadata": {},
   "outputs": [],
   "source": []
  }
 ],
 "metadata": {
  "kernelspec": {
   "display_name": "Python 3 (ipykernel)",
   "language": "python",
   "name": "python3"
  },
  "language_info": {
   "codemirror_mode": {
    "name": "ipython",
    "version": 3
   },
   "file_extension": ".py",
   "mimetype": "text/x-python",
   "name": "python",
   "nbconvert_exporter": "python",
   "pygments_lexer": "ipython3",
   "version": "3.9.13"
  }
 },
 "nbformat": 4,
 "nbformat_minor": 5
}
