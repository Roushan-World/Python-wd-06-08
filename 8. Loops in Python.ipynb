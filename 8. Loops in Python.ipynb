{
 "cells": [
  {
   "cell_type": "markdown",
   "id": "5c48f746",
   "metadata": {},
   "source": [
    "# 8. Loops in Python\n",
    "\n",
    " * A for loop is used for iterating over a sequence (that is either a list, a tuple, a dictionary, a set or a string).\n",
    " * This is less like the for keyword in other programming languages, and works more like an iterator method as found in other object-oriented programming languages.\n",
    " * With the for loop we can execute a set of statements, once for each item in a list, tuple, set etc.\n",
    " * The for loop does not require an indexing variable to set beforehand.\n",
    " * Withe the while loop we can execute a set of statements as long as a condition is true.\n",
    " * Note: remember to increment i, or else the loop will continue forever.\n",
    " * The while loop requires relevant variables to be ready, in this example we need to define and indexing variable, i, which we seto to 1.\n",
    " \n",
    " \n",
    "# range() function\n",
    "\n",
    " * It is helpful to think of the range object as an ordered list.\n",
    " * To loop though as a set of code a sepcified number of times, We can use the range() function.\n",
    " * The range() function returns a sequence of numbers, starting form 0 by default, and increments by 1(by default) and ends at a specified number."
   ]
  },
  {
   "cell_type": "code",
   "execution_count": 2,
   "id": "9d3f143c",
   "metadata": {},
   "outputs": [
    {
     "name": "stdout",
     "output_type": "stream",
     "text": [
      "range(0, 5)\n",
      "range(0, 10)\n"
     ]
    }
   ],
   "source": [
    "print(range(5))\n",
    "print(range(0,10))"
   ]
  },
  {
   "cell_type": "markdown",
   "id": "b58d8966",
   "metadata": {},
   "source": [
    "# for loop\n",
    "\n",
    " * The for loop enables you to execute a code block multiple times."
   ]
  },
  {
   "cell_type": "code",
   "execution_count": 3,
   "id": "53f68b9b",
   "metadata": {},
   "outputs": [
    {
     "name": "stdout",
     "output_type": "stream",
     "text": [
      "2001\n",
      "2002\n",
      "2003\n",
      "2004\n",
      "2005\n",
      "2006\n",
      "2007\n",
      "2008\n",
      "2009\n",
      "2010\n"
     ]
    }
   ],
   "source": [
    "years=[2001,2002,2003,2004,2005,2006,2007,2008,2009,2010]\n",
    "\n",
    "for i in years:\n",
    "    print(i)"
   ]
  },
  {
   "cell_type": "code",
   "execution_count": 4,
   "id": "ffddc8af",
   "metadata": {},
   "outputs": [
    {
     "name": "stdout",
     "output_type": "stream",
     "text": [
      "2001\n",
      "2002\n",
      "2003\n",
      "2004\n",
      "2005\n",
      "2006\n",
      "2007\n",
      "2008\n",
      "2009\n",
      "2010\n"
     ]
    }
   ],
   "source": [
    "for years in years:\n",
    "    print(years)"
   ]
  },
  {
   "cell_type": "code",
   "execution_count": 7,
   "id": "0fbb3611",
   "metadata": {},
   "outputs": [
    {
     "name": "stdout",
     "output_type": "stream",
     "text": [
      "2001\n",
      "2002\n",
      "2003\n",
      "2004\n",
      "2005\n",
      "2006\n",
      "2007\n",
      "2008\n",
      "2009\n",
      "2010\n"
     ]
    }
   ],
   "source": [
    "years=[2001,2002,2003,2004,2005,2006,2007,2008,2009,2010]\n",
    "\n",
    "for i in range(len(years)):\n",
    "    print(years[i])"
   ]
  },
  {
   "cell_type": "code",
   "execution_count": 12,
   "id": "6fb9a7cb",
   "metadata": {},
   "outputs": [
    {
     "name": "stdout",
     "output_type": "stream",
     "text": [
      "9\n",
      "10\n"
     ]
    }
   ],
   "source": [
    "for i in range(9,11):\n",
    "    print(i)"
   ]
  },
  {
   "cell_type": "code",
   "execution_count": 3,
   "id": "58cd2881",
   "metadata": {},
   "outputs": [
    {
     "name": "stdout",
     "output_type": "stream",
     "text": [
      "2\n",
      "5\n",
      "8\n",
      "11\n",
      "14\n",
      "17\n"
     ]
    }
   ],
   "source": [
    "# step value in loop\n",
    "\n",
    "for i in range(2,20,3):\n",
    "    print(i)"
   ]
  },
  {
   "cell_type": "code",
   "execution_count": 5,
   "id": "4c7682a4",
   "metadata": {},
   "outputs": [
    {
     "name": "stdout",
     "output_type": "stream",
     "text": [
      "Before language: 0 is Python\n",
      "Before language: 1 is C\n",
      "Before language: 2 is C++\n",
      "Before language: 3 is Java\n"
     ]
    }
   ],
   "source": [
    "# Changing elements in the list.\n",
    "\n",
    "languages=['Python','C','C++','Java']\n",
    "for i in range(len(languages)):\n",
    "    print('Before language:',i,'is',languages[i])\n",
    "    \n"
   ]
  },
  {
   "cell_type": "code",
   "execution_count": 7,
   "id": "9d150a2f",
   "metadata": {},
   "outputs": [
    {
     "name": "stdout",
     "output_type": "stream",
     "text": [
      "Before language: 0 Python\n",
      "Before language: 1 C\n",
      "Before language: 2 C++\n",
      "Before language: 3 Java\n"
     ]
    }
   ],
   "source": [
    "#Enumeration of the elements in the list.\n",
    "languages=['Python','C','C++','Java']\n",
    "\n",
    "for index,language in enumerate(languages):\n",
    "    print(\"Before language:\",index,language)"
   ]
  },
  {
   "cell_type": "code",
   "execution_count": 8,
   "id": "5aa29590",
   "metadata": {},
   "outputs": [
    {
     "name": "stdout",
     "output_type": "stream",
     "text": [
      "-3\n",
      "-2\n",
      "-1\n",
      "0\n",
      "1\n",
      "2\n",
      "3\n",
      "4\n",
      "5\n",
      "6\n",
      "7\n",
      "8\n",
      "9\n"
     ]
    }
   ],
   "source": [
    "for i in range(-3,10):\n",
    "    print(i)"
   ]
  },
  {
   "cell_type": "code",
   "execution_count": 11,
   "id": "5fe3da27",
   "metadata": {},
   "outputs": [
    {
     "name": "stdout",
     "output_type": "stream",
     "text": [
      "Enter any number:36666\n",
      "36666 x 1 = 36666\n",
      "36666 x 2 = 73332\n",
      "36666 x 3 = 109998\n",
      "36666 x 4 = 146664\n",
      "36666 x 5 = 183330\n",
      "36666 x 6 = 219996\n",
      "36666 x 7 = 256662\n",
      "36666 x 8 = 293328\n",
      "36666 x 9 = 329994\n",
      "36666 x 10 = 366660\n"
     ]
    }
   ],
   "source": [
    "# Write a table using for loop.\n",
    "\n",
    "number=int(input('Enter any number:'))\n",
    "\n",
    "for i in range(1,11):\n",
    "    print('%d x %d = %d' %(number,i,number*i))"
   ]
  },
  {
   "cell_type": "code",
   "execution_count": 14,
   "id": "5f5e65ad",
   "metadata": {},
   "outputs": [
    {
     "name": "stdout",
     "output_type": "stream",
     "text": [
      "The total of number in list is:  1387.85\n",
      "The Average value of number in list is: 154.20555555555555\n"
     ]
    }
   ],
   "source": [
    "# Take a list:\n",
    "\n",
    "lis=[12,4,5,6,66,48,100,1023.0,123.85]\n",
    "\n",
    "count=0\n",
    "for i in lis:\n",
    "    count+=i\n",
    "print(\"The total of number in list is: \",count)\n",
    "print('The Average value of number in list is:',count/len(lis))\n"
   ]
  },
  {
   "cell_type": "markdown",
   "id": "b3b7a9bf",
   "metadata": {},
   "source": [
    "# for else statement\n",
    "\n"
   ]
  },
  {
   "cell_type": "code",
   "execution_count": 15,
   "id": "cad115a7",
   "metadata": {},
   "outputs": [
    {
     "name": "stdout",
     "output_type": "stream",
     "text": [
      "1,2,3,4,5,These numbers from 1 to 5:\n"
     ]
    }
   ],
   "source": [
    "for i in range(1,6):\n",
    "    print(i,end=',')\n",
    "else:\n",
    "    print('These numbers from 1 to 5:')"
   ]
  },
  {
   "cell_type": "markdown",
   "id": "97f22aa9",
   "metadata": {},
   "source": [
    "# Break() function"
   ]
  },
  {
   "cell_type": "code",
   "execution_count": 2,
   "id": "c67cbc66",
   "metadata": {},
   "outputs": [
    {
     "name": "stdout",
     "output_type": "stream",
     "text": [
      "1\n",
      "2\n",
      "3\n",
      "4\n",
      "5\n",
      "6\n",
      "7\n",
      "8\n",
      "9\n"
     ]
    }
   ],
   "source": [
    "x = [1,2,3,4,5,6,7,8,9,10,11,12,13,14,15]\n",
    "\n",
    "for i in x:\n",
    "    if i==10:\n",
    "        break\n",
    "    print(i)"
   ]
  },
  {
   "cell_type": "code",
   "execution_count": 4,
   "id": "26c567fd",
   "metadata": {},
   "outputs": [
    {
     "name": "stdout",
     "output_type": "stream",
     "text": [
      "1\n",
      "2\n",
      "3\n",
      "4\n",
      "5\n",
      "6\n",
      "7\n",
      "8\n",
      "9\n",
      "10\n",
      "11\n",
      "12\n",
      "13\n",
      "14\n",
      "15\n"
     ]
    }
   ],
   "source": [
    "for i in x:\n",
    "    if i==0:\n",
    "        continue\n",
    "    print(i)"
   ]
  },
  {
   "cell_type": "markdown",
   "id": "dfd82292",
   "metadata": {},
   "source": [
    "# While () loop\n",
    "\n",
    "The while loop exists as a tool for repeated execution based on a condition. The code block will keep being executed untill the the given logical condition returns a False booleans value."
   ]
  },
  {
   "cell_type": "code",
   "execution_count": 5,
   "id": "167dba95",
   "metadata": {},
   "outputs": [
    {
     "name": "stdout",
     "output_type": "stream",
     "text": [
      "22\n",
      "23\n",
      "24\n",
      "25\n",
      "26\n"
     ]
    }
   ],
   "source": [
    "for i in range(22,27):\n",
    "    print(i)"
   ]
  },
  {
   "cell_type": "code",
   "execution_count": 6,
   "id": "b41b65e2",
   "metadata": {},
   "outputs": [
    {
     "name": "stdout",
     "output_type": "stream",
     "text": [
      "22\n",
      "23\n",
      "24\n",
      "25\n",
      "26\n"
     ]
    }
   ],
   "source": [
    "i=22\n",
    "\n",
    "while i<27:\n",
    "    print(i)\n",
    "    i+=1"
   ]
  },
  {
   "cell_type": "code",
   "execution_count": 7,
   "id": "e165e2fe",
   "metadata": {},
   "outputs": [
    {
     "name": "stdout",
     "output_type": "stream",
     "text": [
      "22\n",
      "21\n",
      "20\n",
      "19\n",
      "18\n",
      "17\n"
     ]
    }
   ],
   "source": [
    "i = 22\n",
    "while i>=17:\n",
    "    print(i)\n",
    "    i-=1"
   ]
  },
  {
   "cell_type": "code",
   "execution_count": 17,
   "id": "99a49179",
   "metadata": {},
   "outputs": [
    {
     "name": "stdout",
     "output_type": "stream",
     "text": [
      "8.0\n",
      "9.0\n",
      "10.0\n",
      "11.0\n",
      "12.0\n",
      "13.0\n",
      "14.0\n",
      "15.0\n",
      "16.0\n"
     ]
    },
    {
     "ename": "IndexError",
     "evalue": "list index out of range",
     "output_type": "error",
     "traceback": [
      "\u001b[1;31m---------------------------------------------------------------------------\u001b[0m",
      "\u001b[1;31mIndexError\u001b[0m                                Traceback (most recent call last)",
      "\u001b[1;32m~\\AppData\\Local\\Temp\\ipykernel_13980\\3374360945.py\u001b[0m in \u001b[0;36m<module>\u001b[1;34m\u001b[0m\n\u001b[0;32m      9\u001b[0m     \u001b[0mprint\u001b[0m\u001b[1;33m(\u001b[0m\u001b[0mrating\u001b[0m\u001b[1;33m)\u001b[0m\u001b[1;33m\u001b[0m\u001b[1;33m\u001b[0m\u001b[0m\n\u001b[0;32m     10\u001b[0m     \u001b[0mindex\u001b[0m\u001b[1;33m+=\u001b[0m\u001b[1;36m1\u001b[0m\u001b[1;33m\u001b[0m\u001b[1;33m\u001b[0m\u001b[0m\n\u001b[1;32m---> 11\u001b[1;33m     \u001b[0mrating\u001b[0m\u001b[1;33m=\u001b[0m\u001b[0mmovie_rating\u001b[0m\u001b[1;33m[\u001b[0m\u001b[0mindex\u001b[0m\u001b[1;33m]\u001b[0m\u001b[1;33m\u001b[0m\u001b[1;33m\u001b[0m\u001b[0m\n\u001b[0m\u001b[0;32m     12\u001b[0m \u001b[0mprint\u001b[0m\u001b[1;33m(\u001b[0m\u001b[0mindex\u001b[0m\u001b[1;33m)\u001b[0m\u001b[1;33m\u001b[0m\u001b[1;33m\u001b[0m\u001b[0m\n",
      "\u001b[1;31mIndexError\u001b[0m: list index out of range"
     ]
    }
   ],
   "source": [
    "# print the movie rating greater than 6\n",
    "\n",
    "movie_rating=[8.0,9.0,10.0,11.0,12.0,13.0,14.0,15.0,16.0]\n",
    "\n",
    "index=0\n",
    "rating=movie_rating[0]\n",
    "\n",
    "while rating>=8:\n",
    "    print(rating)\n",
    "    index+=1\n",
    "    rating=movie_rating[index]\n",
    "print(index)\n"
   ]
  },
  {
   "cell_type": "code",
   "execution_count": 19,
   "id": "ebadf60f",
   "metadata": {},
   "outputs": [
    {
     "name": "stdout",
     "output_type": "stream",
     "text": [
      "Enter any number: 4\n",
      "4 x 1 = 4\n",
      "4 x 2 = 8\n",
      "4 x 3 = 12\n",
      "4 x 4 = 16\n",
      "4 x 5 = 20\n",
      "4 x 6 = 24\n",
      "4 x 7 = 28\n",
      "4 x 8 = 32\n",
      "4 x 9 = 36\n",
      "4 x 10 = 40\n"
     ]
    }
   ],
   "source": [
    "# Write a table using while loop\n",
    "\n",
    "num=int(input ('Enter any number: '))\n",
    "\n",
    "i = 1\n",
    "while i<=10:\n",
    "    print('%d x %d = %d'%(num,i,num*i))\n",
    "    i+=1"
   ]
  },
  {
   "cell_type": "markdown",
   "id": "c04f9fec",
   "metadata": {},
   "source": [
    "# continue in while loop"
   ]
  },
  {
   "cell_type": "code",
   "execution_count": 20,
   "id": "e2719b0e",
   "metadata": {},
   "outputs": [
    {
     "name": "stdout",
     "output_type": "stream",
     "text": [
      "0\n",
      "1\n",
      "2\n",
      "3\n",
      "4\n",
      "5\n"
     ]
    }
   ],
   "source": [
    "i=0\n",
    "\n",
    "while i<=5:\n",
    "    print(i)\n",
    "    i+=1\n",
    "    if i ==3:\n",
    "        continue"
   ]
  },
  {
   "cell_type": "markdown",
   "id": "5cfec9e6",
   "metadata": {},
   "source": [
    "# Break in while loop"
   ]
  },
  {
   "cell_type": "code",
   "execution_count": 21,
   "id": "832ae419",
   "metadata": {},
   "outputs": [
    {
     "name": "stdout",
     "output_type": "stream",
     "text": [
      "0\n",
      "1\n",
      "2\n"
     ]
    }
   ],
   "source": [
    "i = 0\n",
    "\n",
    "while i<=5:\n",
    "    print(i)\n",
    "    i+=1\n",
    "    if i ==3:\n",
    "        break"
   ]
  },
  {
   "cell_type": "code",
   "execution_count": null,
   "id": "67bf5a93",
   "metadata": {},
   "outputs": [],
   "source": []
  }
 ],
 "metadata": {
  "kernelspec": {
   "display_name": "Python 3 (ipykernel)",
   "language": "python",
   "name": "python3"
  },
  "language_info": {
   "codemirror_mode": {
    "name": "ipython",
    "version": 3
   },
   "file_extension": ".py",
   "mimetype": "text/x-python",
   "name": "python",
   "nbconvert_exporter": "python",
   "pygments_lexer": "ipython3",
   "version": "3.9.13"
  }
 },
 "nbformat": 4,
 "nbformat_minor": 5
}
