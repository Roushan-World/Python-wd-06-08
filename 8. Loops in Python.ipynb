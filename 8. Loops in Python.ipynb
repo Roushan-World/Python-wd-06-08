{
 "cells": [
  {
   "cell_type": "markdown",
   "id": "5c48f746",
   "metadata": {},
   "source": [
    "# 8. Loops in Python\n",
    "\n",
    " * A for loop is used for iterating over a sequence (that is either a list, a tuple, a dictionary, a set or a string).\n",
    " * This is less like the for keyword in other programming languages, and works more like an iterator method as found in other object-oriented programming languages.\n",
    " * With the for loop we can execute a set of statements, once for each item in a list, tuple, set etc.\n",
    " * The for loop does not require an indexing variable to set beforehand.\n",
    " * Withe the while loop we can execute a set of statements as long as a condition is true.\n",
    " * Note: remember to increment i, or else the loop will continue forever.\n",
    " * The while loop requires relevant variables to be ready, in this example we need to define and indexing variable, i, which we seto to 1.\n",
    " \n",
    " \n",
    "# range() function\n",
    "\n",
    " * It is helpful to think of the range object as an ordered list.\n",
    " * To loop though as a set of code a sepcified number of times, We can use the range() function.\n",
    " * The range() function returns a sequence of numbers, starting form 0 by default, and increments by 1(by default) and ends at a specified number."
   ]
  },
  {
   "cell_type": "code",
   "execution_count": 2,
   "id": "9d3f143c",
   "metadata": {},
   "outputs": [
    {
     "name": "stdout",
     "output_type": "stream",
     "text": [
      "range(0, 5)\n",
      "range(0, 10)\n"
     ]
    }
   ],
   "source": [
    "print(range(5))\n",
    "print(range(0,10))"
   ]
  },
  {
   "cell_type": "markdown",
   "id": "b58d8966",
   "metadata": {},
   "source": [
    "# for loop\n",
    "\n",
    " * The for loop enables you to execute a code block multiple times."
   ]
  },
  {
   "cell_type": "code",
   "execution_count": 3,
   "id": "53f68b9b",
   "metadata": {},
   "outputs": [
    {
     "name": "stdout",
     "output_type": "stream",
     "text": [
      "2001\n",
      "2002\n",
      "2003\n",
      "2004\n",
      "2005\n",
      "2006\n",
      "2007\n",
      "2008\n",
      "2009\n",
      "2010\n"
     ]
    }
   ],
   "source": [
    "years=[2001,2002,2003,2004,2005,2006,2007,2008,2009,2010]\n",
    "\n",
    "for i in years:\n",
    "    print(i)"
   ]
  },
  {
   "cell_type": "code",
   "execution_count": 4,
   "id": "ffddc8af",
   "metadata": {},
   "outputs": [
    {
     "name": "stdout",
     "output_type": "stream",
     "text": [
      "2001\n",
      "2002\n",
      "2003\n",
      "2004\n",
      "2005\n",
      "2006\n",
      "2007\n",
      "2008\n",
      "2009\n",
      "2010\n"
     ]
    }
   ],
   "source": [
    "for years in years:\n",
    "    print(years)"
   ]
  },
  {
   "cell_type": "code",
   "execution_count": 7,
   "id": "0fbb3611",
   "metadata": {},
   "outputs": [
    {
     "name": "stdout",
     "output_type": "stream",
     "text": [
      "2001\n",
      "2002\n",
      "2003\n",
      "2004\n",
      "2005\n",
      "2006\n",
      "2007\n",
      "2008\n",
      "2009\n",
      "2010\n"
     ]
    }
   ],
   "source": [
    "years=[2001,2002,2003,2004,2005,2006,2007,2008,2009,2010]\n",
    "\n",
    "for i in range(len(years)):\n",
    "    print(years[i])"
   ]
  },
  {
   "cell_type": "code",
   "execution_count": 12,
   "id": "6fb9a7cb",
   "metadata": {},
   "outputs": [
    {
     "name": "stdout",
     "output_type": "stream",
     "text": [
      "9\n",
      "10\n"
     ]
    }
   ],
   "source": [
    "for i in range(9,11):\n",
    "    print(i)"
   ]
  },
  {
   "cell_type": "code",
   "execution_count": null,
   "id": "58cd2881",
   "metadata": {},
   "outputs": [],
   "source": []
  }
 ],
 "metadata": {
  "kernelspec": {
   "display_name": "Python 3 (ipykernel)",
   "language": "python",
   "name": "python3"
  },
  "language_info": {
   "codemirror_mode": {
    "name": "ipython",
    "version": 3
   },
   "file_extension": ".py",
   "mimetype": "text/x-python",
   "name": "python",
   "nbconvert_exporter": "python",
   "pygments_lexer": "ipython3",
   "version": "3.9.13"
  }
 },
 "nbformat": 4,
 "nbformat_minor": 5
}
