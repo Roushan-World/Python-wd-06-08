{
 "cells": [
  {
   "cell_type": "markdown",
   "id": "5c48f746",
   "metadata": {},
   "source": [
    "# 8. Loops in Python\n",
    "\n",
    " * A for loop is used for iterating over a sequence (that is either a list, a tuple, a dictionary, a set or a string).\n",
    " * This is less like the for keyword in other programming languages, and works more like an iterator method as found in other object-oriented programming languages.\n",
    " * With the for loop we can execute a set of statements, once for each item in a list, tuple, set etc.\n",
    " * The for loop does not require an indexing variable to set beforehand.\n",
    " * Withe the while loop we can execute a set of statements as long as a condition is true.\n",
    " * Note: remember to increment i, or else the loop will continue forever.\n",
    " * The while loop requires relevant variables to be ready, in this example we need to define and indexing variable, i, which we seto to 1.\n",
    " \n",
    " \n",
    "# range() function\n",
    "\n",
    " * It is helpful to think of the range object as an ordered list.\n",
    " * To loop though as a set of code a sepcified number of times, We can use the range() function.\n",
    " * The range() function returns a sequence of numbers, starting form 0 by default, and increments by 1(by default) and ends at a specified number."
   ]
  },
  {
   "cell_type": "code",
   "execution_count": 2,
   "id": "9d3f143c",
   "metadata": {},
   "outputs": [
    {
     "name": "stdout",
     "output_type": "stream",
     "text": [
      "range(0, 5)\n",
      "range(0, 10)\n"
     ]
    }
   ],
   "source": [
    "print(range(5))\n",
    "print(range(0,10))"
   ]
  },
  {
   "cell_type": "markdown",
   "id": "b58d8966",
   "metadata": {},
   "source": [
    "# for loop\n",
    "\n",
    " * The for loop enables you to execute a code block multiple times."
   ]
  },
  {
   "cell_type": "code",
   "execution_count": 3,
   "id": "53f68b9b",
   "metadata": {},
   "outputs": [
    {
     "name": "stdout",
     "output_type": "stream",
     "text": [
      "2001\n",
      "2002\n",
      "2003\n",
      "2004\n",
      "2005\n",
      "2006\n",
      "2007\n",
      "2008\n",
      "2009\n",
      "2010\n"
     ]
    }
   ],
   "source": [
    "years=[2001,2002,2003,2004,2005,2006,2007,2008,2009,2010]\n",
    "\n",
    "for i in years:\n",
    "    print(i)"
   ]
  },
  {
   "cell_type": "code",
   "execution_count": 4,
   "id": "ffddc8af",
   "metadata": {},
   "outputs": [
    {
     "name": "stdout",
     "output_type": "stream",
     "text": [
      "2001\n",
      "2002\n",
      "2003\n",
      "2004\n",
      "2005\n",
      "2006\n",
      "2007\n",
      "2008\n",
      "2009\n",
      "2010\n"
     ]
    }
   ],
   "source": [
    "for years in years:\n",
    "    print(years)"
   ]
  },
  {
   "cell_type": "code",
   "execution_count": 7,
   "id": "0fbb3611",
   "metadata": {},
   "outputs": [
    {
     "name": "stdout",
     "output_type": "stream",
     "text": [
      "2001\n",
      "2002\n",
      "2003\n",
      "2004\n",
      "2005\n",
      "2006\n",
      "2007\n",
      "2008\n",
      "2009\n",
      "2010\n"
     ]
    }
   ],
   "source": [
    "years=[2001,2002,2003,2004,2005,2006,2007,2008,2009,2010]\n",
    "\n",
    "for i in range(len(years)):\n",
    "    print(years[i])"
   ]
  },
  {
   "cell_type": "code",
   "execution_count": 12,
   "id": "6fb9a7cb",
   "metadata": {},
   "outputs": [
    {
     "name": "stdout",
     "output_type": "stream",
     "text": [
      "9\n",
      "10\n"
     ]
    }
   ],
   "source": [
    "for i in range(9,11):\n",
    "    print(i)"
   ]
  },
  {
   "cell_type": "code",
   "execution_count": 3,
   "id": "58cd2881",
   "metadata": {},
   "outputs": [
    {
     "name": "stdout",
     "output_type": "stream",
     "text": [
      "2\n",
      "5\n",
      "8\n",
      "11\n",
      "14\n",
      "17\n"
     ]
    }
   ],
   "source": [
    "# step value in loop\n",
    "\n",
    "for i in range(2,20,3):\n",
    "    print(i)"
   ]
  },
  {
   "cell_type": "code",
   "execution_count": 5,
   "id": "4c7682a4",
   "metadata": {},
   "outputs": [
    {
     "name": "stdout",
     "output_type": "stream",
     "text": [
      "Before language: 0 is Python\n",
      "Before language: 1 is C\n",
      "Before language: 2 is C++\n",
      "Before language: 3 is Java\n"
     ]
    }
   ],
   "source": [
    "# Changing elements in the list.\n",
    "\n",
    "languages=['Python','C','C++','Java']\n",
    "for i in range(len(languages)):\n",
    "    print('Before language:',i,'is',languages[i])\n",
    "    \n"
   ]
  },
  {
   "cell_type": "code",
   "execution_count": 7,
   "id": "9d150a2f",
   "metadata": {},
   "outputs": [
    {
     "name": "stdout",
     "output_type": "stream",
     "text": [
      "Before language: 0 Python\n",
      "Before language: 1 C\n",
      "Before language: 2 C++\n",
      "Before language: 3 Java\n"
     ]
    }
   ],
   "source": [
    "#Enumeration of the elements in the list.\n",
    "languages=['Python','C','C++','Java']\n",
    "\n",
    "for index,language in enumerate(languages):\n",
    "    print(\"Before language:\",index,language)"
   ]
  },
  {
   "cell_type": "code",
   "execution_count": 8,
   "id": "5aa29590",
   "metadata": {},
   "outputs": [
    {
     "name": "stdout",
     "output_type": "stream",
     "text": [
      "-3\n",
      "-2\n",
      "-1\n",
      "0\n",
      "1\n",
      "2\n",
      "3\n",
      "4\n",
      "5\n",
      "6\n",
      "7\n",
      "8\n",
      "9\n"
     ]
    }
   ],
   "source": [
    "for i in range(-3,10):\n",
    "    print(i)"
   ]
  },
  {
   "cell_type": "code",
   "execution_count": 11,
   "id": "5fe3da27",
   "metadata": {},
   "outputs": [
    {
     "name": "stdout",
     "output_type": "stream",
     "text": [
      "Enter any number:36666\n",
      "36666 x 1 = 36666\n",
      "36666 x 2 = 73332\n",
      "36666 x 3 = 109998\n",
      "36666 x 4 = 146664\n",
      "36666 x 5 = 183330\n",
      "36666 x 6 = 219996\n",
      "36666 x 7 = 256662\n",
      "36666 x 8 = 293328\n",
      "36666 x 9 = 329994\n",
      "36666 x 10 = 366660\n"
     ]
    }
   ],
   "source": [
    "# Write a table using for loop.\n",
    "\n",
    "number=int(input('Enter any number:'))\n",
    "\n",
    "for i in range(1,11):\n",
    "    print('%d x %d = %d' %(number,i,number*i))"
   ]
  },
  {
   "cell_type": "code",
   "execution_count": 14,
   "id": "5f5e65ad",
   "metadata": {},
   "outputs": [
    {
     "name": "stdout",
     "output_type": "stream",
     "text": [
      "The total of number in list is:  1387.85\n",
      "The Average value of number in list is: 154.20555555555555\n"
     ]
    }
   ],
   "source": [
    "# Take a list:\n",
    "\n",
    "lis=[12,4,5,6,66,48,100,1023.0,123.85]\n",
    "\n",
    "count=0\n",
    "for i in lis:\n",
    "    count+=i\n",
    "print(\"The total of number in list is: \",count)\n",
    "print('The Average value of number in list is:',count/len(lis))\n"
   ]
  },
  {
   "cell_type": "markdown",
   "id": "b3b7a9bf",
   "metadata": {},
   "source": [
    "# for else statement\n",
    "\n"
   ]
  },
  {
   "cell_type": "code",
   "execution_count": 15,
   "id": "cad115a7",
   "metadata": {},
   "outputs": [
    {
     "name": "stdout",
     "output_type": "stream",
     "text": [
      "1,2,3,4,5,These numbers from 1 to 5:\n"
     ]
    }
   ],
   "source": [
    "for i in range(1,6):\n",
    "    print(i,end=',')\n",
    "else:\n",
    "    print('These numbers from 1 to 5:')"
   ]
  },
  {
   "cell_type": "code",
   "execution_count": null,
   "id": "08094a62",
   "metadata": {},
   "outputs": [],
   "source": []
  }
 ],
 "metadata": {
  "kernelspec": {
   "display_name": "Python 3 (ipykernel)",
   "language": "python",
   "name": "python3"
  },
  "language_info": {
   "codemirror_mode": {
    "name": "ipython",
    "version": 3
   },
   "file_extension": ".py",
   "mimetype": "text/x-python",
   "name": "python",
   "nbconvert_exporter": "python",
   "pygments_lexer": "ipython3",
   "version": "3.9.13"
  }
 },
 "nbformat": 4,
 "nbformat_minor": 5
}
