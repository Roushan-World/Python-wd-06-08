{
 "cells": [
  {
   "cell_type": "markdown",
   "id": "a21ef61e",
   "metadata": {},
   "source": [
    "# 9. Functions in Python\n",
    "\n",
    " * In Python, a function is a group of related statements that performs a specific task.\n",
    " * Functions help break out program into smaller and modular chunks. * As per our programs groups larger and larger, functions make it more organized and manageable.\n",
    " * Furthermore, it avoids repetition and makes the code reusable.\n",
    " * There are two types of functions.\n",
    "     * Per-defined functions.\n",
    "     * User defined functions.\n",
    " * In Python a function is defined using the def keyword followed by the function name and parentheses ().\n",
    " * Keyword def that marks the start of the function header.\n",
    " * A function name to uniquely identify the function.\n",
    " * Function naming follows the same rules of writing identifiers in Python.\n",
    " * Paramethers (arguments) through which we pass values to a function. They are optional.\n",
    " * A colon (:) to mark the end of the function header.\n",
    " * Optional doucmentation string (docstring) to describe what the function does.\n",
    " * One or more valid python statements that make up the function body.\n",
    " * Statements must have the same indentation level (usually 4 spaces).\n",
    " * An optional return statement to return a value from the function.\n",
    " \n",
    " \n",
    "             def name(arguments):\n",
    "                   statement\n",
    "                   statement\n",
    "                   ......\n",
    "                   return value\n",
    "                  "
   ]
  },
  {
   "cell_type": "code",
   "execution_count": 1,
   "id": "763304fa",
   "metadata": {},
   "outputs": [
    {
     "name": "stdout",
     "output_type": "stream",
     "text": [
      "If you make the above operations with 5, the result will be -3,13,40,0.625\n"
     ]
    },
    {
     "data": {
      "text/plain": [
       "(-3, 13, 40, 0.625)"
      ]
     },
     "execution_count": 1,
     "metadata": {},
     "output_type": "execute_result"
    }
   ],
   "source": [
    "# Take a sample function\n",
    "\n",
    "def process(x):\n",
    "    y1=x-8\n",
    "    y2=x+8\n",
    "    y3=x*8\n",
    "    y4=x/8\n",
    "    print(f'If you make the above operations with {x}, the result will be {y1},{y2},{y3},{y4}')\n",
    "    return y1,y2,y3,y4\n",
    "process(5)"
   ]
  },
  {
   "cell_type": "code",
   "execution_count": 2,
   "id": "cdfbd3d8",
   "metadata": {},
   "outputs": [
    {
     "name": "stdout",
     "output_type": "stream",
     "text": [
      "If you make the above operations with 10, the result will be 2,18,80,1.25\n"
     ]
    },
    {
     "data": {
      "text/plain": [
       "(2, 18, 80, 1.25)"
      ]
     },
     "execution_count": 2,
     "metadata": {},
     "output_type": "execute_result"
    }
   ],
   "source": [
    "process(10)"
   ]
  },
  {
   "cell_type": "code",
   "execution_count": 3,
   "id": "123bc597",
   "metadata": {},
   "outputs": [
    {
     "name": "stdout",
     "output_type": "stream",
     "text": [
      "If you make the above operations with 20, the result will be 12,28,160,2.5\n"
     ]
    },
    {
     "data": {
      "text/plain": [
       "(12, 28, 160, 2.5)"
      ]
     },
     "execution_count": 3,
     "metadata": {},
     "output_type": "execute_result"
    }
   ],
   "source": [
    "process(20)"
   ]
  },
  {
   "cell_type": "code",
   "execution_count": 5,
   "id": "97be840b",
   "metadata": {},
   "outputs": [
    {
     "name": "stdout",
     "output_type": "stream",
     "text": [
      "Help on function process in module __main__:\n",
      "\n",
      "process(x)\n",
      "\n"
     ]
    }
   ],
   "source": [
    "help(process)"
   ]
  },
  {
   "cell_type": "code",
   "execution_count": 6,
   "id": "55a38c60",
   "metadata": {},
   "outputs": [
    {
     "name": "stdout",
     "output_type": "stream",
     "text": [
      "If you make the above operations with 10, the result will be 2,18,80,1.25\n"
     ]
    },
    {
     "data": {
      "text/plain": [
       "(2, 18, 80, 1.25)"
      ]
     },
     "execution_count": 6,
     "metadata": {},
     "output_type": "execute_result"
    }
   ],
   "source": [
    "process(10)"
   ]
  },
  {
   "cell_type": "markdown",
   "id": "5ebe076d",
   "metadata": {},
   "source": [
    "# Functions with multiple parameters\n",
    "\n"
   ]
  },
  {
   "cell_type": "code",
   "execution_count": 11,
   "id": "14f89510",
   "metadata": {},
   "outputs": [
    {
     "name": "stdout",
     "output_type": "stream",
     "text": [
      "59.370000000000005\n",
      "59.370000000000005\n"
     ]
    },
    {
     "data": {
      "text/plain": [
       "59.370000000000005"
      ]
     },
     "execution_count": 11,
     "metadata": {},
     "output_type": "execute_result"
    }
   ],
   "source": [
    "# Define a function with multiple elements.\n",
    "\n",
    "\n",
    "def multi(x,y):\n",
    "    z = 2*x+5*y+45\n",
    "    return z\n",
    "output= multi(3.14,1.618) # you can yield the output by assigning to a variable.\n",
    "print(output)\n",
    "print(multi(3.14,1.618)) # You can obtain the result directly.\n",
    "multi(3.14,1.618) # This the another version"
   ]
  },
  {
   "cell_type": "code",
   "execution_count": 8,
   "id": "43e5994d",
   "metadata": {},
   "outputs": [
    {
     "data": {
      "text/plain": [
       "85"
      ]
     },
     "execution_count": 8,
     "metadata": {},
     "output_type": "execute_result"
    }
   ],
   "source": [
    "multi(5,6)"
   ]
  },
  {
   "cell_type": "code",
   "execution_count": 9,
   "id": "007fa218",
   "metadata": {},
   "outputs": [
    {
     "data": {
      "text/plain": [
       "95"
      ]
     },
     "execution_count": 9,
     "metadata": {},
     "output_type": "execute_result"
    }
   ],
   "source": [
    "v=multi(5,8)\n",
    "v"
   ]
  },
  {
   "cell_type": "code",
   "execution_count": 10,
   "id": "8e28c336",
   "metadata": {},
   "outputs": [
    {
     "name": "stdout",
     "output_type": "stream",
     "text": [
      "540\n"
     ]
    }
   ],
   "source": [
    "# call again the define function with different arguments\n",
    "\n",
    "print(multi(25,89))"
   ]
  },
  {
   "cell_type": "markdown",
   "id": "6a02e42b",
   "metadata": {},
   "source": [
    "# Variable\n",
    "\n",
    " * The input to a function is called a formal paramter.\n",
    " * A variable that is declared inside a function is called a local variable.\n",
    " * The parameter only exists within the function (i.e the point whete the function starts and stops).\n",
    " * A variable that is declared outside a function definition is global variable, and its value is accessible and modificable thoughout the programs."
   ]
  },
  {
   "cell_type": "code",
   "execution_count": 1,
   "id": "8b632a50",
   "metadata": {},
   "outputs": [
    {
     "name": "stdout",
     "output_type": "stream",
     "text": [
      "If you make the above operations with 10, the result will be 45.7.\n",
      "45.7\n"
     ]
    }
   ],
   "source": [
    "# Define a function\n",
    "\n",
    "def function(x):\n",
    "    y = 3.14\n",
    "    z = 3*x+5*y\n",
    "    print(f'If you make the above operations with {x}, the result will be {z}.')\n",
    "    return z\n",
    "\n",
    "parameter=function(10)\n",
    "print(parameter)"
   ]
  },
  {
   "cell_type": "code",
   "execution_count": 2,
   "id": "0e001468",
   "metadata": {},
   "outputs": [
    {
     "name": "stdout",
     "output_type": "stream",
     "text": [
      "The Square of the 16 is 256.\n"
     ]
    }
   ],
   "source": [
    "# Make a function to square a number:\n",
    "\n",
    "\n",
    "def square(x):\n",
    "    z = x**2\n",
    "    print(f'The Square of the {x} is {z}.')\n",
    "    \n",
    "y=square(16)\n"
   ]
  },
  {
   "cell_type": "code",
   "execution_count": 8,
   "id": "19413d46",
   "metadata": {},
   "outputs": [
    {
     "name": "stdout",
     "output_type": "stream",
     "text": [
      "Enter any Number:14\n",
      "Enter second Number:15\n",
      "The addition of two number  14 and 15 is 29.\n"
     ]
    }
   ],
   "source": [
    "# write a program with function to calculate the two value.\n",
    "x=int(input('Enter any Number:'))\n",
    "y=int(input('Enter second Number:'))\n",
    "def add(x,y):\n",
    "    z = x+y\n",
    "    print(f'The addition of two number  {x} and {y} is {z}.')\n",
    "result=add(x,y)"
   ]
  },
  {
   "cell_type": "code",
   "execution_count": 9,
   "id": "8144f634",
   "metadata": {},
   "outputs": [],
   "source": [
    "# Write a program to take three input through user and addition of two number \n",
    "# and last one is to subtract. \n"
   ]
  },
  {
   "cell_type": "code",
   "execution_count": 13,
   "id": "a2b026fa",
   "metadata": {},
   "outputs": [
    {
     "name": "stdout",
     "output_type": "stream",
     "text": [
      "The Average of the number is:  22.5\n"
     ]
    }
   ],
   "source": [
    "# Write a program take input form user and calculate the average of number using function?\n",
    "\n",
    "def average(numbers):\n",
    "    total=sum(numbers)\n",
    "    average=total/len(numbers)\n",
    "    return average\n",
    "number=[15,20,25,30]\n",
    "average_result=average(number)\n",
    "print('The Average of the number is: ',average_result)\n",
    "\n"
   ]
  },
  {
   "cell_type": "code",
   "execution_count": null,
   "id": "ddf6366f",
   "metadata": {},
   "outputs": [],
   "source": [
    "# Write a program to calculate the division of two number taken by the user using function."
   ]
  }
 ],
 "metadata": {
  "kernelspec": {
   "display_name": "Python 3 (ipykernel)",
   "language": "python",
   "name": "python3"
  },
  "language_info": {
   "codemirror_mode": {
    "name": "ipython",
    "version": 3
   },
   "file_extension": ".py",
   "mimetype": "text/x-python",
   "name": "python",
   "nbconvert_exporter": "python",
   "pygments_lexer": "ipython3",
   "version": "3.9.13"
  }
 },
 "nbformat": 4,
 "nbformat_minor": 5
}
