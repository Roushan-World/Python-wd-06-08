{
 "cells": [
  {
   "cell_type": "markdown",
   "id": "a21ef61e",
   "metadata": {},
   "source": [
    "# 9. Functions in Python\n",
    "\n",
    " * In Python, a function is a group of related statements that performs a specific task.\n",
    " * Functions help break out program into smaller and modular chunks. * As per our programs groups larger and larger, functions make it more organized and manageable.\n",
    " * Furthermore, it avoids repetition and makes the code reusable.\n",
    " * There are two types of functions.\n",
    "     * Per-defined functions.\n",
    "     * User defined functions.\n",
    " * In Python a function is defined using the def keyword followed by the function name and parentheses ().\n",
    " * Keyword def that marks the start of the function header.\n",
    " * A function name to uniquely identify the function.\n",
    " * Function naming follows the same rules of writing identifiers in Python.\n",
    " * Paramethers (arguments) through which we pass values to a function. They are optional.\n",
    " * A colon (:) to mark the end of the function header.\n",
    " * Optional doucmentation string (docstring) to describe what the function does.\n",
    " * One or more valid python statements that make up the function body.\n",
    " * Statements must have the same indentation level (usually 4 spaces).\n",
    " * An optional return statement to return a value from the function.\n",
    " \n",
    " \n",
    "             def name(arguments):\n",
    "                   statement\n",
    "                   statement\n",
    "                   ......\n",
    "                   return value\n",
    "                  "
   ]
  },
  {
   "cell_type": "code",
   "execution_count": 1,
   "id": "763304fa",
   "metadata": {},
   "outputs": [
    {
     "name": "stdout",
     "output_type": "stream",
     "text": [
      "If you make the above operations with 5, the result will be -3,13,40,0.625\n"
     ]
    },
    {
     "data": {
      "text/plain": [
       "(-3, 13, 40, 0.625)"
      ]
     },
     "execution_count": 1,
     "metadata": {},
     "output_type": "execute_result"
    }
   ],
   "source": [
    "# Take a sample function\n",
    "\n",
    "def process(x):\n",
    "    y1=x-8\n",
    "    y2=x+8\n",
    "    y3=x*8\n",
    "    y4=x/8\n",
    "    print(f'If you make the above operations with {x}, the result will be {y1},{y2},{y3},{y4}')\n",
    "    return y1,y2,y3,y4\n",
    "process(5)"
   ]
  },
  {
   "cell_type": "code",
   "execution_count": 2,
   "id": "cdfbd3d8",
   "metadata": {},
   "outputs": [
    {
     "name": "stdout",
     "output_type": "stream",
     "text": [
      "If you make the above operations with 10, the result will be 2,18,80,1.25\n"
     ]
    },
    {
     "data": {
      "text/plain": [
       "(2, 18, 80, 1.25)"
      ]
     },
     "execution_count": 2,
     "metadata": {},
     "output_type": "execute_result"
    }
   ],
   "source": [
    "process(10)"
   ]
  },
  {
   "cell_type": "code",
   "execution_count": 3,
   "id": "123bc597",
   "metadata": {},
   "outputs": [
    {
     "name": "stdout",
     "output_type": "stream",
     "text": [
      "If you make the above operations with 20, the result will be 12,28,160,2.5\n"
     ]
    },
    {
     "data": {
      "text/plain": [
       "(12, 28, 160, 2.5)"
      ]
     },
     "execution_count": 3,
     "metadata": {},
     "output_type": "execute_result"
    }
   ],
   "source": [
    "process(20)"
   ]
  },
  {
   "cell_type": "code",
   "execution_count": 5,
   "id": "97be840b",
   "metadata": {},
   "outputs": [
    {
     "name": "stdout",
     "output_type": "stream",
     "text": [
      "Help on function process in module __main__:\n",
      "\n",
      "process(x)\n",
      "\n"
     ]
    }
   ],
   "source": [
    "help(process)"
   ]
  },
  {
   "cell_type": "code",
   "execution_count": 6,
   "id": "55a38c60",
   "metadata": {},
   "outputs": [
    {
     "name": "stdout",
     "output_type": "stream",
     "text": [
      "If you make the above operations with 10, the result will be 2,18,80,1.25\n"
     ]
    },
    {
     "data": {
      "text/plain": [
       "(2, 18, 80, 1.25)"
      ]
     },
     "execution_count": 6,
     "metadata": {},
     "output_type": "execute_result"
    }
   ],
   "source": [
    "process(10)"
   ]
  },
  {
   "cell_type": "markdown",
   "id": "5ebe076d",
   "metadata": {},
   "source": [
    "# Functions with multiple parameters\n",
    "\n"
   ]
  },
  {
   "cell_type": "code",
   "execution_count": 11,
   "id": "14f89510",
   "metadata": {},
   "outputs": [
    {
     "name": "stdout",
     "output_type": "stream",
     "text": [
      "59.370000000000005\n",
      "59.370000000000005\n"
     ]
    },
    {
     "data": {
      "text/plain": [
       "59.370000000000005"
      ]
     },
     "execution_count": 11,
     "metadata": {},
     "output_type": "execute_result"
    }
   ],
   "source": [
    "# Define a function with multiple elements.\n",
    "\n",
    "\n",
    "def multi(x,y):\n",
    "    z = 2*x+5*y+45\n",
    "    return z\n",
    "output= multi(3.14,1.618) # you can yield the output by assigning to a variable.\n",
    "print(output)\n",
    "print(multi(3.14,1.618)) # You can obtain the result directly.\n",
    "multi(3.14,1.618) # This the another version"
   ]
  },
  {
   "cell_type": "code",
   "execution_count": 8,
   "id": "43e5994d",
   "metadata": {},
   "outputs": [
    {
     "data": {
      "text/plain": [
       "85"
      ]
     },
     "execution_count": 8,
     "metadata": {},
     "output_type": "execute_result"
    }
   ],
   "source": [
    "multi(5,6)"
   ]
  },
  {
   "cell_type": "code",
   "execution_count": 9,
   "id": "007fa218",
   "metadata": {},
   "outputs": [
    {
     "data": {
      "text/plain": [
       "95"
      ]
     },
     "execution_count": 9,
     "metadata": {},
     "output_type": "execute_result"
    }
   ],
   "source": [
    "v=multi(5,8)\n",
    "v"
   ]
  },
  {
   "cell_type": "code",
   "execution_count": 10,
   "id": "8e28c336",
   "metadata": {},
   "outputs": [
    {
     "name": "stdout",
     "output_type": "stream",
     "text": [
      "540\n"
     ]
    }
   ],
   "source": [
    "# call again the define function with different arguments\n",
    "\n",
    "print(multi(25,89))"
   ]
  },
  {
   "cell_type": "markdown",
   "id": "6a02e42b",
   "metadata": {},
   "source": [
    "# Variable\n",
    "\n",
    " * The input to a function is called a formal paramter.\n",
    " * A variable that is declared inside a function is called a local variable.\n",
    " * The parameter only exists within the function (i.e the point whete the function starts and stops).\n",
    " * A variable that is declared outside a function definition is global variable, and its value is accessible and modificable thoughout the programs."
   ]
  },
  {
   "cell_type": "code",
   "execution_count": 1,
   "id": "8b632a50",
   "metadata": {},
   "outputs": [
    {
     "name": "stdout",
     "output_type": "stream",
     "text": [
      "If you make the above operations with 10, the result will be 45.7.\n",
      "45.7\n"
     ]
    }
   ],
   "source": [
    "# Define a function\n",
    "\n",
    "def function(x):\n",
    "    y = 3.14\n",
    "    z = 3*x+5*y\n",
    "    print(f'If you make the above operations with {x}, the result will be {z}.')\n",
    "    return z\n",
    "\n",
    "parameter=function(10)\n",
    "print(parameter)"
   ]
  },
  {
   "cell_type": "code",
   "execution_count": 2,
   "id": "0e001468",
   "metadata": {},
   "outputs": [
    {
     "name": "stdout",
     "output_type": "stream",
     "text": [
      "The Square of the 16 is 256.\n"
     ]
    }
   ],
   "source": [
    "# Make a function to square a number:\n",
    "\n",
    "\n",
    "def square(x):\n",
    "    z = x**2\n",
    "    print(f'The Square of the {x} is {z}.')\n",
    "    \n",
    "y=square(16)\n"
   ]
  },
  {
   "cell_type": "code",
   "execution_count": 8,
   "id": "19413d46",
   "metadata": {},
   "outputs": [
    {
     "name": "stdout",
     "output_type": "stream",
     "text": [
      "Enter any Number:14\n",
      "Enter second Number:15\n",
      "The addition of two number  14 and 15 is 29.\n"
     ]
    }
   ],
   "source": [
    "# write a program with function to calculate the two value.\n",
    "x=int(input('Enter any Number:'))\n",
    "y=int(input('Enter second Number:'))\n",
    "def add(x,y):\n",
    "    z = x+y\n",
    "    print(f'The addition of two number  {x} and {y} is {z}.')\n",
    "result=add(x,y)"
   ]
  },
  {
   "cell_type": "code",
   "execution_count": 9,
   "id": "8144f634",
   "metadata": {},
   "outputs": [],
   "source": [
    "# Write a program to take three input through user and addition of two number \n",
    "# and last one is to subtract. \n"
   ]
  },
  {
   "cell_type": "code",
   "execution_count": 13,
   "id": "a2b026fa",
   "metadata": {},
   "outputs": [
    {
     "name": "stdout",
     "output_type": "stream",
     "text": [
      "The Average of the number is:  22.5\n"
     ]
    }
   ],
   "source": [
    "# Write a program take input form user and calculate the average of number using function?\n",
    "\n",
    "def average(numbers):\n",
    "    total=sum(numbers)\n",
    "    average=total/len(numbers)\n",
    "    return average\n",
    "number=[15,20,25,30]\n",
    "average_result=average(number)\n",
    "print('The Average of the number is: ',average_result)\n",
    "\n"
   ]
  },
  {
   "cell_type": "code",
   "execution_count": 1,
   "id": "ddf6366f",
   "metadata": {},
   "outputs": [],
   "source": [
    "# Write a program to calculate the division of two number taken by the user using function."
   ]
  },
  {
   "cell_type": "code",
   "execution_count": 2,
   "id": "85d9710c",
   "metadata": {},
   "outputs": [],
   "source": [
    "# Write a program to take three number from user and add two of them and divide by three."
   ]
  },
  {
   "cell_type": "code",
   "execution_count": 3,
   "id": "0b3bcfdc",
   "metadata": {},
   "outputs": [],
   "source": [
    "# Write a program to take three age from user and find oldest one using function."
   ]
  },
  {
   "cell_type": "code",
   "execution_count": 4,
   "id": "823d4042",
   "metadata": {},
   "outputs": [],
   "source": [
    "# Write a code to display the greet message(Good Morning!) with user name using function."
   ]
  },
  {
   "cell_type": "code",
   "execution_count": 5,
   "id": "73652072",
   "metadata": {},
   "outputs": [],
   "source": [
    "# Write a code to find the discount percent of any product? "
   ]
  },
  {
   "cell_type": "markdown",
   "id": "8da59dfb",
   "metadata": {},
   "source": [
    "# without return statement, the function returns None."
   ]
  },
  {
   "cell_type": "code",
   "execution_count": 4,
   "id": "dda79d41",
   "metadata": {},
   "outputs": [
    {
     "name": "stdout",
     "output_type": "stream",
     "text": [
      "Hello World\n",
      "Hello Python\n"
     ]
    }
   ],
   "source": [
    "# Define a function with and without return statement.\n",
    "def msg1():\n",
    "    print('Hello World')\n",
    "    \n",
    "def msg2():\n",
    "    print('Hello Python')\n",
    "    return None\n",
    "\n",
    "msg1()\n",
    "msg2()"
   ]
  },
  {
   "cell_type": "code",
   "execution_count": 7,
   "id": "2a392631",
   "metadata": {},
   "outputs": [
    {
     "name": "stdout",
     "output_type": "stream",
     "text": [
      "Hello World\n",
      "None\n",
      "Hello Python\n",
      "None\n"
     ]
    }
   ],
   "source": [
    "# Printing the function after a call indicates a None is the default return statement.\n",
    "# See the following printing what functions returns are.\n",
    "\n",
    "print(msg1())\n",
    "print(msg2())"
   ]
  },
  {
   "cell_type": "markdown",
   "id": "366dcd83",
   "metadata": {},
   "source": [
    "# Concatenation of two strings."
   ]
  },
  {
   "cell_type": "code",
   "execution_count": 9,
   "id": "bcc48250",
   "metadata": {},
   "outputs": [
    {
     "data": {
      "text/plain": [
       "'Hello Python'"
      ]
     },
     "execution_count": 9,
     "metadata": {},
     "output_type": "execute_result"
    }
   ],
   "source": [
    "# Define a function\n",
    "\n",
    "def string(x,y):\n",
    "    return x+y\n",
    "\n",
    "# Testing the function 'strings(x,y)'\n",
    "string('Hello ','Python')"
   ]
  },
  {
   "cell_type": "code",
   "execution_count": 11,
   "id": "baa762a1",
   "metadata": {},
   "outputs": [
    {
     "data": {
      "text/plain": [
       "'Ajinkya Kad'"
      ]
     },
     "execution_count": 11,
     "metadata": {},
     "output_type": "execute_result"
    }
   ],
   "source": [
    "string('Ajinkya ','Kad')"
   ]
  },
  {
   "cell_type": "code",
   "execution_count": 12,
   "id": "88f59292",
   "metadata": {},
   "outputs": [
    {
     "data": {
      "text/plain": [
       "135"
      ]
     },
     "execution_count": 12,
     "metadata": {},
     "output_type": "execute_result"
    }
   ],
   "source": [
    "string(45,90)"
   ]
  },
  {
   "cell_type": "markdown",
   "id": "03a9173b",
   "metadata": {},
   "source": [
    "# Simplicity of functions "
   ]
  },
  {
   "cell_type": "code",
   "execution_count": 13,
   "id": "7594068d",
   "metadata": {},
   "outputs": [
    {
     "data": {
      "text/plain": [
       "37"
      ]
     },
     "execution_count": 13,
     "metadata": {},
     "output_type": "execute_result"
    }
   ],
   "source": [
    "# The following codes are not used again\n",
    "\n",
    "x=2.718\n",
    "y=0.577\n",
    "\n",
    "equation=x*y+x+y-37\n",
    "if equation>0:\n",
    "    equation=6\n",
    "else:\n",
    "    equation=37\n",
    "equation"
   ]
  },
  {
   "cell_type": "code",
   "execution_count": 18,
   "id": "f88752ec",
   "metadata": {},
   "outputs": [
    {
     "data": {
      "text/plain": [
       "0"
      ]
     },
     "execution_count": 18,
     "metadata": {},
     "output_type": "execute_result"
    }
   ],
   "source": [
    "# The following codes are not used again\n",
    "\n",
    "x = 0\n",
    "y = 0\n",
    "equation=x*y+x+y-37\n",
    "if equation<0:\n",
    "    equation = 0\n",
    "else:\n",
    "    equation = 37\n",
    "equation"
   ]
  },
  {
   "cell_type": "code",
   "execution_count": 19,
   "id": "5b21d793",
   "metadata": {},
   "outputs": [
    {
     "data": {
      "text/plain": [
       "37"
      ]
     },
     "execution_count": 19,
     "metadata": {},
     "output_type": "execute_result"
    }
   ],
   "source": [
    "# The following codes can be write as a function\n",
    "\n",
    "def function(x,y):\n",
    "    equation =x*y+x+y-37\n",
    "    if equation>0:\n",
    "        equation=6\n",
    "    else:\n",
    "        equation=37\n",
    "    return equation\n",
    "\n",
    "x = 2.718\n",
    "y = 0.577\n",
    "function(x,y)"
   ]
  },
  {
   "cell_type": "markdown",
   "id": "d944caee",
   "metadata": {},
   "source": [
    "# Predefined funtions like print(),sum(),len(),min(),max(),input() "
   ]
  },
  {
   "cell_type": "code",
   "execution_count": 21,
   "id": "836f5b6e",
   "metadata": {},
   "outputs": [
    {
     "name": "stdout",
     "output_type": "stream",
     "text": [
      "[0.577, 2.718, 3.17, 1.618, 1729, 6, 28, 37]\n"
     ]
    }
   ],
   "source": [
    "# print() is a built-in function\n",
    "\n",
    "special_numbers=[0.577,2.718,3.17,1.618,1729,6,28,37]\n",
    "print(special_numbers)"
   ]
  },
  {
   "cell_type": "code",
   "execution_count": 22,
   "id": "b2ca10a2",
   "metadata": {},
   "outputs": [
    {
     "data": {
      "text/plain": [
       "1808.083"
      ]
     },
     "execution_count": 22,
     "metadata": {},
     "output_type": "execute_result"
    }
   ],
   "source": [
    "sum(special_numbers)"
   ]
  },
  {
   "cell_type": "code",
   "execution_count": 23,
   "id": "50434a7d",
   "metadata": {},
   "outputs": [
    {
     "data": {
      "text/plain": [
       "8"
      ]
     },
     "execution_count": 23,
     "metadata": {},
     "output_type": "execute_result"
    }
   ],
   "source": [
    "len(special_numbers)"
   ]
  },
  {
   "cell_type": "code",
   "execution_count": 24,
   "id": "c143e397",
   "metadata": {},
   "outputs": [
    {
     "data": {
      "text/plain": [
       "0.577"
      ]
     },
     "execution_count": 24,
     "metadata": {},
     "output_type": "execute_result"
    }
   ],
   "source": [
    "min(special_numbers)"
   ]
  },
  {
   "cell_type": "code",
   "execution_count": 25,
   "id": "da0a7e81",
   "metadata": {},
   "outputs": [
    {
     "data": {
      "text/plain": [
       "1729"
      ]
     },
     "execution_count": 25,
     "metadata": {},
     "output_type": "execute_result"
    }
   ],
   "source": [
    "max(special_numbers)"
   ]
  },
  {
   "cell_type": "markdown",
   "id": "0cbffdd1",
   "metadata": {},
   "source": [
    "# Using conditions and loops in functions"
   ]
  },
  {
   "cell_type": "code",
   "execution_count": 26,
   "id": "00a1da6e",
   "metadata": {},
   "outputs": [
    {
     "name": "stdout",
     "output_type": "stream",
     "text": [
      "30°C temperatute\n",
      "200 rpm agitation speed\n"
     ]
    }
   ],
   "source": [
    "# Define a function using the loop 'for'\n",
    "def fermentation(content):\n",
    "    for parameter in content:\n",
    "        print(parameter)\n",
    "        \n",
    "content=['30°C temperatute','200 rpm agitation speed']\n",
    "fermentation(content)"
   ]
  },
  {
   "cell_type": "code",
   "execution_count": null,
   "id": "4c3806c2",
   "metadata": {},
   "outputs": [],
   "source": []
  }
 ],
 "metadata": {
  "kernelspec": {
   "display_name": "Python 3 (ipykernel)",
   "language": "python",
   "name": "python3"
  },
  "language_info": {
   "codemirror_mode": {
    "name": "ipython",
    "version": 3
   },
   "file_extension": ".py",
   "mimetype": "text/x-python",
   "name": "python",
   "nbconvert_exporter": "python",
   "pygments_lexer": "ipython3",
   "version": "3.9.13"
  }
 },
 "nbformat": 4,
 "nbformat_minor": 5
}
