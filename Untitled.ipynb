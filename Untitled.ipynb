{
 "cells": [
  {
   "cell_type": "code",
   "execution_count": 1,
   "id": "8932b3af",
   "metadata": {},
   "outputs": [],
   "source": [
    "import xml.etree.ElementTree as ET"
   ]
  },
  {
   "cell_type": "code",
   "execution_count": 6,
   "id": "cb1f68c2",
   "metadata": {},
   "outputs": [
    {
     "name": "stdout",
     "output_type": "stream",
     "text": [
      "BASE-PLUS-REPORTS {}\n"
     ]
    }
   ],
   "source": [
    "tree = ET.parse('test_xml')  # Method 1\n",
    "root = ET.ElementTree(file='test_xml').getroot()\n",
    "root = tree.getroot()\n",
    "for child in root:\n",
    "    print(child.tag, child.attrib)\n",
    "# Access the first child element of the root\n",
    "first_child = root[0]\n",
    "\n",
    "# Access the attribute value of an element\n",
    "#attribute_value = first_child.attrib['attribute_name']\n",
    "\n",
    "# Access the text content of an element\n",
    "#text_content = first_child.text\n"
   ]
  },
  {
   "cell_type": "code",
   "execution_count": 7,
   "id": "c205d549",
   "metadata": {},
   "outputs": [
    {
     "data": {
      "text/plain": [
       "'<BASE-PLUS-REPORT-FILE><BASE-PLUS-REPORTS><BASE-PLUS-REPORT>  <HEADER>    <DATE-OF-REQUEST>30-09-2022</DATE-OF-REQUEST>    <PREPARED-FOR>BAJAJ FINANCE LIMITED</PREPARED-FOR>    <PREPARED-FOR-ID>NBF0000157</PREPARED-FOR-ID>    <DATE-OF-ISSUE>30-09-2022</DATE-OF-ISSUE>    <REPORT-ID>BAJA220930CR164086305</REPORT-ID>    <BATCH-ID>1722922749220930</BATCH-ID>    <STATUS>SUCCESS</STATUS>  </HEADER>  <REQUEST>    <NAME><![CDATA[GUDDU KUMAR]]></NAME>    <DOB>01-01-1988</DOB>    <AGE-AS-ON></AGE-AS-ON>    <GENDER>Male</GENDER>    <ADDRESS-1><![CDATA[PURNIA No City 854202 BR]]></ADDRESS-1>    <PHONE-1>8556881061</PHONE-1>    <MBR-ID><![CDATA[30737437]]></MBR-ID>    <CREDT-INQ-PURPS-TYP>ACCT-ORIG</CREDT-INQ-PURPS-TYP>    <CREDIT-INQUIRY-STAGE>PRE-SCREEN</CREDIT-INQUIRY-STAGE>    <CREDT-REQ-TYP>INDV</CREDT-REQ-TYP>    <CREDT-RPT-TRN-DT-TM>30737437</CREDT-RPT-TRN-DT-TM>    <LOS-APP-ID><![CDATA[30092022070021259221]]></LOS-APP-ID>  </REQUEST>  <PERSONAL-INFO-VARIATION>    <NAME-VARIATIONS/>    <ADDRESS-VARIATIONS/>    <PAN-VARIATIONS/>    <DRIVING-LICENSE-VARIATIONS/>    <DATE-OF-BIRTH-VARIATIONS/>    <VOTER-ID-VARIATIONS/>    <PASSPORT-VARIATIONS/>    <PHONE-NUMBER-VARIATIONS/>    <RATION-CARD-VARIATIONS/>    <EMAIL-VARIATIONS/>  </PERSONAL-INFO-VARIATION>  <SECONDARY-MATCHES/>  <ACCOUNTS-SUMMARY>    <DERIVED-ATTRIBUTES>      <INQURIES-IN-LAST-SIX-MONTHS>0</INQURIES-IN-LAST-SIX-MONTHS>      <LENGTH-OF-CREDIT-HISTORY-YEAR>0</LENGTH-OF-CREDIT-HISTORY-YEAR>      <LENGTH-OF-CREDIT-HISTORY-MONTH>0</LENGTH-OF-CREDIT-HISTORY-MONTH>      <AVERAGE-ACCOUNT-AGE-YEAR>0</AVERAGE-ACCOUNT-AGE-YEAR>      <AVERAGE-ACCOUNT-AGE-MONTH>0</AVERAGE-ACCOUNT-AGE-MONTH>      <NEW-ACCOUNTS-IN-LAST-SIX-MONTHS>0</NEW-ACCOUNTS-IN-LAST-SIX-MONTHS>      <NEW-DELINQ-ACCOUNT-IN-LAST-SIX-MONTHS>0</NEW-DELINQ-ACCOUNT-IN-LAST-SIX-MONTHS>    </DERIVED-ATTRIBUTES>    <PRIMARY-ACCOUNTS-SUMMARY>      <PRIMARY-NUMBER-OF-ACCOUNTS>0</PRIMARY-NUMBER-OF-ACCOUNTS>      <PRIMARY-ACTIVE-NUMBER-OF-ACCOUNTS>0</PRIMARY-ACTIVE-NUMBER-OF-ACCOUNTS>      <PRIMARY-OVERDUE-NUMBER-OF-ACCOUNTS>0</PRIMARY-OVERDUE-NUMBER-OF-ACCOUNTS>      <PRIMARY-SECURED-NUMBER-OF-ACCOUNTS>0</PRIMARY-SECURED-NUMBER-OF-ACCOUNTS>      <PRIMARY-UNSECURED-NUMBER-OF-ACCOUNTS>0</PRIMARY-UNSECURED-NUMBER-OF-ACCOUNTS>      <PRIMARY-UNTAGGED-NUMBER-OF-ACCOUNTS>0</PRIMARY-UNTAGGED-NUMBER-OF-ACCOUNTS>      <PRIMARY-CURRENT-BALANCE>0</PRIMARY-CURRENT-BALANCE>      <PRIMARY-SANCTIONED-AMOUNT>0</PRIMARY-SANCTIONED-AMOUNT>      <PRIMARY-DISBURSED-AMOUNT>0</PRIMARY-DISBURSED-AMOUNT>    </PRIMARY-ACCOUNTS-SUMMARY>    <SECONDARY-ACCOUNTS-SUMMARY>      <SECONDARY-NUMBER-OF-ACCOUNTS>0</SECONDARY-NUMBER-OF-ACCOUNTS>      <SECONDARY-ACTIVE-NUMBER-OF-ACCOUNTS>0</SECONDARY-ACTIVE-NUMBER-OF-ACCOUNTS>      <SECONDARY-OVERDUE-NUMBER-OF-ACCOUNTS>0</SECONDARY-OVERDUE-NUMBER-OF-ACCOUNTS>      <SECONDARY-SECURED-NUMBER-OF-ACCOUNTS>0</SECONDARY-SECURED-NUMBER-OF-ACCOUNTS>      <SECONDARY-UNSECURED-NUMBER-OF-ACCOUNTS>0</SECONDARY-UNSECURED-NUMBER-OF-ACCOUNTS>      <SECONDARY-UNTAGGED-NUMBER-OF-ACCOUNTS>0</SECONDARY-UNTAGGED-NUMBER-OF-ACCOUNTS>      <SECONDARY-CURRENT-BALANCE>0</SECONDARY-CURRENT-BALANCE>      <SECONDARY-SANCTIONED-AMOUNT>0</SECONDARY-SANCTIONED-AMOUNT>      <SECONDARY-DISBURSED-AMOUNT>0</SECONDARY-DISBURSED-AMOUNT>    </SECONDARY-ACCOUNTS-SUMMARY>  </ACCOUNTS-SUMMARY>    <SCORES/></BASE-PLUS-REPORT></BASE-PLUS-REPORTS></BASE-PLUS-REPORT-FILE>'"
      ]
     },
     "execution_count": 7,
     "metadata": {},
     "output_type": "execute_result"
    }
   ],
   "source": [
    "file_name=\"test_xml\"\n",
    "file=open(file_name,\"r\")\n",
    "content=file.read()\n",
    "content"
   ]
  },
  {
   "cell_type": "code",
   "execution_count": 8,
   "id": "5726a981",
   "metadata": {},
   "outputs": [
    {
     "ename": "ModuleNotFoundError",
     "evalue": "No module named 'aspose'",
     "output_type": "error",
     "traceback": [
      "\u001b[1;31m---------------------------------------------------------------------------\u001b[0m",
      "\u001b[1;31mModuleNotFoundError\u001b[0m                       Traceback (most recent call last)",
      "\u001b[1;32m~\\AppData\\Local\\Temp\\ipykernel_12748\\2006345421.py\u001b[0m in \u001b[0;36m<module>\u001b[1;34m\u001b[0m\n\u001b[1;32m----> 1\u001b[1;33m \u001b[1;32mimport\u001b[0m  \u001b[0maspose\u001b[0m\u001b[1;33m.\u001b[0m\u001b[0mcells\u001b[0m\u001b[1;33m\u001b[0m\u001b[1;33m\u001b[0m\u001b[0m\n\u001b[0m\u001b[0;32m      2\u001b[0m \u001b[1;32mfrom\u001b[0m \u001b[0maspose\u001b[0m\u001b[1;33m.\u001b[0m\u001b[0mcells\u001b[0m \u001b[1;32mimport\u001b[0m \u001b[0mWorkbook\u001b[0m\u001b[1;33m\u001b[0m\u001b[1;33m\u001b[0m\u001b[0m\n\u001b[0;32m      3\u001b[0m \u001b[0mworkbook\u001b[0m \u001b[1;33m=\u001b[0m \u001b[0mWorkbook\u001b[0m\u001b[1;33m(\u001b[0m\u001b[1;34m\"test_xml\"\u001b[0m\u001b[1;33m)\u001b[0m\u001b[1;33m\u001b[0m\u001b[1;33m\u001b[0m\u001b[0m\n\u001b[0;32m      4\u001b[0m \u001b[0mworkbook\u001b[0m\u001b[1;33m.\u001b[0m\u001b[0msave\u001b[0m\u001b[1;33m(\u001b[0m\u001b[1;34m\"Output.xlsx\"\u001b[0m\u001b[1;33m)\u001b[0m\u001b[1;33m\u001b[0m\u001b[1;33m\u001b[0m\u001b[0m\n",
      "\u001b[1;31mModuleNotFoundError\u001b[0m: No module named 'aspose'"
     ]
    }
   ],
   "source": [
    "import  aspose.cells \n",
    "from aspose.cells import Workbook\n",
    "workbook = Workbook(\"test_xml\")\n",
    "workbook.save(\"Output.xlsx\")"
   ]
  },
  {
   "cell_type": "code",
   "execution_count": 10,
   "id": "99e34847",
   "metadata": {},
   "outputs": [
    {
     "ename": "ModuleNotFoundError",
     "evalue": "No module named 'aspose'",
     "output_type": "error",
     "traceback": [
      "\u001b[1;31m---------------------------------------------------------------------------\u001b[0m",
      "\u001b[1;31mModuleNotFoundError\u001b[0m                       Traceback (most recent call last)",
      "\u001b[1;32m~\\AppData\\Local\\Temp\\ipykernel_12748\\667700199.py\u001b[0m in \u001b[0;36m<module>\u001b[1;34m\u001b[0m\n\u001b[1;32m----> 1\u001b[1;33m \u001b[1;32mimport\u001b[0m \u001b[0maspose\u001b[0m\u001b[1;33m.\u001b[0m\u001b[0mcell\u001b[0m\u001b[1;33m\u001b[0m\u001b[1;33m\u001b[0m\u001b[0m\n\u001b[0m",
      "\u001b[1;31mModuleNotFoundError\u001b[0m: No module named 'aspose'"
     ]
    }
   ],
   "source": [
    "import aspose.cell"
   ]
  },
  {
   "cell_type": "code",
   "execution_count": 11,
   "id": "ee7ec2d6",
   "metadata": {},
   "outputs": [
    {
     "ename": "AttributeError",
     "evalue": "'NoneType' object has no attribute 'text'",
     "output_type": "error",
     "traceback": [
      "\u001b[1;31m---------------------------------------------------------------------------\u001b[0m",
      "\u001b[1;31mAttributeError\u001b[0m                            Traceback (most recent call last)",
      "\u001b[1;32m~\\AppData\\Local\\Temp\\ipykernel_12748\\2854369057.py\u001b[0m in \u001b[0;36m<module>\u001b[1;34m\u001b[0m\n\u001b[0;32m     21\u001b[0m \u001b[1;32mfor\u001b[0m \u001b[0mitem\u001b[0m \u001b[1;32min\u001b[0m \u001b[0mroot\u001b[0m\u001b[1;33m.\u001b[0m\u001b[0mfindall\u001b[0m\u001b[1;33m(\u001b[0m\u001b[1;34m'./*'\u001b[0m\u001b[1;33m)\u001b[0m\u001b[1;33m:\u001b[0m\u001b[1;33m\u001b[0m\u001b[1;33m\u001b[0m\u001b[0m\n\u001b[0;32m     22\u001b[0m     \u001b[1;32mfor\u001b[0m \u001b[0mi\u001b[0m\u001b[1;33m,\u001b[0m \u001b[0mcolumn\u001b[0m \u001b[1;32min\u001b[0m \u001b[0menumerate\u001b[0m\u001b[1;33m(\u001b[0m\u001b[0mcolumn_headers\u001b[0m\u001b[1;33m)\u001b[0m\u001b[1;33m:\u001b[0m\u001b[1;33m\u001b[0m\u001b[1;33m\u001b[0m\u001b[0m\n\u001b[1;32m---> 23\u001b[1;33m         \u001b[0msheet\u001b[0m\u001b[1;33m.\u001b[0m\u001b[0mcell\u001b[0m\u001b[1;33m(\u001b[0m\u001b[0mrow\u001b[0m\u001b[1;33m=\u001b[0m\u001b[0mrow_index\u001b[0m\u001b[1;33m,\u001b[0m \u001b[0mcolumn\u001b[0m\u001b[1;33m=\u001b[0m\u001b[0mi\u001b[0m\u001b[1;33m+\u001b[0m\u001b[1;36m1\u001b[0m\u001b[1;33m)\u001b[0m\u001b[1;33m.\u001b[0m\u001b[0mvalue\u001b[0m \u001b[1;33m=\u001b[0m \u001b[0mitem\u001b[0m\u001b[1;33m.\u001b[0m\u001b[0mfind\u001b[0m\u001b[1;33m(\u001b[0m\u001b[0mcolumn\u001b[0m\u001b[1;33m)\u001b[0m\u001b[1;33m.\u001b[0m\u001b[0mtext\u001b[0m\u001b[1;33m\u001b[0m\u001b[1;33m\u001b[0m\u001b[0m\n\u001b[0m\u001b[0;32m     24\u001b[0m     \u001b[0mrow_index\u001b[0m \u001b[1;33m+=\u001b[0m \u001b[1;36m1\u001b[0m\u001b[1;33m\u001b[0m\u001b[1;33m\u001b[0m\u001b[0m\n\u001b[0;32m     25\u001b[0m \u001b[1;33m\u001b[0m\u001b[0m\n",
      "\u001b[1;31mAttributeError\u001b[0m: 'NoneType' object has no attribute 'text'"
     ]
    }
   ],
   "source": [
    "import xml.etree.ElementTree as ET\n",
    "from openpyxl import Workbook\n",
    "\n",
    "# Parse the XML file\n",
    "tree = ET.parse('test_xml')\n",
    "root = tree.getroot()\n",
    "\n",
    "# Create a new Excel workbook\n",
    "workbook = Workbook()\n",
    "sheet = workbook.active\n",
    "\n",
    "# Write column headers\n",
    "column_headers = []\n",
    "for element in root.iter():\n",
    "    if element.tag not in column_headers:\n",
    "        column_headers.append(element.tag)\n",
    "        sheet.cell(row=1, column=len(column_headers)).value = element.tag\n",
    "\n",
    "# Write data rows\n",
    "row_index = 2\n",
    "for item in root.findall('./*'):\n",
    "    for i, column in enumerate(column_headers):\n",
    "        sheet.cell(row=row_index, column=i+1).value = item.find(column).text\n",
    "    row_index += 1\n",
    "\n",
    "# Save the workbook\n",
    "workbook.save('data.xlsx')"
   ]
  },
  {
   "cell_type": "code",
   "execution_count": 12,
   "id": "f6502edb",
   "metadata": {},
   "outputs": [
    {
     "ename": "ModuleNotFoundError",
     "evalue": "No module named 'arcpy'",
     "output_type": "error",
     "traceback": [
      "\u001b[1;31m---------------------------------------------------------------------------\u001b[0m",
      "\u001b[1;31mModuleNotFoundError\u001b[0m                       Traceback (most recent call last)",
      "\u001b[1;32m~\\AppData\\Local\\Temp\\ipykernel_12748\\4171596069.py\u001b[0m in \u001b[0;36m<module>\u001b[1;34m\u001b[0m\n\u001b[0;32m      1\u001b[0m \u001b[1;32mimport\u001b[0m \u001b[0mxml\u001b[0m\u001b[1;33m.\u001b[0m\u001b[0metree\u001b[0m\u001b[1;33m.\u001b[0m\u001b[0mElementTree\u001b[0m \u001b[1;32mas\u001b[0m \u001b[0mET\u001b[0m\u001b[1;33m\u001b[0m\u001b[1;33m\u001b[0m\u001b[0m\n\u001b[1;32m----> 2\u001b[1;33m \u001b[1;32mimport\u001b[0m \u001b[0marcpy\u001b[0m\u001b[1;33m\u001b[0m\u001b[1;33m\u001b[0m\u001b[0m\n\u001b[0m\u001b[0;32m      3\u001b[0m \u001b[1;33m\u001b[0m\u001b[0m\n\u001b[0;32m      4\u001b[0m \u001b[0mxmlfile\u001b[0m \u001b[1;33m=\u001b[0m \u001b[1;34m'test_2.xml'\u001b[0m\u001b[1;33m\u001b[0m\u001b[1;33m\u001b[0m\u001b[0m\n\u001b[0;32m      5\u001b[0m \u001b[0melement_tree\u001b[0m \u001b[1;33m=\u001b[0m \u001b[0mET\u001b[0m\u001b[1;33m.\u001b[0m\u001b[0mparse\u001b[0m\u001b[1;33m(\u001b[0m\u001b[0mxmlfile\u001b[0m\u001b[1;33m)\u001b[0m\u001b[1;33m\u001b[0m\u001b[1;33m\u001b[0m\u001b[0m\n",
      "\u001b[1;31mModuleNotFoundError\u001b[0m: No module named 'arcpy'"
     ]
    }
   ],
   "source": [
    "import xml.etree.ElementTree as ET\n",
    "import arcpy\n",
    "\n",
    "xmlfile = 'test_2.xml'\n",
    "element_tree = ET.parse(xmlfile)\n",
    "root = element_tree.getroot()\n",
    "#agreement = root.findall(\".//agreementdetail\")\n",
    "#result = []\n",
    "#elements = ('agreementid', 'agreementtype')\n",
    "\n",
    "#for a in agreement:\n",
    "#    obj = {}\n",
    "#    for e in elements:\n",
    "#        obj[e] = a.find(e).text\n",
    "#    result.append(obj)\n",
    "\n",
    "#arcpy.AddMessage(result)\n",
    "print(xm)"
   ]
  },
  {
   "cell_type": "code",
   "execution_count": 1,
   "id": "76c2f1e7",
   "metadata": {},
   "outputs": [
    {
     "name": "stdout",
     "output_type": "stream",
     "text": [
      "Requirement already satisfied: beautifulsoup4 in c:\\users\\admin\\anaconda3\\lib\\site-packages (4.11.1)\n",
      "Requirement already satisfied: soupsieve>1.2 in c:\\users\\admin\\anaconda3\\lib\\site-packages (from beautifulsoup4) (2.3.1)\n",
      "Note: you may need to restart the kernel to use updated packages.\n"
     ]
    }
   ],
   "source": [
    "pip install beautifulsoup4"
   ]
  },
  {
   "cell_type": "code",
   "execution_count": 2,
   "id": "575af205",
   "metadata": {},
   "outputs": [
    {
     "name": "stdout",
     "output_type": "stream",
     "text": [
      "Requirement already satisfied: lxml in c:\\users\\admin\\anaconda3\\lib\\site-packages (4.9.1)\n",
      "Note: you may need to restart the kernel to use updated packages.\n"
     ]
    }
   ],
   "source": [
    "pip install lxml"
   ]
  },
  {
   "cell_type": "code",
   "execution_count": 6,
   "id": "2bb708f9",
   "metadata": {},
   "outputs": [
    {
     "name": "stdout",
     "output_type": "stream",
     "text": [
      "<BASE-PLUS-REPORT-FILE><BASE-PLUS-REPORTS><BASE-PLUS-REPORT>  <HEADER>    <DATE-OF-REQUEST>30-09-2022</DATE-OF-REQUEST>    <PREPARED-FOR>BAJAJ FINANCE LIMITED</PREPARED-FOR>    <PREPARED-FOR-ID>NBF0000157</PREPARED-FOR-ID>    <DATE-OF-ISSUE>30-09-2022</DATE-OF-ISSUE>    <REPORT-ID>BAJA220930CR164086305</REPORT-ID>    <BATCH-ID>1722922749220930</BATCH-ID>    <STATUS>SUCCESS</STATUS>  </HEADER>  <REQUEST>    <NAME><![CDATA[GUDDU KUMAR]]></NAME>    <DOB>01-01-1988</DOB>    <AGE-AS-ON></AGE-AS-ON>    <GENDER>Male</GENDER>    <ADDRESS-1><![CDATA[PURNIA No City 854202 BR]]></ADDRESS-1>    <PHONE-1>8556881061</PHONE-1>    <MBR-ID><![CDATA[30737437]]></MBR-ID>    <CREDT-INQ-PURPS-TYP>ACCT-ORIG</CREDT-INQ-PURPS-TYP>    <CREDIT-INQUIRY-STAGE>PRE-SCREEN</CREDIT-INQUIRY-STAGE>    <CREDT-REQ-TYP>INDV</CREDT-REQ-TYP>    <CREDT-RPT-TRN-DT-TM>30737437</CREDT-RPT-TRN-DT-TM>    <LOS-APP-ID><![CDATA[30092022070021259221]]></LOS-APP-ID>  </REQUEST>  <PERSONAL-INFO-VARIATION>    <NAME-VARIATIONS/>    <ADDRESS-VARIATIONS/>    <PAN-VARIATIONS/>    <DRIVING-LICENSE-VARIATIONS/>    <DATE-OF-BIRTH-VARIATIONS/>    <VOTER-ID-VARIATIONS/>    <PASSPORT-VARIATIONS/>    <PHONE-NUMBER-VARIATIONS/>    <RATION-CARD-VARIATIONS/>    <EMAIL-VARIATIONS/>  </PERSONAL-INFO-VARIATION>  <SECONDARY-MATCHES/>  <ACCOUNTS-SUMMARY>    <DERIVED-ATTRIBUTES>      <INQURIES-IN-LAST-SIX-MONTHS>0</INQURIES-IN-LAST-SIX-MONTHS>      <LENGTH-OF-CREDIT-HISTORY-YEAR>0</LENGTH-OF-CREDIT-HISTORY-YEAR>      <LENGTH-OF-CREDIT-HISTORY-MONTH>0</LENGTH-OF-CREDIT-HISTORY-MONTH>      <AVERAGE-ACCOUNT-AGE-YEAR>0</AVERAGE-ACCOUNT-AGE-YEAR>      <AVERAGE-ACCOUNT-AGE-MONTH>0</AVERAGE-ACCOUNT-AGE-MONTH>      <NEW-ACCOUNTS-IN-LAST-SIX-MONTHS>0</NEW-ACCOUNTS-IN-LAST-SIX-MONTHS>      <NEW-DELINQ-ACCOUNT-IN-LAST-SIX-MONTHS>0</NEW-DELINQ-ACCOUNT-IN-LAST-SIX-MONTHS>    </DERIVED-ATTRIBUTES>    <PRIMARY-ACCOUNTS-SUMMARY>      <PRIMARY-NUMBER-OF-ACCOUNTS>0</PRIMARY-NUMBER-OF-ACCOUNTS>      <PRIMARY-ACTIVE-NUMBER-OF-ACCOUNTS>0</PRIMARY-ACTIVE-NUMBER-OF-ACCOUNTS>      <PRIMARY-OVERDUE-NUMBER-OF-ACCOUNTS>0</PRIMARY-OVERDUE-NUMBER-OF-ACCOUNTS>      <PRIMARY-SECURED-NUMBER-OF-ACCOUNTS>0</PRIMARY-SECURED-NUMBER-OF-ACCOUNTS>      <PRIMARY-UNSECURED-NUMBER-OF-ACCOUNTS>0</PRIMARY-UNSECURED-NUMBER-OF-ACCOUNTS>      <PRIMARY-UNTAGGED-NUMBER-OF-ACCOUNTS>0</PRIMARY-UNTAGGED-NUMBER-OF-ACCOUNTS>      <PRIMARY-CURRENT-BALANCE>0</PRIMARY-CURRENT-BALANCE>      <PRIMARY-SANCTIONED-AMOUNT>0</PRIMARY-SANCTIONED-AMOUNT>      <PRIMARY-DISBURSED-AMOUNT>0</PRIMARY-DISBURSED-AMOUNT>    </PRIMARY-ACCOUNTS-SUMMARY>    <SECONDARY-ACCOUNTS-SUMMARY>      <SECONDARY-NUMBER-OF-ACCOUNTS>0</SECONDARY-NUMBER-OF-ACCOUNTS>      <SECONDARY-ACTIVE-NUMBER-OF-ACCOUNTS>0</SECONDARY-ACTIVE-NUMBER-OF-ACCOUNTS>      <SECONDARY-OVERDUE-NUMBER-OF-ACCOUNTS>0</SECONDARY-OVERDUE-NUMBER-OF-ACCOUNTS>      <SECONDARY-SECURED-NUMBER-OF-ACCOUNTS>0</SECONDARY-SECURED-NUMBER-OF-ACCOUNTS>      <SECONDARY-UNSECURED-NUMBER-OF-ACCOUNTS>0</SECONDARY-UNSECURED-NUMBER-OF-ACCOUNTS>      <SECONDARY-UNTAGGED-NUMBER-OF-ACCOUNTS>0</SECONDARY-UNTAGGED-NUMBER-OF-ACCOUNTS>      <SECONDARY-CURRENT-BALANCE>0</SECONDARY-CURRENT-BALANCE>      <SECONDARY-SANCTIONED-AMOUNT>0</SECONDARY-SANCTIONED-AMOUNT>      <SECONDARY-DISBURSED-AMOUNT>0</SECONDARY-DISBURSED-AMOUNT>    </SECONDARY-ACCOUNTS-SUMMARY>  </ACCOUNTS-SUMMARY>    <SCORES/></BASE-PLUS-REPORT></BASE-PLUS-REPORTS></BASE-PLUS-REPORT-FILE>\n"
     ]
    }
   ],
   "source": [
    "from bs4 import BeautifulSoup\n",
    " \n",
    " \n",
    "# Reading the data inside the xml\n",
    "# file to a variable under the name\n",
    "# data\n",
    "with open('test_2.xml', 'r') as f:\n",
    "    data = f.read()\n",
    "    print(data)\n",
    " \n",
    "# Passing the stored data inside\n",
    "# the beautifulsoup parser, storing\n",
    "# the returned object\n",
    "#Bs_data = BeautifulSoup(data, \"xml\")\n",
    " \n",
    "# Finding all instances of tag\n",
    "# `unique`\n",
    "#b_unique = Bs_data.find_all('unique')\n",
    " \n",
    "#print(b_unique)\n",
    " \n",
    "# Using find() to extract attributes\n",
    "# of the first instance of the tag\n",
    "#b_name = Bs_data.find('child', {'name':'Frank'})\n",
    " \n",
    "#print(b_name)\n",
    " \n",
    "# Extracting the data stored in a\n",
    "# specific attribute of the\n",
    "# `child` tag\n",
    "#value = b_name.get('test')\n",
    " \n",
    "#print(value)"
   ]
  },
  {
   "cell_type": "code",
   "execution_count": 8,
   "id": "f2ba11bf",
   "metadata": {},
   "outputs": [],
   "source": [
    "import xml.etree.ElementTree as ET\n",
    "from openpyxl import Workbook\n",
    "def convert_xml_to_excel(xml_file, excel_file):\n",
    "    # Parse the XML file\n",
    "    tree = ET.parse(xml_file)\n",
    "    root = tree.getroot()\n",
    "    # Create a new Excel workbook\n",
    "    workbook = Workbook()\n",
    "    sheet = workbook.active\n",
    "    # Write the XML data to Excel\n",
    "    row_index = 1\n",
    "    for element in root.iter():\n",
    "        # Write element tag as column header\n",
    "        if row_index == 1:\n",
    "            sheet.cell(row=row_index, column=1, value=element.tag)\n",
    "        # Write element text as cell value\n",
    "        sheet.cell(row=row_index, column=1, value=element.text)\n",
    "        row_index += 1\n",
    "    # Save the Excel file\n",
    "    workbook.save(excel_file)\n",
    "# Usage example\n",
    "xml_file_path = 'test_2.xml'\n",
    "excel_file_path = 'output.xlsx'\n",
    "\n",
    "convert_xml_to_excel(xml_file_path, excel_file_path)\n"
   ]
  },
  {
   "cell_type": "code",
   "execution_count": null,
   "id": "60b9b918",
   "metadata": {},
   "outputs": [],
   "source": []
  }
 ],
 "metadata": {
  "kernelspec": {
   "display_name": "Python 3 (ipykernel)",
   "language": "python",
   "name": "python3"
  },
  "language_info": {
   "codemirror_mode": {
    "name": "ipython",
    "version": 3
   },
   "file_extension": ".py",
   "mimetype": "text/x-python",
   "name": "python",
   "nbconvert_exporter": "python",
   "pygments_lexer": "ipython3",
   "version": "3.9.13"
  }
 },
 "nbformat": 4,
 "nbformat_minor": 5
}
